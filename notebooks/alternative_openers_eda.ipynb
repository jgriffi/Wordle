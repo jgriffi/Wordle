{
 "cells": [
  {
   "cell_type": "markdown",
   "id": "39ce8f9e",
   "metadata": {},
   "source": [
    "https://www.wired.com/story/best-wordle-tips/"
   ]
  },
  {
   "cell_type": "code",
   "execution_count": null,
   "id": "bd840306",
   "metadata": {},
   "outputs": [],
   "source": [
    "%load_ext kedro.ipython"
   ]
  },
  {
   "cell_type": "code",
   "execution_count": null,
   "id": "f93da8de",
   "metadata": {},
   "outputs": [],
   "source": [
    "%reload_kedro"
   ]
  },
  {
   "cell_type": "code",
   "execution_count": 3,
   "id": "d0637bef",
   "metadata": {},
   "outputs": [],
   "source": [
    "import sys\n",
    "sys.path.append(\"../../src/projectwordle\")"
   ]
  },
  {
   "cell_type": "code",
   "execution_count": 4,
   "id": "e06e947c",
   "metadata": {},
   "outputs": [
    {
     "data": {
      "text/html": [
       "<pre style=\"white-space:pre;overflow-x:auto;line-height:normal;font-family:Menlo,'DejaVu Sans Mono',consolas,'Courier New',monospace\"></pre>\n"
      ],
      "text/plain": []
     },
     "metadata": {},
     "output_type": "display_data"
    },
    {
     "data": {
      "text/plain": [
       "\u001b[1m<\u001b[0m\u001b[1;95mpolars.config.Config\u001b[0m\u001b[39m object at \u001b[0m\u001b[1;36m0x171fc3850\u001b[0m\u001b[1m>\u001b[0m"
      ]
     },
     "execution_count": 4,
     "metadata": {},
     "output_type": "execute_result"
    }
   ],
   "source": [
    "import polars as pl\n",
    "import numpy as np\n",
    "from IPython.display import HTML\n",
    "from projectwordle.utils import (\n",
    "    color_pattern_matching,\n",
    "    difficulty_distribution,\n",
    ")\n",
    "\n",
    "pl.Config(tbl_rows=50)"
   ]
  },
  {
   "cell_type": "markdown",
   "id": "5cf8db3f",
   "metadata": {},
   "source": [
    "# Load Data"
   ]
  },
  {
   "cell_type": "code",
   "execution_count": null,
   "id": "3588dfd3",
   "metadata": {},
   "outputs": [],
   "source": [
    "five_letter_word_anagrams = catalog.load(\"five_letter_words_anagrams\")\n",
    "alternative_openers = catalog.load(\"alternative_openers\")"
   ]
  },
  {
   "cell_type": "code",
   "execution_count": 37,
   "id": "a29a539c",
   "metadata": {},
   "outputs": [
    {
     "data": {
      "text/html": [
       "<pre style=\"white-space:pre;overflow-x:auto;line-height:normal;font-family:Menlo,'DejaVu Sans Mono',consolas,'Courier New',monospace\"></pre>\n"
      ],
      "text/plain": []
     },
     "metadata": {},
     "output_type": "display_data"
    },
    {
     "data": {
      "text/html": [
       "<div><style>\n",
       ".dataframe > thead > tr,\n",
       ".dataframe > tbody > tr {\n",
       "  text-align: right;\n",
       "  white-space: pre-wrap;\n",
       "}\n",
       "</style>\n",
       "<small>shape: (6, 18)</small><table border=\"1\" class=\"dataframe\"><thead><tr><th>index</th><th>challenge</th><th>guess</th><th>match_pattern</th><th>letter_differences</th><th>common_letters</th><th>num_diff_letters</th><th>num_common_letters</th><th>num_matching_index</th><th>num_choices_after_guess</th><th>possible_guesses</th><th>challenge_in_possible_guesses</th><th>next_guess</th><th>group</th><th>tries</th><th>difficulty</th><th>guess_word_anagrams</th><th>anagram_num</th></tr><tr><td>u32</td><td>str</td><td>str</td><td>str</td><td>str</td><td>str</td><td>u8</td><td>u8</td><td>u8</td><td>u16</td><td>str</td><td>bool</td><td>str</td><td>u32</td><td>u8</td><td>str</td><td>str</td><td>u8</td></tr></thead><tbody><tr><td>0</td><td>&quot;yummy&quot;</td><td>&quot;soare&quot;</td><td>&quot;BBBBB&quot;</td><td>&quot;sreao&quot;</td><td>&quot;&quot;</td><td>5</td><td>0</td><td>0</td><td>538</td><td>&quot;fully, thick, light, limit, th…</td><td>false</td><td>&quot;linty&quot;</td><td>0</td><td>null</td><td>&quot;very hard&quot;</td><td>&quot;soare&quot;</td><td>1</td></tr><tr><td>1</td><td>&quot;yummy&quot;</td><td>&quot;linty&quot;</td><td>&quot;BBBBG&quot;</td><td>&quot;sitreaoln&quot;</td><td>&quot;y&quot;</td><td>9</td><td>1</td><td>1</td><td>50</td><td>&quot;fuzzy, puffy, guppy, dummy, mu…</td><td>false</td><td>&quot;fuzzy&quot;</td><td>0</td><td>null</td><td>&quot;very hard&quot;</td><td>&quot;linty&quot;</td><td>1</td></tr><tr><td>2</td><td>&quot;yummy&quot;</td><td>&quot;fuzzy&quot;</td><td>&quot;BGBBG&quot;</td><td>&quot;sitreaofzln&quot;</td><td>&quot;yu&quot;</td><td>11</td><td>2</td><td>2</td><td>37</td><td>&quot;duchy, buddy, jumpy, mummy, yu…</td><td>true</td><td>&quot;duchy&quot;</td><td>0</td><td>null</td><td>&quot;very hard&quot;</td><td>&quot;fuzzy&quot;</td><td>1</td></tr><tr><td>3</td><td>&quot;yummy&quot;</td><td>&quot;duchy&quot;</td><td>&quot;BGBBG&quot;</td><td>&quot;sitcreaofzdlhn&quot;</td><td>&quot;yu&quot;</td><td>14</td><td>2</td><td>2</td><td>16</td><td>&quot;puppy, mummy, buggy, bumpy, gu…</td><td>true</td><td>&quot;puppy&quot;</td><td>0</td><td>null</td><td>&quot;very hard&quot;</td><td>&quot;duchy&quot;</td><td>1</td></tr><tr><td>4</td><td>&quot;yummy&quot;</td><td>&quot;puppy&quot;</td><td>&quot;BGBBG&quot;</td><td>&quot;sitcreaopfzdlhn&quot;</td><td>&quot;yu&quot;</td><td>15</td><td>2</td><td>2</td><td>9</td><td>&quot;mummy, buggy, gummy, muggy, yu…</td><td>true</td><td>&quot;mummy&quot;</td><td>0</td><td>null</td><td>&quot;very hard&quot;</td><td>&quot;puppy&quot;</td><td>1</td></tr><tr><td>5</td><td>&quot;yummy&quot;</td><td>&quot;mummy&quot;</td><td>&quot;YGGGG&quot;</td><td>&quot;sitcreaopfzdlhn&quot;</td><td>&quot;yum&quot;</td><td>15</td><td>3</td><td>3</td><td>2</td><td>&quot;gummy, yummy&quot;</td><td>true</td><td>&quot;gummy&quot;</td><td>0</td><td>null</td><td>&quot;very hard&quot;</td><td>&quot;mummy&quot;</td><td>1</td></tr></tbody></table></div>"
      ],
      "text/plain": [
       "\n",
       "shape: \u001b[1m(\u001b[0m\u001b[1;36m6\u001b[0m, \u001b[1;36m18\u001b[0m\u001b[1m)\u001b[0m\n",
       "┌───────┬───────────┬───────┬───────────────┬───┬───────┬────────────┬───────────────┬─────────────┐\n",
       "│ index ┆ challenge ┆ guess ┆ match_pattern ┆ … ┆ tries ┆ difficulty ┆ guess_word_an ┆ anagram_num │\n",
       "│ ---   ┆ ---       ┆ ---   ┆ ---           ┆   ┆ ---   ┆ ---        ┆ agrams        ┆ ---         │\n",
       "│ u32   ┆ str       ┆ str   ┆ str           ┆   ┆ u8    ┆ str        ┆ ---           ┆ u8          │\n",
       "│       ┆           ┆       ┆               ┆   ┆       ┆            ┆ str           ┆             │\n",
       "╞═══════╪═══════════╪═══════╪═══════════════╪═══╪═══════╪════════════╪═══════════════╪═════════════╡\n",
       "│ \u001b[1;36m0\u001b[0m     ┆ yummy     ┆ soare ┆ BBBBB         ┆ … ┆ null  ┆ very hard  ┆ soare         ┆ \u001b[1;36m1\u001b[0m           │\n",
       "│ \u001b[1;36m1\u001b[0m     ┆ yummy     ┆ linty ┆ BBBBG         ┆ … ┆ null  ┆ very hard  ┆ linty         ┆ \u001b[1;36m1\u001b[0m           │\n",
       "│ \u001b[1;36m2\u001b[0m     ┆ yummy     ┆ fuzzy ┆ BGBBG         ┆ … ┆ null  ┆ very hard  ┆ fuzzy         ┆ \u001b[1;36m1\u001b[0m           │\n",
       "│ \u001b[1;36m3\u001b[0m     ┆ yummy     ┆ duchy ┆ BGBBG         ┆ … ┆ null  ┆ very hard  ┆ duchy         ┆ \u001b[1;36m1\u001b[0m           │\n",
       "│ \u001b[1;36m4\u001b[0m     ┆ yummy     ┆ puppy ┆ BGBBG         ┆ … ┆ null  ┆ very hard  ┆ puppy         ┆ \u001b[1;36m1\u001b[0m           │\n",
       "│ \u001b[1;36m5\u001b[0m     ┆ yummy     ┆ mummy ┆ YGGGG         ┆ … ┆ null  ┆ very hard  ┆ mummy         ┆ \u001b[1;36m1\u001b[0m           │\n",
       "└───────┴───────────┴───────┴───────────────┴───┴───────┴────────────┴───────────────┴─────────────┘"
      ]
     },
     "execution_count": 37,
     "metadata": {},
     "output_type": "execute_result"
    }
   ],
   "source": [
    "alternative_openers.head(6)"
   ]
  },
  {
   "cell_type": "code",
   "execution_count": 7,
   "id": "0c15acb4",
   "metadata": {},
   "outputs": [
    {
     "data": {
      "text/html": [
       "<pre style=\"white-space:pre;overflow-x:auto;line-height:normal;font-family:Menlo,'DejaVu Sans Mono',consolas,'Courier New',monospace\"></pre>\n"
      ],
      "text/plain": []
     },
     "metadata": {},
     "output_type": "display_data"
    },
    {
     "data": {
      "text/plain": [
       "\u001b[1;36m54528\u001b[0m"
      ]
     },
     "execution_count": 7,
     "metadata": {},
     "output_type": "execute_result"
    }
   ],
   "source": [
    "alternative_openers.height"
   ]
  },
  {
   "cell_type": "code",
   "execution_count": 8,
   "id": "e86b6425",
   "metadata": {},
   "outputs": [],
   "source": [
    "simulating_tries_difficulty = (\n",
    "    alternative_openers\n",
    "    .select(\n",
    "        \"challenge\", \"guess\", \"letter_differences\", \"common_letters\",\n",
    "        \"num_diff_letters\", \"num_common_letters\", \"num_matching_index\",\n",
    "        \"match_pattern\", \"num_choices_after_guess\", \"possible_guesses\",\n",
    "        \"challenge_in_possible_guesses\", \"next_guess\", \"group\", \"tries\",\n",
    "        \"difficulty\", \"guess_word_anagrams\", \"anagram_num\"\n",
    "    )\n",
    "    .join(\n",
    "        five_letter_word_anagrams.select(\"words\", \"anagrams\", \"anagram_num\"),\n",
    "        left_on=\"next_guess\",\n",
    "        right_on=\"words\",\n",
    "        how=\"left\",\n",
    "        coalesce=True\n",
    "    )\n",
    ")"
   ]
  },
  {
   "cell_type": "code",
   "execution_count": 9,
   "id": "76991a10",
   "metadata": {
    "ExecuteTime": {
     "end_time": "2023-12-08T16:01:59.451895Z",
     "start_time": "2023-12-08T16:01:59.423384Z"
    }
   },
   "outputs": [
    {
     "data": {
      "text/html": [
       "<pre style=\"white-space:pre;overflow-x:auto;line-height:normal;font-family:Menlo,'DejaVu Sans Mono',consolas,'Courier New',monospace\"></pre>\n"
      ],
      "text/plain": []
     },
     "metadata": {},
     "output_type": "display_data"
    },
    {
     "data": {
      "text/html": [
       "<div><style>\n",
       ".dataframe > thead > tr,\n",
       ".dataframe > tbody > tr {\n",
       "  text-align: right;\n",
       "  white-space: pre-wrap;\n",
       "}\n",
       "</style>\n",
       "<small>shape: (5, 19)</small><table border=\"1\" class=\"dataframe\"><thead><tr><th>challenge</th><th>guess</th><th>letter_differences</th><th>common_letters</th><th>num_diff_letters</th><th>num_common_letters</th><th>num_matching_index</th><th>match_pattern</th><th>num_choices_after_guess</th><th>possible_guesses</th><th>challenge_in_possible_guesses</th><th>next_guess</th><th>group</th><th>tries</th><th>difficulty</th><th>guess_word_anagrams</th><th>anagram_num</th><th>anagrams</th><th>anagram_num_right</th></tr><tr><td>str</td><td>str</td><td>str</td><td>str</td><td>u8</td><td>u8</td><td>u8</td><td>str</td><td>u16</td><td>str</td><td>bool</td><td>str</td><td>u32</td><td>u8</td><td>str</td><td>str</td><td>u8</td><td>str</td><td>u8</td></tr></thead><tbody><tr><td>&quot;yummy&quot;</td><td>&quot;soare&quot;</td><td>&quot;sreao&quot;</td><td>&quot;&quot;</td><td>5</td><td>0</td><td>0</td><td>&quot;BBBBB&quot;</td><td>538</td><td>&quot;fully, thick, light, limit, th…</td><td>false</td><td>&quot;linty&quot;</td><td>0</td><td>null</td><td>&quot;very hard&quot;</td><td>&quot;soare&quot;</td><td>1</td><td>&quot;linty&quot;</td><td>1</td></tr><tr><td>&quot;yummy&quot;</td><td>&quot;linty&quot;</td><td>&quot;sitreaoln&quot;</td><td>&quot;y&quot;</td><td>9</td><td>1</td><td>1</td><td>&quot;BBBBG&quot;</td><td>50</td><td>&quot;fuzzy, puffy, guppy, dummy, mu…</td><td>false</td><td>&quot;fuzzy&quot;</td><td>0</td><td>null</td><td>&quot;very hard&quot;</td><td>&quot;linty&quot;</td><td>1</td><td>&quot;fuzzy&quot;</td><td>1</td></tr><tr><td>&quot;yummy&quot;</td><td>&quot;fuzzy&quot;</td><td>&quot;sitreaofzln&quot;</td><td>&quot;yu&quot;</td><td>11</td><td>2</td><td>2</td><td>&quot;BGBBG&quot;</td><td>37</td><td>&quot;duchy, buddy, jumpy, mummy, yu…</td><td>true</td><td>&quot;duchy&quot;</td><td>0</td><td>null</td><td>&quot;very hard&quot;</td><td>&quot;fuzzy&quot;</td><td>1</td><td>&quot;duchy&quot;</td><td>1</td></tr><tr><td>&quot;yummy&quot;</td><td>&quot;duchy&quot;</td><td>&quot;sitcreaofzdlhn&quot;</td><td>&quot;yu&quot;</td><td>14</td><td>2</td><td>2</td><td>&quot;BGBBG&quot;</td><td>16</td><td>&quot;puppy, mummy, buggy, bumpy, gu…</td><td>true</td><td>&quot;puppy&quot;</td><td>0</td><td>null</td><td>&quot;very hard&quot;</td><td>&quot;duchy&quot;</td><td>1</td><td>&quot;puppy&quot;</td><td>1</td></tr><tr><td>&quot;yummy&quot;</td><td>&quot;puppy&quot;</td><td>&quot;sitcreaopfzdlhn&quot;</td><td>&quot;yu&quot;</td><td>15</td><td>2</td><td>2</td><td>&quot;BGBBG&quot;</td><td>9</td><td>&quot;mummy, buggy, gummy, muggy, yu…</td><td>true</td><td>&quot;mummy&quot;</td><td>0</td><td>null</td><td>&quot;very hard&quot;</td><td>&quot;puppy&quot;</td><td>1</td><td>&quot;mummy&quot;</td><td>1</td></tr></tbody></table></div>"
      ],
      "text/plain": [
       "\n",
       "shape: \u001b[1m(\u001b[0m\u001b[1;36m5\u001b[0m, \u001b[1;36m19\u001b[0m\u001b[1m)\u001b[0m\n",
       "┌───────────┬───────┬────────────┬────────────┬───┬────────────┬────────────┬──────────┬───────────┐\n",
       "│ challenge ┆ guess ┆ letter_dif ┆ common_let ┆ … ┆ guess_word ┆ anagram_nu ┆ anagrams ┆ anagram_n │\n",
       "│ ---       ┆ ---   ┆ ferences   ┆ ters       ┆   ┆ _anagrams  ┆ m          ┆ ---      ┆ um_right  │\n",
       "│ str       ┆ str   ┆ ---        ┆ ---        ┆   ┆ ---        ┆ ---        ┆ str      ┆ ---       │\n",
       "│           ┆       ┆ str        ┆ str        ┆   ┆ str        ┆ u8         ┆          ┆ u8        │\n",
       "╞═══════════╪═══════╪════════════╪════════════╪═══╪════════════╪════════════╪══════════╪═══════════╡\n",
       "│ yummy     ┆ soare ┆ sreao      ┆            ┆ … ┆ soare      ┆ \u001b[1;36m1\u001b[0m          ┆ linty    ┆ \u001b[1;36m1\u001b[0m         │\n",
       "│ yummy     ┆ linty ┆ sitreaoln  ┆ y          ┆ … ┆ linty      ┆ \u001b[1;36m1\u001b[0m          ┆ fuzzy    ┆ \u001b[1;36m1\u001b[0m         │\n",
       "│ yummy     ┆ fuzzy ┆ sitreaofzl ┆ yu         ┆ … ┆ fuzzy      ┆ \u001b[1;36m1\u001b[0m          ┆ duchy    ┆ \u001b[1;36m1\u001b[0m         │\n",
       "│           ┆       ┆ n          ┆            ┆   ┆            ┆            ┆          ┆           │\n",
       "│ yummy     ┆ duchy ┆ sitcreaofz ┆ yu         ┆ … ┆ duchy      ┆ \u001b[1;36m1\u001b[0m          ┆ puppy    ┆ \u001b[1;36m1\u001b[0m         │\n",
       "│           ┆       ┆ dlhn       ┆            ┆   ┆            ┆            ┆          ┆           │\n",
       "│ yummy     ┆ puppy ┆ sitcreaopf ┆ yu         ┆ … ┆ puppy      ┆ \u001b[1;36m1\u001b[0m          ┆ mummy    ┆ \u001b[1;36m1\u001b[0m         │\n",
       "│           ┆       ┆ zdlhn      ┆            ┆   ┆            ┆            ┆          ┆           │\n",
       "└───────────┴───────┴────────────┴────────────┴───┴────────────┴────────────┴──────────┴───────────┘"
      ]
     },
     "execution_count": 9,
     "metadata": {},
     "output_type": "execute_result"
    }
   ],
   "source": [
    "simulating_tries_difficulty.head()"
   ]
  },
  {
   "cell_type": "code",
   "execution_count": 10,
   "id": "be8f0326",
   "metadata": {},
   "outputs": [
    {
     "data": {
      "text/html": [
       "<pre style=\"white-space:pre;overflow-x:auto;line-height:normal;font-family:Menlo,'DejaVu Sans Mono',consolas,'Courier New',monospace\"></pre>\n"
      ],
      "text/plain": []
     },
     "metadata": {},
     "output_type": "display_data"
    },
    {
     "data": {
      "text/html": [
       "<div><style>\n",
       ".dataframe > thead > tr,\n",
       ".dataframe > tbody > tr {\n",
       "  text-align: right;\n",
       "  white-space: pre-wrap;\n",
       "}\n",
       "</style>\n",
       "<small>shape: (4, 2)</small><table border=\"1\" class=\"dataframe\"><thead><tr><th>difficulty</th><th>count</th></tr><tr><td>str</td><td>u32</td></tr></thead><tbody><tr><td>&quot;moderate&quot;</td><td>5387</td></tr><tr><td>&quot;hard&quot;</td><td>3069</td></tr><tr><td>&quot;very hard&quot;</td><td>630</td></tr><tr><td>&quot;easy&quot;</td><td>2</td></tr></tbody></table></div>"
      ],
      "text/plain": [
       "\n",
       "shape: \u001b[1m(\u001b[0m\u001b[1;36m4\u001b[0m, \u001b[1;36m2\u001b[0m\u001b[1m)\u001b[0m\n",
       "┌────────────┬───────┐\n",
       "│ difficulty ┆ count │\n",
       "│ ---        ┆ ---   │\n",
       "│ str        ┆ u32   │\n",
       "╞════════════╪═══════╡\n",
       "│ moderate   ┆ \u001b[1;36m5387\u001b[0m  │\n",
       "│ hard       ┆ \u001b[1;36m3069\u001b[0m  │\n",
       "│ very hard  ┆ \u001b[1;36m630\u001b[0m   │\n",
       "│ easy       ┆ \u001b[1;36m2\u001b[0m     │\n",
       "└────────────┴───────┘"
      ]
     },
     "execution_count": 10,
     "metadata": {},
     "output_type": "execute_result"
    }
   ],
   "source": [
    "(\n",
    "    simulating_tries_difficulty\n",
    "    .unique(subset=[\"group\"], keep=\"first\")\n",
    "    [\"difficulty\"]\n",
    "    .value_counts()\n",
    "    .sort(\"count\", descending=True)\n",
    ")"
   ]
  },
  {
   "cell_type": "markdown",
   "id": "c07f2cb9",
   "metadata": {},
   "source": [
    "# Create dataframe of first guesses"
   ]
  },
  {
   "cell_type": "code",
   "execution_count": 11,
   "id": "4f3eda4e",
   "metadata": {
    "ExecuteTime": {
     "end_time": "2023-12-08T16:02:04.898939Z",
     "start_time": "2023-12-08T16:02:01.301668Z"
    }
   },
   "outputs": [
    {
     "data": {
      "text/html": [
       "<pre style=\"white-space:pre;overflow-x:auto;line-height:normal;font-family:Menlo,'DejaVu Sans Mono',consolas,'Courier New',monospace\"></pre>\n"
      ],
      "text/plain": []
     },
     "metadata": {},
     "output_type": "display_data"
    },
    {
     "data": {
      "text/html": [
       "<div><style>\n",
       ".dataframe > thead > tr,\n",
       ".dataframe > tbody > tr {\n",
       "  text-align: right;\n",
       "  white-space: pre-wrap;\n",
       "}\n",
       "</style>\n",
       "<small>shape: (5, 19)</small><table border=\"1\" class=\"dataframe\"><thead><tr><th>group</th><th>challenge</th><th>guess</th><th>letter_differences</th><th>common_letters</th><th>num_diff_letters</th><th>num_common_letters</th><th>num_matching_index</th><th>match_pattern</th><th>num_choices_after_guess</th><th>possible_guesses</th><th>challenge_in_possible_guesses</th><th>next_guess</th><th>tries</th><th>difficulty</th><th>guess_word_anagrams</th><th>anagram_num</th><th>anagrams</th><th>anagram_num_right</th></tr><tr><td>u32</td><td>str</td><td>str</td><td>str</td><td>str</td><td>u8</td><td>u8</td><td>u8</td><td>str</td><td>u16</td><td>str</td><td>bool</td><td>str</td><td>u8</td><td>str</td><td>str</td><td>u8</td><td>str</td><td>u8</td></tr></thead><tbody><tr><td>0</td><td>&quot;yummy&quot;</td><td>&quot;soare&quot;</td><td>&quot;sreao&quot;</td><td>&quot;&quot;</td><td>5</td><td>0</td><td>0</td><td>&quot;BBBBB&quot;</td><td>538</td><td>&quot;fully, thick, light, limit, th…</td><td>false</td><td>&quot;linty&quot;</td><td>null</td><td>&quot;very hard&quot;</td><td>&quot;soare&quot;</td><td>1</td><td>&quot;linty&quot;</td><td>1</td></tr><tr><td>1</td><td>&quot;calyx&quot;</td><td>&quot;soare&quot;</td><td>&quot;sore&quot;</td><td>&quot;a&quot;</td><td>4</td><td>1</td><td>0</td><td>&quot;BBYBB&quot;</td><td>716</td><td>&quot;faint, fault, happy, naval, hu…</td><td>false</td><td>&quot;linty&quot;</td><td>4</td><td>&quot;moderate&quot;</td><td>&quot;soare&quot;</td><td>1</td><td>&quot;linty&quot;</td><td>1</td></tr><tr><td>2</td><td>&quot;varas&quot;</td><td>&quot;soare&quot;</td><td>&quot;oe&quot;</td><td>&quot;sar&quot;</td><td>2</td><td>3</td><td>0</td><td>&quot;YBYYB&quot;</td><td>75</td><td>&quot;paris, marls, harsh, marsh, ar…</td><td>false</td><td>&quot;linty&quot;</td><td>5</td><td>&quot;hard&quot;</td><td>&quot;soare&quot;</td><td>1</td><td>&quot;linty&quot;</td><td>1</td></tr><tr><td>3</td><td>&quot;bubba&quot;</td><td>&quot;soare&quot;</td><td>&quot;sore&quot;</td><td>&quot;a&quot;</td><td>4</td><td>1</td><td>0</td><td>&quot;BBYBB&quot;</td><td>716</td><td>&quot;cabin, naval, faint, daily, ch…</td><td>false</td><td>&quot;linty&quot;</td><td>5</td><td>&quot;hard&quot;</td><td>&quot;soare&quot;</td><td>1</td><td>&quot;linty&quot;</td><td>1</td></tr><tr><td>4</td><td>&quot;lowes&quot;</td><td>&quot;soare&quot;</td><td>&quot;ar&quot;</td><td>&quot;soe&quot;</td><td>2</td><td>3</td><td>1</td><td>&quot;YGBBY&quot;</td><td>27</td><td>&quot;jones, moses, nosed, loess, eo…</td><td>true</td><td>&quot;linty&quot;</td><td>4</td><td>&quot;moderate&quot;</td><td>&quot;soare&quot;</td><td>1</td><td>&quot;linty&quot;</td><td>1</td></tr></tbody></table></div>"
      ],
      "text/plain": [
       "\n",
       "shape: \u001b[1m(\u001b[0m\u001b[1;36m5\u001b[0m, \u001b[1;36m19\u001b[0m\u001b[1m)\u001b[0m\n",
       "┌───────┬───────────┬───────┬─────────────┬───┬─────────────┬─────────────┬──────────┬─────────────┐\n",
       "│ group ┆ challenge ┆ guess ┆ letter_diff ┆ … ┆ guess_word_ ┆ anagram_num ┆ anagrams ┆ anagram_num │\n",
       "│ ---   ┆ ---       ┆ ---   ┆ erences     ┆   ┆ anagrams    ┆ ---         ┆ ---      ┆ _right      │\n",
       "│ u32   ┆ str       ┆ str   ┆ ---         ┆   ┆ ---         ┆ u8          ┆ str      ┆ ---         │\n",
       "│       ┆           ┆       ┆ str         ┆   ┆ str         ┆             ┆          ┆ u8          │\n",
       "╞═══════╪═══════════╪═══════╪═════════════╪═══╪═════════════╪═════════════╪══════════╪═════════════╡\n",
       "│ \u001b[1;36m0\u001b[0m     ┆ yummy     ┆ soare ┆ sreao       ┆ … ┆ soare       ┆ \u001b[1;36m1\u001b[0m           ┆ linty    ┆ \u001b[1;36m1\u001b[0m           │\n",
       "│ \u001b[1;36m1\u001b[0m     ┆ calyx     ┆ soare ┆ sore        ┆ … ┆ soare       ┆ \u001b[1;36m1\u001b[0m           ┆ linty    ┆ \u001b[1;36m1\u001b[0m           │\n",
       "│ \u001b[1;36m2\u001b[0m     ┆ varas     ┆ soare ┆ oe          ┆ … ┆ soare       ┆ \u001b[1;36m1\u001b[0m           ┆ linty    ┆ \u001b[1;36m1\u001b[0m           │\n",
       "│ \u001b[1;36m3\u001b[0m     ┆ bubba     ┆ soare ┆ sore        ┆ … ┆ soare       ┆ \u001b[1;36m1\u001b[0m           ┆ linty    ┆ \u001b[1;36m1\u001b[0m           │\n",
       "│ \u001b[1;36m4\u001b[0m     ┆ lowes     ┆ soare ┆ ar          ┆ … ┆ soare       ┆ \u001b[1;36m1\u001b[0m           ┆ linty    ┆ \u001b[1;36m1\u001b[0m           │\n",
       "└───────┴───────────┴───────┴─────────────┴───┴─────────────┴─────────────┴──────────┴─────────────┘"
      ]
     },
     "execution_count": 11,
     "metadata": {},
     "output_type": "execute_result"
    }
   ],
   "source": [
    "# Group by \"Category\" and return the first row of each group\n",
    "first_guess = (\n",
    "    simulating_tries_difficulty\n",
    "    .group_by(\"group\", maintain_order=True)\n",
    "    .first()\n",
    ")\n",
    "\n",
    "first_guess.head()"
   ]
  },
  {
   "cell_type": "code",
   "execution_count": 12,
   "id": "8f95b325",
   "metadata": {},
   "outputs": [
    {
     "data": {
      "text/html": [
       "<pre style=\"white-space:pre;overflow-x:auto;line-height:normal;font-family:Menlo,'DejaVu Sans Mono',consolas,'Courier New',monospace\"></pre>\n"
      ],
      "text/plain": []
     },
     "metadata": {},
     "output_type": "display_data"
    },
    {
     "data": {
      "text/plain": [
       "\u001b[1;36m4.227240482383542\u001b[0m"
      ]
     },
     "execution_count": 12,
     "metadata": {},
     "output_type": "execute_result"
    }
   ],
   "source": [
    "avg_tries = first_guess[\"tries\"].mean()\n",
    "avg_tries"
   ]
  },
  {
   "cell_type": "markdown",
   "id": "0ed45740",
   "metadata": {},
   "source": [
    "# EDA"
   ]
  },
  {
   "cell_type": "code",
   "execution_count": 13,
   "id": "3803085b",
   "metadata": {
    "ExecuteTime": {
     "end_time": "2023-12-08T16:02:06.338200Z",
     "start_time": "2023-12-08T16:02:04.929145Z"
    }
   },
   "outputs": [
    {
     "data": {
      "application/vnd.plotly.v1+json": {
       "config": {
        "plotlyServerURL": "https://plot.ly"
       },
       "data": [
        {
         "alignmentgroup": "True",
         "hovertemplate": "difficulty=%{x}<br>count=%{y}<extra></extra>",
         "legendgroup": "moderate",
         "marker": {
          "color": "#ff7f0e",
          "pattern": {
           "shape": ""
          }
         },
         "name": "moderate",
         "offsetgroup": "moderate",
         "orientation": "v",
         "showlegend": true,
         "textposition": "auto",
         "type": "bar",
         "x": [
          "moderate"
         ],
         "xaxis": "x",
         "y": [
          5387
         ],
         "yaxis": "y"
        },
        {
         "alignmentgroup": "True",
         "hovertemplate": "difficulty=%{x}<br>count=%{y}<extra></extra>",
         "legendgroup": "hard",
         "marker": {
          "color": "#2ca02c",
          "pattern": {
           "shape": ""
          }
         },
         "name": "hard",
         "offsetgroup": "hard",
         "orientation": "v",
         "showlegend": true,
         "textposition": "auto",
         "type": "bar",
         "x": [
          "hard"
         ],
         "xaxis": "x",
         "y": [
          3069
         ],
         "yaxis": "y"
        },
        {
         "alignmentgroup": "True",
         "hovertemplate": "difficulty=%{x}<br>count=%{y}<extra></extra>",
         "legendgroup": "very hard",
         "marker": {
          "color": "#d62728",
          "pattern": {
           "shape": ""
          }
         },
         "name": "very hard",
         "offsetgroup": "very hard",
         "orientation": "v",
         "showlegend": true,
         "textposition": "auto",
         "type": "bar",
         "x": [
          "very hard"
         ],
         "xaxis": "x",
         "y": [
          630
         ],
         "yaxis": "y"
        },
        {
         "alignmentgroup": "True",
         "hovertemplate": "difficulty=%{x}<br>count=%{y}<extra></extra>",
         "legendgroup": "easy",
         "marker": {
          "color": "#1f77b4",
          "pattern": {
           "shape": ""
          }
         },
         "name": "easy",
         "offsetgroup": "easy",
         "orientation": "v",
         "showlegend": true,
         "textposition": "auto",
         "type": "bar",
         "x": [
          "easy"
         ],
         "xaxis": "x",
         "y": [
          2
         ],
         "yaxis": "y"
        }
       ],
       "layout": {
        "barmode": "relative",
        "height": 600,
        "legend": {
         "title": {
          "text": "difficulty"
         },
         "tracegroupgap": 0
        },
        "template": {
         "data": {
          "bar": [
           {
            "error_x": {
             "color": "#2a3f5f"
            },
            "error_y": {
             "color": "#2a3f5f"
            },
            "marker": {
             "line": {
              "color": "#E5ECF6",
              "width": 0.5
             },
             "pattern": {
              "fillmode": "overlay",
              "size": 10,
              "solidity": 0.2
             }
            },
            "type": "bar"
           }
          ],
          "barpolar": [
           {
            "marker": {
             "line": {
              "color": "#E5ECF6",
              "width": 0.5
             },
             "pattern": {
              "fillmode": "overlay",
              "size": 10,
              "solidity": 0.2
             }
            },
            "type": "barpolar"
           }
          ],
          "carpet": [
           {
            "aaxis": {
             "endlinecolor": "#2a3f5f",
             "gridcolor": "white",
             "linecolor": "white",
             "minorgridcolor": "white",
             "startlinecolor": "#2a3f5f"
            },
            "baxis": {
             "endlinecolor": "#2a3f5f",
             "gridcolor": "white",
             "linecolor": "white",
             "minorgridcolor": "white",
             "startlinecolor": "#2a3f5f"
            },
            "type": "carpet"
           }
          ],
          "choropleth": [
           {
            "colorbar": {
             "outlinewidth": 0,
             "ticks": ""
            },
            "type": "choropleth"
           }
          ],
          "contour": [
           {
            "colorbar": {
             "outlinewidth": 0,
             "ticks": ""
            },
            "colorscale": [
             [
              0,
              "#0d0887"
             ],
             [
              0.1111111111111111,
              "#46039f"
             ],
             [
              0.2222222222222222,
              "#7201a8"
             ],
             [
              0.3333333333333333,
              "#9c179e"
             ],
             [
              0.4444444444444444,
              "#bd3786"
             ],
             [
              0.5555555555555556,
              "#d8576b"
             ],
             [
              0.6666666666666666,
              "#ed7953"
             ],
             [
              0.7777777777777778,
              "#fb9f3a"
             ],
             [
              0.8888888888888888,
              "#fdca26"
             ],
             [
              1,
              "#f0f921"
             ]
            ],
            "type": "contour"
           }
          ],
          "contourcarpet": [
           {
            "colorbar": {
             "outlinewidth": 0,
             "ticks": ""
            },
            "type": "contourcarpet"
           }
          ],
          "heatmap": [
           {
            "colorbar": {
             "outlinewidth": 0,
             "ticks": ""
            },
            "colorscale": [
             [
              0,
              "#0d0887"
             ],
             [
              0.1111111111111111,
              "#46039f"
             ],
             [
              0.2222222222222222,
              "#7201a8"
             ],
             [
              0.3333333333333333,
              "#9c179e"
             ],
             [
              0.4444444444444444,
              "#bd3786"
             ],
             [
              0.5555555555555556,
              "#d8576b"
             ],
             [
              0.6666666666666666,
              "#ed7953"
             ],
             [
              0.7777777777777778,
              "#fb9f3a"
             ],
             [
              0.8888888888888888,
              "#fdca26"
             ],
             [
              1,
              "#f0f921"
             ]
            ],
            "type": "heatmap"
           }
          ],
          "heatmapgl": [
           {
            "colorbar": {
             "outlinewidth": 0,
             "ticks": ""
            },
            "colorscale": [
             [
              0,
              "#0d0887"
             ],
             [
              0.1111111111111111,
              "#46039f"
             ],
             [
              0.2222222222222222,
              "#7201a8"
             ],
             [
              0.3333333333333333,
              "#9c179e"
             ],
             [
              0.4444444444444444,
              "#bd3786"
             ],
             [
              0.5555555555555556,
              "#d8576b"
             ],
             [
              0.6666666666666666,
              "#ed7953"
             ],
             [
              0.7777777777777778,
              "#fb9f3a"
             ],
             [
              0.8888888888888888,
              "#fdca26"
             ],
             [
              1,
              "#f0f921"
             ]
            ],
            "type": "heatmapgl"
           }
          ],
          "histogram": [
           {
            "marker": {
             "pattern": {
              "fillmode": "overlay",
              "size": 10,
              "solidity": 0.2
             }
            },
            "type": "histogram"
           }
          ],
          "histogram2d": [
           {
            "colorbar": {
             "outlinewidth": 0,
             "ticks": ""
            },
            "colorscale": [
             [
              0,
              "#0d0887"
             ],
             [
              0.1111111111111111,
              "#46039f"
             ],
             [
              0.2222222222222222,
              "#7201a8"
             ],
             [
              0.3333333333333333,
              "#9c179e"
             ],
             [
              0.4444444444444444,
              "#bd3786"
             ],
             [
              0.5555555555555556,
              "#d8576b"
             ],
             [
              0.6666666666666666,
              "#ed7953"
             ],
             [
              0.7777777777777778,
              "#fb9f3a"
             ],
             [
              0.8888888888888888,
              "#fdca26"
             ],
             [
              1,
              "#f0f921"
             ]
            ],
            "type": "histogram2d"
           }
          ],
          "histogram2dcontour": [
           {
            "colorbar": {
             "outlinewidth": 0,
             "ticks": ""
            },
            "colorscale": [
             [
              0,
              "#0d0887"
             ],
             [
              0.1111111111111111,
              "#46039f"
             ],
             [
              0.2222222222222222,
              "#7201a8"
             ],
             [
              0.3333333333333333,
              "#9c179e"
             ],
             [
              0.4444444444444444,
              "#bd3786"
             ],
             [
              0.5555555555555556,
              "#d8576b"
             ],
             [
              0.6666666666666666,
              "#ed7953"
             ],
             [
              0.7777777777777778,
              "#fb9f3a"
             ],
             [
              0.8888888888888888,
              "#fdca26"
             ],
             [
              1,
              "#f0f921"
             ]
            ],
            "type": "histogram2dcontour"
           }
          ],
          "mesh3d": [
           {
            "colorbar": {
             "outlinewidth": 0,
             "ticks": ""
            },
            "type": "mesh3d"
           }
          ],
          "parcoords": [
           {
            "line": {
             "colorbar": {
              "outlinewidth": 0,
              "ticks": ""
             }
            },
            "type": "parcoords"
           }
          ],
          "pie": [
           {
            "automargin": true,
            "type": "pie"
           }
          ],
          "scatter": [
           {
            "fillpattern": {
             "fillmode": "overlay",
             "size": 10,
             "solidity": 0.2
            },
            "type": "scatter"
           }
          ],
          "scatter3d": [
           {
            "line": {
             "colorbar": {
              "outlinewidth": 0,
              "ticks": ""
             }
            },
            "marker": {
             "colorbar": {
              "outlinewidth": 0,
              "ticks": ""
             }
            },
            "type": "scatter3d"
           }
          ],
          "scattercarpet": [
           {
            "marker": {
             "colorbar": {
              "outlinewidth": 0,
              "ticks": ""
             }
            },
            "type": "scattercarpet"
           }
          ],
          "scattergeo": [
           {
            "marker": {
             "colorbar": {
              "outlinewidth": 0,
              "ticks": ""
             }
            },
            "type": "scattergeo"
           }
          ],
          "scattergl": [
           {
            "marker": {
             "colorbar": {
              "outlinewidth": 0,
              "ticks": ""
             }
            },
            "type": "scattergl"
           }
          ],
          "scattermapbox": [
           {
            "marker": {
             "colorbar": {
              "outlinewidth": 0,
              "ticks": ""
             }
            },
            "type": "scattermapbox"
           }
          ],
          "scatterpolar": [
           {
            "marker": {
             "colorbar": {
              "outlinewidth": 0,
              "ticks": ""
             }
            },
            "type": "scatterpolar"
           }
          ],
          "scatterpolargl": [
           {
            "marker": {
             "colorbar": {
              "outlinewidth": 0,
              "ticks": ""
             }
            },
            "type": "scatterpolargl"
           }
          ],
          "scatterternary": [
           {
            "marker": {
             "colorbar": {
              "outlinewidth": 0,
              "ticks": ""
             }
            },
            "type": "scatterternary"
           }
          ],
          "surface": [
           {
            "colorbar": {
             "outlinewidth": 0,
             "ticks": ""
            },
            "colorscale": [
             [
              0,
              "#0d0887"
             ],
             [
              0.1111111111111111,
              "#46039f"
             ],
             [
              0.2222222222222222,
              "#7201a8"
             ],
             [
              0.3333333333333333,
              "#9c179e"
             ],
             [
              0.4444444444444444,
              "#bd3786"
             ],
             [
              0.5555555555555556,
              "#d8576b"
             ],
             [
              0.6666666666666666,
              "#ed7953"
             ],
             [
              0.7777777777777778,
              "#fb9f3a"
             ],
             [
              0.8888888888888888,
              "#fdca26"
             ],
             [
              1,
              "#f0f921"
             ]
            ],
            "type": "surface"
           }
          ],
          "table": [
           {
            "cells": {
             "fill": {
              "color": "#EBF0F8"
             },
             "line": {
              "color": "white"
             }
            },
            "header": {
             "fill": {
              "color": "#C8D4E3"
             },
             "line": {
              "color": "white"
             }
            },
            "type": "table"
           }
          ]
         },
         "layout": {
          "annotationdefaults": {
           "arrowcolor": "#2a3f5f",
           "arrowhead": 0,
           "arrowwidth": 1
          },
          "autotypenumbers": "strict",
          "coloraxis": {
           "colorbar": {
            "outlinewidth": 0,
            "ticks": ""
           }
          },
          "colorscale": {
           "diverging": [
            [
             0,
             "#8e0152"
            ],
            [
             0.1,
             "#c51b7d"
            ],
            [
             0.2,
             "#de77ae"
            ],
            [
             0.3,
             "#f1b6da"
            ],
            [
             0.4,
             "#fde0ef"
            ],
            [
             0.5,
             "#f7f7f7"
            ],
            [
             0.6,
             "#e6f5d0"
            ],
            [
             0.7,
             "#b8e186"
            ],
            [
             0.8,
             "#7fbc41"
            ],
            [
             0.9,
             "#4d9221"
            ],
            [
             1,
             "#276419"
            ]
           ],
           "sequential": [
            [
             0,
             "#0d0887"
            ],
            [
             0.1111111111111111,
             "#46039f"
            ],
            [
             0.2222222222222222,
             "#7201a8"
            ],
            [
             0.3333333333333333,
             "#9c179e"
            ],
            [
             0.4444444444444444,
             "#bd3786"
            ],
            [
             0.5555555555555556,
             "#d8576b"
            ],
            [
             0.6666666666666666,
             "#ed7953"
            ],
            [
             0.7777777777777778,
             "#fb9f3a"
            ],
            [
             0.8888888888888888,
             "#fdca26"
            ],
            [
             1,
             "#f0f921"
            ]
           ],
           "sequentialminus": [
            [
             0,
             "#0d0887"
            ],
            [
             0.1111111111111111,
             "#46039f"
            ],
            [
             0.2222222222222222,
             "#7201a8"
            ],
            [
             0.3333333333333333,
             "#9c179e"
            ],
            [
             0.4444444444444444,
             "#bd3786"
            ],
            [
             0.5555555555555556,
             "#d8576b"
            ],
            [
             0.6666666666666666,
             "#ed7953"
            ],
            [
             0.7777777777777778,
             "#fb9f3a"
            ],
            [
             0.8888888888888888,
             "#fdca26"
            ],
            [
             1,
             "#f0f921"
            ]
           ]
          },
          "colorway": [
           "#636efa",
           "#EF553B",
           "#00cc96",
           "#ab63fa",
           "#FFA15A",
           "#19d3f3",
           "#FF6692",
           "#B6E880",
           "#FF97FF",
           "#FECB52"
          ],
          "font": {
           "color": "#2a3f5f"
          },
          "geo": {
           "bgcolor": "white",
           "lakecolor": "white",
           "landcolor": "#E5ECF6",
           "showlakes": true,
           "showland": true,
           "subunitcolor": "white"
          },
          "hoverlabel": {
           "align": "left"
          },
          "hovermode": "closest",
          "mapbox": {
           "style": "light"
          },
          "paper_bgcolor": "white",
          "plot_bgcolor": "#E5ECF6",
          "polar": {
           "angularaxis": {
            "gridcolor": "white",
            "linecolor": "white",
            "ticks": ""
           },
           "bgcolor": "#E5ECF6",
           "radialaxis": {
            "gridcolor": "white",
            "linecolor": "white",
            "ticks": ""
           }
          },
          "scene": {
           "xaxis": {
            "backgroundcolor": "#E5ECF6",
            "gridcolor": "white",
            "gridwidth": 2,
            "linecolor": "white",
            "showbackground": true,
            "ticks": "",
            "zerolinecolor": "white"
           },
           "yaxis": {
            "backgroundcolor": "#E5ECF6",
            "gridcolor": "white",
            "gridwidth": 2,
            "linecolor": "white",
            "showbackground": true,
            "ticks": "",
            "zerolinecolor": "white"
           },
           "zaxis": {
            "backgroundcolor": "#E5ECF6",
            "gridcolor": "white",
            "gridwidth": 2,
            "linecolor": "white",
            "showbackground": true,
            "ticks": "",
            "zerolinecolor": "white"
           }
          },
          "shapedefaults": {
           "line": {
            "color": "#2a3f5f"
           }
          },
          "ternary": {
           "aaxis": {
            "gridcolor": "white",
            "linecolor": "white",
            "ticks": ""
           },
           "baxis": {
            "gridcolor": "white",
            "linecolor": "white",
            "ticks": ""
           },
           "bgcolor": "#E5ECF6",
           "caxis": {
            "gridcolor": "white",
            "linecolor": "white",
            "ticks": ""
           }
          },
          "title": {
           "x": 0.05
          },
          "xaxis": {
           "automargin": true,
           "gridcolor": "white",
           "linecolor": "white",
           "ticks": "",
           "title": {
            "standoff": 15
           },
           "zerolinecolor": "white",
           "zerolinewidth": 2
          },
          "yaxis": {
           "automargin": true,
           "gridcolor": "white",
           "linecolor": "white",
           "ticks": "",
           "title": {
            "standoff": 15
           },
           "zerolinecolor": "white",
           "zerolinewidth": 2
          }
         }
        },
        "title": {
         "text": "Difficulty Distribution",
         "x": 0.5
        },
        "width": 800,
        "xaxis": {
         "anchor": "y",
         "categoryarray": [
          "easy",
          "moderate",
          "hard",
          "very hard"
         ],
         "categoryorder": "array",
         "domain": [
          0,
          1
         ],
         "title": {
          "text": "Difficulty"
         }
        },
        "yaxis": {
         "anchor": "x",
         "domain": [
          0,
          1
         ],
         "title": {
          "text": "Count"
         }
        }
       }
      }
     },
     "metadata": {},
     "output_type": "display_data"
    }
   ],
   "source": [
    "# Plot difficulty distribution\n",
    "difficulty_distribution(\n",
    "    simulating_tries_difficulty\n",
    ")"
   ]
  },
  {
   "cell_type": "markdown",
   "id": "468c6c0d",
   "metadata": {},
   "source": [
    "## Most frequent number of guesses"
   ]
  },
  {
   "cell_type": "code",
   "execution_count": 14,
   "id": "b44e193d",
   "metadata": {
    "ExecuteTime": {
     "end_time": "2023-12-08T16:02:06.386255Z",
     "start_time": "2023-12-08T16:02:06.370476Z"
    }
   },
   "outputs": [
    {
     "data": {
      "text/html": [
       "<pre style=\"white-space:pre;overflow-x:auto;line-height:normal;font-family:Menlo,'DejaVu Sans Mono',consolas,'Courier New',monospace\"></pre>\n"
      ],
      "text/plain": []
     },
     "metadata": {},
     "output_type": "display_data"
    },
    {
     "data": {
      "text/html": [
       "<div><style>\n",
       ".dataframe > thead > tr,\n",
       ".dataframe > tbody > tr {\n",
       "  text-align: right;\n",
       "  white-space: pre-wrap;\n",
       "}\n",
       "</style>\n",
       "<small>shape: (7, 2)</small><table border=\"1\" class=\"dataframe\"><thead><tr><th>tries</th><th>count</th></tr><tr><td>u8</td><td>u32</td></tr></thead><tbody><tr><td>4</td><td>3329</td></tr><tr><td>5</td><td>2153</td></tr><tr><td>3</td><td>2058</td></tr><tr><td>6</td><td>916</td></tr><tr><td>null</td><td>630</td></tr><tr><td>1</td><td>1</td></tr><tr><td>2</td><td>1</td></tr></tbody></table></div>"
      ],
      "text/plain": [
       "\n",
       "shape: \u001b[1m(\u001b[0m\u001b[1;36m7\u001b[0m, \u001b[1;36m2\u001b[0m\u001b[1m)\u001b[0m\n",
       "┌───────┬───────┐\n",
       "│ tries ┆ count │\n",
       "│ ---   ┆ ---   │\n",
       "│ u8    ┆ u32   │\n",
       "╞═══════╪═══════╡\n",
       "│ \u001b[1;36m4\u001b[0m     ┆ \u001b[1;36m3329\u001b[0m  │\n",
       "│ \u001b[1;36m5\u001b[0m     ┆ \u001b[1;36m2153\u001b[0m  │\n",
       "│ \u001b[1;36m3\u001b[0m     ┆ \u001b[1;36m2058\u001b[0m  │\n",
       "│ \u001b[1;36m6\u001b[0m     ┆ \u001b[1;36m916\u001b[0m   │\n",
       "│ null  ┆ \u001b[1;36m630\u001b[0m   │\n",
       "│ \u001b[1;36m1\u001b[0m     ┆ \u001b[1;36m1\u001b[0m     │\n",
       "│ \u001b[1;36m2\u001b[0m     ┆ \u001b[1;36m1\u001b[0m     │\n",
       "└───────┴───────┘"
      ]
     },
     "execution_count": 14,
     "metadata": {},
     "output_type": "execute_result"
    }
   ],
   "source": [
    "(\n",
    "    first_guess\n",
    "    [\"tries\"]\n",
    "    .value_counts()\n",
    "    .sort(by=\"count\", descending=True)\n",
    ")"
   ]
  },
  {
   "cell_type": "markdown",
   "id": "86dd8aef",
   "metadata": {},
   "source": [
    "### Challenge words without `r` , `s` or `t`\n",
    "These are some of the most frequently ocuuring letters. We can then see how our naive algorithm operates in coming to the correct guess."
   ]
  },
  {
   "cell_type": "code",
   "execution_count": 15,
   "id": "6ece91b8",
   "metadata": {
    "ExecuteTime": {
     "end_time": "2023-12-08T16:02:10.567413Z",
     "start_time": "2023-12-08T16:02:09.865810Z"
    }
   },
   "outputs": [
    {
     "data": {
      "text/html": [
       "<pre style=\"white-space:pre;overflow-x:auto;line-height:normal;font-family:Menlo,'DejaVu Sans Mono',consolas,'Courier New',monospace\"></pre>\n"
      ],
      "text/plain": []
     },
     "metadata": {},
     "output_type": "display_data"
    },
    {
     "data": {
      "text/html": [
       "<div><style>\n",
       ".dataframe > thead > tr,\n",
       ".dataframe > tbody > tr {\n",
       "  text-align: right;\n",
       "  white-space: pre-wrap;\n",
       "}\n",
       "</style>\n",
       "<small>shape: (20, 19)</small><table border=\"1\" class=\"dataframe\"><thead><tr><th>group</th><th>challenge</th><th>guess</th><th>letter_differences</th><th>common_letters</th><th>num_diff_letters</th><th>num_common_letters</th><th>num_matching_index</th><th>match_pattern</th><th>num_choices_after_guess</th><th>possible_guesses</th><th>challenge_in_possible_guesses</th><th>next_guess</th><th>tries</th><th>difficulty</th><th>guess_word_anagrams</th><th>anagram_num</th><th>anagrams</th><th>anagram_num_right</th></tr><tr><td>u32</td><td>str</td><td>str</td><td>str</td><td>str</td><td>u8</td><td>u8</td><td>u8</td><td>str</td><td>u16</td><td>str</td><td>bool</td><td>str</td><td>u8</td><td>str</td><td>str</td><td>u8</td><td>str</td><td>u8</td></tr></thead><tbody><tr><td>8389</td><td>&quot;bunje&quot;</td><td>&quot;soare&quot;</td><td>&quot;saor&quot;</td><td>&quot;e&quot;</td><td>4</td><td>1</td><td>1</td><td>&quot;BBBBG&quot;</td><td>284</td><td>&quot;piece, twice, white, venue, bi…</td><td>false</td><td>&quot;linty&quot;</td><td>null</td><td>&quot;very hard&quot;</td><td>&quot;soare&quot;</td><td>1</td><td>&quot;linty&quot;</td><td>1</td></tr><tr><td>2825</td><td>&quot;boxen&quot;</td><td>&quot;soare&quot;</td><td>&quot;sar&quot;</td><td>&quot;oe&quot;</td><td>3</td><td>2</td><td>1</td><td>&quot;BGBBY&quot;</td><td>86</td><td>&quot;model, dozen, money, vowel, no…</td><td>false</td><td>&quot;linty&quot;</td><td>null</td><td>&quot;very hard&quot;</td><td>&quot;soare&quot;</td><td>1</td><td>&quot;linty&quot;</td><td>1</td></tr><tr><td>993</td><td>&quot;bouge&quot;</td><td>&quot;soare&quot;</td><td>&quot;sar&quot;</td><td>&quot;oe&quot;</td><td>3</td><td>2</td><td>2</td><td>&quot;BGBBG&quot;</td><td>119</td><td>&quot;noble, movie, voice, lodge, lo…</td><td>false</td><td>&quot;linty&quot;</td><td>5</td><td>&quot;hard&quot;</td><td>&quot;soare&quot;</td><td>1</td><td>&quot;linty&quot;</td><td>1</td></tr><tr><td>3644</td><td>&quot;dolce&quot;</td><td>&quot;soare&quot;</td><td>&quot;sar&quot;</td><td>&quot;oe&quot;</td><td>3</td><td>2</td><td>2</td><td>&quot;BGBBG&quot;</td><td>119</td><td>&quot;voice, donne, ponce, dodge, mo…</td><td>false</td><td>&quot;linty&quot;</td><td>4</td><td>&quot;moderate&quot;</td><td>&quot;soare&quot;</td><td>1</td><td>&quot;linty&quot;</td><td>1</td></tr><tr><td>3352</td><td>&quot;block&quot;</td><td>&quot;soare&quot;</td><td>&quot;sare&quot;</td><td>&quot;o&quot;</td><td>4</td><td>1</td><td>0</td><td>&quot;BYBBB&quot;</td><td>237</td><td>&quot;blood, timon, flood, pilot, ou…</td><td>false</td><td>&quot;linty&quot;</td><td>4</td><td>&quot;moderate&quot;</td><td>&quot;soare&quot;</td><td>1</td><td>&quot;linty&quot;</td><td>1</td></tr><tr><td>531</td><td>&quot;jemmy&quot;</td><td>&quot;soare&quot;</td><td>&quot;saor&quot;</td><td>&quot;e&quot;</td><td>4</td><td>1</td><td>0</td><td>&quot;BBBBY&quot;</td><td>444</td><td>&quot;level, field, belly, beech, de…</td><td>false</td><td>&quot;linty&quot;</td><td>5</td><td>&quot;hard&quot;</td><td>&quot;soare&quot;</td><td>1</td><td>&quot;linty&quot;</td><td>1</td></tr><tr><td>6027</td><td>&quot;honan&quot;</td><td>&quot;soare&quot;</td><td>&quot;sre&quot;</td><td>&quot;oa&quot;</td><td>3</td><td>2</td><td>1</td><td>&quot;BGYBB&quot;</td><td>118</td><td>&quot;local, total, woman, vocal, to…</td><td>false</td><td>&quot;linty&quot;</td><td>4</td><td>&quot;moderate&quot;</td><td>&quot;soare&quot;</td><td>1</td><td>&quot;linty&quot;</td><td>1</td></tr><tr><td>5595</td><td>&quot;yield&quot;</td><td>&quot;soare&quot;</td><td>&quot;saor&quot;</td><td>&quot;e&quot;</td><td>4</td><td>1</td><td>0</td><td>&quot;BBBBY&quot;</td><td>444</td><td>&quot;field, chief, event, tenth, ch…</td><td>true</td><td>&quot;linty&quot;</td><td>3</td><td>&quot;moderate&quot;</td><td>&quot;soare&quot;</td><td>1</td><td>&quot;linty&quot;</td><td>1</td></tr><tr><td>4037</td><td>&quot;dwile&quot;</td><td>&quot;soare&quot;</td><td>&quot;saor&quot;</td><td>&quot;e&quot;</td><td>4</td><td>1</td><td>1</td><td>&quot;BBBBG&quot;</td><td>284</td><td>&quot;title, white, chile, chyle, tw…</td><td>false</td><td>&quot;linty&quot;</td><td>null</td><td>&quot;very hard&quot;</td><td>&quot;soare&quot;</td><td>1</td><td>&quot;linty&quot;</td><td>1</td></tr><tr><td>5171</td><td>&quot;codon&quot;</td><td>&quot;soare&quot;</td><td>&quot;sare&quot;</td><td>&quot;o&quot;</td><td>4</td><td>1</td><td>1</td><td>&quot;BGBBB&quot;</td><td>340</td><td>&quot;point, month, young, count, bo…</td><td>false</td><td>&quot;linty&quot;</td><td>4</td><td>&quot;moderate&quot;</td><td>&quot;soare&quot;</td><td>1</td><td>&quot;linty&quot;</td><td>1</td></tr><tr><td>310</td><td>&quot;aulic&quot;</td><td>&quot;soare&quot;</td><td>&quot;sore&quot;</td><td>&quot;a&quot;</td><td>4</td><td>1</td><td>0</td><td>&quot;BBYBB&quot;</td><td>716</td><td>&quot;fauna, china, gamut, faith, ca…</td><td>false</td><td>&quot;linty&quot;</td><td>5</td><td>&quot;hard&quot;</td><td>&quot;soare&quot;</td><td>1</td><td>&quot;linty&quot;</td><td>1</td></tr><tr><td>906</td><td>&quot;mobie&quot;</td><td>&quot;soare&quot;</td><td>&quot;sar&quot;</td><td>&quot;oe&quot;</td><td>3</td><td>2</td><td>2</td><td>&quot;BGBBG&quot;</td><td>119</td><td>&quot;voice, monde, lodge, movie, no…</td><td>false</td><td>&quot;linty&quot;</td><td>6</td><td>&quot;hard&quot;</td><td>&quot;soare&quot;</td><td>1</td><td>&quot;linty&quot;</td><td>1</td></tr><tr><td>5695</td><td>&quot;kwela&quot;</td><td>&quot;soare&quot;</td><td>&quot;sor&quot;</td><td>&quot;ae&quot;</td><td>3</td><td>2</td><td>0</td><td>&quot;BBYBY&quot;</td><td>234</td><td>&quot;clean, ahead, equal, hazel, le…</td><td>false</td><td>&quot;linty&quot;</td><td>6</td><td>&quot;hard&quot;</td><td>&quot;soare&quot;</td><td>1</td><td>&quot;linty&quot;</td><td>1</td></tr><tr><td>1848</td><td>&quot;loyal&quot;</td><td>&quot;soare&quot;</td><td>&quot;sre&quot;</td><td>&quot;oa&quot;</td><td>3</td><td>2</td><td>1</td><td>&quot;BGYBB&quot;</td><td>118</td><td>&quot;woman, total, focal, local, vo…</td><td>true</td><td>&quot;linty&quot;</td><td>3</td><td>&quot;moderate&quot;</td><td>&quot;soare&quot;</td><td>1</td><td>&quot;linty&quot;</td><td>1</td></tr><tr><td>3865</td><td>&quot;palla&quot;</td><td>&quot;soare&quot;</td><td>&quot;sore&quot;</td><td>&quot;a&quot;</td><td>4</td><td>1</td><td>0</td><td>&quot;BBYBB&quot;</td><td>716</td><td>&quot;daily, vital, bylaw, watch, hu…</td><td>false</td><td>&quot;linty&quot;</td><td>5</td><td>&quot;hard&quot;</td><td>&quot;soare&quot;</td><td>1</td><td>&quot;linty&quot;</td><td>1</td></tr><tr><td>2630</td><td>&quot;nulla&quot;</td><td>&quot;soare&quot;</td><td>&quot;sore&quot;</td><td>&quot;a&quot;</td><td>4</td><td>1</td><td>0</td><td>&quot;BBYBB&quot;</td><td>716</td><td>&quot;happy, human, paint, candy, ja…</td><td>false</td><td>&quot;linty&quot;</td><td>4</td><td>&quot;moderate&quot;</td><td>&quot;soare&quot;</td><td>1</td><td>&quot;linty&quot;</td><td>1</td></tr><tr><td>5540</td><td>&quot;heame&quot;</td><td>&quot;soare&quot;</td><td>&quot;sor&quot;</td><td>&quot;ae&quot;</td><td>3</td><td>2</td><td>2</td><td>&quot;BBGBG&quot;</td><td>69</td><td>&quot;image, leave, place, blame, pe…</td><td>false</td><td>&quot;linty&quot;</td><td>null</td><td>&quot;very hard&quot;</td><td>&quot;soare&quot;</td><td>1</td><td>&quot;linty&quot;</td><td>1</td></tr><tr><td>5848</td><td>&quot;ligge&quot;</td><td>&quot;soare&quot;</td><td>&quot;saor&quot;</td><td>&quot;e&quot;</td><td>4</td><td>1</td><td>1</td><td>&quot;BBBBG&quot;</td><td>284</td><td>&quot;guide, bible, title, white, ni…</td><td>false</td><td>&quot;linty&quot;</td><td>4</td><td>&quot;moderate&quot;</td><td>&quot;soare&quot;</td><td>1</td><td>&quot;linty&quot;</td><td>1</td></tr><tr><td>3388</td><td>&quot;oleum&quot;</td><td>&quot;soare&quot;</td><td>&quot;sar&quot;</td><td>&quot;oe&quot;</td><td>3</td><td>2</td><td>0</td><td>&quot;BYBBY&quot;</td><td>104</td><td>&quot;video, elbow, chemo, enjoy, en…</td><td>false</td><td>&quot;linty&quot;</td><td>4</td><td>&quot;moderate&quot;</td><td>&quot;soare&quot;</td><td>1</td><td>&quot;linty&quot;</td><td>1</td></tr><tr><td>6250</td><td>&quot;nudge&quot;</td><td>&quot;soare&quot;</td><td>&quot;saor&quot;</td><td>&quot;e&quot;</td><td>4</td><td>1</td><td>1</td><td>&quot;BBBBG&quot;</td><td>284</td><td>&quot;title, white, judge, piece, th…</td><td>false</td><td>&quot;linty&quot;</td><td>4</td><td>&quot;moderate&quot;</td><td>&quot;soare&quot;</td><td>1</td><td>&quot;linty&quot;</td><td>1</td></tr></tbody></table></div>"
      ],
      "text/plain": [
       "\n",
       "shape: \u001b[1m(\u001b[0m\u001b[1;36m20\u001b[0m, \u001b[1;36m19\u001b[0m\u001b[1m)\u001b[0m\n",
       "┌───────┬───────────┬───────┬─────────────┬───┬─────────────┬─────────────┬──────────┬─────────────┐\n",
       "│ group ┆ challenge ┆ guess ┆ letter_diff ┆ … ┆ guess_word_ ┆ anagram_num ┆ anagrams ┆ anagram_num │\n",
       "│ ---   ┆ ---       ┆ ---   ┆ erences     ┆   ┆ anagrams    ┆ ---         ┆ ---      ┆ _right      │\n",
       "│ u32   ┆ str       ┆ str   ┆ ---         ┆   ┆ ---         ┆ u8          ┆ str      ┆ ---         │\n",
       "│       ┆           ┆       ┆ str         ┆   ┆ str         ┆             ┆          ┆ u8          │\n",
       "╞═══════╪═══════════╪═══════╪═════════════╪═══╪═════════════╪═════════════╪══════════╪═════════════╡\n",
       "│ \u001b[1;36m8389\u001b[0m  ┆ bunje     ┆ soare ┆ saor        ┆ … ┆ soare       ┆ \u001b[1;36m1\u001b[0m           ┆ linty    ┆ \u001b[1;36m1\u001b[0m           │\n",
       "│ \u001b[1;36m2825\u001b[0m  ┆ boxen     ┆ soare ┆ sar         ┆ … ┆ soare       ┆ \u001b[1;36m1\u001b[0m           ┆ linty    ┆ \u001b[1;36m1\u001b[0m           │\n",
       "│ \u001b[1;36m993\u001b[0m   ┆ bouge     ┆ soare ┆ sar         ┆ … ┆ soare       ┆ \u001b[1;36m1\u001b[0m           ┆ linty    ┆ \u001b[1;36m1\u001b[0m           │\n",
       "│ \u001b[1;36m3644\u001b[0m  ┆ dolce     ┆ soare ┆ sar         ┆ … ┆ soare       ┆ \u001b[1;36m1\u001b[0m           ┆ linty    ┆ \u001b[1;36m1\u001b[0m           │\n",
       "│ \u001b[1;36m3352\u001b[0m  ┆ block     ┆ soare ┆ sare        ┆ … ┆ soare       ┆ \u001b[1;36m1\u001b[0m           ┆ linty    ┆ \u001b[1;36m1\u001b[0m           │\n",
       "│ \u001b[1;36m531\u001b[0m   ┆ jemmy     ┆ soare ┆ saor        ┆ … ┆ soare       ┆ \u001b[1;36m1\u001b[0m           ┆ linty    ┆ \u001b[1;36m1\u001b[0m           │\n",
       "│ \u001b[1;36m6027\u001b[0m  ┆ honan     ┆ soare ┆ sre         ┆ … ┆ soare       ┆ \u001b[1;36m1\u001b[0m           ┆ linty    ┆ \u001b[1;36m1\u001b[0m           │\n",
       "│ \u001b[1;36m5595\u001b[0m  ┆ yield     ┆ soare ┆ saor        ┆ … ┆ soare       ┆ \u001b[1;36m1\u001b[0m           ┆ linty    ┆ \u001b[1;36m1\u001b[0m           │\n",
       "│ \u001b[1;36m4037\u001b[0m  ┆ dwile     ┆ soare ┆ saor        ┆ … ┆ soare       ┆ \u001b[1;36m1\u001b[0m           ┆ linty    ┆ \u001b[1;36m1\u001b[0m           │\n",
       "│ \u001b[1;36m5171\u001b[0m  ┆ codon     ┆ soare ┆ sare        ┆ … ┆ soare       ┆ \u001b[1;36m1\u001b[0m           ┆ linty    ┆ \u001b[1;36m1\u001b[0m           │\n",
       "│ \u001b[1;36m310\u001b[0m   ┆ aulic     ┆ soare ┆ sore        ┆ … ┆ soare       ┆ \u001b[1;36m1\u001b[0m           ┆ linty    ┆ \u001b[1;36m1\u001b[0m           │\n",
       "│ \u001b[1;36m906\u001b[0m   ┆ mobie     ┆ soare ┆ sar         ┆ … ┆ soare       ┆ \u001b[1;36m1\u001b[0m           ┆ linty    ┆ \u001b[1;36m1\u001b[0m           │\n",
       "│ \u001b[1;36m5695\u001b[0m  ┆ kwela     ┆ soare ┆ sor         ┆ … ┆ soare       ┆ \u001b[1;36m1\u001b[0m           ┆ linty    ┆ \u001b[1;36m1\u001b[0m           │\n",
       "│ \u001b[1;36m1848\u001b[0m  ┆ loyal     ┆ soare ┆ sre         ┆ … ┆ soare       ┆ \u001b[1;36m1\u001b[0m           ┆ linty    ┆ \u001b[1;36m1\u001b[0m           │\n",
       "│ \u001b[1;36m3865\u001b[0m  ┆ palla     ┆ soare ┆ sore        ┆ … ┆ soare       ┆ \u001b[1;36m1\u001b[0m           ┆ linty    ┆ \u001b[1;36m1\u001b[0m           │\n",
       "│ \u001b[1;36m2630\u001b[0m  ┆ nulla     ┆ soare ┆ sore        ┆ … ┆ soare       ┆ \u001b[1;36m1\u001b[0m           ┆ linty    ┆ \u001b[1;36m1\u001b[0m           │\n",
       "│ \u001b[1;36m5540\u001b[0m  ┆ heame     ┆ soare ┆ sor         ┆ … ┆ soare       ┆ \u001b[1;36m1\u001b[0m           ┆ linty    ┆ \u001b[1;36m1\u001b[0m           │\n",
       "│ \u001b[1;36m5848\u001b[0m  ┆ ligge     ┆ soare ┆ saor        ┆ … ┆ soare       ┆ \u001b[1;36m1\u001b[0m           ┆ linty    ┆ \u001b[1;36m1\u001b[0m           │\n",
       "│ \u001b[1;36m3388\u001b[0m  ┆ oleum     ┆ soare ┆ sar         ┆ … ┆ soare       ┆ \u001b[1;36m1\u001b[0m           ┆ linty    ┆ \u001b[1;36m1\u001b[0m           │\n",
       "│ \u001b[1;36m6250\u001b[0m  ┆ nudge     ┆ soare ┆ saor        ┆ … ┆ soare       ┆ \u001b[1;36m1\u001b[0m           ┆ linty    ┆ \u001b[1;36m1\u001b[0m           │\n",
       "└───────┴───────────┴───────┴─────────────┴───┴─────────────┴─────────────┴──────────┴─────────────┘"
      ]
     },
     "execution_count": 15,
     "metadata": {},
     "output_type": "execute_result"
    }
   ],
   "source": [
    "challenge_words_without_r_s_t = (\n",
    "    first_guess\n",
    "    .filter(\n",
    "        ~(pl.col(\"challenge\").str.contains(\"r|s|t\"))\n",
    "        & ((pl.col(\"challenge\") != (pl.col(\"guess\"))))\n",
    "    )\n",
    ")\n",
    "\n",
    "challenge_words_without_r_s_t.sample(n = 20, with_replacement = False)"
   ]
  },
  {
   "cell_type": "code",
   "execution_count": 16,
   "id": "cf408c05",
   "metadata": {
    "ExecuteTime": {
     "end_time": "2023-12-08T16:02:10.891308Z",
     "start_time": "2023-12-08T16:02:10.806372Z"
    }
   },
   "outputs": [
    {
     "data": {
      "application/vnd.plotly.v1+json": {
       "config": {
        "plotlyServerURL": "https://plot.ly"
       },
       "data": [
        {
         "alignmentgroup": "True",
         "hovertemplate": "difficulty=%{x}<br>count=%{y}<extra></extra>",
         "legendgroup": "moderate",
         "marker": {
          "color": "#ff7f0e",
          "pattern": {
           "shape": ""
          }
         },
         "name": "moderate",
         "offsetgroup": "moderate",
         "orientation": "v",
         "showlegend": true,
         "textposition": "auto",
         "type": "bar",
         "x": [
          "moderate"
         ],
         "xaxis": "x",
         "y": [
          1488
         ],
         "yaxis": "y"
        },
        {
         "alignmentgroup": "True",
         "hovertemplate": "difficulty=%{x}<br>count=%{y}<extra></extra>",
         "legendgroup": "hard",
         "marker": {
          "color": "#2ca02c",
          "pattern": {
           "shape": ""
          }
         },
         "name": "hard",
         "offsetgroup": "hard",
         "orientation": "v",
         "showlegend": true,
         "textposition": "auto",
         "type": "bar",
         "x": [
          "hard"
         ],
         "xaxis": "x",
         "y": [
          1186
         ],
         "yaxis": "y"
        },
        {
         "alignmentgroup": "True",
         "hovertemplate": "difficulty=%{x}<br>count=%{y}<extra></extra>",
         "legendgroup": "very hard",
         "marker": {
          "color": "#d62728",
          "pattern": {
           "shape": ""
          }
         },
         "name": "very hard",
         "offsetgroup": "very hard",
         "orientation": "v",
         "showlegend": true,
         "textposition": "auto",
         "type": "bar",
         "x": [
          "very hard"
         ],
         "xaxis": "x",
         "y": [
          258
         ],
         "yaxis": "y"
        }
       ],
       "layout": {
        "barmode": "relative",
        "height": 600,
        "legend": {
         "title": {
          "text": "difficulty"
         },
         "tracegroupgap": 0
        },
        "template": {
         "data": {
          "bar": [
           {
            "error_x": {
             "color": "#2a3f5f"
            },
            "error_y": {
             "color": "#2a3f5f"
            },
            "marker": {
             "line": {
              "color": "#E5ECF6",
              "width": 0.5
             },
             "pattern": {
              "fillmode": "overlay",
              "size": 10,
              "solidity": 0.2
             }
            },
            "type": "bar"
           }
          ],
          "barpolar": [
           {
            "marker": {
             "line": {
              "color": "#E5ECF6",
              "width": 0.5
             },
             "pattern": {
              "fillmode": "overlay",
              "size": 10,
              "solidity": 0.2
             }
            },
            "type": "barpolar"
           }
          ],
          "carpet": [
           {
            "aaxis": {
             "endlinecolor": "#2a3f5f",
             "gridcolor": "white",
             "linecolor": "white",
             "minorgridcolor": "white",
             "startlinecolor": "#2a3f5f"
            },
            "baxis": {
             "endlinecolor": "#2a3f5f",
             "gridcolor": "white",
             "linecolor": "white",
             "minorgridcolor": "white",
             "startlinecolor": "#2a3f5f"
            },
            "type": "carpet"
           }
          ],
          "choropleth": [
           {
            "colorbar": {
             "outlinewidth": 0,
             "ticks": ""
            },
            "type": "choropleth"
           }
          ],
          "contour": [
           {
            "colorbar": {
             "outlinewidth": 0,
             "ticks": ""
            },
            "colorscale": [
             [
              0,
              "#0d0887"
             ],
             [
              0.1111111111111111,
              "#46039f"
             ],
             [
              0.2222222222222222,
              "#7201a8"
             ],
             [
              0.3333333333333333,
              "#9c179e"
             ],
             [
              0.4444444444444444,
              "#bd3786"
             ],
             [
              0.5555555555555556,
              "#d8576b"
             ],
             [
              0.6666666666666666,
              "#ed7953"
             ],
             [
              0.7777777777777778,
              "#fb9f3a"
             ],
             [
              0.8888888888888888,
              "#fdca26"
             ],
             [
              1,
              "#f0f921"
             ]
            ],
            "type": "contour"
           }
          ],
          "contourcarpet": [
           {
            "colorbar": {
             "outlinewidth": 0,
             "ticks": ""
            },
            "type": "contourcarpet"
           }
          ],
          "heatmap": [
           {
            "colorbar": {
             "outlinewidth": 0,
             "ticks": ""
            },
            "colorscale": [
             [
              0,
              "#0d0887"
             ],
             [
              0.1111111111111111,
              "#46039f"
             ],
             [
              0.2222222222222222,
              "#7201a8"
             ],
             [
              0.3333333333333333,
              "#9c179e"
             ],
             [
              0.4444444444444444,
              "#bd3786"
             ],
             [
              0.5555555555555556,
              "#d8576b"
             ],
             [
              0.6666666666666666,
              "#ed7953"
             ],
             [
              0.7777777777777778,
              "#fb9f3a"
             ],
             [
              0.8888888888888888,
              "#fdca26"
             ],
             [
              1,
              "#f0f921"
             ]
            ],
            "type": "heatmap"
           }
          ],
          "heatmapgl": [
           {
            "colorbar": {
             "outlinewidth": 0,
             "ticks": ""
            },
            "colorscale": [
             [
              0,
              "#0d0887"
             ],
             [
              0.1111111111111111,
              "#46039f"
             ],
             [
              0.2222222222222222,
              "#7201a8"
             ],
             [
              0.3333333333333333,
              "#9c179e"
             ],
             [
              0.4444444444444444,
              "#bd3786"
             ],
             [
              0.5555555555555556,
              "#d8576b"
             ],
             [
              0.6666666666666666,
              "#ed7953"
             ],
             [
              0.7777777777777778,
              "#fb9f3a"
             ],
             [
              0.8888888888888888,
              "#fdca26"
             ],
             [
              1,
              "#f0f921"
             ]
            ],
            "type": "heatmapgl"
           }
          ],
          "histogram": [
           {
            "marker": {
             "pattern": {
              "fillmode": "overlay",
              "size": 10,
              "solidity": 0.2
             }
            },
            "type": "histogram"
           }
          ],
          "histogram2d": [
           {
            "colorbar": {
             "outlinewidth": 0,
             "ticks": ""
            },
            "colorscale": [
             [
              0,
              "#0d0887"
             ],
             [
              0.1111111111111111,
              "#46039f"
             ],
             [
              0.2222222222222222,
              "#7201a8"
             ],
             [
              0.3333333333333333,
              "#9c179e"
             ],
             [
              0.4444444444444444,
              "#bd3786"
             ],
             [
              0.5555555555555556,
              "#d8576b"
             ],
             [
              0.6666666666666666,
              "#ed7953"
             ],
             [
              0.7777777777777778,
              "#fb9f3a"
             ],
             [
              0.8888888888888888,
              "#fdca26"
             ],
             [
              1,
              "#f0f921"
             ]
            ],
            "type": "histogram2d"
           }
          ],
          "histogram2dcontour": [
           {
            "colorbar": {
             "outlinewidth": 0,
             "ticks": ""
            },
            "colorscale": [
             [
              0,
              "#0d0887"
             ],
             [
              0.1111111111111111,
              "#46039f"
             ],
             [
              0.2222222222222222,
              "#7201a8"
             ],
             [
              0.3333333333333333,
              "#9c179e"
             ],
             [
              0.4444444444444444,
              "#bd3786"
             ],
             [
              0.5555555555555556,
              "#d8576b"
             ],
             [
              0.6666666666666666,
              "#ed7953"
             ],
             [
              0.7777777777777778,
              "#fb9f3a"
             ],
             [
              0.8888888888888888,
              "#fdca26"
             ],
             [
              1,
              "#f0f921"
             ]
            ],
            "type": "histogram2dcontour"
           }
          ],
          "mesh3d": [
           {
            "colorbar": {
             "outlinewidth": 0,
             "ticks": ""
            },
            "type": "mesh3d"
           }
          ],
          "parcoords": [
           {
            "line": {
             "colorbar": {
              "outlinewidth": 0,
              "ticks": ""
             }
            },
            "type": "parcoords"
           }
          ],
          "pie": [
           {
            "automargin": true,
            "type": "pie"
           }
          ],
          "scatter": [
           {
            "fillpattern": {
             "fillmode": "overlay",
             "size": 10,
             "solidity": 0.2
            },
            "type": "scatter"
           }
          ],
          "scatter3d": [
           {
            "line": {
             "colorbar": {
              "outlinewidth": 0,
              "ticks": ""
             }
            },
            "marker": {
             "colorbar": {
              "outlinewidth": 0,
              "ticks": ""
             }
            },
            "type": "scatter3d"
           }
          ],
          "scattercarpet": [
           {
            "marker": {
             "colorbar": {
              "outlinewidth": 0,
              "ticks": ""
             }
            },
            "type": "scattercarpet"
           }
          ],
          "scattergeo": [
           {
            "marker": {
             "colorbar": {
              "outlinewidth": 0,
              "ticks": ""
             }
            },
            "type": "scattergeo"
           }
          ],
          "scattergl": [
           {
            "marker": {
             "colorbar": {
              "outlinewidth": 0,
              "ticks": ""
             }
            },
            "type": "scattergl"
           }
          ],
          "scattermapbox": [
           {
            "marker": {
             "colorbar": {
              "outlinewidth": 0,
              "ticks": ""
             }
            },
            "type": "scattermapbox"
           }
          ],
          "scatterpolar": [
           {
            "marker": {
             "colorbar": {
              "outlinewidth": 0,
              "ticks": ""
             }
            },
            "type": "scatterpolar"
           }
          ],
          "scatterpolargl": [
           {
            "marker": {
             "colorbar": {
              "outlinewidth": 0,
              "ticks": ""
             }
            },
            "type": "scatterpolargl"
           }
          ],
          "scatterternary": [
           {
            "marker": {
             "colorbar": {
              "outlinewidth": 0,
              "ticks": ""
             }
            },
            "type": "scatterternary"
           }
          ],
          "surface": [
           {
            "colorbar": {
             "outlinewidth": 0,
             "ticks": ""
            },
            "colorscale": [
             [
              0,
              "#0d0887"
             ],
             [
              0.1111111111111111,
              "#46039f"
             ],
             [
              0.2222222222222222,
              "#7201a8"
             ],
             [
              0.3333333333333333,
              "#9c179e"
             ],
             [
              0.4444444444444444,
              "#bd3786"
             ],
             [
              0.5555555555555556,
              "#d8576b"
             ],
             [
              0.6666666666666666,
              "#ed7953"
             ],
             [
              0.7777777777777778,
              "#fb9f3a"
             ],
             [
              0.8888888888888888,
              "#fdca26"
             ],
             [
              1,
              "#f0f921"
             ]
            ],
            "type": "surface"
           }
          ],
          "table": [
           {
            "cells": {
             "fill": {
              "color": "#EBF0F8"
             },
             "line": {
              "color": "white"
             }
            },
            "header": {
             "fill": {
              "color": "#C8D4E3"
             },
             "line": {
              "color": "white"
             }
            },
            "type": "table"
           }
          ]
         },
         "layout": {
          "annotationdefaults": {
           "arrowcolor": "#2a3f5f",
           "arrowhead": 0,
           "arrowwidth": 1
          },
          "autotypenumbers": "strict",
          "coloraxis": {
           "colorbar": {
            "outlinewidth": 0,
            "ticks": ""
           }
          },
          "colorscale": {
           "diverging": [
            [
             0,
             "#8e0152"
            ],
            [
             0.1,
             "#c51b7d"
            ],
            [
             0.2,
             "#de77ae"
            ],
            [
             0.3,
             "#f1b6da"
            ],
            [
             0.4,
             "#fde0ef"
            ],
            [
             0.5,
             "#f7f7f7"
            ],
            [
             0.6,
             "#e6f5d0"
            ],
            [
             0.7,
             "#b8e186"
            ],
            [
             0.8,
             "#7fbc41"
            ],
            [
             0.9,
             "#4d9221"
            ],
            [
             1,
             "#276419"
            ]
           ],
           "sequential": [
            [
             0,
             "#0d0887"
            ],
            [
             0.1111111111111111,
             "#46039f"
            ],
            [
             0.2222222222222222,
             "#7201a8"
            ],
            [
             0.3333333333333333,
             "#9c179e"
            ],
            [
             0.4444444444444444,
             "#bd3786"
            ],
            [
             0.5555555555555556,
             "#d8576b"
            ],
            [
             0.6666666666666666,
             "#ed7953"
            ],
            [
             0.7777777777777778,
             "#fb9f3a"
            ],
            [
             0.8888888888888888,
             "#fdca26"
            ],
            [
             1,
             "#f0f921"
            ]
           ],
           "sequentialminus": [
            [
             0,
             "#0d0887"
            ],
            [
             0.1111111111111111,
             "#46039f"
            ],
            [
             0.2222222222222222,
             "#7201a8"
            ],
            [
             0.3333333333333333,
             "#9c179e"
            ],
            [
             0.4444444444444444,
             "#bd3786"
            ],
            [
             0.5555555555555556,
             "#d8576b"
            ],
            [
             0.6666666666666666,
             "#ed7953"
            ],
            [
             0.7777777777777778,
             "#fb9f3a"
            ],
            [
             0.8888888888888888,
             "#fdca26"
            ],
            [
             1,
             "#f0f921"
            ]
           ]
          },
          "colorway": [
           "#636efa",
           "#EF553B",
           "#00cc96",
           "#ab63fa",
           "#FFA15A",
           "#19d3f3",
           "#FF6692",
           "#B6E880",
           "#FF97FF",
           "#FECB52"
          ],
          "font": {
           "color": "#2a3f5f"
          },
          "geo": {
           "bgcolor": "white",
           "lakecolor": "white",
           "landcolor": "#E5ECF6",
           "showlakes": true,
           "showland": true,
           "subunitcolor": "white"
          },
          "hoverlabel": {
           "align": "left"
          },
          "hovermode": "closest",
          "mapbox": {
           "style": "light"
          },
          "paper_bgcolor": "white",
          "plot_bgcolor": "#E5ECF6",
          "polar": {
           "angularaxis": {
            "gridcolor": "white",
            "linecolor": "white",
            "ticks": ""
           },
           "bgcolor": "#E5ECF6",
           "radialaxis": {
            "gridcolor": "white",
            "linecolor": "white",
            "ticks": ""
           }
          },
          "scene": {
           "xaxis": {
            "backgroundcolor": "#E5ECF6",
            "gridcolor": "white",
            "gridwidth": 2,
            "linecolor": "white",
            "showbackground": true,
            "ticks": "",
            "zerolinecolor": "white"
           },
           "yaxis": {
            "backgroundcolor": "#E5ECF6",
            "gridcolor": "white",
            "gridwidth": 2,
            "linecolor": "white",
            "showbackground": true,
            "ticks": "",
            "zerolinecolor": "white"
           },
           "zaxis": {
            "backgroundcolor": "#E5ECF6",
            "gridcolor": "white",
            "gridwidth": 2,
            "linecolor": "white",
            "showbackground": true,
            "ticks": "",
            "zerolinecolor": "white"
           }
          },
          "shapedefaults": {
           "line": {
            "color": "#2a3f5f"
           }
          },
          "ternary": {
           "aaxis": {
            "gridcolor": "white",
            "linecolor": "white",
            "ticks": ""
           },
           "baxis": {
            "gridcolor": "white",
            "linecolor": "white",
            "ticks": ""
           },
           "bgcolor": "#E5ECF6",
           "caxis": {
            "gridcolor": "white",
            "linecolor": "white",
            "ticks": ""
           }
          },
          "title": {
           "x": 0.05
          },
          "xaxis": {
           "automargin": true,
           "gridcolor": "white",
           "linecolor": "white",
           "ticks": "",
           "title": {
            "standoff": 15
           },
           "zerolinecolor": "white",
           "zerolinewidth": 2
          },
          "yaxis": {
           "automargin": true,
           "gridcolor": "white",
           "linecolor": "white",
           "ticks": "",
           "title": {
            "standoff": 15
           },
           "zerolinecolor": "white",
           "zerolinewidth": 2
          }
         }
        },
        "title": {
         "text": "Difficulty Distribution",
         "x": 0.5
        },
        "width": 800,
        "xaxis": {
         "anchor": "y",
         "categoryarray": [
          "easy",
          "moderate",
          "hard",
          "very hard"
         ],
         "categoryorder": "array",
         "domain": [
          0,
          1
         ],
         "title": {
          "text": "Difficulty"
         }
        },
        "yaxis": {
         "anchor": "x",
         "domain": [
          0,
          1
         ],
         "title": {
          "text": "Count"
         }
        }
       }
      }
     },
     "metadata": {},
     "output_type": "display_data"
    }
   ],
   "source": [
    "# Plot difficulty distribution of of challenge words that doesn't contain 'r', 's' or 't'\n",
    "difficulty_distribution(challenge_words_without_r_s_t)"
   ]
  },
  {
   "cell_type": "markdown",
   "id": "bf0dbed8",
   "metadata": {},
   "source": [
    "## Null values (Incomplete games)"
   ]
  },
  {
   "cell_type": "code",
   "execution_count": 17,
   "id": "9f6b0faf",
   "metadata": {
    "ExecuteTime": {
     "end_time": "2023-12-08T16:02:12.143030Z",
     "start_time": "2023-12-08T16:02:11.747093Z"
    }
   },
   "outputs": [],
   "source": [
    "incomplete_games = (\n",
    "    simulating_tries_difficulty\n",
    "    .filter(pl.col(\"tries\").is_null())\n",
    ")"
   ]
  },
  {
   "cell_type": "code",
   "execution_count": 18,
   "id": "09466b50",
   "metadata": {
    "ExecuteTime": {
     "end_time": "2023-12-08T16:02:15.312162Z",
     "start_time": "2023-12-08T16:02:15.297501Z"
    }
   },
   "outputs": [
    {
     "data": {
      "text/html": [
       "<pre style=\"white-space:pre;overflow-x:auto;line-height:normal;font-family:Menlo,'DejaVu Sans Mono',consolas,'Courier New',monospace\"></pre>\n"
      ],
      "text/plain": []
     },
     "metadata": {},
     "output_type": "display_data"
    },
    {
     "data": {
      "text/html": [
       "<div><style>\n",
       ".dataframe > thead > tr,\n",
       ".dataframe > tbody > tr {\n",
       "  text-align: right;\n",
       "  white-space: pre-wrap;\n",
       "}\n",
       "</style>\n",
       "<small>shape: (5, 19)</small><table border=\"1\" class=\"dataframe\"><thead><tr><th>challenge</th><th>guess</th><th>letter_differences</th><th>common_letters</th><th>num_diff_letters</th><th>num_common_letters</th><th>num_matching_index</th><th>match_pattern</th><th>num_choices_after_guess</th><th>possible_guesses</th><th>challenge_in_possible_guesses</th><th>next_guess</th><th>group</th><th>tries</th><th>difficulty</th><th>guess_word_anagrams</th><th>anagram_num</th><th>anagrams</th><th>anagram_num_right</th></tr><tr><td>str</td><td>str</td><td>str</td><td>str</td><td>u8</td><td>u8</td><td>u8</td><td>str</td><td>u16</td><td>str</td><td>bool</td><td>str</td><td>u32</td><td>u8</td><td>str</td><td>str</td><td>u8</td><td>str</td><td>u8</td></tr></thead><tbody><tr><td>&quot;yummy&quot;</td><td>&quot;soare&quot;</td><td>&quot;sreao&quot;</td><td>&quot;&quot;</td><td>5</td><td>0</td><td>0</td><td>&quot;BBBBB&quot;</td><td>538</td><td>&quot;fully, thick, light, limit, th…</td><td>false</td><td>&quot;linty&quot;</td><td>0</td><td>null</td><td>&quot;very hard&quot;</td><td>&quot;soare&quot;</td><td>1</td><td>&quot;linty&quot;</td><td>1</td></tr><tr><td>&quot;yummy&quot;</td><td>&quot;linty&quot;</td><td>&quot;sitreaoln&quot;</td><td>&quot;y&quot;</td><td>9</td><td>1</td><td>1</td><td>&quot;BBBBG&quot;</td><td>50</td><td>&quot;fuzzy, puffy, guppy, dummy, mu…</td><td>false</td><td>&quot;fuzzy&quot;</td><td>0</td><td>null</td><td>&quot;very hard&quot;</td><td>&quot;linty&quot;</td><td>1</td><td>&quot;fuzzy&quot;</td><td>1</td></tr><tr><td>&quot;yummy&quot;</td><td>&quot;fuzzy&quot;</td><td>&quot;sitreaofzln&quot;</td><td>&quot;yu&quot;</td><td>11</td><td>2</td><td>2</td><td>&quot;BGBBG&quot;</td><td>37</td><td>&quot;duchy, buddy, jumpy, mummy, yu…</td><td>true</td><td>&quot;duchy&quot;</td><td>0</td><td>null</td><td>&quot;very hard&quot;</td><td>&quot;fuzzy&quot;</td><td>1</td><td>&quot;duchy&quot;</td><td>1</td></tr><tr><td>&quot;yummy&quot;</td><td>&quot;duchy&quot;</td><td>&quot;sitcreaofzdlhn&quot;</td><td>&quot;yu&quot;</td><td>14</td><td>2</td><td>2</td><td>&quot;BGBBG&quot;</td><td>16</td><td>&quot;puppy, mummy, buggy, bumpy, gu…</td><td>true</td><td>&quot;puppy&quot;</td><td>0</td><td>null</td><td>&quot;very hard&quot;</td><td>&quot;duchy&quot;</td><td>1</td><td>&quot;puppy&quot;</td><td>1</td></tr><tr><td>&quot;yummy&quot;</td><td>&quot;puppy&quot;</td><td>&quot;sitcreaopfzdlhn&quot;</td><td>&quot;yu&quot;</td><td>15</td><td>2</td><td>2</td><td>&quot;BGBBG&quot;</td><td>9</td><td>&quot;mummy, buggy, gummy, muggy, yu…</td><td>true</td><td>&quot;mummy&quot;</td><td>0</td><td>null</td><td>&quot;very hard&quot;</td><td>&quot;puppy&quot;</td><td>1</td><td>&quot;mummy&quot;</td><td>1</td></tr></tbody></table></div>"
      ],
      "text/plain": [
       "\n",
       "shape: \u001b[1m(\u001b[0m\u001b[1;36m5\u001b[0m, \u001b[1;36m19\u001b[0m\u001b[1m)\u001b[0m\n",
       "┌───────────┬───────┬────────────┬────────────┬───┬────────────┬────────────┬──────────┬───────────┐\n",
       "│ challenge ┆ guess ┆ letter_dif ┆ common_let ┆ … ┆ guess_word ┆ anagram_nu ┆ anagrams ┆ anagram_n │\n",
       "│ ---       ┆ ---   ┆ ferences   ┆ ters       ┆   ┆ _anagrams  ┆ m          ┆ ---      ┆ um_right  │\n",
       "│ str       ┆ str   ┆ ---        ┆ ---        ┆   ┆ ---        ┆ ---        ┆ str      ┆ ---       │\n",
       "│           ┆       ┆ str        ┆ str        ┆   ┆ str        ┆ u8         ┆          ┆ u8        │\n",
       "╞═══════════╪═══════╪════════════╪════════════╪═══╪════════════╪════════════╪══════════╪═══════════╡\n",
       "│ yummy     ┆ soare ┆ sreao      ┆            ┆ … ┆ soare      ┆ \u001b[1;36m1\u001b[0m          ┆ linty    ┆ \u001b[1;36m1\u001b[0m         │\n",
       "│ yummy     ┆ linty ┆ sitreaoln  ┆ y          ┆ … ┆ linty      ┆ \u001b[1;36m1\u001b[0m          ┆ fuzzy    ┆ \u001b[1;36m1\u001b[0m         │\n",
       "│ yummy     ┆ fuzzy ┆ sitreaofzl ┆ yu         ┆ … ┆ fuzzy      ┆ \u001b[1;36m1\u001b[0m          ┆ duchy    ┆ \u001b[1;36m1\u001b[0m         │\n",
       "│           ┆       ┆ n          ┆            ┆   ┆            ┆            ┆          ┆           │\n",
       "│ yummy     ┆ duchy ┆ sitcreaofz ┆ yu         ┆ … ┆ duchy      ┆ \u001b[1;36m1\u001b[0m          ┆ puppy    ┆ \u001b[1;36m1\u001b[0m         │\n",
       "│           ┆       ┆ dlhn       ┆            ┆   ┆            ┆            ┆          ┆           │\n",
       "│ yummy     ┆ puppy ┆ sitcreaopf ┆ yu         ┆ … ┆ puppy      ┆ \u001b[1;36m1\u001b[0m          ┆ mummy    ┆ \u001b[1;36m1\u001b[0m         │\n",
       "│           ┆       ┆ zdlhn      ┆            ┆   ┆            ┆            ┆          ┆           │\n",
       "└───────────┴───────┴────────────┴────────────┴───┴────────────┴────────────┴──────────┴───────────┘"
      ]
     },
     "execution_count": 18,
     "metadata": {},
     "output_type": "execute_result"
    }
   ],
   "source": [
    "incomplete_games.head()"
   ]
  },
  {
   "cell_type": "code",
   "execution_count": 19,
   "id": "b907a981",
   "metadata": {
    "ExecuteTime": {
     "end_time": "2023-12-08T16:02:19.355001Z",
     "start_time": "2023-12-08T16:02:19.314635Z"
    }
   },
   "outputs": [
    {
     "data": {
      "text/html": [
       "<pre style=\"white-space:pre;overflow-x:auto;line-height:normal;font-family:Menlo,'DejaVu Sans Mono',consolas,'Courier New',monospace\"></pre>\n"
      ],
      "text/plain": []
     },
     "metadata": {},
     "output_type": "display_data"
    },
    {
     "data": {
      "text/html": [
       "<table border=\"1\" class=\"dataframe\">\n",
       "  <thead>\n",
       "    <tr style=\"text-align: right;\">\n",
       "      <th></th>\n",
       "      <th>challenge</th>\n",
       "      <th>guess</th>\n",
       "      <th>match_pattern</th>\n",
       "      <th>letter_differences</th>\n",
       "      <th>common_letters</th>\n",
       "      <th>next_guess</th>\n",
       "      <th>group</th>\n",
       "      <th>tries</th>\n",
       "      <th>difficulty</th>\n",
       "      <th>guess_word_anagrams</th>\n",
       "      <th>anagram_num</th>\n",
       "    </tr>\n",
       "  </thead>\n",
       "  <tbody>\n",
       "    <tr>\n",
       "      <th>0</th>\n",
       "      <td>feebs</td>\n",
       "      <td>soare</td>\n",
       "      <td><div style='display:inline-block; width:20px; height:20px; margin:1px; text-align:center; font-weight:bold; background-color: #FDBE02;'>s</div><div style='display:inline-block; width:20px; height:20px; margin:1px; text-align:center; font-weight:bold; background-color: black;'>o</div><div style='display:inline-block; width:20px; height:20px; margin:1px; text-align:center; font-weight:bold; background-color: black;'>a</div><div style='display:inline-block; width:20px; height:20px; margin:1px; text-align:center; font-weight:bold; background-color: black;'>r</div><div style='display:inline-block; width:20px; height:20px; margin:1px; text-align:center; font-weight:bold; background-color: #FDBE02;'>e</div></td>\n",
       "      <td>aor</td>\n",
       "      <td>se</td>\n",
       "      <td>linty</td>\n",
       "      <td>5751</td>\n",
       "      <td>NaN</td>\n",
       "      <td>very hard</td>\n",
       "      <td>soare</td>\n",
       "      <td>1</td>\n",
       "    </tr>\n",
       "    <tr>\n",
       "      <th>1</th>\n",
       "      <td>feebs</td>\n",
       "      <td>linty</td>\n",
       "      <td><div style='display:inline-block; width:20px; height:20px; margin:1px; text-align:center; font-weight:bold; background-color: black;'>l</div><div style='display:inline-block; width:20px; height:20px; margin:1px; text-align:center; font-weight:bold; background-color: black;'>i</div><div style='display:inline-block; width:20px; height:20px; margin:1px; text-align:center; font-weight:bold; background-color: black;'>n</div><div style='display:inline-block; width:20px; height:20px; margin:1px; text-align:center; font-weight:bold; background-color: black;'>t</div><div style='display:inline-block; width:20px; height:20px; margin:1px; text-align:center; font-weight:bold; background-color: black;'>y</div></td>\n",
       "      <td>itraolyn</td>\n",
       "      <td>se</td>\n",
       "      <td>jesus</td>\n",
       "      <td>5751</td>\n",
       "      <td>NaN</td>\n",
       "      <td>very hard</td>\n",
       "      <td>linty</td>\n",
       "      <td>1</td>\n",
       "    </tr>\n",
       "    <tr>\n",
       "      <th>2</th>\n",
       "      <td>feebs</td>\n",
       "      <td>jesus</td>\n",
       "      <td><div style='display:inline-block; width:20px; height:20px; margin:1px; text-align:center; font-weight:bold; background-color: black;'>j</div><div style='display:inline-block; width:20px; height:20px; margin:1px; text-align:center; font-weight:bold; background-color: green;'>e</div><div style='display:inline-block; width:20px; height:20px; margin:1px; text-align:center; font-weight:bold; background-color: #FDBE02;'>s</div><div style='display:inline-block; width:20px; height:20px; margin:1px; text-align:center; font-weight:bold; background-color: black;'>u</div><div style='display:inline-block; width:20px; height:20px; margin:1px; text-align:center; font-weight:bold; background-color: green;'>s</div></td>\n",
       "      <td>itraojulyn</td>\n",
       "      <td>se</td>\n",
       "      <td>deevs</td>\n",
       "      <td>5751</td>\n",
       "      <td>NaN</td>\n",
       "      <td>very hard</td>\n",
       "      <td>jesus</td>\n",
       "      <td>1</td>\n",
       "    </tr>\n",
       "    <tr>\n",
       "      <th>3</th>\n",
       "      <td>feebs</td>\n",
       "      <td>deevs</td>\n",
       "      <td><div style='display:inline-block; width:20px; height:20px; margin:1px; text-align:center; font-weight:bold; background-color: black;'>d</div><div style='display:inline-block; width:20px; height:20px; margin:1px; text-align:center; font-weight:bold; background-color: green;'>e</div><div style='display:inline-block; width:20px; height:20px; margin:1px; text-align:center; font-weight:bold; background-color: green;'>e</div><div style='display:inline-block; width:20px; height:20px; margin:1px; text-align:center; font-weight:bold; background-color: black;'>v</div><div style='display:inline-block; width:20px; height:20px; margin:1px; text-align:center; font-weight:bold; background-color: green;'>s</div></td>\n",
       "      <td>itraovjudlyn</td>\n",
       "      <td>se</td>\n",
       "      <td>geeps</td>\n",
       "      <td>5751</td>\n",
       "      <td>NaN</td>\n",
       "      <td>very hard</td>\n",
       "      <td>deevs</td>\n",
       "      <td>1</td>\n",
       "    </tr>\n",
       "    <tr>\n",
       "      <th>4</th>\n",
       "      <td>feebs</td>\n",
       "      <td>geeps</td>\n",
       "      <td><div style='display:inline-block; width:20px; height:20px; margin:1px; text-align:center; font-weight:bold; background-color: black;'>g</div><div style='display:inline-block; width:20px; height:20px; margin:1px; text-align:center; font-weight:bold; background-color: green;'>e</div><div style='display:inline-block; width:20px; height:20px; margin:1px; text-align:center; font-weight:bold; background-color: green;'>e</div><div style='display:inline-block; width:20px; height:20px; margin:1px; text-align:center; font-weight:bold; background-color: black;'>p</div><div style='display:inline-block; width:20px; height:20px; margin:1px; text-align:center; font-weight:bold; background-color: green;'>s</div></td>\n",
       "      <td>itraovgpjudlyn</td>\n",
       "      <td>se</td>\n",
       "      <td>keeks</td>\n",
       "      <td>5751</td>\n",
       "      <td>NaN</td>\n",
       "      <td>very hard</td>\n",
       "      <td>geeps</td>\n",
       "      <td>1</td>\n",
       "    </tr>\n",
       "    <tr>\n",
       "      <th>5</th>\n",
       "      <td>feebs</td>\n",
       "      <td>keeks</td>\n",
       "      <td><div style='display:inline-block; width:20px; height:20px; margin:1px; text-align:center; font-weight:bold; background-color: black;'>k</div><div style='display:inline-block; width:20px; height:20px; margin:1px; text-align:center; font-weight:bold; background-color: green;'>e</div><div style='display:inline-block; width:20px; height:20px; margin:1px; text-align:center; font-weight:bold; background-color: green;'>e</div><div style='display:inline-block; width:20px; height:20px; margin:1px; text-align:center; font-weight:bold; background-color: black;'>k</div><div style='display:inline-block; width:20px; height:20px; margin:1px; text-align:center; font-weight:bold; background-color: green;'>s</div></td>\n",
       "      <td>itraovgpjkudlyn</td>\n",
       "      <td>se</td>\n",
       "      <td>feebs</td>\n",
       "      <td>5751</td>\n",
       "      <td>NaN</td>\n",
       "      <td>very hard</td>\n",
       "      <td>keeks</td>\n",
       "      <td>1</td>\n",
       "    </tr>\n",
       "  </tbody>\n",
       "</table>"
      ],
      "text/plain": [
       "\u001b[1m<\u001b[0m\u001b[1;95mIPython.core.display.HTML\u001b[0m\u001b[39m object\u001b[0m\u001b[1m>\u001b[0m"
      ]
     },
     "execution_count": 19,
     "metadata": {},
     "output_type": "execute_result"
    }
   ],
   "source": [
    "null_select_group = np.random.choice(incomplete_games[\"group\"], 1, replace = False)[0]\n",
    "\n",
    "HTML(\n",
    "    incomplete_games\n",
    "    .select(\n",
    "        \"challenge\", \"guess\", \"match_pattern\", \"letter_differences\", \"common_letters\",\n",
    "        \"next_guess\", \"group\", \"tries\", \"difficulty\", \"guess_word_anagrams\", \"anagram_num\"\n",
    "    )\n",
    "    .filter(pl.col(\"group\") == null_select_group)\n",
    "    .to_pandas()\n",
    "    .assign(\n",
    "        match_pattern = lambda df_:\n",
    "        color_pattern_matching(\n",
    "            dataf=df_,\n",
    "            challenge_col=\"challenge\",\n",
    "            guess_col=\"guess\"\n",
    "        )\n",
    "    )\n",
    "    .to_html(escape=False)\n",
    ")"
   ]
  },
  {
   "cell_type": "code",
   "execution_count": 20,
   "id": "07a8aefd",
   "metadata": {},
   "outputs": [
    {
     "data": {
      "text/html": [
       "<pre style=\"white-space:pre;overflow-x:auto;line-height:normal;font-family:Menlo,'DejaVu Sans Mono',consolas,'Courier New',monospace\"></pre>\n"
      ],
      "text/plain": []
     },
     "metadata": {},
     "output_type": "display_data"
    },
    {
     "data": {
      "text/html": [
       "<div><style>\n",
       ".dataframe > thead > tr,\n",
       ".dataframe > tbody > tr {\n",
       "  text-align: right;\n",
       "  white-space: pre-wrap;\n",
       "}\n",
       "</style>\n",
       "<small>shape: (6, 7)</small><table border=\"1\" class=\"dataframe\"><thead><tr><th>challenge</th><th>guess</th><th>match_pattern</th><th>num_choices_after_guess</th><th>possible_guesses</th><th>challenge_in_possible_guesses</th><th>next_guess</th></tr><tr><td>str</td><td>str</td><td>str</td><td>u16</td><td>str</td><td>bool</td><td>str</td></tr></thead><tbody><tr><td>&quot;feebs&quot;</td><td>&quot;soare&quot;</td><td>&quot;YBBBY&quot;</td><td>156</td><td>&quot;lewis, exist, welsh, jesus, is…</td><td>false</td><td>&quot;linty&quot;</td></tr><tr><td>&quot;feebs&quot;</td><td>&quot;linty&quot;</td><td>&quot;BBBBB&quot;</td><td>31</td><td>&quot;jesus, guess, chess, jukes, ps…</td><td>false</td><td>&quot;jesus&quot;</td></tr><tr><td>&quot;feebs&quot;</td><td>&quot;jesus&quot;</td><td>&quot;BGYBG&quot;</td><td>13</td><td>&quot;deevs, kembs, hecks, kexes, ge…</td><td>false</td><td>&quot;deevs&quot;</td></tr><tr><td>&quot;feebs&quot;</td><td>&quot;deevs&quot;</td><td>&quot;BGGBG&quot;</td><td>3</td><td>&quot;geeps, keeks, feebs&quot;</td><td>true</td><td>&quot;geeps&quot;</td></tr><tr><td>&quot;feebs&quot;</td><td>&quot;geeps&quot;</td><td>&quot;BGGBG&quot;</td><td>2</td><td>&quot;keeks, feebs&quot;</td><td>true</td><td>&quot;keeks&quot;</td></tr><tr><td>&quot;feebs&quot;</td><td>&quot;keeks&quot;</td><td>&quot;BGGBG&quot;</td><td>1</td><td>&quot;feebs&quot;</td><td>true</td><td>&quot;feebs&quot;</td></tr></tbody></table></div>"
      ],
      "text/plain": [
       "\n",
       "shape: \u001b[1m(\u001b[0m\u001b[1;36m6\u001b[0m, \u001b[1;36m7\u001b[0m\u001b[1m)\u001b[0m\n",
       "┌───────────┬───────┬───────────────┬────────────────┬────────────────┬───────────────┬────────────┐\n",
       "│ challenge ┆ guess ┆ match_pattern ┆ num_choices_af ┆ possible_guess ┆ challenge_in_ ┆ next_guess │\n",
       "│ ---       ┆ ---   ┆ ---           ┆ ter_guess      ┆ es             ┆ possible_gues ┆ ---        │\n",
       "│ str       ┆ str   ┆ str           ┆ ---            ┆ ---            ┆ ses           ┆ str        │\n",
       "│           ┆       ┆               ┆ u16            ┆ str            ┆ ---           ┆            │\n",
       "│           ┆       ┆               ┆                ┆                ┆ bool          ┆            │\n",
       "╞═══════════╪═══════╪═══════════════╪════════════════╪════════════════╪═══════════════╪════════════╡\n",
       "│ feebs     ┆ soare ┆ YBBBY         ┆ \u001b[1;36m156\u001b[0m            ┆ lewis, exist,  ┆ false         ┆ linty      │\n",
       "│           ┆       ┆               ┆                ┆ welsh, jesus,  ┆               ┆            │\n",
       "│           ┆       ┆               ┆                ┆ is…            ┆               ┆            │\n",
       "│ feebs     ┆ linty ┆ BBBBB         ┆ \u001b[1;36m31\u001b[0m             ┆ jesus, guess,  ┆ false         ┆ jesus      │\n",
       "│           ┆       ┆               ┆                ┆ chess, jukes,  ┆               ┆            │\n",
       "│           ┆       ┆               ┆                ┆ ps…            ┆               ┆            │\n",
       "│ feebs     ┆ jesus ┆ BGYBG         ┆ \u001b[1;36m13\u001b[0m             ┆ deevs, kembs,  ┆ false         ┆ deevs      │\n",
       "│           ┆       ┆               ┆                ┆ hecks, kexes,  ┆               ┆            │\n",
       "│           ┆       ┆               ┆                ┆ ge…            ┆               ┆            │\n",
       "│ feebs     ┆ deevs ┆ BGGBG         ┆ \u001b[1;36m3\u001b[0m              ┆ geeps, keeks,  ┆ true          ┆ geeps      │\n",
       "│           ┆       ┆               ┆                ┆ feebs          ┆               ┆            │\n",
       "│ feebs     ┆ geeps ┆ BGGBG         ┆ \u001b[1;36m2\u001b[0m              ┆ keeks, feebs   ┆ true          ┆ keeks      │\n",
       "│ feebs     ┆ keeks ┆ BGGBG         ┆ \u001b[1;36m1\u001b[0m              ┆ feebs          ┆ true          ┆ feebs      │\n",
       "└───────────┴───────┴───────────────┴────────────────┴────────────────┴───────────────┴────────────┘"
      ]
     },
     "execution_count": 20,
     "metadata": {},
     "output_type": "execute_result"
    }
   ],
   "source": [
    "incomplete_games_check = (\n",
    "    incomplete_games\n",
    "    .filter(pl.col(\"group\") == null_select_group)\n",
    "    .select(\n",
    "        \"challenge\", \"guess\", \"match_pattern\", \"num_choices_after_guess\",\n",
    "        \"possible_guesses\", \"challenge_in_possible_guesses\", \"next_guess\"\n",
    "    )\n",
    ")\n",
    "\n",
    "incomplete_games_check"
   ]
  },
  {
   "cell_type": "code",
   "execution_count": 21,
   "id": "e82f0b80",
   "metadata": {},
   "outputs": [
    {
     "data": {
      "text/html": [
       "<pre style=\"white-space:pre;overflow-x:auto;line-height:normal;font-family:Menlo,'DejaVu Sans Mono',consolas,'Courier New',monospace\"></pre>\n"
      ],
      "text/plain": []
     },
     "metadata": {},
     "output_type": "display_data"
    },
    {
     "data": {
      "text/plain": [
       "\u001b[32m'lewis, exist, welsh, jesus, islet, fetus, chest, penis, bless, upset'\u001b[0m"
      ]
     },
     "execution_count": 21,
     "metadata": {},
     "output_type": "execute_result"
    }
   ],
   "source": [
    "(\n",
    "    incomplete_games_check\n",
    "    .gather_every(n=1)\n",
    "    .head(1)\n",
    "    [\"possible_guesses\"]\n",
    "    .item()\n",
    ")"
   ]
  },
  {
   "cell_type": "code",
   "execution_count": 22,
   "id": "2239a205",
   "metadata": {},
   "outputs": [
    {
     "data": {
      "text/html": [
       "<pre style=\"white-space:pre;overflow-x:auto;line-height:normal;font-family:Menlo,'DejaVu Sans Mono',consolas,'Courier New',monospace\"></pre>\n"
      ],
      "text/plain": []
     },
     "metadata": {},
     "output_type": "display_data"
    },
    {
     "data": {
      "text/plain": [
       "\u001b[32m'jesus, guess, chess, jukes, pseud, chews, deevs, kembs, zebus, hecks'\u001b[0m"
      ]
     },
     "execution_count": 22,
     "metadata": {},
     "output_type": "execute_result"
    }
   ],
   "source": [
    "(\n",
    "    incomplete_games_check\n",
    "    .gather_every(n=1, offset=1)\n",
    "    .head(1)\n",
    "    [\"possible_guesses\"]\n",
    "    .item()\n",
    ")"
   ]
  },
  {
   "cell_type": "code",
   "execution_count": 23,
   "id": "c35129ae",
   "metadata": {},
   "outputs": [
    {
     "data": {
      "text/html": [
       "<pre style=\"white-space:pre;overflow-x:auto;line-height:normal;font-family:Menlo,'DejaVu Sans Mono',consolas,'Courier New',monospace\"></pre>\n"
      ],
      "text/plain": []
     },
     "metadata": {},
     "output_type": "display_data"
    },
    {
     "data": {
      "text/plain": [
       "\u001b[32m'deevs, kembs, hecks, kexes, geeps, fecks, keeks, meeds, kemps, femes'\u001b[0m"
      ]
     },
     "execution_count": 23,
     "metadata": {},
     "output_type": "execute_result"
    }
   ],
   "source": [
    "(\n",
    "    incomplete_games_check\n",
    "    .gather_every(n=1, offset=2)\n",
    "    .head(1)\n",
    "    [\"possible_guesses\"]\n",
    "    .item()\n",
    ")"
   ]
  },
  {
   "cell_type": "code",
   "execution_count": 24,
   "id": "7a502f70",
   "metadata": {},
   "outputs": [
    {
     "data": {
      "text/html": [
       "<pre style=\"white-space:pre;overflow-x:auto;line-height:normal;font-family:Menlo,'DejaVu Sans Mono',consolas,'Courier New',monospace\"></pre>\n"
      ],
      "text/plain": []
     },
     "metadata": {},
     "output_type": "display_data"
    },
    {
     "data": {
      "text/plain": [
       "\u001b[32m'geeps, keeks, feebs'\u001b[0m"
      ]
     },
     "execution_count": 24,
     "metadata": {},
     "output_type": "execute_result"
    }
   ],
   "source": [
    "(\n",
    "    incomplete_games_check\n",
    "    .gather_every(n=1, offset=3)\n",
    "    .head(1)\n",
    "    [\"possible_guesses\"]\n",
    "    .item()\n",
    ")"
   ]
  },
  {
   "cell_type": "code",
   "execution_count": 25,
   "id": "05f27d45",
   "metadata": {},
   "outputs": [
    {
     "data": {
      "text/html": [
       "<pre style=\"white-space:pre;overflow-x:auto;line-height:normal;font-family:Menlo,'DejaVu Sans Mono',consolas,'Courier New',monospace\"></pre>\n"
      ],
      "text/plain": []
     },
     "metadata": {},
     "output_type": "display_data"
    },
    {
     "data": {
      "text/plain": [
       "\u001b[32m'keeks, feebs'\u001b[0m"
      ]
     },
     "execution_count": 25,
     "metadata": {},
     "output_type": "execute_result"
    }
   ],
   "source": [
    "(\n",
    "    incomplete_games_check\n",
    "    .gather_every(n=1, offset=4)\n",
    "    .head(1)\n",
    "    [\"possible_guesses\"]\n",
    "    .item()\n",
    ")"
   ]
  },
  {
   "cell_type": "code",
   "execution_count": 26,
   "id": "ba477afa",
   "metadata": {},
   "outputs": [
    {
     "data": {
      "text/html": [
       "<pre style=\"white-space:pre;overflow-x:auto;line-height:normal;font-family:Menlo,'DejaVu Sans Mono',consolas,'Courier New',monospace\"></pre>\n"
      ],
      "text/plain": []
     },
     "metadata": {},
     "output_type": "display_data"
    },
    {
     "data": {
      "text/plain": [
       "\u001b[32m'feebs'\u001b[0m"
      ]
     },
     "execution_count": 26,
     "metadata": {},
     "output_type": "execute_result"
    }
   ],
   "source": [
    "(\n",
    "    incomplete_games_check\n",
    "    .gather_every(n=1, offset=5)\n",
    "    .head(1)\n",
    "    [\"possible_guesses\"]\n",
    "    .item()\n",
    ")"
   ]
  },
  {
   "cell_type": "markdown",
   "id": "58eeef70",
   "metadata": {},
   "source": [
    "# Challenge word statistics"
   ]
  },
  {
   "cell_type": "code",
   "execution_count": 27,
   "id": "d19e3e1b",
   "metadata": {},
   "outputs": [],
   "source": [
    "challenge_stats = (\n",
    "    simulating_tries_difficulty\n",
    "    .group_by(\"challenge\")\n",
    "    .agg(\n",
    "        tries_mode=pl.col(\"tries\").mode().cast(pl.UInt8),\n",
    "        tries_mean=(pl.col(\"tries\").mean().cast(pl.Float32)).round(3),\n",
    "        tries_null_pct=(pl.col(\"tries\").is_null().mean().cast(pl.Float32) * 100).round(3),\n",
    "    )\n",
    "    .explode(\"tries_mode\")\n",
    "    .sort(\"tries_null_pct\", descending = True)\n",
    ")"
   ]
  },
  {
   "cell_type": "code",
   "execution_count": 28,
   "id": "fc9d629c",
   "metadata": {},
   "outputs": [
    {
     "data": {
      "text/html": [
       "<pre style=\"white-space:pre;overflow-x:auto;line-height:normal;font-family:Menlo,'DejaVu Sans Mono',consolas,'Courier New',monospace\"></pre>\n"
      ],
      "text/plain": []
     },
     "metadata": {},
     "output_type": "display_data"
    },
    {
     "data": {
      "text/html": [
       "<div><style>\n",
       ".dataframe > thead > tr,\n",
       ".dataframe > tbody > tr {\n",
       "  text-align: right;\n",
       "  white-space: pre-wrap;\n",
       "}\n",
       "</style>\n",
       "<small>shape: (5, 4)</small><table border=\"1\" class=\"dataframe\"><thead><tr><th>challenge</th><th>tries_mode</th><th>tries_mean</th><th>tries_null_pct</th></tr><tr><td>str</td><td>u8</td><td>f32</td><td>f32</td></tr></thead><tbody><tr><td>&quot;emure&quot;</td><td>null</td><td>null</td><td>100.0</td></tr><tr><td>&quot;hinny&quot;</td><td>null</td><td>null</td><td>100.0</td></tr><tr><td>&quot;waver&quot;</td><td>null</td><td>null</td><td>100.0</td></tr><tr><td>&quot;gawky&quot;</td><td>null</td><td>null</td><td>100.0</td></tr><tr><td>&quot;laxer&quot;</td><td>null</td><td>null</td><td>100.0</td></tr></tbody></table></div>"
      ],
      "text/plain": [
       "\n",
       "shape: \u001b[1m(\u001b[0m\u001b[1;36m5\u001b[0m, \u001b[1;36m4\u001b[0m\u001b[1m)\u001b[0m\n",
       "┌───────────┬────────────┬────────────┬────────────────┐\n",
       "│ challenge ┆ tries_mode ┆ tries_mean ┆ tries_null_pct │\n",
       "│ ---       ┆ ---        ┆ ---        ┆ ---            │\n",
       "│ str       ┆ u8         ┆ f32        ┆ f32            │\n",
       "╞═══════════╪════════════╪════════════╪════════════════╡\n",
       "│ emure     ┆ null       ┆ null       ┆ \u001b[1;36m100.0\u001b[0m          │\n",
       "│ hinny     ┆ null       ┆ null       ┆ \u001b[1;36m100.0\u001b[0m          │\n",
       "│ waver     ┆ null       ┆ null       ┆ \u001b[1;36m100.0\u001b[0m          │\n",
       "│ gawky     ┆ null       ┆ null       ┆ \u001b[1;36m100.0\u001b[0m          │\n",
       "│ laxer     ┆ null       ┆ null       ┆ \u001b[1;36m100.0\u001b[0m          │\n",
       "└───────────┴────────────┴────────────┴────────────────┘"
      ]
     },
     "execution_count": 28,
     "metadata": {},
     "output_type": "execute_result"
    }
   ],
   "source": [
    "challenge_stats.head()"
   ]
  },
  {
   "cell_type": "code",
   "execution_count": 29,
   "id": "00b1ba63",
   "metadata": {},
   "outputs": [
    {
     "name": "stdout",
     "output_type": "stream",
     "text": [
      "Overall incompletion rate: 6.93%\n"
     ]
    }
   ],
   "source": [
    "print(f\"Overall incompletion rate: {(first_guess['tries'].is_null().sum() / first_guess.height) * 100:.2f}%\")"
   ]
  },
  {
   "cell_type": "markdown",
   "id": "60e58575",
   "metadata": {},
   "source": [
    "## Retrieve the 2nd row of every group of 6 rows."
   ]
  },
  {
   "cell_type": "markdown",
   "id": "d9b90014",
   "metadata": {},
   "source": [
    "### Determine the average number of choices remaining after the second guess. This will tell us how effective the two guess strategy is at solving the challenge word."
   ]
  },
  {
   "cell_type": "code",
   "execution_count": 30,
   "id": "d6450149",
   "metadata": {},
   "outputs": [],
   "source": [
    "second_guess_df = (\n",
    "    simulating_tries_difficulty\n",
    "    .with_row_index(name=\"row_num\")\n",
    "    .filter(\n",
    "        (pl.col(\"row_num\") % 6 == 1) &\n",
    "        ~(pl.col(\"guess\") == \"saint\") # remove instance where 'saint' as first guess is correct\n",
    "    )\n",
    "    .drop(\"row_num\")\n",
    ")"
   ]
  },
  {
   "cell_type": "code",
   "execution_count": 31,
   "id": "7fde8bb8",
   "metadata": {},
   "outputs": [
    {
     "data": {
      "text/html": [
       "<pre style=\"white-space:pre;overflow-x:auto;line-height:normal;font-family:Menlo,'DejaVu Sans Mono',consolas,'Courier New',monospace\"></pre>\n"
      ],
      "text/plain": []
     },
     "metadata": {},
     "output_type": "display_data"
    },
    {
     "data": {
      "text/html": [
       "<div><style>\n",
       ".dataframe > thead > tr,\n",
       ".dataframe > tbody > tr {\n",
       "  text-align: right;\n",
       "  white-space: pre-wrap;\n",
       "}\n",
       "</style>\n",
       "<small>shape: (5, 19)</small><table border=\"1\" class=\"dataframe\"><thead><tr><th>challenge</th><th>guess</th><th>letter_differences</th><th>common_letters</th><th>num_diff_letters</th><th>num_common_letters</th><th>num_matching_index</th><th>match_pattern</th><th>num_choices_after_guess</th><th>possible_guesses</th><th>challenge_in_possible_guesses</th><th>next_guess</th><th>group</th><th>tries</th><th>difficulty</th><th>guess_word_anagrams</th><th>anagram_num</th><th>anagrams</th><th>anagram_num_right</th></tr><tr><td>str</td><td>str</td><td>str</td><td>str</td><td>u8</td><td>u8</td><td>u8</td><td>str</td><td>u16</td><td>str</td><td>bool</td><td>str</td><td>u32</td><td>u8</td><td>str</td><td>str</td><td>u8</td><td>str</td><td>u8</td></tr></thead><tbody><tr><td>&quot;yummy&quot;</td><td>&quot;linty&quot;</td><td>&quot;sitreaoln&quot;</td><td>&quot;y&quot;</td><td>9</td><td>1</td><td>1</td><td>&quot;BBBBG&quot;</td><td>50</td><td>&quot;fuzzy, puffy, guppy, dummy, mu…</td><td>false</td><td>&quot;fuzzy&quot;</td><td>0</td><td>null</td><td>&quot;very hard&quot;</td><td>&quot;linty&quot;</td><td>1</td><td>&quot;fuzzy&quot;</td><td>1</td></tr><tr><td>&quot;calyx&quot;</td><td>&quot;linty&quot;</td><td>&quot;sitreon&quot;</td><td>&quot;aly&quot;</td><td>7</td><td>3</td><td>0</td><td>&quot;YBBBY&quot;</td><td>11</td><td>&quot;alkyl, calyx, phyla, allyl, by…</td><td>true</td><td>&quot;alkyl&quot;</td><td>1</td><td>4</td><td>&quot;moderate&quot;</td><td>&quot;linty&quot;</td><td>1</td><td>&quot;alkyl&quot;</td><td>1</td></tr><tr><td>&quot;varas&quot;</td><td>&quot;linty&quot;</td><td>&quot;iteolyn&quot;</td><td>&quot;sar&quot;</td><td>7</td><td>3</td><td>0</td><td>&quot;BBBBB&quot;</td><td>32</td><td>&quot;marsh, harsh, argus, ramus, va…</td><td>false</td><td>&quot;marsh&quot;</td><td>2</td><td>5</td><td>&quot;hard&quot;</td><td>&quot;linty&quot;</td><td>1</td><td>&quot;marsh&quot;</td><td>1</td></tr><tr><td>&quot;bubba&quot;</td><td>&quot;linty&quot;</td><td>&quot;sitreolyn&quot;</td><td>&quot;a&quot;</td><td>9</td><td>1</td><td>0</td><td>&quot;BBBBB&quot;</td><td>59</td><td>&quot;madam, bubba, gamma, pampa, ka…</td><td>true</td><td>&quot;madam&quot;</td><td>3</td><td>5</td><td>&quot;hard&quot;</td><td>&quot;linty&quot;</td><td>1</td><td>&quot;madam&quot;</td><td>1</td></tr><tr><td>&quot;lowes&quot;</td><td>&quot;linty&quot;</td><td>&quot;tirayn&quot;</td><td>&quot;soel&quot;</td><td>6</td><td>4</td><td>2</td><td>&quot;GBBBB&quot;</td><td>4</td><td>&quot;loess, lowes, losel, lomes&quot;</td><td>true</td><td>&quot;loess&quot;</td><td>4</td><td>4</td><td>&quot;moderate&quot;</td><td>&quot;linty&quot;</td><td>1</td><td>&quot;loess&quot;</td><td>1</td></tr></tbody></table></div>"
      ],
      "text/plain": [
       "\n",
       "shape: \u001b[1m(\u001b[0m\u001b[1;36m5\u001b[0m, \u001b[1;36m19\u001b[0m\u001b[1m)\u001b[0m\n",
       "┌───────────┬───────┬────────────┬────────────┬───┬────────────┬────────────┬──────────┬───────────┐\n",
       "│ challenge ┆ guess ┆ letter_dif ┆ common_let ┆ … ┆ guess_word ┆ anagram_nu ┆ anagrams ┆ anagram_n │\n",
       "│ ---       ┆ ---   ┆ ferences   ┆ ters       ┆   ┆ _anagrams  ┆ m          ┆ ---      ┆ um_right  │\n",
       "│ str       ┆ str   ┆ ---        ┆ ---        ┆   ┆ ---        ┆ ---        ┆ str      ┆ ---       │\n",
       "│           ┆       ┆ str        ┆ str        ┆   ┆ str        ┆ u8         ┆          ┆ u8        │\n",
       "╞═══════════╪═══════╪════════════╪════════════╪═══╪════════════╪════════════╪══════════╪═══════════╡\n",
       "│ yummy     ┆ linty ┆ sitreaoln  ┆ y          ┆ … ┆ linty      ┆ \u001b[1;36m1\u001b[0m          ┆ fuzzy    ┆ \u001b[1;36m1\u001b[0m         │\n",
       "│ calyx     ┆ linty ┆ sitreon    ┆ aly        ┆ … ┆ linty      ┆ \u001b[1;36m1\u001b[0m          ┆ alkyl    ┆ \u001b[1;36m1\u001b[0m         │\n",
       "│ varas     ┆ linty ┆ iteolyn    ┆ sar        ┆ … ┆ linty      ┆ \u001b[1;36m1\u001b[0m          ┆ marsh    ┆ \u001b[1;36m1\u001b[0m         │\n",
       "│ bubba     ┆ linty ┆ sitreolyn  ┆ a          ┆ … ┆ linty      ┆ \u001b[1;36m1\u001b[0m          ┆ madam    ┆ \u001b[1;36m1\u001b[0m         │\n",
       "│ lowes     ┆ linty ┆ tirayn     ┆ soel       ┆ … ┆ linty      ┆ \u001b[1;36m1\u001b[0m          ┆ loess    ┆ \u001b[1;36m1\u001b[0m         │\n",
       "└───────────┴───────┴────────────┴────────────┴───┴────────────┴────────────┴──────────┴───────────┘"
      ]
     },
     "execution_count": 31,
     "metadata": {},
     "output_type": "execute_result"
    }
   ],
   "source": [
    "second_guess_df.head()"
   ]
  },
  {
   "cell_type": "code",
   "execution_count": 32,
   "id": "3ab3c70f",
   "metadata": {},
   "outputs": [
    {
     "data": {
      "text/html": [
       "<pre style=\"white-space:pre;overflow-x:auto;line-height:normal;font-family:Menlo,'DejaVu Sans Mono',consolas,'Courier New',monospace\"></pre>\n"
      ],
      "text/plain": []
     },
     "metadata": {},
     "output_type": "display_data"
    },
    {
     "data": {
      "text/html": [
       "<div><style>\n",
       ".dataframe > thead > tr,\n",
       ".dataframe > tbody > tr {\n",
       "  text-align: right;\n",
       "  white-space: pre-wrap;\n",
       "}\n",
       "</style>\n",
       "<small>shape: (5, 19)</small><table border=\"1\" class=\"dataframe\"><thead><tr><th>challenge</th><th>guess</th><th>letter_differences</th><th>common_letters</th><th>num_diff_letters</th><th>num_common_letters</th><th>num_matching_index</th><th>match_pattern</th><th>num_choices_after_guess</th><th>possible_guesses</th><th>challenge_in_possible_guesses</th><th>next_guess</th><th>group</th><th>tries</th><th>difficulty</th><th>guess_word_anagrams</th><th>anagram_num</th><th>anagrams</th><th>anagram_num_right</th></tr><tr><td>str</td><td>str</td><td>str</td><td>str</td><td>u8</td><td>u8</td><td>u8</td><td>str</td><td>u16</td><td>str</td><td>bool</td><td>str</td><td>u32</td><td>u8</td><td>str</td><td>str</td><td>u8</td><td>str</td><td>u8</td></tr></thead><tbody><tr><td>&quot;yummy&quot;</td><td>&quot;linty&quot;</td><td>&quot;sitreaoln&quot;</td><td>&quot;y&quot;</td><td>9</td><td>1</td><td>1</td><td>&quot;BBBBG&quot;</td><td>50</td><td>&quot;fuzzy, puffy, guppy, dummy, mu…</td><td>false</td><td>&quot;fuzzy&quot;</td><td>0</td><td>null</td><td>&quot;very hard&quot;</td><td>&quot;linty&quot;</td><td>1</td><td>&quot;fuzzy&quot;</td><td>1</td></tr><tr><td>&quot;calyx&quot;</td><td>&quot;linty&quot;</td><td>&quot;sitreon&quot;</td><td>&quot;aly&quot;</td><td>7</td><td>3</td><td>0</td><td>&quot;YBBBY&quot;</td><td>11</td><td>&quot;alkyl, calyx, phyla, allyl, by…</td><td>true</td><td>&quot;alkyl&quot;</td><td>1</td><td>4</td><td>&quot;moderate&quot;</td><td>&quot;linty&quot;</td><td>1</td><td>&quot;alkyl&quot;</td><td>1</td></tr><tr><td>&quot;varas&quot;</td><td>&quot;linty&quot;</td><td>&quot;iteolyn&quot;</td><td>&quot;sar&quot;</td><td>7</td><td>3</td><td>0</td><td>&quot;BBBBB&quot;</td><td>32</td><td>&quot;marsh, harsh, argus, ramus, va…</td><td>false</td><td>&quot;marsh&quot;</td><td>2</td><td>5</td><td>&quot;hard&quot;</td><td>&quot;linty&quot;</td><td>1</td><td>&quot;marsh&quot;</td><td>1</td></tr><tr><td>&quot;bubba&quot;</td><td>&quot;linty&quot;</td><td>&quot;sitreolyn&quot;</td><td>&quot;a&quot;</td><td>9</td><td>1</td><td>0</td><td>&quot;BBBBB&quot;</td><td>59</td><td>&quot;madam, bubba, gamma, pampa, ka…</td><td>true</td><td>&quot;madam&quot;</td><td>3</td><td>5</td><td>&quot;hard&quot;</td><td>&quot;linty&quot;</td><td>1</td><td>&quot;madam&quot;</td><td>1</td></tr><tr><td>&quot;lowes&quot;</td><td>&quot;linty&quot;</td><td>&quot;tirayn&quot;</td><td>&quot;soel&quot;</td><td>6</td><td>4</td><td>2</td><td>&quot;GBBBB&quot;</td><td>4</td><td>&quot;loess, lowes, losel, lomes&quot;</td><td>true</td><td>&quot;loess&quot;</td><td>4</td><td>4</td><td>&quot;moderate&quot;</td><td>&quot;linty&quot;</td><td>1</td><td>&quot;loess&quot;</td><td>1</td></tr></tbody></table></div>"
      ],
      "text/plain": [
       "\n",
       "shape: \u001b[1m(\u001b[0m\u001b[1;36m5\u001b[0m, \u001b[1;36m19\u001b[0m\u001b[1m)\u001b[0m\n",
       "┌───────────┬───────┬────────────┬────────────┬───┬────────────┬────────────┬──────────┬───────────┐\n",
       "│ challenge ┆ guess ┆ letter_dif ┆ common_let ┆ … ┆ guess_word ┆ anagram_nu ┆ anagrams ┆ anagram_n │\n",
       "│ ---       ┆ ---   ┆ ferences   ┆ ters       ┆   ┆ _anagrams  ┆ m          ┆ ---      ┆ um_right  │\n",
       "│ str       ┆ str   ┆ ---        ┆ ---        ┆   ┆ ---        ┆ ---        ┆ str      ┆ ---       │\n",
       "│           ┆       ┆ str        ┆ str        ┆   ┆ str        ┆ u8         ┆          ┆ u8        │\n",
       "╞═══════════╪═══════╪════════════╪════════════╪═══╪════════════╪════════════╪══════════╪═══════════╡\n",
       "│ yummy     ┆ linty ┆ sitreaoln  ┆ y          ┆ … ┆ linty      ┆ \u001b[1;36m1\u001b[0m          ┆ fuzzy    ┆ \u001b[1;36m1\u001b[0m         │\n",
       "│ calyx     ┆ linty ┆ sitreon    ┆ aly        ┆ … ┆ linty      ┆ \u001b[1;36m1\u001b[0m          ┆ alkyl    ┆ \u001b[1;36m1\u001b[0m         │\n",
       "│ varas     ┆ linty ┆ iteolyn    ┆ sar        ┆ … ┆ linty      ┆ \u001b[1;36m1\u001b[0m          ┆ marsh    ┆ \u001b[1;36m1\u001b[0m         │\n",
       "│ bubba     ┆ linty ┆ sitreolyn  ┆ a          ┆ … ┆ linty      ┆ \u001b[1;36m1\u001b[0m          ┆ madam    ┆ \u001b[1;36m1\u001b[0m         │\n",
       "│ lowes     ┆ linty ┆ tirayn     ┆ soel       ┆ … ┆ linty      ┆ \u001b[1;36m1\u001b[0m          ┆ loess    ┆ \u001b[1;36m1\u001b[0m         │\n",
       "└───────────┴───────┴────────────┴────────────┴───┴────────────┴────────────┴──────────┴───────────┘"
      ]
     },
     "execution_count": 32,
     "metadata": {},
     "output_type": "execute_result"
    }
   ],
   "source": [
    "# More efficiently \n",
    "second_guess_df_2 = (\n",
    "    simulating_tries_difficulty\n",
    "    .gather_every(n=6, offset=1)\n",
    "    .filter(~(pl.col(\"guess\") == \"saint\")) # remove instance where 'saint' as first guess is correct\n",
    ")\n",
    "\n",
    "second_guess_df_2.head()"
   ]
  },
  {
   "cell_type": "code",
   "execution_count": 33,
   "id": "cfbeee20",
   "metadata": {},
   "outputs": [
    {
     "name": "stdout",
     "output_type": "stream",
     "text": [
      "Avg num choices after 2nd guess: 16.22%\n"
     ]
    }
   ],
   "source": [
    "print(f'Avg num choices after 2nd guess: {round(second_guess_df_2[\"num_choices_after_guess\"].mean(), 2)}%')"
   ]
  },
  {
   "cell_type": "markdown",
   "id": "97a96540",
   "metadata": {},
   "source": [
    "### Greatest num of choices left after second guess"
   ]
  },
  {
   "cell_type": "code",
   "execution_count": 34,
   "id": "6f17632a",
   "metadata": {},
   "outputs": [
    {
     "data": {
      "text/html": [
       "<pre style=\"white-space:pre;overflow-x:auto;line-height:normal;font-family:Menlo,'DejaVu Sans Mono',consolas,'Courier New',monospace\"></pre>\n"
      ],
      "text/plain": []
     },
     "metadata": {},
     "output_type": "display_data"
    },
    {
     "data": {
      "text/plain": [
       "\u001b[1;36m101\u001b[0m"
      ]
     },
     "execution_count": 34,
     "metadata": {},
     "output_type": "execute_result"
    }
   ],
   "source": [
    "max_num_choices_after_2nd_guess = (\n",
    "    second_guess_df_2\n",
    "    .sort(\"num_choices_after_guess\", descending=True)\n",
    "    [\"num_choices_after_guess\"]\n",
    "    .head(1)\n",
    "    .item()\n",
    ")\n",
    "\n",
    "max_num_choices_after_2nd_guess"
   ]
  },
  {
   "cell_type": "code",
   "execution_count": 35,
   "id": "be0d6b6e",
   "metadata": {},
   "outputs": [
    {
     "data": {
      "text/html": [
       "<pre style=\"white-space:pre;overflow-x:auto;line-height:normal;font-family:Menlo,'DejaVu Sans Mono',consolas,'Courier New',monospace\"></pre>\n"
      ],
      "text/plain": []
     },
     "metadata": {},
     "output_type": "display_data"
    },
    {
     "data": {
      "text/plain": [
       "\n",
       "\u001b[1;35marray\u001b[0m\u001b[1m(\u001b[0m\u001b[1m[\u001b[0m\u001b[32m'areca'\u001b[0m, \u001b[32m'agger'\u001b[0m, \u001b[32m'rarer'\u001b[0m, \u001b[32m'wager'\u001b[0m, \u001b[32m'remap'\u001b[0m, \u001b[32m'baker'\u001b[0m, \u001b[32m'aread'\u001b[0m,\n",
       "       \u001b[32m'debar'\u001b[0m, \u001b[32m'afear'\u001b[0m, \u001b[32m'razer'\u001b[0m, \u001b[32m'feuar'\u001b[0m, \u001b[32m'raker'\u001b[0m, \u001b[32m'hazer'\u001b[0m, \u001b[32m'gamer'\u001b[0m,\n",
       "       \u001b[32m'maker'\u001b[0m, \u001b[32m'whear'\u001b[0m, \u001b[32m'freak'\u001b[0m, \u001b[32m'wreak'\u001b[0m, \u001b[32m'begar'\u001b[0m, \u001b[32m'farer'\u001b[0m, \u001b[32m'carer'\u001b[0m,\n",
       "       \u001b[32m'caber'\u001b[0m, \u001b[32m'bream'\u001b[0m, \u001b[32m'ardeb'\u001b[0m, \u001b[32m'arepa'\u001b[0m, \u001b[32m'herma'\u001b[0m, \u001b[32m'rehab'\u001b[0m, \u001b[32m'varec'\u001b[0m,\n",
       "       \u001b[32m'wader'\u001b[0m, \u001b[32m'recap'\u001b[0m, \u001b[32m'derma'\u001b[0m, \u001b[32m'jager'\u001b[0m, \u001b[32m'dazer'\u001b[0m, \u001b[32m'rebar'\u001b[0m, \u001b[32m'macer'\u001b[0m,\n",
       "       \u001b[32m'hepar'\u001b[0m, \u001b[32m'racer'\u001b[0m, \u001b[32m'raver'\u001b[0m, \u001b[32m'eggar'\u001b[0m, \u001b[32m'dream'\u001b[0m, \u001b[32m'caper'\u001b[0m, \u001b[32m'parer'\u001b[0m,\n",
       "       \u001b[32m'raper'\u001b[0m, \u001b[32m'paper'\u001b[0m, \u001b[32m'perea'\u001b[0m, \u001b[32m'faver'\u001b[0m, \u001b[32m'gager'\u001b[0m, \u001b[32m'rawer'\u001b[0m, \u001b[32m'barer'\u001b[0m,\n",
       "       \u001b[32m'gaper'\u001b[0m, \u001b[32m'wafer'\u001b[0m, \u001b[32m'zerda'\u001b[0m, \u001b[32m'regma'\u001b[0m, \u001b[32m'pawer'\u001b[0m, \u001b[32m'rewax'\u001b[0m, \u001b[32m'haver'\u001b[0m,\n",
       "       \u001b[32m'amber'\u001b[0m, \u001b[32m'aredd'\u001b[0m, \u001b[32m'gazer'\u001b[0m, \u001b[32m'creak'\u001b[0m, \u001b[32m'faker'\u001b[0m, \u001b[32m'carex'\u001b[0m, \u001b[32m'cedar'\u001b[0m,\n",
       "       \u001b[32m'auger'\u001b[0m, \u001b[32m'kerma'\u001b[0m, \u001b[32m'armed'\u001b[0m, \u001b[32m'waxer'\u001b[0m, \u001b[32m'daker'\u001b[0m, \u001b[32m'eager'\u001b[0m, \u001b[32m'japer'\u001b[0m,\n",
       "       \u001b[32m'cager'\u001b[0m, \u001b[32m'paver'\u001b[0m, \u001b[32m'pager'\u001b[0m, \u001b[32m'warez'\u001b[0m, \u001b[32m'ameer'\u001b[0m, \u001b[32m'fader'\u001b[0m, \u001b[32m'waver'\u001b[0m,\n",
       "       \u001b[32m'caver'\u001b[0m, \u001b[32m'mazer'\u001b[0m, \u001b[32m'pacer'\u001b[0m, \u001b[32m'adder'\u001b[0m, \u001b[32m'waker'\u001b[0m, \u001b[32m'arear'\u001b[0m, \u001b[32m'parev'\u001b[0m,\n",
       "       \u001b[32m'cream'\u001b[0m, \u001b[32m'gerah'\u001b[0m, \u001b[32m'pareu'\u001b[0m, \u001b[32m'acker'\u001b[0m, \u001b[32m'bread'\u001b[0m, \u001b[32m'dewar'\u001b[0m, \u001b[32m'kebar'\u001b[0m,\n",
       "       \u001b[32m'break'\u001b[0m, \u001b[32m'facer'\u001b[0m, \u001b[32m'drear'\u001b[0m, \u001b[32m'regar'\u001b[0m, \u001b[32m'abear'\u001b[0m, \u001b[32m'embar'\u001b[0m, \u001b[32m'armer'\u001b[0m,\n",
       "       \u001b[32m'harem'\u001b[0m, \u001b[32m'rager'\u001b[0m, \u001b[32m'dread'\u001b[0m\u001b[1m]\u001b[0m, \u001b[33mdtype\u001b[0m=\u001b[35mobject\u001b[0m\u001b[1m)\u001b[0m"
      ]
     },
     "execution_count": 35,
     "metadata": {},
     "output_type": "execute_result"
    }
   ],
   "source": [
    "(\n",
    "    second_guess_df_2\n",
    "    .filter(pl.col(\"num_choices_after_guess\") == max_num_choices_after_2nd_guess)\n",
    "    [\"challenge\"]\n",
    "    .unique()\n",
    "    .to_numpy()\n",
    ")"
   ]
  },
  {
   "cell_type": "markdown",
   "id": "7b21ef4a",
   "metadata": {},
   "source": [
    "### How often on average is the challenge word in the possible choices after the second guess"
   ]
  },
  {
   "cell_type": "code",
   "execution_count": 36,
   "id": "dee3abbd",
   "metadata": {},
   "outputs": [
    {
     "name": "stdout",
     "output_type": "stream",
     "text": [
      "Avg times challenge in possible guesses: 74.74%\n"
     ]
    }
   ],
   "source": [
    "print(f'Avg times challenge in possible guesses: {round(second_guess_df_2[\"challenge_in_possible_guesses\"].mean() * 100, 2)}%')"
   ]
  },
  {
   "cell_type": "code",
   "execution_count": null,
   "id": "8310c5fb",
   "metadata": {},
   "outputs": [],
   "source": []
  },
  {
   "cell_type": "code",
   "execution_count": 43,
   "id": "a8f5eedc",
   "metadata": {},
   "outputs": [
    {
     "data": {
      "text/html": [
       "<pre style=\"white-space:pre;overflow-x:auto;line-height:normal;font-family:Menlo,'DejaVu Sans Mono',consolas,'Courier New',monospace\"></pre>\n"
      ],
      "text/plain": []
     },
     "metadata": {},
     "output_type": "display_data"
    },
    {
     "data": {
      "text/html": [
       "<div><style>\n",
       ".dataframe > thead > tr,\n",
       ".dataframe > tbody > tr {\n",
       "  text-align: right;\n",
       "  white-space: pre-wrap;\n",
       "}\n",
       "</style>\n",
       "<small>shape: (6, 19)</small><table border=\"1\" class=\"dataframe\"><thead><tr><th>challenge</th><th>guess</th><th>letter_differences</th><th>common_letters</th><th>num_diff_letters</th><th>num_common_letters</th><th>num_matching_index</th><th>match_pattern</th><th>num_choices_after_guess</th><th>possible_guesses</th><th>challenge_in_possible_guesses</th><th>next_guess</th><th>group</th><th>tries</th><th>difficulty</th><th>guess_word_anagrams</th><th>anagram_num</th><th>anagrams</th><th>anagram_num_right</th></tr><tr><td>str</td><td>str</td><td>str</td><td>str</td><td>u8</td><td>u8</td><td>u8</td><td>str</td><td>u16</td><td>str</td><td>bool</td><td>str</td><td>u32</td><td>u8</td><td>str</td><td>str</td><td>u8</td><td>str</td><td>u8</td></tr></thead><tbody><tr><td>&quot;hound&quot;</td><td>&quot;soare&quot;</td><td>&quot;sare&quot;</td><td>&quot;o&quot;</td><td>4</td><td>1</td><td>1</td><td>&quot;BGBBB&quot;</td><td>340</td><td>&quot;young, mouth, point, youth, do…</td><td>false</td><td>&quot;linty&quot;</td><td>2248</td><td>6</td><td>&quot;hard&quot;</td><td>&quot;soare&quot;</td><td>1</td><td>&quot;linty&quot;</td><td>1</td></tr><tr><td>&quot;hound&quot;</td><td>&quot;linty&quot;</td><td>&quot;sitrealy&quot;</td><td>&quot;on&quot;</td><td>8</td><td>2</td><td>1</td><td>&quot;BBYBB&quot;</td><td>12</td><td>&quot;wound, pound, mound, hound, co…</td><td>true</td><td>&quot;wound&quot;</td><td>2248</td><td>6</td><td>&quot;hard&quot;</td><td>&quot;linty&quot;</td><td>1</td><td>&quot;wound&quot;</td><td>1</td></tr><tr><td>&quot;hound&quot;</td><td>&quot;wound&quot;</td><td>&quot;sitreawly&quot;</td><td>&quot;onud&quot;</td><td>9</td><td>4</td><td>4</td><td>&quot;BGGGG&quot;</td><td>3</td><td>&quot;mound, pound, hound&quot;</td><td>true</td><td>&quot;mound&quot;</td><td>2248</td><td>6</td><td>&quot;hard&quot;</td><td>&quot;wound&quot;</td><td>1</td><td>&quot;mound&quot;</td><td>1</td></tr><tr><td>&quot;hound&quot;</td><td>&quot;mound&quot;</td><td>&quot;sitmreawly&quot;</td><td>&quot;onud&quot;</td><td>10</td><td>4</td><td>4</td><td>&quot;BGGGG&quot;</td><td>2</td><td>&quot;pound, hound&quot;</td><td>true</td><td>&quot;pound&quot;</td><td>2248</td><td>6</td><td>&quot;hard&quot;</td><td>&quot;mound&quot;</td><td>1</td><td>&quot;pound&quot;</td><td>1</td></tr><tr><td>&quot;hound&quot;</td><td>&quot;pound&quot;</td><td>&quot;sitmreapwly&quot;</td><td>&quot;onud&quot;</td><td>11</td><td>4</td><td>4</td><td>&quot;BGGGG&quot;</td><td>1</td><td>&quot;hound&quot;</td><td>true</td><td>&quot;hound&quot;</td><td>2248</td><td>6</td><td>&quot;hard&quot;</td><td>&quot;pound&quot;</td><td>1</td><td>&quot;hound&quot;</td><td>1</td></tr><tr><td>&quot;hound&quot;</td><td>&quot;hound&quot;</td><td>&quot;&quot;</td><td>&quot;onudh&quot;</td><td>0</td><td>5</td><td>5</td><td>&quot;GGGGG&quot;</td><td>0</td><td>&quot;&quot;</td><td>false</td><td>&quot;hound&quot;</td><td>2248</td><td>6</td><td>&quot;hard&quot;</td><td>&quot;hound&quot;</td><td>1</td><td>&quot;hound&quot;</td><td>1</td></tr></tbody></table></div>"
      ],
      "text/plain": [
       "\n",
       "shape: \u001b[1m(\u001b[0m\u001b[1;36m6\u001b[0m, \u001b[1;36m19\u001b[0m\u001b[1m)\u001b[0m\n",
       "┌───────────┬───────┬────────────┬────────────┬───┬────────────┬────────────┬──────────┬───────────┐\n",
       "│ challenge ┆ guess ┆ letter_dif ┆ common_let ┆ … ┆ guess_word ┆ anagram_nu ┆ anagrams ┆ anagram_n │\n",
       "│ ---       ┆ ---   ┆ ferences   ┆ ters       ┆   ┆ _anagrams  ┆ m          ┆ ---      ┆ um_right  │\n",
       "│ str       ┆ str   ┆ ---        ┆ ---        ┆   ┆ ---        ┆ ---        ┆ str      ┆ ---       │\n",
       "│           ┆       ┆ str        ┆ str        ┆   ┆ str        ┆ u8         ┆          ┆ u8        │\n",
       "╞═══════════╪═══════╪════════════╪════════════╪═══╪════════════╪════════════╪══════════╪═══════════╡\n",
       "│ hound     ┆ soare ┆ sare       ┆ o          ┆ … ┆ soare      ┆ \u001b[1;36m1\u001b[0m          ┆ linty    ┆ \u001b[1;36m1\u001b[0m         │\n",
       "│ hound     ┆ linty ┆ sitrealy   ┆ on         ┆ … ┆ linty      ┆ \u001b[1;36m1\u001b[0m          ┆ wound    ┆ \u001b[1;36m1\u001b[0m         │\n",
       "│ hound     ┆ wound ┆ sitreawly  ┆ onud       ┆ … ┆ wound      ┆ \u001b[1;36m1\u001b[0m          ┆ mound    ┆ \u001b[1;36m1\u001b[0m         │\n",
       "│ hound     ┆ mound ┆ sitmreawly ┆ onud       ┆ … ┆ mound      ┆ \u001b[1;36m1\u001b[0m          ┆ pound    ┆ \u001b[1;36m1\u001b[0m         │\n",
       "│ hound     ┆ pound ┆ sitmreapwl ┆ onud       ┆ … ┆ pound      ┆ \u001b[1;36m1\u001b[0m          ┆ hound    ┆ \u001b[1;36m1\u001b[0m         │\n",
       "│           ┆       ┆ y          ┆            ┆   ┆            ┆            ┆          ┆           │\n",
       "│ hound     ┆ hound ┆            ┆ onudh      ┆ … ┆ hound      ┆ \u001b[1;36m1\u001b[0m          ┆ hound    ┆ \u001b[1;36m1\u001b[0m         │\n",
       "└───────────┴───────┴────────────┴────────────┴───┴────────────┴────────────┴──────────┴───────────┘"
      ]
     },
     "execution_count": 43,
     "metadata": {},
     "output_type": "execute_result"
    }
   ],
   "source": [
    "(\n",
    "    simulating_tries_difficulty\n",
    "    .filter(pl.col(\"challenge\") == \"hound\")\n",
    ")"
   ]
  },
  {
   "cell_type": "code",
   "execution_count": 44,
   "id": "8dae9636",
   "metadata": {},
   "outputs": [
    {
     "data": {
      "text/html": [
       "<pre style=\"white-space:pre;overflow-x:auto;line-height:normal;font-family:Menlo,'DejaVu Sans Mono',consolas,'Courier New',monospace\"></pre>\n"
      ],
      "text/plain": []
     },
     "metadata": {},
     "output_type": "display_data"
    },
    {
     "data": {
      "text/html": [
       "<div><style>\n",
       ".dataframe > thead > tr,\n",
       ".dataframe > tbody > tr {\n",
       "  text-align: right;\n",
       "  white-space: pre-wrap;\n",
       "}\n",
       "</style>\n",
       "<small>shape: (6, 19)</small><table border=\"1\" class=\"dataframe\"><thead><tr><th>challenge</th><th>guess</th><th>letter_differences</th><th>common_letters</th><th>num_diff_letters</th><th>num_common_letters</th><th>num_matching_index</th><th>match_pattern</th><th>num_choices_after_guess</th><th>possible_guesses</th><th>challenge_in_possible_guesses</th><th>next_guess</th><th>group</th><th>tries</th><th>difficulty</th><th>guess_word_anagrams</th><th>anagram_num</th><th>anagrams</th><th>anagram_num_right</th></tr><tr><td>str</td><td>str</td><td>str</td><td>str</td><td>u8</td><td>u8</td><td>u8</td><td>str</td><td>u16</td><td>str</td><td>bool</td><td>str</td><td>u32</td><td>u8</td><td>str</td><td>str</td><td>u8</td><td>str</td><td>u8</td></tr></thead><tbody><tr><td>&quot;fizzy&quot;</td><td>&quot;soare&quot;</td><td>&quot;sreao&quot;</td><td>&quot;&quot;</td><td>5</td><td>0</td><td>0</td><td>&quot;BBBBB&quot;</td><td>538</td><td>&quot;dutch, night, civic, ninth, th…</td><td>false</td><td>&quot;linty&quot;</td><td>8499</td><td>5</td><td>&quot;hard&quot;</td><td>&quot;soare&quot;</td><td>1</td><td>&quot;linty&quot;</td><td>1</td></tr><tr><td>&quot;fizzy&quot;</td><td>&quot;linty&quot;</td><td>&quot;streaoln&quot;</td><td>&quot;iy&quot;</td><td>8</td><td>2</td><td>2</td><td>&quot;BGBBG&quot;</td><td>41</td><td>&quot;jimmy, giddy, micky, dizzy, pi…</td><td>false</td><td>&quot;jimmy&quot;</td><td>8499</td><td>5</td><td>&quot;hard&quot;</td><td>&quot;linty&quot;</td><td>1</td><td>&quot;jimmy&quot;</td><td>1</td></tr><tr><td>&quot;fizzy&quot;</td><td>&quot;jimmy&quot;</td><td>&quot;stmreaojln&quot;</td><td>&quot;iy&quot;</td><td>10</td><td>2</td><td>2</td><td>&quot;BGBBG&quot;</td><td>29</td><td>&quot;dizzy, vichy, giddy, biddy, pi…</td><td>false</td><td>&quot;dizzy&quot;</td><td>8499</td><td>5</td><td>&quot;hard&quot;</td><td>&quot;jimmy&quot;</td><td>1</td><td>&quot;dizzy&quot;</td><td>1</td></tr><tr><td>&quot;fizzy&quot;</td><td>&quot;dizzy&quot;</td><td>&quot;stmreaojdln&quot;</td><td>&quot;iyz&quot;</td><td>11</td><td>3</td><td>3</td><td>&quot;BGGGG&quot;</td><td>2</td><td>&quot;fizzy, bizzy&quot;</td><td>true</td><td>&quot;fizzy&quot;</td><td>8499</td><td>5</td><td>&quot;hard&quot;</td><td>&quot;dizzy&quot;</td><td>1</td><td>&quot;fizzy&quot;</td><td>1</td></tr><tr><td>&quot;fizzy&quot;</td><td>&quot;fizzy&quot;</td><td>&quot;&quot;</td><td>&quot;iyzf&quot;</td><td>0</td><td>4</td><td>4</td><td>&quot;GGGGG&quot;</td><td>0</td><td>&quot;&quot;</td><td>false</td><td>&quot;fizzy&quot;</td><td>8499</td><td>5</td><td>&quot;hard&quot;</td><td>&quot;fizzy&quot;</td><td>1</td><td>&quot;fizzy&quot;</td><td>1</td></tr><tr><td>&quot;fizzy&quot;</td><td>&quot;fizzy&quot;</td><td>&quot;&quot;</td><td>&quot;iyzf&quot;</td><td>0</td><td>4</td><td>4</td><td>&quot;GGGGG&quot;</td><td>0</td><td>&quot;&quot;</td><td>false</td><td>&quot;fizzy&quot;</td><td>8499</td><td>5</td><td>&quot;hard&quot;</td><td>&quot;fizzy&quot;</td><td>1</td><td>&quot;fizzy&quot;</td><td>1</td></tr></tbody></table></div>"
      ],
      "text/plain": [
       "\n",
       "shape: \u001b[1m(\u001b[0m\u001b[1;36m6\u001b[0m, \u001b[1;36m19\u001b[0m\u001b[1m)\u001b[0m\n",
       "┌───────────┬───────┬────────────┬────────────┬───┬────────────┬────────────┬──────────┬───────────┐\n",
       "│ challenge ┆ guess ┆ letter_dif ┆ common_let ┆ … ┆ guess_word ┆ anagram_nu ┆ anagrams ┆ anagram_n │\n",
       "│ ---       ┆ ---   ┆ ferences   ┆ ters       ┆   ┆ _anagrams  ┆ m          ┆ ---      ┆ um_right  │\n",
       "│ str       ┆ str   ┆ ---        ┆ ---        ┆   ┆ ---        ┆ ---        ┆ str      ┆ ---       │\n",
       "│           ┆       ┆ str        ┆ str        ┆   ┆ str        ┆ u8         ┆          ┆ u8        │\n",
       "╞═══════════╪═══════╪════════════╪════════════╪═══╪════════════╪════════════╪══════════╪═══════════╡\n",
       "│ fizzy     ┆ soare ┆ sreao      ┆            ┆ … ┆ soare      ┆ \u001b[1;36m1\u001b[0m          ┆ linty    ┆ \u001b[1;36m1\u001b[0m         │\n",
       "│ fizzy     ┆ linty ┆ streaoln   ┆ iy         ┆ … ┆ linty      ┆ \u001b[1;36m1\u001b[0m          ┆ jimmy    ┆ \u001b[1;36m1\u001b[0m         │\n",
       "│ fizzy     ┆ jimmy ┆ stmreaojln ┆ iy         ┆ … ┆ jimmy      ┆ \u001b[1;36m1\u001b[0m          ┆ dizzy    ┆ \u001b[1;36m1\u001b[0m         │\n",
       "│ fizzy     ┆ dizzy ┆ stmreaojdl ┆ iyz        ┆ … ┆ dizzy      ┆ \u001b[1;36m1\u001b[0m          ┆ fizzy    ┆ \u001b[1;36m1\u001b[0m         │\n",
       "│           ┆       ┆ n          ┆            ┆   ┆            ┆            ┆          ┆           │\n",
       "│ fizzy     ┆ fizzy ┆            ┆ iyzf       ┆ … ┆ fizzy      ┆ \u001b[1;36m1\u001b[0m          ┆ fizzy    ┆ \u001b[1;36m1\u001b[0m         │\n",
       "│ fizzy     ┆ fizzy ┆            ┆ iyzf       ┆ … ┆ fizzy      ┆ \u001b[1;36m1\u001b[0m          ┆ fizzy    ┆ \u001b[1;36m1\u001b[0m         │\n",
       "└───────────┴───────┴────────────┴────────────┴───┴────────────┴────────────┴──────────┴───────────┘"
      ]
     },
     "execution_count": 44,
     "metadata": {},
     "output_type": "execute_result"
    }
   ],
   "source": [
    "(\n",
    "    simulating_tries_difficulty\n",
    "    .filter(pl.col(\"challenge\") == \"fizzy\")\n",
    ")"
   ]
  },
  {
   "cell_type": "code",
   "execution_count": null,
   "id": "8f4aad34",
   "metadata": {},
   "outputs": [],
   "source": []
  }
 ],
 "metadata": {
  "kernelspec": {
   "display_name": "wordle310",
   "language": "python",
   "name": "python3"
  },
  "language_info": {
   "codemirror_mode": {
    "name": "ipython",
    "version": 3
   },
   "file_extension": ".py",
   "mimetype": "text/x-python",
   "name": "python",
   "nbconvert_exporter": "python",
   "pygments_lexer": "ipython3",
   "version": "3.10.14"
  },
  "toc": {
   "base_numbering": 1,
   "nav_menu": {},
   "number_sections": true,
   "sideBar": true,
   "skip_h1_title": false,
   "title_cell": "Table of Contents",
   "title_sidebar": "Contents",
   "toc_cell": false,
   "toc_position": {
    "height": "calc(100% - 180px)",
    "left": "10px",
    "top": "150px",
    "width": "254px"
   },
   "toc_section_display": true,
   "toc_window_display": false
  },
  "varInspector": {
   "cols": {
    "lenName": 16,
    "lenType": 16,
    "lenVar": 40
   },
   "kernels_config": {
    "python": {
     "delete_cmd_postfix": "",
     "delete_cmd_prefix": "del ",
     "library": "var_list.py",
     "varRefreshCmd": "print(var_dic_list())"
    },
    "r": {
     "delete_cmd_postfix": ") ",
     "delete_cmd_prefix": "rm(",
     "library": "var_list.r",
     "varRefreshCmd": "cat(var_dic_list()) "
    }
   },
   "types_to_exclude": [
    "module",
    "function",
    "builtin_function_or_method",
    "instance",
    "_Feature"
   ],
   "window_display": false
  }
 },
 "nbformat": 4,
 "nbformat_minor": 5
}
