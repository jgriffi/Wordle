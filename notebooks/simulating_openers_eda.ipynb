{
 "cells": [
  {
   "cell_type": "markdown",
   "id": "39ce8f9e",
   "metadata": {},
   "source": [
    "https://www.wired.com/story/best-wordle-tips/"
   ]
  },
  {
   "cell_type": "code",
   "execution_count": null,
   "id": "bd840306",
   "metadata": {},
   "outputs": [],
   "source": [
    "%load_ext kedro.ipython"
   ]
  },
  {
   "cell_type": "code",
   "execution_count": null,
   "id": "f93da8de",
   "metadata": {},
   "outputs": [],
   "source": [
    "%reload_kedro"
   ]
  },
  {
   "cell_type": "code",
   "execution_count": 3,
   "id": "d0637bef",
   "metadata": {},
   "outputs": [],
   "source": [
    "import sys\n",
    "sys.path.append(\"../../src/projectwordle\")"
   ]
  },
  {
   "cell_type": "code",
   "execution_count": 4,
   "id": "e06e947c",
   "metadata": {},
   "outputs": [
    {
     "data": {
      "text/html": [
       "<pre style=\"white-space:pre;overflow-x:auto;line-height:normal;font-family:Menlo,'DejaVu Sans Mono',consolas,'Courier New',monospace\"></pre>\n"
      ],
      "text/plain": []
     },
     "metadata": {},
     "output_type": "display_data"
    },
    {
     "data": {
      "text/plain": [
       "\u001b[1m<\u001b[0m\u001b[1;95mpolars.config.Config\u001b[0m\u001b[39m object at \u001b[0m\u001b[1;36m0x15f2d3400\u001b[0m\u001b[1m>\u001b[0m"
      ]
     },
     "execution_count": 4,
     "metadata": {},
     "output_type": "execute_result"
    }
   ],
   "source": [
    "import polars as pl\n",
    "import numpy as np\n",
    "from IPython.display import HTML\n",
    "from projectwordle.utils import (\n",
    "    color_pattern_matching,\n",
    "    difficulty_distribution,\n",
    "    plot_most_difficult_words,\n",
    ")\n",
    "\n",
    "pl.Config(tbl_rows=48)"
   ]
  },
  {
   "cell_type": "markdown",
   "id": "5cf8db3f",
   "metadata": {},
   "source": [
    "# Load Data"
   ]
  },
  {
   "cell_type": "code",
   "execution_count": null,
   "id": "3588dfd3",
   "metadata": {},
   "outputs": [],
   "source": [
    "five_letter_word_anagrams = catalog.load(\"five_letter_words_anagrams\")\n",
    "simulating_openers = catalog.load(\"simulating_openers\")"
   ]
  },
  {
   "cell_type": "code",
   "execution_count": 6,
   "id": "e86b6425",
   "metadata": {},
   "outputs": [],
   "source": [
    "simulating_tries_difficulty = (\n",
    "    simulating_openers\n",
    "    .select(\n",
    "        \"challenge\", \"guess\", \"letter_differences\", \"common_letters\",\n",
    "        \"num_diff_letters\", \"num_common_letters\", \"num_matching_index\",\n",
    "        \"match_pattern\", \"num_choices_after_guess\", \"possible_guesses\",\n",
    "        \"challenge_in_possible_guesses\", \"next_guess\", \"group\", \"tries\",\n",
    "        \"difficulty\", \"guess_word_anagrams\", \"anagram_num\"\n",
    "    )\n",
    "    .join(\n",
    "        five_letter_word_anagrams.select(\"words\", \"anagrams\", \"anagram_num\"),\n",
    "        left_on=\"next_guess\",\n",
    "        right_on=\"words\",\n",
    "        how=\"left\",\n",
    "        coalesce=True\n",
    "    )\n",
    ")"
   ]
  },
  {
   "cell_type": "code",
   "execution_count": 7,
   "id": "a29a539c",
   "metadata": {},
   "outputs": [
    {
     "data": {
      "text/html": [
       "<pre style=\"white-space:pre;overflow-x:auto;line-height:normal;font-family:Menlo,'DejaVu Sans Mono',consolas,'Courier New',monospace\"></pre>\n"
      ],
      "text/plain": []
     },
     "metadata": {},
     "output_type": "display_data"
    },
    {
     "data": {
      "text/html": [
       "<div><style>\n",
       ".dataframe > thead > tr,\n",
       ".dataframe > tbody > tr {\n",
       "  text-align: right;\n",
       "  white-space: pre-wrap;\n",
       "}\n",
       "</style>\n",
       "<small>shape: (6, 18)</small><table border=\"1\" class=\"dataframe\"><thead><tr><th>index</th><th>challenge</th><th>guess</th><th>match_pattern</th><th>letter_differences</th><th>common_letters</th><th>num_diff_letters</th><th>num_common_letters</th><th>num_matching_index</th><th>num_choices_after_guess</th><th>possible_guesses</th><th>challenge_in_possible_guesses</th><th>next_guess</th><th>group</th><th>tries</th><th>difficulty</th><th>guess_word_anagrams</th><th>anagram_num</th></tr><tr><td>u32</td><td>str</td><td>str</td><td>str</td><td>str</td><td>str</td><td>u8</td><td>u8</td><td>u8</td><td>u16</td><td>str</td><td>bool</td><td>str</td><td>u32</td><td>u8</td><td>str</td><td>str</td><td>u8</td></tr></thead><tbody><tr><td>0</td><td>&quot;yummy&quot;</td><td>&quot;saint&quot;</td><td>&quot;BBBBB&quot;</td><td>&quot;nisat&quot;</td><td>&quot;&quot;</td><td>5</td><td>0</td><td>0</td><td>1222</td><td>&quot;fully, chord, power, offer, er…</td><td>false</td><td>&quot;loure&quot;</td><td>0</td><td>5</td><td>&quot;hard&quot;</td><td>&quot;saint, stain, satin, antis, na…</td><td>5</td></tr><tr><td>1</td><td>&quot;yummy&quot;</td><td>&quot;loure&quot;</td><td>&quot;BBYBB&quot;</td><td>&quot;nisaetolr&quot;</td><td>&quot;u&quot;</td><td>9</td><td>1</td><td>0</td><td>56</td><td>&quot;dummy, fuzzy, muddy, puppy, bu…</td><td>false</td><td>&quot;dummy&quot;</td><td>0</td><td>5</td><td>&quot;hard&quot;</td><td>&quot;loure, roule&quot;</td><td>2</td></tr><tr><td>2</td><td>&quot;yummy&quot;</td><td>&quot;dummy&quot;</td><td>&quot;BGGGG&quot;</td><td>&quot;nidsaetolr&quot;</td><td>&quot;umy&quot;</td><td>10</td><td>3</td><td>3</td><td>3</td><td>&quot;mummy, gummy, yummy&quot;</td><td>true</td><td>&quot;mummy&quot;</td><td>0</td><td>5</td><td>&quot;hard&quot;</td><td>&quot;dummy&quot;</td><td>1</td></tr><tr><td>3</td><td>&quot;yummy&quot;</td><td>&quot;mummy&quot;</td><td>&quot;YGGGG&quot;</td><td>&quot;nidsaetolr&quot;</td><td>&quot;umy&quot;</td><td>10</td><td>3</td><td>3</td><td>2</td><td>&quot;yummy, gummy&quot;</td><td>true</td><td>&quot;yummy&quot;</td><td>0</td><td>5</td><td>&quot;hard&quot;</td><td>&quot;mummy&quot;</td><td>1</td></tr><tr><td>4</td><td>&quot;yummy&quot;</td><td>&quot;yummy&quot;</td><td>&quot;GGGGG&quot;</td><td>&quot;&quot;</td><td>&quot;umy&quot;</td><td>0</td><td>3</td><td>3</td><td>1</td><td>&quot;gummy&quot;</td><td>false</td><td>&quot;yummy&quot;</td><td>0</td><td>5</td><td>&quot;hard&quot;</td><td>&quot;yummy&quot;</td><td>1</td></tr><tr><td>5</td><td>&quot;yummy&quot;</td><td>&quot;yummy&quot;</td><td>&quot;GGGGG&quot;</td><td>&quot;&quot;</td><td>&quot;umy&quot;</td><td>0</td><td>3</td><td>3</td><td>1</td><td>&quot;gummy&quot;</td><td>false</td><td>&quot;yummy&quot;</td><td>0</td><td>5</td><td>&quot;hard&quot;</td><td>&quot;yummy&quot;</td><td>1</td></tr></tbody></table></div>"
      ],
      "text/plain": [
       "\n",
       "shape: \u001b[1m(\u001b[0m\u001b[1;36m6\u001b[0m, \u001b[1;36m18\u001b[0m\u001b[1m)\u001b[0m\n",
       "┌───────┬───────────┬───────┬───────────────┬───┬───────┬────────────┬───────────────┬─────────────┐\n",
       "│ index ┆ challenge ┆ guess ┆ match_pattern ┆ … ┆ tries ┆ difficulty ┆ guess_word_an ┆ anagram_num │\n",
       "│ ---   ┆ ---       ┆ ---   ┆ ---           ┆   ┆ ---   ┆ ---        ┆ agrams        ┆ ---         │\n",
       "│ u32   ┆ str       ┆ str   ┆ str           ┆   ┆ u8    ┆ str        ┆ ---           ┆ u8          │\n",
       "│       ┆           ┆       ┆               ┆   ┆       ┆            ┆ str           ┆             │\n",
       "╞═══════╪═══════════╪═══════╪═══════════════╪═══╪═══════╪════════════╪═══════════════╪═════════════╡\n",
       "│ \u001b[1;36m0\u001b[0m     ┆ yummy     ┆ saint ┆ BBBBB         ┆ … ┆ \u001b[1;36m5\u001b[0m     ┆ hard       ┆ saint, stain, ┆ \u001b[1;36m5\u001b[0m           │\n",
       "│       ┆           ┆       ┆               ┆   ┆       ┆            ┆ satin, antis, ┆             │\n",
       "│       ┆           ┆       ┆               ┆   ┆       ┆            ┆ na…           ┆             │\n",
       "│ \u001b[1;36m1\u001b[0m     ┆ yummy     ┆ loure ┆ BBYBB         ┆ … ┆ \u001b[1;36m5\u001b[0m     ┆ hard       ┆ loure, roule  ┆ \u001b[1;36m2\u001b[0m           │\n",
       "│ \u001b[1;36m2\u001b[0m     ┆ yummy     ┆ dummy ┆ BGGGG         ┆ … ┆ \u001b[1;36m5\u001b[0m     ┆ hard       ┆ dummy         ┆ \u001b[1;36m1\u001b[0m           │\n",
       "│ \u001b[1;36m3\u001b[0m     ┆ yummy     ┆ mummy ┆ YGGGG         ┆ … ┆ \u001b[1;36m5\u001b[0m     ┆ hard       ┆ mummy         ┆ \u001b[1;36m1\u001b[0m           │\n",
       "│ \u001b[1;36m4\u001b[0m     ┆ yummy     ┆ yummy ┆ GGGGG         ┆ … ┆ \u001b[1;36m5\u001b[0m     ┆ hard       ┆ yummy         ┆ \u001b[1;36m1\u001b[0m           │\n",
       "│ \u001b[1;36m5\u001b[0m     ┆ yummy     ┆ yummy ┆ GGGGG         ┆ … ┆ \u001b[1;36m5\u001b[0m     ┆ hard       ┆ yummy         ┆ \u001b[1;36m1\u001b[0m           │\n",
       "└───────┴───────────┴───────┴───────────────┴───┴───────┴────────────┴───────────────┴─────────────┘"
      ]
     },
     "execution_count": 7,
     "metadata": {},
     "output_type": "execute_result"
    }
   ],
   "source": [
    "simulating_openers.head(6)"
   ]
  },
  {
   "cell_type": "code",
   "execution_count": 8,
   "id": "76991a10",
   "metadata": {
    "ExecuteTime": {
     "end_time": "2023-12-08T16:01:59.451895Z",
     "start_time": "2023-12-08T16:01:59.423384Z"
    }
   },
   "outputs": [
    {
     "data": {
      "text/html": [
       "<pre style=\"white-space:pre;overflow-x:auto;line-height:normal;font-family:Menlo,'DejaVu Sans Mono',consolas,'Courier New',monospace\"></pre>\n"
      ],
      "text/plain": []
     },
     "metadata": {},
     "output_type": "display_data"
    },
    {
     "data": {
      "text/html": [
       "<div><style>\n",
       ".dataframe > thead > tr,\n",
       ".dataframe > tbody > tr {\n",
       "  text-align: right;\n",
       "  white-space: pre-wrap;\n",
       "}\n",
       "</style>\n",
       "<small>shape: (5, 19)</small><table border=\"1\" class=\"dataframe\"><thead><tr><th>challenge</th><th>guess</th><th>letter_differences</th><th>common_letters</th><th>num_diff_letters</th><th>num_common_letters</th><th>num_matching_index</th><th>match_pattern</th><th>num_choices_after_guess</th><th>possible_guesses</th><th>challenge_in_possible_guesses</th><th>next_guess</th><th>group</th><th>tries</th><th>difficulty</th><th>guess_word_anagrams</th><th>anagram_num</th><th>anagrams</th><th>anagram_num_right</th></tr><tr><td>str</td><td>str</td><td>str</td><td>str</td><td>u8</td><td>u8</td><td>u8</td><td>str</td><td>u16</td><td>str</td><td>bool</td><td>str</td><td>u32</td><td>u8</td><td>str</td><td>str</td><td>u8</td><td>str</td><td>u8</td></tr></thead><tbody><tr><td>&quot;yummy&quot;</td><td>&quot;saint&quot;</td><td>&quot;nisat&quot;</td><td>&quot;&quot;</td><td>5</td><td>0</td><td>0</td><td>&quot;BBBBB&quot;</td><td>1222</td><td>&quot;fully, chord, power, offer, er…</td><td>false</td><td>&quot;loure&quot;</td><td>0</td><td>5</td><td>&quot;hard&quot;</td><td>&quot;saint, stain, satin, antis, na…</td><td>5</td><td>&quot;loure, roule&quot;</td><td>2</td></tr><tr><td>&quot;yummy&quot;</td><td>&quot;loure&quot;</td><td>&quot;nisaetolr&quot;</td><td>&quot;u&quot;</td><td>9</td><td>1</td><td>0</td><td>&quot;BBYBB&quot;</td><td>56</td><td>&quot;dummy, fuzzy, muddy, puppy, bu…</td><td>false</td><td>&quot;dummy&quot;</td><td>0</td><td>5</td><td>&quot;hard&quot;</td><td>&quot;loure, roule&quot;</td><td>2</td><td>&quot;dummy&quot;</td><td>1</td></tr><tr><td>&quot;yummy&quot;</td><td>&quot;dummy&quot;</td><td>&quot;nidsaetolr&quot;</td><td>&quot;umy&quot;</td><td>10</td><td>3</td><td>3</td><td>&quot;BGGGG&quot;</td><td>3</td><td>&quot;mummy, gummy, yummy&quot;</td><td>true</td><td>&quot;mummy&quot;</td><td>0</td><td>5</td><td>&quot;hard&quot;</td><td>&quot;dummy&quot;</td><td>1</td><td>&quot;mummy&quot;</td><td>1</td></tr><tr><td>&quot;yummy&quot;</td><td>&quot;mummy&quot;</td><td>&quot;nidsaetolr&quot;</td><td>&quot;umy&quot;</td><td>10</td><td>3</td><td>3</td><td>&quot;YGGGG&quot;</td><td>2</td><td>&quot;yummy, gummy&quot;</td><td>true</td><td>&quot;yummy&quot;</td><td>0</td><td>5</td><td>&quot;hard&quot;</td><td>&quot;mummy&quot;</td><td>1</td><td>&quot;yummy&quot;</td><td>1</td></tr><tr><td>&quot;yummy&quot;</td><td>&quot;yummy&quot;</td><td>&quot;&quot;</td><td>&quot;umy&quot;</td><td>0</td><td>3</td><td>3</td><td>&quot;GGGGG&quot;</td><td>1</td><td>&quot;gummy&quot;</td><td>false</td><td>&quot;yummy&quot;</td><td>0</td><td>5</td><td>&quot;hard&quot;</td><td>&quot;yummy&quot;</td><td>1</td><td>&quot;yummy&quot;</td><td>1</td></tr></tbody></table></div>"
      ],
      "text/plain": [
       "\n",
       "shape: \u001b[1m(\u001b[0m\u001b[1;36m5\u001b[0m, \u001b[1;36m19\u001b[0m\u001b[1m)\u001b[0m\n",
       "┌───────────┬───────┬────────────┬────────────┬───┬────────────┬───────────┬───────────┬───────────┐\n",
       "│ challenge ┆ guess ┆ letter_dif ┆ common_let ┆ … ┆ guess_word ┆ anagram_n ┆ anagrams  ┆ anagram_n │\n",
       "│ ---       ┆ ---   ┆ ferences   ┆ ters       ┆   ┆ _anagrams  ┆ um        ┆ ---       ┆ um_right  │\n",
       "│ str       ┆ str   ┆ ---        ┆ ---        ┆   ┆ ---        ┆ ---       ┆ str       ┆ ---       │\n",
       "│           ┆       ┆ str        ┆ str        ┆   ┆ str        ┆ u8        ┆           ┆ u8        │\n",
       "╞═══════════╪═══════╪════════════╪════════════╪═══╪════════════╪═══════════╪═══════════╪═══════════╡\n",
       "│ yummy     ┆ saint ┆ nisat      ┆            ┆ … ┆ saint,     ┆ \u001b[1;36m5\u001b[0m         ┆ loure,    ┆ \u001b[1;36m2\u001b[0m         │\n",
       "│           ┆       ┆            ┆            ┆   ┆ stain,     ┆           ┆ roule     ┆           │\n",
       "│           ┆       ┆            ┆            ┆   ┆ satin,     ┆           ┆           ┆           │\n",
       "│           ┆       ┆            ┆            ┆   ┆ antis, na… ┆           ┆           ┆           │\n",
       "│ yummy     ┆ loure ┆ nisaetolr  ┆ u          ┆ … ┆ loure,     ┆ \u001b[1;36m2\u001b[0m         ┆ dummy     ┆ \u001b[1;36m1\u001b[0m         │\n",
       "│           ┆       ┆            ┆            ┆   ┆ roule      ┆           ┆           ┆           │\n",
       "│ yummy     ┆ dummy ┆ nidsaetolr ┆ umy        ┆ … ┆ dummy      ┆ \u001b[1;36m1\u001b[0m         ┆ mummy     ┆ \u001b[1;36m1\u001b[0m         │\n",
       "│ yummy     ┆ mummy ┆ nidsaetolr ┆ umy        ┆ … ┆ mummy      ┆ \u001b[1;36m1\u001b[0m         ┆ yummy     ┆ \u001b[1;36m1\u001b[0m         │\n",
       "│ yummy     ┆ yummy ┆            ┆ umy        ┆ … ┆ yummy      ┆ \u001b[1;36m1\u001b[0m         ┆ yummy     ┆ \u001b[1;36m1\u001b[0m         │\n",
       "└───────────┴───────┴────────────┴────────────┴───┴────────────┴───────────┴───────────┴───────────┘"
      ]
     },
     "execution_count": 8,
     "metadata": {},
     "output_type": "execute_result"
    }
   ],
   "source": [
    "simulating_tries_difficulty.head()"
   ]
  },
  {
   "cell_type": "code",
   "execution_count": 9,
   "id": "be8f0326",
   "metadata": {},
   "outputs": [
    {
     "data": {
      "text/html": [
       "<pre style=\"white-space:pre;overflow-x:auto;line-height:normal;font-family:Menlo,'DejaVu Sans Mono',consolas,'Courier New',monospace\"></pre>\n"
      ],
      "text/plain": []
     },
     "metadata": {},
     "output_type": "display_data"
    },
    {
     "data": {
      "text/html": [
       "<div><style>\n",
       ".dataframe > thead > tr,\n",
       ".dataframe > tbody > tr {\n",
       "  text-align: right;\n",
       "  white-space: pre-wrap;\n",
       "}\n",
       "</style>\n",
       "<small>shape: (4, 2)</small><table border=\"1\" class=\"dataframe\"><thead><tr><th>difficulty</th><th>count</th></tr><tr><td>str</td><td>u32</td></tr></thead><tbody><tr><td>&quot;moderate&quot;</td><td>5462</td></tr><tr><td>&quot;hard&quot;</td><td>3041</td></tr><tr><td>&quot;very hard&quot;</td><td>583</td></tr><tr><td>&quot;easy&quot;</td><td>2</td></tr></tbody></table></div>"
      ],
      "text/plain": [
       "\n",
       "shape: \u001b[1m(\u001b[0m\u001b[1;36m4\u001b[0m, \u001b[1;36m2\u001b[0m\u001b[1m)\u001b[0m\n",
       "┌────────────┬───────┐\n",
       "│ difficulty ┆ count │\n",
       "│ ---        ┆ ---   │\n",
       "│ str        ┆ u32   │\n",
       "╞════════════╪═══════╡\n",
       "│ moderate   ┆ \u001b[1;36m5462\u001b[0m  │\n",
       "│ hard       ┆ \u001b[1;36m3041\u001b[0m  │\n",
       "│ very hard  ┆ \u001b[1;36m583\u001b[0m   │\n",
       "│ easy       ┆ \u001b[1;36m2\u001b[0m     │\n",
       "└────────────┴───────┘"
      ]
     },
     "execution_count": 9,
     "metadata": {},
     "output_type": "execute_result"
    }
   ],
   "source": [
    "(\n",
    "    simulating_tries_difficulty\n",
    "    .unique(subset=[\"group\"], keep=\"first\")\n",
    "    [\"difficulty\"]\n",
    "    .value_counts()\n",
    "    .sort(\"count\", descending=True)\n",
    ")"
   ]
  },
  {
   "cell_type": "markdown",
   "id": "c07f2cb9",
   "metadata": {},
   "source": [
    "# Create dataframe of first guesses"
   ]
  },
  {
   "cell_type": "code",
   "execution_count": 10,
   "id": "4f3eda4e",
   "metadata": {
    "ExecuteTime": {
     "end_time": "2023-12-08T16:02:04.898939Z",
     "start_time": "2023-12-08T16:02:01.301668Z"
    }
   },
   "outputs": [
    {
     "data": {
      "text/html": [
       "<pre style=\"white-space:pre;overflow-x:auto;line-height:normal;font-family:Menlo,'DejaVu Sans Mono',consolas,'Courier New',monospace\"></pre>\n"
      ],
      "text/plain": []
     },
     "metadata": {},
     "output_type": "display_data"
    },
    {
     "data": {
      "text/html": [
       "<div><style>\n",
       ".dataframe > thead > tr,\n",
       ".dataframe > tbody > tr {\n",
       "  text-align: right;\n",
       "  white-space: pre-wrap;\n",
       "}\n",
       "</style>\n",
       "<small>shape: (5, 19)</small><table border=\"1\" class=\"dataframe\"><thead><tr><th>group</th><th>challenge</th><th>guess</th><th>letter_differences</th><th>common_letters</th><th>num_diff_letters</th><th>num_common_letters</th><th>num_matching_index</th><th>match_pattern</th><th>num_choices_after_guess</th><th>possible_guesses</th><th>challenge_in_possible_guesses</th><th>next_guess</th><th>tries</th><th>difficulty</th><th>guess_word_anagrams</th><th>anagram_num</th><th>anagrams</th><th>anagram_num_right</th></tr><tr><td>u32</td><td>str</td><td>str</td><td>str</td><td>str</td><td>u8</td><td>u8</td><td>u8</td><td>str</td><td>u16</td><td>str</td><td>bool</td><td>str</td><td>u8</td><td>str</td><td>str</td><td>u8</td><td>str</td><td>u8</td></tr></thead><tbody><tr><td>0</td><td>&quot;yummy&quot;</td><td>&quot;saint&quot;</td><td>&quot;nisat&quot;</td><td>&quot;&quot;</td><td>5</td><td>0</td><td>0</td><td>&quot;BBBBB&quot;</td><td>1222</td><td>&quot;fully, chord, power, offer, er…</td><td>false</td><td>&quot;loure&quot;</td><td>5</td><td>&quot;hard&quot;</td><td>&quot;saint, stain, satin, antis, na…</td><td>5</td><td>&quot;loure, roule&quot;</td><td>2</td></tr><tr><td>1</td><td>&quot;calyx&quot;</td><td>&quot;saint&quot;</td><td>&quot;ntis&quot;</td><td>&quot;a&quot;</td><td>4</td><td>1</td><td>1</td><td>&quot;BGBBB&quot;</td><td>495</td><td>&quot;cargo, labor, favor, large, ha…</td><td>false</td><td>&quot;loure&quot;</td><td>4</td><td>&quot;moderate&quot;</td><td>&quot;saint, stain, satin, antis, na…</td><td>5</td><td>&quot;loure, roule&quot;</td><td>2</td></tr><tr><td>2</td><td>&quot;varas&quot;</td><td>&quot;saint&quot;</td><td>&quot;nit&quot;</td><td>&quot;sa&quot;</td><td>3</td><td>2</td><td>1</td><td>&quot;YGBBB&quot;</td><td>184</td><td>&quot;harsh, cause, wales, false, ja…</td><td>false</td><td>&quot;loure&quot;</td><td>5</td><td>&quot;hard&quot;</td><td>&quot;saint, stain, satin, antis, na…</td><td>5</td><td>&quot;loure, roule&quot;</td><td>2</td></tr><tr><td>3</td><td>&quot;bubba&quot;</td><td>&quot;saint&quot;</td><td>&quot;ntis&quot;</td><td>&quot;a&quot;</td><td>4</td><td>1</td><td>0</td><td>&quot;BYBBB&quot;</td><td>751</td><td>&quot;board, weary, cheap, grave, fe…</td><td>false</td><td>&quot;loure&quot;</td><td>4</td><td>&quot;moderate&quot;</td><td>&quot;saint, stain, satin, antis, na…</td><td>5</td><td>&quot;loure, roule&quot;</td><td>2</td></tr><tr><td>4</td><td>&quot;lowes&quot;</td><td>&quot;saint&quot;</td><td>&quot;nait&quot;</td><td>&quot;s&quot;</td><td>4</td><td>1</td><td>0</td><td>&quot;YBBBB&quot;</td><td>440</td><td>&quot;press, house, close, fresh, mo…</td><td>false</td><td>&quot;loure&quot;</td><td>4</td><td>&quot;moderate&quot;</td><td>&quot;saint, stain, satin, antis, na…</td><td>5</td><td>&quot;loure, roule&quot;</td><td>2</td></tr></tbody></table></div>"
      ],
      "text/plain": [
       "\n",
       "shape: \u001b[1m(\u001b[0m\u001b[1;36m5\u001b[0m, \u001b[1;36m19\u001b[0m\u001b[1m)\u001b[0m\n",
       "┌───────┬───────────┬───────┬─────────────┬───┬─────────────┬────────────┬────────────┬────────────┐\n",
       "│ group ┆ challenge ┆ guess ┆ letter_diff ┆ … ┆ guess_word_ ┆ anagram_nu ┆ anagrams   ┆ anagram_nu │\n",
       "│ ---   ┆ ---       ┆ ---   ┆ erences     ┆   ┆ anagrams    ┆ m          ┆ ---        ┆ m_right    │\n",
       "│ u32   ┆ str       ┆ str   ┆ ---         ┆   ┆ ---         ┆ ---        ┆ str        ┆ ---        │\n",
       "│       ┆           ┆       ┆ str         ┆   ┆ str         ┆ u8         ┆            ┆ u8         │\n",
       "╞═══════╪═══════════╪═══════╪═════════════╪═══╪═════════════╪════════════╪════════════╪════════════╡\n",
       "│ \u001b[1;36m0\u001b[0m     ┆ yummy     ┆ saint ┆ nisat       ┆ … ┆ saint,      ┆ \u001b[1;36m5\u001b[0m          ┆ loure,     ┆ \u001b[1;36m2\u001b[0m          │\n",
       "│       ┆           ┆       ┆             ┆   ┆ stain,      ┆            ┆ roule      ┆            │\n",
       "│       ┆           ┆       ┆             ┆   ┆ satin,      ┆            ┆            ┆            │\n",
       "│       ┆           ┆       ┆             ┆   ┆ antis, na…  ┆            ┆            ┆            │\n",
       "│ \u001b[1;36m1\u001b[0m     ┆ calyx     ┆ saint ┆ ntis        ┆ … ┆ saint,      ┆ \u001b[1;36m5\u001b[0m          ┆ loure,     ┆ \u001b[1;36m2\u001b[0m          │\n",
       "│       ┆           ┆       ┆             ┆   ┆ stain,      ┆            ┆ roule      ┆            │\n",
       "│       ┆           ┆       ┆             ┆   ┆ satin,      ┆            ┆            ┆            │\n",
       "│       ┆           ┆       ┆             ┆   ┆ antis, na…  ┆            ┆            ┆            │\n",
       "│ \u001b[1;36m2\u001b[0m     ┆ varas     ┆ saint ┆ nit         ┆ … ┆ saint,      ┆ \u001b[1;36m5\u001b[0m          ┆ loure,     ┆ \u001b[1;36m2\u001b[0m          │\n",
       "│       ┆           ┆       ┆             ┆   ┆ stain,      ┆            ┆ roule      ┆            │\n",
       "│       ┆           ┆       ┆             ┆   ┆ satin,      ┆            ┆            ┆            │\n",
       "│       ┆           ┆       ┆             ┆   ┆ antis, na…  ┆            ┆            ┆            │\n",
       "│ \u001b[1;36m3\u001b[0m     ┆ bubba     ┆ saint ┆ ntis        ┆ … ┆ saint,      ┆ \u001b[1;36m5\u001b[0m          ┆ loure,     ┆ \u001b[1;36m2\u001b[0m          │\n",
       "│       ┆           ┆       ┆             ┆   ┆ stain,      ┆            ┆ roule      ┆            │\n",
       "│       ┆           ┆       ┆             ┆   ┆ satin,      ┆            ┆            ┆            │\n",
       "│       ┆           ┆       ┆             ┆   ┆ antis, na…  ┆            ┆            ┆            │\n",
       "│ \u001b[1;36m4\u001b[0m     ┆ lowes     ┆ saint ┆ nait        ┆ … ┆ saint,      ┆ \u001b[1;36m5\u001b[0m          ┆ loure,     ┆ \u001b[1;36m2\u001b[0m          │\n",
       "│       ┆           ┆       ┆             ┆   ┆ stain,      ┆            ┆ roule      ┆            │\n",
       "│       ┆           ┆       ┆             ┆   ┆ satin,      ┆            ┆            ┆            │\n",
       "│       ┆           ┆       ┆             ┆   ┆ antis, na…  ┆            ┆            ┆            │\n",
       "└───────┴───────────┴───────┴─────────────┴───┴─────────────┴────────────┴────────────┴────────────┘"
      ]
     },
     "execution_count": 10,
     "metadata": {},
     "output_type": "execute_result"
    }
   ],
   "source": [
    "# Group by \"Category\" and return the first row of each group\n",
    "first_guess = (\n",
    "    simulating_tries_difficulty\n",
    "    .group_by(\"group\", maintain_order=True)\n",
    "    .first()\n",
    ")\n",
    "\n",
    "first_guess.head()"
   ]
  },
  {
   "cell_type": "code",
   "execution_count": 11,
   "id": "8f95b325",
   "metadata": {},
   "outputs": [
    {
     "data": {
      "text/html": [
       "<pre style=\"white-space:pre;overflow-x:auto;line-height:normal;font-family:Menlo,'DejaVu Sans Mono',consolas,'Courier New',monospace\"></pre>\n"
      ],
      "text/plain": []
     },
     "metadata": {},
     "output_type": "display_data"
    },
    {
     "data": {
      "text/plain": [
       "\u001b[1;36m4.22\u001b[0m"
      ]
     },
     "execution_count": 11,
     "metadata": {},
     "output_type": "execute_result"
    }
   ],
   "source": [
    "avg_tries = round(first_guess[\"tries\"].mean(), 2)\n",
    "avg_tries"
   ]
  },
  {
   "cell_type": "markdown",
   "id": "0ed45740",
   "metadata": {},
   "source": [
    "# EDA"
   ]
  },
  {
   "cell_type": "code",
   "execution_count": 12,
   "id": "3803085b",
   "metadata": {
    "ExecuteTime": {
     "end_time": "2023-12-08T16:02:06.338200Z",
     "start_time": "2023-12-08T16:02:04.929145Z"
    }
   },
   "outputs": [
    {
     "data": {
      "application/vnd.plotly.v1+json": {
       "config": {
        "plotlyServerURL": "https://plot.ly"
       },
       "data": [
        {
         "alignmentgroup": "True",
         "hovertemplate": "difficulty=%{x}<br>count=%{y}<extra></extra>",
         "legendgroup": "moderate",
         "marker": {
          "color": "#ff7f0e",
          "pattern": {
           "shape": ""
          }
         },
         "name": "moderate",
         "offsetgroup": "moderate",
         "orientation": "v",
         "showlegend": true,
         "textposition": "auto",
         "type": "bar",
         "x": [
          "moderate"
         ],
         "xaxis": "x",
         "y": [
          5462
         ],
         "yaxis": "y"
        },
        {
         "alignmentgroup": "True",
         "hovertemplate": "difficulty=%{x}<br>count=%{y}<extra></extra>",
         "legendgroup": "hard",
         "marker": {
          "color": "#2ca02c",
          "pattern": {
           "shape": ""
          }
         },
         "name": "hard",
         "offsetgroup": "hard",
         "orientation": "v",
         "showlegend": true,
         "textposition": "auto",
         "type": "bar",
         "x": [
          "hard"
         ],
         "xaxis": "x",
         "y": [
          3041
         ],
         "yaxis": "y"
        },
        {
         "alignmentgroup": "True",
         "hovertemplate": "difficulty=%{x}<br>count=%{y}<extra></extra>",
         "legendgroup": "very hard",
         "marker": {
          "color": "#d62728",
          "pattern": {
           "shape": ""
          }
         },
         "name": "very hard",
         "offsetgroup": "very hard",
         "orientation": "v",
         "showlegend": true,
         "textposition": "auto",
         "type": "bar",
         "x": [
          "very hard"
         ],
         "xaxis": "x",
         "y": [
          583
         ],
         "yaxis": "y"
        },
        {
         "alignmentgroup": "True",
         "hovertemplate": "difficulty=%{x}<br>count=%{y}<extra></extra>",
         "legendgroup": "easy",
         "marker": {
          "color": "#1f77b4",
          "pattern": {
           "shape": ""
          }
         },
         "name": "easy",
         "offsetgroup": "easy",
         "orientation": "v",
         "showlegend": true,
         "textposition": "auto",
         "type": "bar",
         "x": [
          "easy"
         ],
         "xaxis": "x",
         "y": [
          2
         ],
         "yaxis": "y"
        }
       ],
       "layout": {
        "barmode": "relative",
        "height": 600,
        "legend": {
         "title": {
          "text": "difficulty"
         },
         "tracegroupgap": 0
        },
        "template": {
         "data": {
          "bar": [
           {
            "error_x": {
             "color": "#2a3f5f"
            },
            "error_y": {
             "color": "#2a3f5f"
            },
            "marker": {
             "line": {
              "color": "#E5ECF6",
              "width": 0.5
             },
             "pattern": {
              "fillmode": "overlay",
              "size": 10,
              "solidity": 0.2
             }
            },
            "type": "bar"
           }
          ],
          "barpolar": [
           {
            "marker": {
             "line": {
              "color": "#E5ECF6",
              "width": 0.5
             },
             "pattern": {
              "fillmode": "overlay",
              "size": 10,
              "solidity": 0.2
             }
            },
            "type": "barpolar"
           }
          ],
          "carpet": [
           {
            "aaxis": {
             "endlinecolor": "#2a3f5f",
             "gridcolor": "white",
             "linecolor": "white",
             "minorgridcolor": "white",
             "startlinecolor": "#2a3f5f"
            },
            "baxis": {
             "endlinecolor": "#2a3f5f",
             "gridcolor": "white",
             "linecolor": "white",
             "minorgridcolor": "white",
             "startlinecolor": "#2a3f5f"
            },
            "type": "carpet"
           }
          ],
          "choropleth": [
           {
            "colorbar": {
             "outlinewidth": 0,
             "ticks": ""
            },
            "type": "choropleth"
           }
          ],
          "contour": [
           {
            "colorbar": {
             "outlinewidth": 0,
             "ticks": ""
            },
            "colorscale": [
             [
              0,
              "#0d0887"
             ],
             [
              0.1111111111111111,
              "#46039f"
             ],
             [
              0.2222222222222222,
              "#7201a8"
             ],
             [
              0.3333333333333333,
              "#9c179e"
             ],
             [
              0.4444444444444444,
              "#bd3786"
             ],
             [
              0.5555555555555556,
              "#d8576b"
             ],
             [
              0.6666666666666666,
              "#ed7953"
             ],
             [
              0.7777777777777778,
              "#fb9f3a"
             ],
             [
              0.8888888888888888,
              "#fdca26"
             ],
             [
              1,
              "#f0f921"
             ]
            ],
            "type": "contour"
           }
          ],
          "contourcarpet": [
           {
            "colorbar": {
             "outlinewidth": 0,
             "ticks": ""
            },
            "type": "contourcarpet"
           }
          ],
          "heatmap": [
           {
            "colorbar": {
             "outlinewidth": 0,
             "ticks": ""
            },
            "colorscale": [
             [
              0,
              "#0d0887"
             ],
             [
              0.1111111111111111,
              "#46039f"
             ],
             [
              0.2222222222222222,
              "#7201a8"
             ],
             [
              0.3333333333333333,
              "#9c179e"
             ],
             [
              0.4444444444444444,
              "#bd3786"
             ],
             [
              0.5555555555555556,
              "#d8576b"
             ],
             [
              0.6666666666666666,
              "#ed7953"
             ],
             [
              0.7777777777777778,
              "#fb9f3a"
             ],
             [
              0.8888888888888888,
              "#fdca26"
             ],
             [
              1,
              "#f0f921"
             ]
            ],
            "type": "heatmap"
           }
          ],
          "heatmapgl": [
           {
            "colorbar": {
             "outlinewidth": 0,
             "ticks": ""
            },
            "colorscale": [
             [
              0,
              "#0d0887"
             ],
             [
              0.1111111111111111,
              "#46039f"
             ],
             [
              0.2222222222222222,
              "#7201a8"
             ],
             [
              0.3333333333333333,
              "#9c179e"
             ],
             [
              0.4444444444444444,
              "#bd3786"
             ],
             [
              0.5555555555555556,
              "#d8576b"
             ],
             [
              0.6666666666666666,
              "#ed7953"
             ],
             [
              0.7777777777777778,
              "#fb9f3a"
             ],
             [
              0.8888888888888888,
              "#fdca26"
             ],
             [
              1,
              "#f0f921"
             ]
            ],
            "type": "heatmapgl"
           }
          ],
          "histogram": [
           {
            "marker": {
             "pattern": {
              "fillmode": "overlay",
              "size": 10,
              "solidity": 0.2
             }
            },
            "type": "histogram"
           }
          ],
          "histogram2d": [
           {
            "colorbar": {
             "outlinewidth": 0,
             "ticks": ""
            },
            "colorscale": [
             [
              0,
              "#0d0887"
             ],
             [
              0.1111111111111111,
              "#46039f"
             ],
             [
              0.2222222222222222,
              "#7201a8"
             ],
             [
              0.3333333333333333,
              "#9c179e"
             ],
             [
              0.4444444444444444,
              "#bd3786"
             ],
             [
              0.5555555555555556,
              "#d8576b"
             ],
             [
              0.6666666666666666,
              "#ed7953"
             ],
             [
              0.7777777777777778,
              "#fb9f3a"
             ],
             [
              0.8888888888888888,
              "#fdca26"
             ],
             [
              1,
              "#f0f921"
             ]
            ],
            "type": "histogram2d"
           }
          ],
          "histogram2dcontour": [
           {
            "colorbar": {
             "outlinewidth": 0,
             "ticks": ""
            },
            "colorscale": [
             [
              0,
              "#0d0887"
             ],
             [
              0.1111111111111111,
              "#46039f"
             ],
             [
              0.2222222222222222,
              "#7201a8"
             ],
             [
              0.3333333333333333,
              "#9c179e"
             ],
             [
              0.4444444444444444,
              "#bd3786"
             ],
             [
              0.5555555555555556,
              "#d8576b"
             ],
             [
              0.6666666666666666,
              "#ed7953"
             ],
             [
              0.7777777777777778,
              "#fb9f3a"
             ],
             [
              0.8888888888888888,
              "#fdca26"
             ],
             [
              1,
              "#f0f921"
             ]
            ],
            "type": "histogram2dcontour"
           }
          ],
          "mesh3d": [
           {
            "colorbar": {
             "outlinewidth": 0,
             "ticks": ""
            },
            "type": "mesh3d"
           }
          ],
          "parcoords": [
           {
            "line": {
             "colorbar": {
              "outlinewidth": 0,
              "ticks": ""
             }
            },
            "type": "parcoords"
           }
          ],
          "pie": [
           {
            "automargin": true,
            "type": "pie"
           }
          ],
          "scatter": [
           {
            "fillpattern": {
             "fillmode": "overlay",
             "size": 10,
             "solidity": 0.2
            },
            "type": "scatter"
           }
          ],
          "scatter3d": [
           {
            "line": {
             "colorbar": {
              "outlinewidth": 0,
              "ticks": ""
             }
            },
            "marker": {
             "colorbar": {
              "outlinewidth": 0,
              "ticks": ""
             }
            },
            "type": "scatter3d"
           }
          ],
          "scattercarpet": [
           {
            "marker": {
             "colorbar": {
              "outlinewidth": 0,
              "ticks": ""
             }
            },
            "type": "scattercarpet"
           }
          ],
          "scattergeo": [
           {
            "marker": {
             "colorbar": {
              "outlinewidth": 0,
              "ticks": ""
             }
            },
            "type": "scattergeo"
           }
          ],
          "scattergl": [
           {
            "marker": {
             "colorbar": {
              "outlinewidth": 0,
              "ticks": ""
             }
            },
            "type": "scattergl"
           }
          ],
          "scattermapbox": [
           {
            "marker": {
             "colorbar": {
              "outlinewidth": 0,
              "ticks": ""
             }
            },
            "type": "scattermapbox"
           }
          ],
          "scatterpolar": [
           {
            "marker": {
             "colorbar": {
              "outlinewidth": 0,
              "ticks": ""
             }
            },
            "type": "scatterpolar"
           }
          ],
          "scatterpolargl": [
           {
            "marker": {
             "colorbar": {
              "outlinewidth": 0,
              "ticks": ""
             }
            },
            "type": "scatterpolargl"
           }
          ],
          "scatterternary": [
           {
            "marker": {
             "colorbar": {
              "outlinewidth": 0,
              "ticks": ""
             }
            },
            "type": "scatterternary"
           }
          ],
          "surface": [
           {
            "colorbar": {
             "outlinewidth": 0,
             "ticks": ""
            },
            "colorscale": [
             [
              0,
              "#0d0887"
             ],
             [
              0.1111111111111111,
              "#46039f"
             ],
             [
              0.2222222222222222,
              "#7201a8"
             ],
             [
              0.3333333333333333,
              "#9c179e"
             ],
             [
              0.4444444444444444,
              "#bd3786"
             ],
             [
              0.5555555555555556,
              "#d8576b"
             ],
             [
              0.6666666666666666,
              "#ed7953"
             ],
             [
              0.7777777777777778,
              "#fb9f3a"
             ],
             [
              0.8888888888888888,
              "#fdca26"
             ],
             [
              1,
              "#f0f921"
             ]
            ],
            "type": "surface"
           }
          ],
          "table": [
           {
            "cells": {
             "fill": {
              "color": "#EBF0F8"
             },
             "line": {
              "color": "white"
             }
            },
            "header": {
             "fill": {
              "color": "#C8D4E3"
             },
             "line": {
              "color": "white"
             }
            },
            "type": "table"
           }
          ]
         },
         "layout": {
          "annotationdefaults": {
           "arrowcolor": "#2a3f5f",
           "arrowhead": 0,
           "arrowwidth": 1
          },
          "autotypenumbers": "strict",
          "coloraxis": {
           "colorbar": {
            "outlinewidth": 0,
            "ticks": ""
           }
          },
          "colorscale": {
           "diverging": [
            [
             0,
             "#8e0152"
            ],
            [
             0.1,
             "#c51b7d"
            ],
            [
             0.2,
             "#de77ae"
            ],
            [
             0.3,
             "#f1b6da"
            ],
            [
             0.4,
             "#fde0ef"
            ],
            [
             0.5,
             "#f7f7f7"
            ],
            [
             0.6,
             "#e6f5d0"
            ],
            [
             0.7,
             "#b8e186"
            ],
            [
             0.8,
             "#7fbc41"
            ],
            [
             0.9,
             "#4d9221"
            ],
            [
             1,
             "#276419"
            ]
           ],
           "sequential": [
            [
             0,
             "#0d0887"
            ],
            [
             0.1111111111111111,
             "#46039f"
            ],
            [
             0.2222222222222222,
             "#7201a8"
            ],
            [
             0.3333333333333333,
             "#9c179e"
            ],
            [
             0.4444444444444444,
             "#bd3786"
            ],
            [
             0.5555555555555556,
             "#d8576b"
            ],
            [
             0.6666666666666666,
             "#ed7953"
            ],
            [
             0.7777777777777778,
             "#fb9f3a"
            ],
            [
             0.8888888888888888,
             "#fdca26"
            ],
            [
             1,
             "#f0f921"
            ]
           ],
           "sequentialminus": [
            [
             0,
             "#0d0887"
            ],
            [
             0.1111111111111111,
             "#46039f"
            ],
            [
             0.2222222222222222,
             "#7201a8"
            ],
            [
             0.3333333333333333,
             "#9c179e"
            ],
            [
             0.4444444444444444,
             "#bd3786"
            ],
            [
             0.5555555555555556,
             "#d8576b"
            ],
            [
             0.6666666666666666,
             "#ed7953"
            ],
            [
             0.7777777777777778,
             "#fb9f3a"
            ],
            [
             0.8888888888888888,
             "#fdca26"
            ],
            [
             1,
             "#f0f921"
            ]
           ]
          },
          "colorway": [
           "#636efa",
           "#EF553B",
           "#00cc96",
           "#ab63fa",
           "#FFA15A",
           "#19d3f3",
           "#FF6692",
           "#B6E880",
           "#FF97FF",
           "#FECB52"
          ],
          "font": {
           "color": "#2a3f5f"
          },
          "geo": {
           "bgcolor": "white",
           "lakecolor": "white",
           "landcolor": "#E5ECF6",
           "showlakes": true,
           "showland": true,
           "subunitcolor": "white"
          },
          "hoverlabel": {
           "align": "left"
          },
          "hovermode": "closest",
          "mapbox": {
           "style": "light"
          },
          "paper_bgcolor": "white",
          "plot_bgcolor": "#E5ECF6",
          "polar": {
           "angularaxis": {
            "gridcolor": "white",
            "linecolor": "white",
            "ticks": ""
           },
           "bgcolor": "#E5ECF6",
           "radialaxis": {
            "gridcolor": "white",
            "linecolor": "white",
            "ticks": ""
           }
          },
          "scene": {
           "xaxis": {
            "backgroundcolor": "#E5ECF6",
            "gridcolor": "white",
            "gridwidth": 2,
            "linecolor": "white",
            "showbackground": true,
            "ticks": "",
            "zerolinecolor": "white"
           },
           "yaxis": {
            "backgroundcolor": "#E5ECF6",
            "gridcolor": "white",
            "gridwidth": 2,
            "linecolor": "white",
            "showbackground": true,
            "ticks": "",
            "zerolinecolor": "white"
           },
           "zaxis": {
            "backgroundcolor": "#E5ECF6",
            "gridcolor": "white",
            "gridwidth": 2,
            "linecolor": "white",
            "showbackground": true,
            "ticks": "",
            "zerolinecolor": "white"
           }
          },
          "shapedefaults": {
           "line": {
            "color": "#2a3f5f"
           }
          },
          "ternary": {
           "aaxis": {
            "gridcolor": "white",
            "linecolor": "white",
            "ticks": ""
           },
           "baxis": {
            "gridcolor": "white",
            "linecolor": "white",
            "ticks": ""
           },
           "bgcolor": "#E5ECF6",
           "caxis": {
            "gridcolor": "white",
            "linecolor": "white",
            "ticks": ""
           }
          },
          "title": {
           "x": 0.05
          },
          "xaxis": {
           "automargin": true,
           "gridcolor": "white",
           "linecolor": "white",
           "ticks": "",
           "title": {
            "standoff": 15
           },
           "zerolinecolor": "white",
           "zerolinewidth": 2
          },
          "yaxis": {
           "automargin": true,
           "gridcolor": "white",
           "linecolor": "white",
           "ticks": "",
           "title": {
            "standoff": 15
           },
           "zerolinecolor": "white",
           "zerolinewidth": 2
          }
         }
        },
        "title": {
         "text": "Difficulty Distribution",
         "x": 0.5
        },
        "width": 800,
        "xaxis": {
         "anchor": "y",
         "categoryarray": [
          "easy",
          "moderate",
          "hard",
          "very hard"
         ],
         "categoryorder": "array",
         "domain": [
          0,
          1
         ],
         "title": {
          "text": "Difficulty"
         }
        },
        "yaxis": {
         "anchor": "x",
         "domain": [
          0,
          1
         ],
         "title": {
          "text": "Count"
         }
        }
       }
      }
     },
     "metadata": {},
     "output_type": "display_data"
    }
   ],
   "source": [
    "# Plot difficulty distribution\n",
    "difficulty_distribution(\n",
    "    simulating_tries_difficulty\n",
    ")"
   ]
  },
  {
   "cell_type": "markdown",
   "id": "468c6c0d",
   "metadata": {},
   "source": [
    "## Most frequent number of guesses"
   ]
  },
  {
   "cell_type": "code",
   "execution_count": 13,
   "id": "b44e193d",
   "metadata": {
    "ExecuteTime": {
     "end_time": "2023-12-08T16:02:06.386255Z",
     "start_time": "2023-12-08T16:02:06.370476Z"
    }
   },
   "outputs": [
    {
     "data": {
      "text/html": [
       "<pre style=\"white-space:pre;overflow-x:auto;line-height:normal;font-family:Menlo,'DejaVu Sans Mono',consolas,'Courier New',monospace\"></pre>\n"
      ],
      "text/plain": []
     },
     "metadata": {},
     "output_type": "display_data"
    },
    {
     "data": {
      "text/html": [
       "<div><style>\n",
       ".dataframe > thead > tr,\n",
       ".dataframe > tbody > tr {\n",
       "  text-align: right;\n",
       "  white-space: pre-wrap;\n",
       "}\n",
       "</style>\n",
       "<small>shape: (7, 2)</small><table border=\"1\" class=\"dataframe\"><thead><tr><th>tries</th><th>count</th></tr><tr><td>u8</td><td>u32</td></tr></thead><tbody><tr><td>4</td><td>3384</td></tr><tr><td>5</td><td>2130</td></tr><tr><td>3</td><td>2078</td></tr><tr><td>6</td><td>911</td></tr><tr><td>null</td><td>583</td></tr><tr><td>2</td><td>1</td></tr><tr><td>1</td><td>1</td></tr></tbody></table></div>"
      ],
      "text/plain": [
       "\n",
       "shape: \u001b[1m(\u001b[0m\u001b[1;36m7\u001b[0m, \u001b[1;36m2\u001b[0m\u001b[1m)\u001b[0m\n",
       "┌───────┬───────┐\n",
       "│ tries ┆ count │\n",
       "│ ---   ┆ ---   │\n",
       "│ u8    ┆ u32   │\n",
       "╞═══════╪═══════╡\n",
       "│ \u001b[1;36m4\u001b[0m     ┆ \u001b[1;36m3384\u001b[0m  │\n",
       "│ \u001b[1;36m5\u001b[0m     ┆ \u001b[1;36m2130\u001b[0m  │\n",
       "│ \u001b[1;36m3\u001b[0m     ┆ \u001b[1;36m2078\u001b[0m  │\n",
       "│ \u001b[1;36m6\u001b[0m     ┆ \u001b[1;36m911\u001b[0m   │\n",
       "│ null  ┆ \u001b[1;36m583\u001b[0m   │\n",
       "│ \u001b[1;36m2\u001b[0m     ┆ \u001b[1;36m1\u001b[0m     │\n",
       "│ \u001b[1;36m1\u001b[0m     ┆ \u001b[1;36m1\u001b[0m     │\n",
       "└───────┴───────┘"
      ]
     },
     "execution_count": 13,
     "metadata": {},
     "output_type": "execute_result"
    }
   ],
   "source": [
    "(\n",
    "    first_guess\n",
    "    [\"tries\"]\n",
    "    .value_counts()\n",
    "    .sort(by=\"count\", descending=True)\n",
    ")"
   ]
  },
  {
   "cell_type": "markdown",
   "id": "dfc55119",
   "metadata": {},
   "source": [
    "## Anagrams  \n",
    "\n",
    "Only the most frequently occuring anagrams were only considered for root words after the five letter words were processed to remove plurals, names and places. As such there won't be any anagrams for `leads` as it's root word is `lead` which is a 4-letter word.  \n",
    "\n",
    "However, if our challenge word is `leads`, or even its anagram `deals`, we can use their anagram `slade` to make a correct guess."
   ]
  },
  {
   "cell_type": "code",
   "execution_count": 14,
   "id": "9df26d76",
   "metadata": {
    "ExecuteTime": {
     "end_time": "2023-12-08T16:02:08.643481Z",
     "start_time": "2023-12-08T16:02:07.749355Z"
    }
   },
   "outputs": [
    {
     "data": {
      "text/html": [
       "<pre style=\"white-space:pre;overflow-x:auto;line-height:normal;font-family:Menlo,'DejaVu Sans Mono',consolas,'Courier New',monospace\"></pre>\n"
      ],
      "text/plain": []
     },
     "metadata": {},
     "output_type": "display_data"
    },
    {
     "data": {
      "text/html": [
       "<div><style>\n",
       ".dataframe > thead > tr,\n",
       ".dataframe > tbody > tr {\n",
       "  text-align: right;\n",
       "  white-space: pre-wrap;\n",
       "}\n",
       "</style>\n",
       "<small>shape: (4, 19)</small><table border=\"1\" class=\"dataframe\"><thead><tr><th>challenge</th><th>guess</th><th>letter_differences</th><th>common_letters</th><th>num_diff_letters</th><th>num_common_letters</th><th>num_matching_index</th><th>match_pattern</th><th>num_choices_after_guess</th><th>possible_guesses</th><th>challenge_in_possible_guesses</th><th>next_guess</th><th>group</th><th>tries</th><th>difficulty</th><th>guess_word_anagrams</th><th>anagram_num</th><th>anagrams</th><th>anagram_num_right</th></tr><tr><td>str</td><td>str</td><td>str</td><td>str</td><td>u8</td><td>u8</td><td>u8</td><td>str</td><td>u16</td><td>str</td><td>bool</td><td>str</td><td>u32</td><td>u8</td><td>str</td><td>str</td><td>u8</td><td>str</td><td>u8</td></tr></thead><tbody><tr><td>&quot;natis&quot;</td><td>&quot;saint&quot;</td><td>&quot;&quot;</td><td>&quot;saint&quot;</td><td>0</td><td>5</td><td>1</td><td>&quot;YGYYY&quot;</td><td>1</td><td>&quot;natis&quot;</td><td>true</td><td>&quot;loure&quot;</td><td>682</td><td>3</td><td>&quot;moderate&quot;</td><td>&quot;saint, stain, satin, antis, na…</td><td>5</td><td>&quot;loure, roule&quot;</td><td>2</td></tr><tr><td>&quot;stain&quot;</td><td>&quot;saint&quot;</td><td>&quot;&quot;</td><td>&quot;saint&quot;</td><td>0</td><td>5</td><td>1</td><td>&quot;GYYYY&quot;</td><td>1</td><td>&quot;stain&quot;</td><td>true</td><td>&quot;loure&quot;</td><td>1880</td><td>3</td><td>&quot;moderate&quot;</td><td>&quot;saint, stain, satin, antis, na…</td><td>5</td><td>&quot;loure, roule&quot;</td><td>2</td></tr><tr><td>&quot;antis&quot;</td><td>&quot;saint&quot;</td><td>&quot;&quot;</td><td>&quot;saint&quot;</td><td>0</td><td>5</td><td>0</td><td>&quot;YYYYY&quot;</td><td>1</td><td>&quot;antis&quot;</td><td>true</td><td>&quot;loure&quot;</td><td>4908</td><td>3</td><td>&quot;moderate&quot;</td><td>&quot;saint, stain, satin, antis, na…</td><td>5</td><td>&quot;loure, roule&quot;</td><td>2</td></tr><tr><td>&quot;satin&quot;</td><td>&quot;saint&quot;</td><td>&quot;&quot;</td><td>&quot;saint&quot;</td><td>0</td><td>5</td><td>2</td><td>&quot;GGYYY&quot;</td><td>1</td><td>&quot;satin&quot;</td><td>true</td><td>&quot;loure&quot;</td><td>6584</td><td>3</td><td>&quot;moderate&quot;</td><td>&quot;saint, stain, satin, antis, na…</td><td>5</td><td>&quot;loure, roule&quot;</td><td>2</td></tr></tbody></table></div>"
      ],
      "text/plain": [
       "\n",
       "shape: \u001b[1m(\u001b[0m\u001b[1;36m4\u001b[0m, \u001b[1;36m19\u001b[0m\u001b[1m)\u001b[0m\n",
       "┌───────────┬───────┬────────────┬────────────┬───┬────────────┬───────────┬───────────┬───────────┐\n",
       "│ challenge ┆ guess ┆ letter_dif ┆ common_let ┆ … ┆ guess_word ┆ anagram_n ┆ anagrams  ┆ anagram_n │\n",
       "│ ---       ┆ ---   ┆ ferences   ┆ ters       ┆   ┆ _anagrams  ┆ um        ┆ ---       ┆ um_right  │\n",
       "│ str       ┆ str   ┆ ---        ┆ ---        ┆   ┆ ---        ┆ ---       ┆ str       ┆ ---       │\n",
       "│           ┆       ┆ str        ┆ str        ┆   ┆ str        ┆ u8        ┆           ┆ u8        │\n",
       "╞═══════════╪═══════╪════════════╪════════════╪═══╪════════════╪═══════════╪═══════════╪═══════════╡\n",
       "│ natis     ┆ saint ┆            ┆ saint      ┆ … ┆ saint,     ┆ \u001b[1;36m5\u001b[0m         ┆ loure,    ┆ \u001b[1;36m2\u001b[0m         │\n",
       "│           ┆       ┆            ┆            ┆   ┆ stain,     ┆           ┆ roule     ┆           │\n",
       "│           ┆       ┆            ┆            ┆   ┆ satin,     ┆           ┆           ┆           │\n",
       "│           ┆       ┆            ┆            ┆   ┆ antis, na… ┆           ┆           ┆           │\n",
       "│ stain     ┆ saint ┆            ┆ saint      ┆ … ┆ saint,     ┆ \u001b[1;36m5\u001b[0m         ┆ loure,    ┆ \u001b[1;36m2\u001b[0m         │\n",
       "│           ┆       ┆            ┆            ┆   ┆ stain,     ┆           ┆ roule     ┆           │\n",
       "│           ┆       ┆            ┆            ┆   ┆ satin,     ┆           ┆           ┆           │\n",
       "│           ┆       ┆            ┆            ┆   ┆ antis, na… ┆           ┆           ┆           │\n",
       "│ antis     ┆ saint ┆            ┆ saint      ┆ … ┆ saint,     ┆ \u001b[1;36m5\u001b[0m         ┆ loure,    ┆ \u001b[1;36m2\u001b[0m         │\n",
       "│           ┆       ┆            ┆            ┆   ┆ stain,     ┆           ┆ roule     ┆           │\n",
       "│           ┆       ┆            ┆            ┆   ┆ satin,     ┆           ┆           ┆           │\n",
       "│           ┆       ┆            ┆            ┆   ┆ antis, na… ┆           ┆           ┆           │\n",
       "│ satin     ┆ saint ┆            ┆ saint      ┆ … ┆ saint,     ┆ \u001b[1;36m5\u001b[0m         ┆ loure,    ┆ \u001b[1;36m2\u001b[0m         │\n",
       "│           ┆       ┆            ┆            ┆   ┆ stain,     ┆           ┆ roule     ┆           │\n",
       "│           ┆       ┆            ┆            ┆   ┆ satin,     ┆           ┆           ┆           │\n",
       "│           ┆       ┆            ┆            ┆   ┆ antis, na… ┆           ┆           ┆           │\n",
       "└───────────┴───────┴────────────┴────────────┴───┴────────────┴───────────┴───────────┴───────────┘"
      ]
     },
     "execution_count": 14,
     "metadata": {},
     "output_type": "execute_result"
    }
   ],
   "source": [
    "# where challenge and guess are anagrams, removing instances where you guess right\n",
    "# the first time to see how quickly we converge on the challenge word\n",
    "\n",
    "anagrams = (\n",
    "    simulating_tries_difficulty\n",
    "    .filter(\n",
    "        (pl.col(\"letter_differences\") == \"\")\n",
    "        & (pl.col(\"num_common_letters\") == 5)\n",
    "        & (pl.col(\"challenge\") != pl.col(\"guess\"))\n",
    "    )\n",
    ")\n",
    "\n",
    "anagrams"
   ]
  },
  {
   "cell_type": "code",
   "execution_count": 15,
   "id": "d3544aba",
   "metadata": {},
   "outputs": [],
   "source": [
    "rng = np.random.default_rng()"
   ]
  },
  {
   "cell_type": "code",
   "execution_count": 16,
   "id": "38718196",
   "metadata": {
    "ExecuteTime": {
     "end_time": "2023-12-08T16:02:08.692780Z",
     "start_time": "2023-12-08T16:02:08.676341Z"
    }
   },
   "outputs": [
    {
     "data": {
      "text/html": [
       "<pre style=\"white-space:pre;overflow-x:auto;line-height:normal;font-family:Menlo,'DejaVu Sans Mono',consolas,'Courier New',monospace\"></pre>\n"
      ],
      "text/plain": []
     },
     "metadata": {},
     "output_type": "display_data"
    },
    {
     "data": {
      "text/html": [
       "<table border=\"1\" class=\"dataframe\">\n",
       "  <thead>\n",
       "    <tr style=\"text-align: right;\">\n",
       "      <th></th>\n",
       "      <th>challenge</th>\n",
       "      <th>guess</th>\n",
       "      <th>match_pattern</th>\n",
       "      <th>next_guess</th>\n",
       "      <th>num_choices_after_guess</th>\n",
       "      <th>possible_guesses</th>\n",
       "      <th>difficulty</th>\n",
       "    </tr>\n",
       "  </thead>\n",
       "  <tbody>\n",
       "    <tr>\n",
       "      <th>0</th>\n",
       "      <td>stain</td>\n",
       "      <td>saint</td>\n",
       "      <td><div style='display:inline-block; width:20px; height:20px; margin:1px; text-align:center; font-weight:bold; background-color: green;'>s</div><div style='display:inline-block; width:20px; height:20px; margin:1px; text-align:center; font-weight:bold; background-color: #FDBE02;'>a</div><div style='display:inline-block; width:20px; height:20px; margin:1px; text-align:center; font-weight:bold; background-color: #FDBE02;'>i</div><div style='display:inline-block; width:20px; height:20px; margin:1px; text-align:center; font-weight:bold; background-color: #FDBE02;'>n</div><div style='display:inline-block; width:20px; height:20px; margin:1px; text-align:center; font-weight:bold; background-color: #FDBE02;'>t</div></td>\n",
       "      <td>loure</td>\n",
       "      <td>1</td>\n",
       "      <td>stain</td>\n",
       "      <td>moderate</td>\n",
       "    </tr>\n",
       "    <tr>\n",
       "      <th>1</th>\n",
       "      <td>stain</td>\n",
       "      <td>loure</td>\n",
       "      <td><div style='display:inline-block; width:20px; height:20px; margin:1px; text-align:center; font-weight:bold; background-color: black;'>l</div><div style='display:inline-block; width:20px; height:20px; margin:1px; text-align:center; font-weight:bold; background-color: black;'>o</div><div style='display:inline-block; width:20px; height:20px; margin:1px; text-align:center; font-weight:bold; background-color: black;'>u</div><div style='display:inline-block; width:20px; height:20px; margin:1px; text-align:center; font-weight:bold; background-color: black;'>r</div><div style='display:inline-block; width:20px; height:20px; margin:1px; text-align:center; font-weight:bold; background-color: black;'>e</div></td>\n",
       "      <td>stain</td>\n",
       "      <td>1</td>\n",
       "      <td>stain</td>\n",
       "      <td>moderate</td>\n",
       "    </tr>\n",
       "    <tr>\n",
       "      <th>2</th>\n",
       "      <td>stain</td>\n",
       "      <td>stain</td>\n",
       "      <td><div style='display:inline-block; width:20px; height:20px; margin:1px; text-align:center; font-weight:bold; background-color: green;'>s</div><div style='display:inline-block; width:20px; height:20px; margin:1px; text-align:center; font-weight:bold; background-color: green;'>t</div><div style='display:inline-block; width:20px; height:20px; margin:1px; text-align:center; font-weight:bold; background-color: green;'>a</div><div style='display:inline-block; width:20px; height:20px; margin:1px; text-align:center; font-weight:bold; background-color: green;'>i</div><div style='display:inline-block; width:20px; height:20px; margin:1px; text-align:center; font-weight:bold; background-color: green;'>n</div></td>\n",
       "      <td>stain</td>\n",
       "      <td>0</td>\n",
       "      <td></td>\n",
       "      <td>moderate</td>\n",
       "    </tr>\n",
       "    <tr>\n",
       "      <th>3</th>\n",
       "      <td>stain</td>\n",
       "      <td>stain</td>\n",
       "      <td><div style='display:inline-block; width:20px; height:20px; margin:1px; text-align:center; font-weight:bold; background-color: green;'>s</div><div style='display:inline-block; width:20px; height:20px; margin:1px; text-align:center; font-weight:bold; background-color: green;'>t</div><div style='display:inline-block; width:20px; height:20px; margin:1px; text-align:center; font-weight:bold; background-color: green;'>a</div><div style='display:inline-block; width:20px; height:20px; margin:1px; text-align:center; font-weight:bold; background-color: green;'>i</div><div style='display:inline-block; width:20px; height:20px; margin:1px; text-align:center; font-weight:bold; background-color: green;'>n</div></td>\n",
       "      <td>stain</td>\n",
       "      <td>0</td>\n",
       "      <td></td>\n",
       "      <td>moderate</td>\n",
       "    </tr>\n",
       "    <tr>\n",
       "      <th>4</th>\n",
       "      <td>stain</td>\n",
       "      <td>stain</td>\n",
       "      <td><div style='display:inline-block; width:20px; height:20px; margin:1px; text-align:center; font-weight:bold; background-color: green;'>s</div><div style='display:inline-block; width:20px; height:20px; margin:1px; text-align:center; font-weight:bold; background-color: green;'>t</div><div style='display:inline-block; width:20px; height:20px; margin:1px; text-align:center; font-weight:bold; background-color: green;'>a</div><div style='display:inline-block; width:20px; height:20px; margin:1px; text-align:center; font-weight:bold; background-color: green;'>i</div><div style='display:inline-block; width:20px; height:20px; margin:1px; text-align:center; font-weight:bold; background-color: green;'>n</div></td>\n",
       "      <td>stain</td>\n",
       "      <td>0</td>\n",
       "      <td></td>\n",
       "      <td>moderate</td>\n",
       "    </tr>\n",
       "    <tr>\n",
       "      <th>5</th>\n",
       "      <td>stain</td>\n",
       "      <td>stain</td>\n",
       "      <td><div style='display:inline-block; width:20px; height:20px; margin:1px; text-align:center; font-weight:bold; background-color: green;'>s</div><div style='display:inline-block; width:20px; height:20px; margin:1px; text-align:center; font-weight:bold; background-color: green;'>t</div><div style='display:inline-block; width:20px; height:20px; margin:1px; text-align:center; font-weight:bold; background-color: green;'>a</div><div style='display:inline-block; width:20px; height:20px; margin:1px; text-align:center; font-weight:bold; background-color: green;'>i</div><div style='display:inline-block; width:20px; height:20px; margin:1px; text-align:center; font-weight:bold; background-color: green;'>n</div></td>\n",
       "      <td>stain</td>\n",
       "      <td>0</td>\n",
       "      <td></td>\n",
       "      <td>moderate</td>\n",
       "    </tr>\n",
       "  </tbody>\n",
       "</table>"
      ],
      "text/plain": [
       "\u001b[1m<\u001b[0m\u001b[1;95mIPython.core.display.HTML\u001b[0m\u001b[39m object\u001b[0m\u001b[1m>\u001b[0m"
      ]
     },
     "execution_count": 16,
     "metadata": {},
     "output_type": "execute_result"
    }
   ],
   "source": [
    "# Display the DataFrame with colored patterns\n",
    "\n",
    "anagrams_select_group = rng.choice(anagrams[\"group\"], 1, replace = False)[0]\n",
    "\n",
    "HTML(\n",
    "    simulating_tries_difficulty\n",
    "    .filter(pl.col(\"group\") == anagrams_select_group)\n",
    "    .to_pandas()\n",
    "    .assign(\n",
    "        match_pattern = lambda df_:\n",
    "        color_pattern_matching(\n",
    "            dataf=df_,\n",
    "            challenge_col=\"challenge\",\n",
    "            guess_col=\"guess\"\n",
    "        )\n",
    "    )\n",
    "    [[\n",
    "        \"challenge\", \"guess\", \"match_pattern\", \"next_guess\",\n",
    "        \"num_choices_after_guess\", \"possible_guesses\", \"difficulty\",\n",
    "    ]]\n",
    "    .to_html(escape=False)\n",
    ")\n"
   ]
  },
  {
   "cell_type": "markdown",
   "id": "86dd8aef",
   "metadata": {},
   "source": [
    "### Challenge words without `r` , `s` or `t`\n",
    "These are some of the most frequently ocuuring letters. We can then see how our naive algorithm operates in coming to the correct guess."
   ]
  },
  {
   "cell_type": "code",
   "execution_count": 17,
   "id": "6ece91b8",
   "metadata": {
    "ExecuteTime": {
     "end_time": "2023-12-08T16:02:10.567413Z",
     "start_time": "2023-12-08T16:02:09.865810Z"
    }
   },
   "outputs": [
    {
     "data": {
      "text/html": [
       "<pre style=\"white-space:pre;overflow-x:auto;line-height:normal;font-family:Menlo,'DejaVu Sans Mono',consolas,'Courier New',monospace\"></pre>\n"
      ],
      "text/plain": []
     },
     "metadata": {},
     "output_type": "display_data"
    },
    {
     "data": {
      "text/html": [
       "<div><style>\n",
       ".dataframe > thead > tr,\n",
       ".dataframe > tbody > tr {\n",
       "  text-align: right;\n",
       "  white-space: pre-wrap;\n",
       "}\n",
       "</style>\n",
       "<small>shape: (20, 19)</small><table border=\"1\" class=\"dataframe\"><thead><tr><th>group</th><th>challenge</th><th>guess</th><th>letter_differences</th><th>common_letters</th><th>num_diff_letters</th><th>num_common_letters</th><th>num_matching_index</th><th>match_pattern</th><th>num_choices_after_guess</th><th>possible_guesses</th><th>challenge_in_possible_guesses</th><th>next_guess</th><th>tries</th><th>difficulty</th><th>guess_word_anagrams</th><th>anagram_num</th><th>anagrams</th><th>anagram_num_right</th></tr><tr><td>u32</td><td>str</td><td>str</td><td>str</td><td>str</td><td>u8</td><td>u8</td><td>u8</td><td>str</td><td>u16</td><td>str</td><td>bool</td><td>str</td><td>u8</td><td>str</td><td>str</td><td>u8</td><td>str</td><td>u8</td></tr></thead><tbody><tr><td>4268</td><td>&quot;yogic&quot;</td><td>&quot;saint&quot;</td><td>&quot;nats&quot;</td><td>&quot;i&quot;</td><td>4</td><td>1</td><td>0</td><td>&quot;BBYBB&quot;</td><td>482</td><td>&quot;micro, oleic, humid, liver, fi…</td><td>false</td><td>&quot;loure&quot;</td><td>4</td><td>&quot;moderate&quot;</td><td>&quot;saint, stain, satin, antis, na…</td><td>5</td><td>&quot;loure, roule&quot;</td><td>2</td></tr><tr><td>5263</td><td>&quot;gambe&quot;</td><td>&quot;saint&quot;</td><td>&quot;ntis&quot;</td><td>&quot;a&quot;</td><td>4</td><td>1</td><td>1</td><td>&quot;BGBBB&quot;</td><td>495</td><td>&quot;large, maybe, value, badly, ea…</td><td>false</td><td>&quot;loure&quot;</td><td>5</td><td>&quot;hard&quot;</td><td>&quot;saint, stain, satin, antis, na…</td><td>5</td><td>&quot;loure, roule&quot;</td><td>2</td></tr><tr><td>5160</td><td>&quot;codex&quot;</td><td>&quot;saint&quot;</td><td>&quot;nisat&quot;</td><td>&quot;&quot;</td><td>5</td><td>0</td><td>0</td><td>&quot;BBBBB&quot;</td><td>1222</td><td>&quot;force, gooey, power, romeo, ju…</td><td>false</td><td>&quot;loure&quot;</td><td>4</td><td>&quot;moderate&quot;</td><td>&quot;saint, stain, satin, antis, na…</td><td>5</td><td>&quot;loure, roule&quot;</td><td>2</td></tr><tr><td>5327</td><td>&quot;gouge&quot;</td><td>&quot;saint&quot;</td><td>&quot;nisat&quot;</td><td>&quot;&quot;</td><td>5</td><td>0</td><td>0</td><td>&quot;BBBBB&quot;</td><td>1222</td><td>&quot;occur, blood, model, wheel, fu…</td><td>false</td><td>&quot;loure&quot;</td><td>4</td><td>&quot;moderate&quot;</td><td>&quot;saint, stain, satin, antis, na…</td><td>5</td><td>&quot;loure, roule&quot;</td><td>2</td></tr><tr><td>3028</td><td>&quot;fonly&quot;</td><td>&quot;saint&quot;</td><td>&quot;atis&quot;</td><td>&quot;n&quot;</td><td>4</td><td>1</td><td>0</td><td>&quot;BBBYB&quot;</td><td>276</td><td>&quot;money, novel, knock, newly, gr…</td><td>false</td><td>&quot;loure&quot;</td><td>5</td><td>&quot;hard&quot;</td><td>&quot;saint, stain, satin, antis, na…</td><td>5</td><td>&quot;loure, roule&quot;</td><td>2</td></tr><tr><td>3631</td><td>&quot;embox&quot;</td><td>&quot;saint&quot;</td><td>&quot;nisat&quot;</td><td>&quot;&quot;</td><td>5</td><td>0</td><td>0</td><td>&quot;BBBBB&quot;</td><td>1222</td><td>&quot;lodge, model, fully, greek, le…</td><td>false</td><td>&quot;loure&quot;</td><td>4</td><td>&quot;moderate&quot;</td><td>&quot;saint, stain, satin, antis, na…</td><td>5</td><td>&quot;loure, roule&quot;</td><td>2</td></tr><tr><td>1289</td><td>&quot;baggy&quot;</td><td>&quot;saint&quot;</td><td>&quot;ntis&quot;</td><td>&quot;a&quot;</td><td>4</td><td>1</td><td>1</td><td>&quot;BGBBB&quot;</td><td>495</td><td>&quot;large, paper, value, early, ca…</td><td>false</td><td>&quot;loure&quot;</td><td>6</td><td>&quot;hard&quot;</td><td>&quot;saint, stain, satin, antis, na…</td><td>5</td><td>&quot;loure, roule&quot;</td><td>2</td></tr><tr><td>6592</td><td>&quot;daine&quot;</td><td>&quot;saint&quot;</td><td>&quot;ts&quot;</td><td>&quot;ain&quot;</td><td>2</td><td>3</td><td>3</td><td>&quot;BGGGB&quot;</td><td>4</td><td>&quot;rainy, raine, faine, daine&quot;</td><td>true</td><td>&quot;loure&quot;</td><td>4</td><td>&quot;moderate&quot;</td><td>&quot;saint, stain, satin, antis, na…</td><td>5</td><td>&quot;loure, roule&quot;</td><td>2</td></tr><tr><td>5100</td><td>&quot;dhobi&quot;</td><td>&quot;saint&quot;</td><td>&quot;nats&quot;</td><td>&quot;i&quot;</td><td>4</td><td>1</td><td>0</td><td>&quot;BBYBB&quot;</td><td>482</td><td>&quot;movie, yield, river, field, pi…</td><td>false</td><td>&quot;loure&quot;</td><td>5</td><td>&quot;hard&quot;</td><td>&quot;saint, stain, satin, antis, na…</td><td>5</td><td>&quot;loure, roule&quot;</td><td>2</td></tr><tr><td>1189</td><td>&quot;mamee&quot;</td><td>&quot;saint&quot;</td><td>&quot;ntis&quot;</td><td>&quot;a&quot;</td><td>4</td><td>1</td><td>1</td><td>&quot;BGBBB&quot;</td><td>495</td><td>&quot;major, vague, value, valve, fa…</td><td>false</td><td>&quot;loure&quot;</td><td>6</td><td>&quot;hard&quot;</td><td>&quot;saint, stain, satin, antis, na…</td><td>5</td><td>&quot;loure, roule&quot;</td><td>2</td></tr><tr><td>4148</td><td>&quot;lucky&quot;</td><td>&quot;saint&quot;</td><td>&quot;nisat&quot;</td><td>&quot;&quot;</td><td>5</td><td>0</td><td>0</td><td>&quot;BBBBB&quot;</td><td>1222</td><td>&quot;roger, occur, puree, power, mo…</td><td>false</td><td>&quot;loure&quot;</td><td>3</td><td>&quot;moderate&quot;</td><td>&quot;saint, stain, satin, antis, na…</td><td>5</td><td>&quot;loure, roule&quot;</td><td>2</td></tr><tr><td>995</td><td>&quot;phony&quot;</td><td>&quot;saint&quot;</td><td>&quot;atis&quot;</td><td>&quot;n&quot;</td><td>4</td><td>1</td><td>1</td><td>&quot;BBBGB&quot;</td><td>111</td><td>&quot;wrong, chunk, young, funny, ro…</td><td>true</td><td>&quot;loure&quot;</td><td>3</td><td>&quot;moderate&quot;</td><td>&quot;saint, stain, satin, antis, na…</td><td>5</td><td>&quot;loure, roule&quot;</td><td>2</td></tr><tr><td>5676</td><td>&quot;chivy&quot;</td><td>&quot;saint&quot;</td><td>&quot;nats&quot;</td><td>&quot;i&quot;</td><td>4</td><td>1</td><td>1</td><td>&quot;BBGBB&quot;</td><td>160</td><td>&quot;price, build, brick, brief, pr…</td><td>false</td><td>&quot;loure&quot;</td><td>6</td><td>&quot;hard&quot;</td><td>&quot;saint, stain, satin, antis, na…</td><td>5</td><td>&quot;loure, roule&quot;</td><td>2</td></tr><tr><td>3067</td><td>&quot;pongy&quot;</td><td>&quot;saint&quot;</td><td>&quot;atis&quot;</td><td>&quot;n&quot;</td><td>4</td><td>1</td><td>0</td><td>&quot;BBBYB&quot;</td><td>276</td><td>&quot;envoy, negro, green, honey, mo…</td><td>false</td><td>&quot;loure&quot;</td><td>4</td><td>&quot;moderate&quot;</td><td>&quot;saint, stain, satin, antis, na…</td><td>5</td><td>&quot;loure, roule&quot;</td><td>2</td></tr><tr><td>4460</td><td>&quot;copal&quot;</td><td>&quot;saint&quot;</td><td>&quot;ntis&quot;</td><td>&quot;a&quot;</td><td>4</td><td>1</td><td>0</td><td>&quot;BYBBB&quot;</td><td>751</td><td>&quot;black, bread, royal, agree, fo…</td><td>false</td><td>&quot;loure&quot;</td><td>4</td><td>&quot;moderate&quot;</td><td>&quot;saint, stain, satin, antis, na…</td><td>5</td><td>&quot;loure, roule&quot;</td><td>2</td></tr><tr><td>667</td><td>&quot;agley&quot;</td><td>&quot;saint&quot;</td><td>&quot;ntis&quot;</td><td>&quot;a&quot;</td><td>4</td><td>1</td><td>0</td><td>&quot;BYBBB&quot;</td><td>751</td><td>&quot;realm, place, loyal, argue, lo…</td><td>false</td><td>&quot;loure&quot;</td><td>5</td><td>&quot;hard&quot;</td><td>&quot;saint, stain, satin, antis, na…</td><td>5</td><td>&quot;loure, roule&quot;</td><td>2</td></tr><tr><td>5956</td><td>&quot;model&quot;</td><td>&quot;saint&quot;</td><td>&quot;nisat&quot;</td><td>&quot;&quot;</td><td>5</td><td>0</td><td>0</td><td>&quot;BBBBB&quot;</td><td>1222</td><td>&quot;power, foley, refer, cycle, gr…</td><td>false</td><td>&quot;loure&quot;</td><td>3</td><td>&quot;moderate&quot;</td><td>&quot;saint, stain, satin, antis, na…</td><td>5</td><td>&quot;loure, roule&quot;</td><td>2</td></tr><tr><td>2217</td><td>&quot;cylix&quot;</td><td>&quot;saint&quot;</td><td>&quot;nats&quot;</td><td>&quot;i&quot;</td><td>4</td><td>1</td><td>0</td><td>&quot;BBYBB&quot;</td><td>482</td><td>&quot;willy, civil, cubic, yield, fi…</td><td>false</td><td>&quot;loure&quot;</td><td>5</td><td>&quot;hard&quot;</td><td>&quot;saint, stain, satin, antis, na…</td><td>5</td><td>&quot;loure, roule&quot;</td><td>2</td></tr><tr><td>106</td><td>&quot;chewy&quot;</td><td>&quot;saint&quot;</td><td>&quot;nisat&quot;</td><td>&quot;&quot;</td><td>5</td><td>0</td><td>0</td><td>&quot;BBBBB&quot;</td><td>1222</td><td>&quot;order, world, kelly, error, gr…</td><td>false</td><td>&quot;loure&quot;</td><td>6</td><td>&quot;hard&quot;</td><td>&quot;saint, stain, satin, antis, na…</td><td>5</td><td>&quot;loure, roule&quot;</td><td>2</td></tr><tr><td>4256</td><td>&quot;dunch&quot;</td><td>&quot;saint&quot;</td><td>&quot;atis&quot;</td><td>&quot;n&quot;</td><td>4</td><td>1</td><td>0</td><td>&quot;BBBYB&quot;</td><td>276</td><td>&quot;dozen, newly, enemy, noble, qu…</td><td>false</td><td>&quot;loure&quot;</td><td>null</td><td>&quot;very hard&quot;</td><td>&quot;saint, stain, satin, antis, na…</td><td>5</td><td>&quot;loure, roule&quot;</td><td>2</td></tr></tbody></table></div>"
      ],
      "text/plain": [
       "\n",
       "shape: \u001b[1m(\u001b[0m\u001b[1;36m20\u001b[0m, \u001b[1;36m19\u001b[0m\u001b[1m)\u001b[0m\n",
       "┌───────┬───────────┬───────┬─────────────┬───┬─────────────┬────────────┬────────────┬────────────┐\n",
       "│ group ┆ challenge ┆ guess ┆ letter_diff ┆ … ┆ guess_word_ ┆ anagram_nu ┆ anagrams   ┆ anagram_nu │\n",
       "│ ---   ┆ ---       ┆ ---   ┆ erences     ┆   ┆ anagrams    ┆ m          ┆ ---        ┆ m_right    │\n",
       "│ u32   ┆ str       ┆ str   ┆ ---         ┆   ┆ ---         ┆ ---        ┆ str        ┆ ---        │\n",
       "│       ┆           ┆       ┆ str         ┆   ┆ str         ┆ u8         ┆            ┆ u8         │\n",
       "╞═══════╪═══════════╪═══════╪═════════════╪═══╪═════════════╪════════════╪════════════╪════════════╡\n",
       "│ \u001b[1;36m4268\u001b[0m  ┆ yogic     ┆ saint ┆ nats        ┆ … ┆ saint,      ┆ \u001b[1;36m5\u001b[0m          ┆ loure,     ┆ \u001b[1;36m2\u001b[0m          │\n",
       "│       ┆           ┆       ┆             ┆   ┆ stain,      ┆            ┆ roule      ┆            │\n",
       "│       ┆           ┆       ┆             ┆   ┆ satin,      ┆            ┆            ┆            │\n",
       "│       ┆           ┆       ┆             ┆   ┆ antis, na…  ┆            ┆            ┆            │\n",
       "│ \u001b[1;36m5263\u001b[0m  ┆ gambe     ┆ saint ┆ ntis        ┆ … ┆ saint,      ┆ \u001b[1;36m5\u001b[0m          ┆ loure,     ┆ \u001b[1;36m2\u001b[0m          │\n",
       "│       ┆           ┆       ┆             ┆   ┆ stain,      ┆            ┆ roule      ┆            │\n",
       "│       ┆           ┆       ┆             ┆   ┆ satin,      ┆            ┆            ┆            │\n",
       "│       ┆           ┆       ┆             ┆   ┆ antis, na…  ┆            ┆            ┆            │\n",
       "│ \u001b[1;36m5160\u001b[0m  ┆ codex     ┆ saint ┆ nisat       ┆ … ┆ saint,      ┆ \u001b[1;36m5\u001b[0m          ┆ loure,     ┆ \u001b[1;36m2\u001b[0m          │\n",
       "│       ┆           ┆       ┆             ┆   ┆ stain,      ┆            ┆ roule      ┆            │\n",
       "│       ┆           ┆       ┆             ┆   ┆ satin,      ┆            ┆            ┆            │\n",
       "│       ┆           ┆       ┆             ┆   ┆ antis, na…  ┆            ┆            ┆            │\n",
       "│ \u001b[1;36m5327\u001b[0m  ┆ gouge     ┆ saint ┆ nisat       ┆ … ┆ saint,      ┆ \u001b[1;36m5\u001b[0m          ┆ loure,     ┆ \u001b[1;36m2\u001b[0m          │\n",
       "│       ┆           ┆       ┆             ┆   ┆ stain,      ┆            ┆ roule      ┆            │\n",
       "│       ┆           ┆       ┆             ┆   ┆ satin,      ┆            ┆            ┆            │\n",
       "│       ┆           ┆       ┆             ┆   ┆ antis, na…  ┆            ┆            ┆            │\n",
       "│ \u001b[1;36m3028\u001b[0m  ┆ fonly     ┆ saint ┆ atis        ┆ … ┆ saint,      ┆ \u001b[1;36m5\u001b[0m          ┆ loure,     ┆ \u001b[1;36m2\u001b[0m          │\n",
       "│       ┆           ┆       ┆             ┆   ┆ stain,      ┆            ┆ roule      ┆            │\n",
       "│       ┆           ┆       ┆             ┆   ┆ satin,      ┆            ┆            ┆            │\n",
       "│       ┆           ┆       ┆             ┆   ┆ antis, na…  ┆            ┆            ┆            │\n",
       "│ \u001b[1;36m3631\u001b[0m  ┆ embox     ┆ saint ┆ nisat       ┆ … ┆ saint,      ┆ \u001b[1;36m5\u001b[0m          ┆ loure,     ┆ \u001b[1;36m2\u001b[0m          │\n",
       "│       ┆           ┆       ┆             ┆   ┆ stain,      ┆            ┆ roule      ┆            │\n",
       "│       ┆           ┆       ┆             ┆   ┆ satin,      ┆            ┆            ┆            │\n",
       "│       ┆           ┆       ┆             ┆   ┆ antis, na…  ┆            ┆            ┆            │\n",
       "│ \u001b[1;36m1289\u001b[0m  ┆ baggy     ┆ saint ┆ ntis        ┆ … ┆ saint,      ┆ \u001b[1;36m5\u001b[0m          ┆ loure,     ┆ \u001b[1;36m2\u001b[0m          │\n",
       "│       ┆           ┆       ┆             ┆   ┆ stain,      ┆            ┆ roule      ┆            │\n",
       "│       ┆           ┆       ┆             ┆   ┆ satin,      ┆            ┆            ┆            │\n",
       "│       ┆           ┆       ┆             ┆   ┆ antis, na…  ┆            ┆            ┆            │\n",
       "│ \u001b[1;36m6592\u001b[0m  ┆ daine     ┆ saint ┆ ts          ┆ … ┆ saint,      ┆ \u001b[1;36m5\u001b[0m          ┆ loure,     ┆ \u001b[1;36m2\u001b[0m          │\n",
       "│       ┆           ┆       ┆             ┆   ┆ stain,      ┆            ┆ roule      ┆            │\n",
       "│       ┆           ┆       ┆             ┆   ┆ satin,      ┆            ┆            ┆            │\n",
       "│       ┆           ┆       ┆             ┆   ┆ antis, na…  ┆            ┆            ┆            │\n",
       "│ \u001b[1;36m5100\u001b[0m  ┆ dhobi     ┆ saint ┆ nats        ┆ … ┆ saint,      ┆ \u001b[1;36m5\u001b[0m          ┆ loure,     ┆ \u001b[1;36m2\u001b[0m          │\n",
       "│       ┆           ┆       ┆             ┆   ┆ stain,      ┆            ┆ roule      ┆            │\n",
       "│       ┆           ┆       ┆             ┆   ┆ satin,      ┆            ┆            ┆            │\n",
       "│       ┆           ┆       ┆             ┆   ┆ antis, na…  ┆            ┆            ┆            │\n",
       "│ \u001b[1;36m1189\u001b[0m  ┆ mamee     ┆ saint ┆ ntis        ┆ … ┆ saint,      ┆ \u001b[1;36m5\u001b[0m          ┆ loure,     ┆ \u001b[1;36m2\u001b[0m          │\n",
       "│       ┆           ┆       ┆             ┆   ┆ stain,      ┆            ┆ roule      ┆            │\n",
       "│       ┆           ┆       ┆             ┆   ┆ satin,      ┆            ┆            ┆            │\n",
       "│       ┆           ┆       ┆             ┆   ┆ antis, na…  ┆            ┆            ┆            │\n",
       "│ \u001b[1;36m4148\u001b[0m  ┆ lucky     ┆ saint ┆ nisat       ┆ … ┆ saint,      ┆ \u001b[1;36m5\u001b[0m          ┆ loure,     ┆ \u001b[1;36m2\u001b[0m          │\n",
       "│       ┆           ┆       ┆             ┆   ┆ stain,      ┆            ┆ roule      ┆            │\n",
       "│       ┆           ┆       ┆             ┆   ┆ satin,      ┆            ┆            ┆            │\n",
       "│       ┆           ┆       ┆             ┆   ┆ antis, na…  ┆            ┆            ┆            │\n",
       "│ \u001b[1;36m995\u001b[0m   ┆ phony     ┆ saint ┆ atis        ┆ … ┆ saint,      ┆ \u001b[1;36m5\u001b[0m          ┆ loure,     ┆ \u001b[1;36m2\u001b[0m          │\n",
       "│       ┆           ┆       ┆             ┆   ┆ stain,      ┆            ┆ roule      ┆            │\n",
       "│       ┆           ┆       ┆             ┆   ┆ satin,      ┆            ┆            ┆            │\n",
       "│       ┆           ┆       ┆             ┆   ┆ antis, na…  ┆            ┆            ┆            │\n",
       "│ \u001b[1;36m5676\u001b[0m  ┆ chivy     ┆ saint ┆ nats        ┆ … ┆ saint,      ┆ \u001b[1;36m5\u001b[0m          ┆ loure,     ┆ \u001b[1;36m2\u001b[0m          │\n",
       "│       ┆           ┆       ┆             ┆   ┆ stain,      ┆            ┆ roule      ┆            │\n",
       "│       ┆           ┆       ┆             ┆   ┆ satin,      ┆            ┆            ┆            │\n",
       "│       ┆           ┆       ┆             ┆   ┆ antis, na…  ┆            ┆            ┆            │\n",
       "│ \u001b[1;36m3067\u001b[0m  ┆ pongy     ┆ saint ┆ atis        ┆ … ┆ saint,      ┆ \u001b[1;36m5\u001b[0m          ┆ loure,     ┆ \u001b[1;36m2\u001b[0m          │\n",
       "│       ┆           ┆       ┆             ┆   ┆ stain,      ┆            ┆ roule      ┆            │\n",
       "│       ┆           ┆       ┆             ┆   ┆ satin,      ┆            ┆            ┆            │\n",
       "│       ┆           ┆       ┆             ┆   ┆ antis, na…  ┆            ┆            ┆            │\n",
       "│ \u001b[1;36m4460\u001b[0m  ┆ copal     ┆ saint ┆ ntis        ┆ … ┆ saint,      ┆ \u001b[1;36m5\u001b[0m          ┆ loure,     ┆ \u001b[1;36m2\u001b[0m          │\n",
       "│       ┆           ┆       ┆             ┆   ┆ stain,      ┆            ┆ roule      ┆            │\n",
       "│       ┆           ┆       ┆             ┆   ┆ satin,      ┆            ┆            ┆            │\n",
       "│       ┆           ┆       ┆             ┆   ┆ antis, na…  ┆            ┆            ┆            │\n",
       "│ \u001b[1;36m667\u001b[0m   ┆ agley     ┆ saint ┆ ntis        ┆ … ┆ saint,      ┆ \u001b[1;36m5\u001b[0m          ┆ loure,     ┆ \u001b[1;36m2\u001b[0m          │\n",
       "│       ┆           ┆       ┆             ┆   ┆ stain,      ┆            ┆ roule      ┆            │\n",
       "│       ┆           ┆       ┆             ┆   ┆ satin,      ┆            ┆            ┆            │\n",
       "│       ┆           ┆       ┆             ┆   ┆ antis, na…  ┆            ┆            ┆            │\n",
       "│ \u001b[1;36m5956\u001b[0m  ┆ model     ┆ saint ┆ nisat       ┆ … ┆ saint,      ┆ \u001b[1;36m5\u001b[0m          ┆ loure,     ┆ \u001b[1;36m2\u001b[0m          │\n",
       "│       ┆           ┆       ┆             ┆   ┆ stain,      ┆            ┆ roule      ┆            │\n",
       "│       ┆           ┆       ┆             ┆   ┆ satin,      ┆            ┆            ┆            │\n",
       "│       ┆           ┆       ┆             ┆   ┆ antis, na…  ┆            ┆            ┆            │\n",
       "│ \u001b[1;36m2217\u001b[0m  ┆ cylix     ┆ saint ┆ nats        ┆ … ┆ saint,      ┆ \u001b[1;36m5\u001b[0m          ┆ loure,     ┆ \u001b[1;36m2\u001b[0m          │\n",
       "│       ┆           ┆       ┆             ┆   ┆ stain,      ┆            ┆ roule      ┆            │\n",
       "│       ┆           ┆       ┆             ┆   ┆ satin,      ┆            ┆            ┆            │\n",
       "│       ┆           ┆       ┆             ┆   ┆ antis, na…  ┆            ┆            ┆            │\n",
       "│ \u001b[1;36m106\u001b[0m   ┆ chewy     ┆ saint ┆ nisat       ┆ … ┆ saint,      ┆ \u001b[1;36m5\u001b[0m          ┆ loure,     ┆ \u001b[1;36m2\u001b[0m          │\n",
       "│       ┆           ┆       ┆             ┆   ┆ stain,      ┆            ┆ roule      ┆            │\n",
       "│       ┆           ┆       ┆             ┆   ┆ satin,      ┆            ┆            ┆            │\n",
       "│       ┆           ┆       ┆             ┆   ┆ antis, na…  ┆            ┆            ┆            │\n",
       "│ \u001b[1;36m4256\u001b[0m  ┆ dunch     ┆ saint ┆ atis        ┆ … ┆ saint,      ┆ \u001b[1;36m5\u001b[0m          ┆ loure,     ┆ \u001b[1;36m2\u001b[0m          │\n",
       "│       ┆           ┆       ┆             ┆   ┆ stain,      ┆            ┆ roule      ┆            │\n",
       "│       ┆           ┆       ┆             ┆   ┆ satin,      ┆            ┆            ┆            │\n",
       "│       ┆           ┆       ┆             ┆   ┆ antis, na…  ┆            ┆            ┆            │\n",
       "└───────┴───────────┴───────┴─────────────┴───┴─────────────┴────────────┴────────────┴────────────┘"
      ]
     },
     "execution_count": 17,
     "metadata": {},
     "output_type": "execute_result"
    }
   ],
   "source": [
    "challenge_words_without_r_s_t = (\n",
    "    first_guess\n",
    "    .filter(\n",
    "        ~(pl.col(\"challenge\").str.contains(\"r|s|t\"))\n",
    "        & ((pl.col(\"challenge\") != (pl.col(\"guess\"))))\n",
    "    )\n",
    ")\n",
    "\n",
    "challenge_words_without_r_s_t.sample(n = 20, with_replacement = False)"
   ]
  },
  {
   "cell_type": "code",
   "execution_count": 18,
   "id": "cf408c05",
   "metadata": {
    "ExecuteTime": {
     "end_time": "2023-12-08T16:02:10.891308Z",
     "start_time": "2023-12-08T16:02:10.806372Z"
    }
   },
   "outputs": [
    {
     "data": {
      "application/vnd.plotly.v1+json": {
       "config": {
        "plotlyServerURL": "https://plot.ly"
       },
       "data": [
        {
         "alignmentgroup": "True",
         "hovertemplate": "difficulty=%{x}<br>count=%{y}<extra></extra>",
         "legendgroup": "moderate",
         "marker": {
          "color": "#ff7f0e",
          "pattern": {
           "shape": ""
          }
         },
         "name": "moderate",
         "offsetgroup": "moderate",
         "orientation": "v",
         "showlegend": true,
         "textposition": "auto",
         "type": "bar",
         "x": [
          "moderate"
         ],
         "xaxis": "x",
         "y": [
          1476
         ],
         "yaxis": "y"
        },
        {
         "alignmentgroup": "True",
         "hovertemplate": "difficulty=%{x}<br>count=%{y}<extra></extra>",
         "legendgroup": "hard",
         "marker": {
          "color": "#2ca02c",
          "pattern": {
           "shape": ""
          }
         },
         "name": "hard",
         "offsetgroup": "hard",
         "orientation": "v",
         "showlegend": true,
         "textposition": "auto",
         "type": "bar",
         "x": [
          "hard"
         ],
         "xaxis": "x",
         "y": [
          1240
         ],
         "yaxis": "y"
        },
        {
         "alignmentgroup": "True",
         "hovertemplate": "difficulty=%{x}<br>count=%{y}<extra></extra>",
         "legendgroup": "very hard",
         "marker": {
          "color": "#d62728",
          "pattern": {
           "shape": ""
          }
         },
         "name": "very hard",
         "offsetgroup": "very hard",
         "orientation": "v",
         "showlegend": true,
         "textposition": "auto",
         "type": "bar",
         "x": [
          "very hard"
         ],
         "xaxis": "x",
         "y": [
          216
         ],
         "yaxis": "y"
        }
       ],
       "layout": {
        "barmode": "relative",
        "height": 600,
        "legend": {
         "title": {
          "text": "difficulty"
         },
         "tracegroupgap": 0
        },
        "template": {
         "data": {
          "bar": [
           {
            "error_x": {
             "color": "#2a3f5f"
            },
            "error_y": {
             "color": "#2a3f5f"
            },
            "marker": {
             "line": {
              "color": "#E5ECF6",
              "width": 0.5
             },
             "pattern": {
              "fillmode": "overlay",
              "size": 10,
              "solidity": 0.2
             }
            },
            "type": "bar"
           }
          ],
          "barpolar": [
           {
            "marker": {
             "line": {
              "color": "#E5ECF6",
              "width": 0.5
             },
             "pattern": {
              "fillmode": "overlay",
              "size": 10,
              "solidity": 0.2
             }
            },
            "type": "barpolar"
           }
          ],
          "carpet": [
           {
            "aaxis": {
             "endlinecolor": "#2a3f5f",
             "gridcolor": "white",
             "linecolor": "white",
             "minorgridcolor": "white",
             "startlinecolor": "#2a3f5f"
            },
            "baxis": {
             "endlinecolor": "#2a3f5f",
             "gridcolor": "white",
             "linecolor": "white",
             "minorgridcolor": "white",
             "startlinecolor": "#2a3f5f"
            },
            "type": "carpet"
           }
          ],
          "choropleth": [
           {
            "colorbar": {
             "outlinewidth": 0,
             "ticks": ""
            },
            "type": "choropleth"
           }
          ],
          "contour": [
           {
            "colorbar": {
             "outlinewidth": 0,
             "ticks": ""
            },
            "colorscale": [
             [
              0,
              "#0d0887"
             ],
             [
              0.1111111111111111,
              "#46039f"
             ],
             [
              0.2222222222222222,
              "#7201a8"
             ],
             [
              0.3333333333333333,
              "#9c179e"
             ],
             [
              0.4444444444444444,
              "#bd3786"
             ],
             [
              0.5555555555555556,
              "#d8576b"
             ],
             [
              0.6666666666666666,
              "#ed7953"
             ],
             [
              0.7777777777777778,
              "#fb9f3a"
             ],
             [
              0.8888888888888888,
              "#fdca26"
             ],
             [
              1,
              "#f0f921"
             ]
            ],
            "type": "contour"
           }
          ],
          "contourcarpet": [
           {
            "colorbar": {
             "outlinewidth": 0,
             "ticks": ""
            },
            "type": "contourcarpet"
           }
          ],
          "heatmap": [
           {
            "colorbar": {
             "outlinewidth": 0,
             "ticks": ""
            },
            "colorscale": [
             [
              0,
              "#0d0887"
             ],
             [
              0.1111111111111111,
              "#46039f"
             ],
             [
              0.2222222222222222,
              "#7201a8"
             ],
             [
              0.3333333333333333,
              "#9c179e"
             ],
             [
              0.4444444444444444,
              "#bd3786"
             ],
             [
              0.5555555555555556,
              "#d8576b"
             ],
             [
              0.6666666666666666,
              "#ed7953"
             ],
             [
              0.7777777777777778,
              "#fb9f3a"
             ],
             [
              0.8888888888888888,
              "#fdca26"
             ],
             [
              1,
              "#f0f921"
             ]
            ],
            "type": "heatmap"
           }
          ],
          "heatmapgl": [
           {
            "colorbar": {
             "outlinewidth": 0,
             "ticks": ""
            },
            "colorscale": [
             [
              0,
              "#0d0887"
             ],
             [
              0.1111111111111111,
              "#46039f"
             ],
             [
              0.2222222222222222,
              "#7201a8"
             ],
             [
              0.3333333333333333,
              "#9c179e"
             ],
             [
              0.4444444444444444,
              "#bd3786"
             ],
             [
              0.5555555555555556,
              "#d8576b"
             ],
             [
              0.6666666666666666,
              "#ed7953"
             ],
             [
              0.7777777777777778,
              "#fb9f3a"
             ],
             [
              0.8888888888888888,
              "#fdca26"
             ],
             [
              1,
              "#f0f921"
             ]
            ],
            "type": "heatmapgl"
           }
          ],
          "histogram": [
           {
            "marker": {
             "pattern": {
              "fillmode": "overlay",
              "size": 10,
              "solidity": 0.2
             }
            },
            "type": "histogram"
           }
          ],
          "histogram2d": [
           {
            "colorbar": {
             "outlinewidth": 0,
             "ticks": ""
            },
            "colorscale": [
             [
              0,
              "#0d0887"
             ],
             [
              0.1111111111111111,
              "#46039f"
             ],
             [
              0.2222222222222222,
              "#7201a8"
             ],
             [
              0.3333333333333333,
              "#9c179e"
             ],
             [
              0.4444444444444444,
              "#bd3786"
             ],
             [
              0.5555555555555556,
              "#d8576b"
             ],
             [
              0.6666666666666666,
              "#ed7953"
             ],
             [
              0.7777777777777778,
              "#fb9f3a"
             ],
             [
              0.8888888888888888,
              "#fdca26"
             ],
             [
              1,
              "#f0f921"
             ]
            ],
            "type": "histogram2d"
           }
          ],
          "histogram2dcontour": [
           {
            "colorbar": {
             "outlinewidth": 0,
             "ticks": ""
            },
            "colorscale": [
             [
              0,
              "#0d0887"
             ],
             [
              0.1111111111111111,
              "#46039f"
             ],
             [
              0.2222222222222222,
              "#7201a8"
             ],
             [
              0.3333333333333333,
              "#9c179e"
             ],
             [
              0.4444444444444444,
              "#bd3786"
             ],
             [
              0.5555555555555556,
              "#d8576b"
             ],
             [
              0.6666666666666666,
              "#ed7953"
             ],
             [
              0.7777777777777778,
              "#fb9f3a"
             ],
             [
              0.8888888888888888,
              "#fdca26"
             ],
             [
              1,
              "#f0f921"
             ]
            ],
            "type": "histogram2dcontour"
           }
          ],
          "mesh3d": [
           {
            "colorbar": {
             "outlinewidth": 0,
             "ticks": ""
            },
            "type": "mesh3d"
           }
          ],
          "parcoords": [
           {
            "line": {
             "colorbar": {
              "outlinewidth": 0,
              "ticks": ""
             }
            },
            "type": "parcoords"
           }
          ],
          "pie": [
           {
            "automargin": true,
            "type": "pie"
           }
          ],
          "scatter": [
           {
            "fillpattern": {
             "fillmode": "overlay",
             "size": 10,
             "solidity": 0.2
            },
            "type": "scatter"
           }
          ],
          "scatter3d": [
           {
            "line": {
             "colorbar": {
              "outlinewidth": 0,
              "ticks": ""
             }
            },
            "marker": {
             "colorbar": {
              "outlinewidth": 0,
              "ticks": ""
             }
            },
            "type": "scatter3d"
           }
          ],
          "scattercarpet": [
           {
            "marker": {
             "colorbar": {
              "outlinewidth": 0,
              "ticks": ""
             }
            },
            "type": "scattercarpet"
           }
          ],
          "scattergeo": [
           {
            "marker": {
             "colorbar": {
              "outlinewidth": 0,
              "ticks": ""
             }
            },
            "type": "scattergeo"
           }
          ],
          "scattergl": [
           {
            "marker": {
             "colorbar": {
              "outlinewidth": 0,
              "ticks": ""
             }
            },
            "type": "scattergl"
           }
          ],
          "scattermapbox": [
           {
            "marker": {
             "colorbar": {
              "outlinewidth": 0,
              "ticks": ""
             }
            },
            "type": "scattermapbox"
           }
          ],
          "scatterpolar": [
           {
            "marker": {
             "colorbar": {
              "outlinewidth": 0,
              "ticks": ""
             }
            },
            "type": "scatterpolar"
           }
          ],
          "scatterpolargl": [
           {
            "marker": {
             "colorbar": {
              "outlinewidth": 0,
              "ticks": ""
             }
            },
            "type": "scatterpolargl"
           }
          ],
          "scatterternary": [
           {
            "marker": {
             "colorbar": {
              "outlinewidth": 0,
              "ticks": ""
             }
            },
            "type": "scatterternary"
           }
          ],
          "surface": [
           {
            "colorbar": {
             "outlinewidth": 0,
             "ticks": ""
            },
            "colorscale": [
             [
              0,
              "#0d0887"
             ],
             [
              0.1111111111111111,
              "#46039f"
             ],
             [
              0.2222222222222222,
              "#7201a8"
             ],
             [
              0.3333333333333333,
              "#9c179e"
             ],
             [
              0.4444444444444444,
              "#bd3786"
             ],
             [
              0.5555555555555556,
              "#d8576b"
             ],
             [
              0.6666666666666666,
              "#ed7953"
             ],
             [
              0.7777777777777778,
              "#fb9f3a"
             ],
             [
              0.8888888888888888,
              "#fdca26"
             ],
             [
              1,
              "#f0f921"
             ]
            ],
            "type": "surface"
           }
          ],
          "table": [
           {
            "cells": {
             "fill": {
              "color": "#EBF0F8"
             },
             "line": {
              "color": "white"
             }
            },
            "header": {
             "fill": {
              "color": "#C8D4E3"
             },
             "line": {
              "color": "white"
             }
            },
            "type": "table"
           }
          ]
         },
         "layout": {
          "annotationdefaults": {
           "arrowcolor": "#2a3f5f",
           "arrowhead": 0,
           "arrowwidth": 1
          },
          "autotypenumbers": "strict",
          "coloraxis": {
           "colorbar": {
            "outlinewidth": 0,
            "ticks": ""
           }
          },
          "colorscale": {
           "diverging": [
            [
             0,
             "#8e0152"
            ],
            [
             0.1,
             "#c51b7d"
            ],
            [
             0.2,
             "#de77ae"
            ],
            [
             0.3,
             "#f1b6da"
            ],
            [
             0.4,
             "#fde0ef"
            ],
            [
             0.5,
             "#f7f7f7"
            ],
            [
             0.6,
             "#e6f5d0"
            ],
            [
             0.7,
             "#b8e186"
            ],
            [
             0.8,
             "#7fbc41"
            ],
            [
             0.9,
             "#4d9221"
            ],
            [
             1,
             "#276419"
            ]
           ],
           "sequential": [
            [
             0,
             "#0d0887"
            ],
            [
             0.1111111111111111,
             "#46039f"
            ],
            [
             0.2222222222222222,
             "#7201a8"
            ],
            [
             0.3333333333333333,
             "#9c179e"
            ],
            [
             0.4444444444444444,
             "#bd3786"
            ],
            [
             0.5555555555555556,
             "#d8576b"
            ],
            [
             0.6666666666666666,
             "#ed7953"
            ],
            [
             0.7777777777777778,
             "#fb9f3a"
            ],
            [
             0.8888888888888888,
             "#fdca26"
            ],
            [
             1,
             "#f0f921"
            ]
           ],
           "sequentialminus": [
            [
             0,
             "#0d0887"
            ],
            [
             0.1111111111111111,
             "#46039f"
            ],
            [
             0.2222222222222222,
             "#7201a8"
            ],
            [
             0.3333333333333333,
             "#9c179e"
            ],
            [
             0.4444444444444444,
             "#bd3786"
            ],
            [
             0.5555555555555556,
             "#d8576b"
            ],
            [
             0.6666666666666666,
             "#ed7953"
            ],
            [
             0.7777777777777778,
             "#fb9f3a"
            ],
            [
             0.8888888888888888,
             "#fdca26"
            ],
            [
             1,
             "#f0f921"
            ]
           ]
          },
          "colorway": [
           "#636efa",
           "#EF553B",
           "#00cc96",
           "#ab63fa",
           "#FFA15A",
           "#19d3f3",
           "#FF6692",
           "#B6E880",
           "#FF97FF",
           "#FECB52"
          ],
          "font": {
           "color": "#2a3f5f"
          },
          "geo": {
           "bgcolor": "white",
           "lakecolor": "white",
           "landcolor": "#E5ECF6",
           "showlakes": true,
           "showland": true,
           "subunitcolor": "white"
          },
          "hoverlabel": {
           "align": "left"
          },
          "hovermode": "closest",
          "mapbox": {
           "style": "light"
          },
          "paper_bgcolor": "white",
          "plot_bgcolor": "#E5ECF6",
          "polar": {
           "angularaxis": {
            "gridcolor": "white",
            "linecolor": "white",
            "ticks": ""
           },
           "bgcolor": "#E5ECF6",
           "radialaxis": {
            "gridcolor": "white",
            "linecolor": "white",
            "ticks": ""
           }
          },
          "scene": {
           "xaxis": {
            "backgroundcolor": "#E5ECF6",
            "gridcolor": "white",
            "gridwidth": 2,
            "linecolor": "white",
            "showbackground": true,
            "ticks": "",
            "zerolinecolor": "white"
           },
           "yaxis": {
            "backgroundcolor": "#E5ECF6",
            "gridcolor": "white",
            "gridwidth": 2,
            "linecolor": "white",
            "showbackground": true,
            "ticks": "",
            "zerolinecolor": "white"
           },
           "zaxis": {
            "backgroundcolor": "#E5ECF6",
            "gridcolor": "white",
            "gridwidth": 2,
            "linecolor": "white",
            "showbackground": true,
            "ticks": "",
            "zerolinecolor": "white"
           }
          },
          "shapedefaults": {
           "line": {
            "color": "#2a3f5f"
           }
          },
          "ternary": {
           "aaxis": {
            "gridcolor": "white",
            "linecolor": "white",
            "ticks": ""
           },
           "baxis": {
            "gridcolor": "white",
            "linecolor": "white",
            "ticks": ""
           },
           "bgcolor": "#E5ECF6",
           "caxis": {
            "gridcolor": "white",
            "linecolor": "white",
            "ticks": ""
           }
          },
          "title": {
           "x": 0.05
          },
          "xaxis": {
           "automargin": true,
           "gridcolor": "white",
           "linecolor": "white",
           "ticks": "",
           "title": {
            "standoff": 15
           },
           "zerolinecolor": "white",
           "zerolinewidth": 2
          },
          "yaxis": {
           "automargin": true,
           "gridcolor": "white",
           "linecolor": "white",
           "ticks": "",
           "title": {
            "standoff": 15
           },
           "zerolinecolor": "white",
           "zerolinewidth": 2
          }
         }
        },
        "title": {
         "text": "Difficulty Distribution",
         "x": 0.5
        },
        "width": 800,
        "xaxis": {
         "anchor": "y",
         "categoryarray": [
          "easy",
          "moderate",
          "hard",
          "very hard"
         ],
         "categoryorder": "array",
         "domain": [
          0,
          1
         ],
         "title": {
          "text": "Difficulty"
         }
        },
        "yaxis": {
         "anchor": "x",
         "domain": [
          0,
          1
         ],
         "title": {
          "text": "Count"
         }
        }
       }
      }
     },
     "metadata": {},
     "output_type": "display_data"
    }
   ],
   "source": [
    "# Plot difficulty distribution of of challenge words that doesn't contain 'r', 's' or 't'\n",
    "difficulty_distribution(challenge_words_without_r_s_t)"
   ]
  },
  {
   "cell_type": "markdown",
   "id": "bf0dbed8",
   "metadata": {},
   "source": [
    "## Null values (Incomplete games)"
   ]
  },
  {
   "cell_type": "code",
   "execution_count": 19,
   "id": "9f6b0faf",
   "metadata": {
    "ExecuteTime": {
     "end_time": "2023-12-08T16:02:12.143030Z",
     "start_time": "2023-12-08T16:02:11.747093Z"
    }
   },
   "outputs": [],
   "source": [
    "incomplete_games = (\n",
    "    simulating_tries_difficulty\n",
    "    .filter(pl.col(\"tries\").is_null())\n",
    ")"
   ]
  },
  {
   "cell_type": "code",
   "execution_count": 20,
   "id": "09466b50",
   "metadata": {
    "ExecuteTime": {
     "end_time": "2023-12-08T16:02:15.312162Z",
     "start_time": "2023-12-08T16:02:15.297501Z"
    }
   },
   "outputs": [
    {
     "data": {
      "text/html": [
       "<pre style=\"white-space:pre;overflow-x:auto;line-height:normal;font-family:Menlo,'DejaVu Sans Mono',consolas,'Courier New',monospace\"></pre>\n"
      ],
      "text/plain": []
     },
     "metadata": {},
     "output_type": "display_data"
    },
    {
     "data": {
      "text/html": [
       "<div><style>\n",
       ".dataframe > thead > tr,\n",
       ".dataframe > tbody > tr {\n",
       "  text-align: right;\n",
       "  white-space: pre-wrap;\n",
       "}\n",
       "</style>\n",
       "<small>shape: (5, 19)</small><table border=\"1\" class=\"dataframe\"><thead><tr><th>challenge</th><th>guess</th><th>letter_differences</th><th>common_letters</th><th>num_diff_letters</th><th>num_common_letters</th><th>num_matching_index</th><th>match_pattern</th><th>num_choices_after_guess</th><th>possible_guesses</th><th>challenge_in_possible_guesses</th><th>next_guess</th><th>group</th><th>tries</th><th>difficulty</th><th>guess_word_anagrams</th><th>anagram_num</th><th>anagrams</th><th>anagram_num_right</th></tr><tr><td>str</td><td>str</td><td>str</td><td>str</td><td>u8</td><td>u8</td><td>u8</td><td>str</td><td>u16</td><td>str</td><td>bool</td><td>str</td><td>u32</td><td>u8</td><td>str</td><td>str</td><td>u8</td><td>str</td><td>u8</td></tr></thead><tbody><tr><td>&quot;scaly&quot;</td><td>&quot;saint&quot;</td><td>&quot;nit&quot;</td><td>&quot;sa&quot;</td><td>3</td><td>2</td><td>1</td><td>&quot;GYBBB&quot;</td><td>171</td><td>&quot;small, share, shall, space, sp…</td><td>false</td><td>&quot;loure&quot;</td><td>11</td><td>null</td><td>&quot;very hard&quot;</td><td>&quot;saint, stain, satin, antis, na…</td><td>5</td><td>&quot;loure, roule&quot;</td><td>2</td></tr><tr><td>&quot;scaly&quot;</td><td>&quot;loure&quot;</td><td>&quot;nuieotr&quot;</td><td>&quot;sal&quot;</td><td>7</td><td>3</td><td>1</td><td>&quot;YBBBB&quot;</td><td>22</td><td>&quot;shall, small, scalp, scala, sp…</td><td>true</td><td>&quot;shall&quot;</td><td>11</td><td>null</td><td>&quot;very hard&quot;</td><td>&quot;loure, roule&quot;</td><td>2</td><td>&quot;shall&quot;</td><td>1</td></tr><tr><td>&quot;scaly&quot;</td><td>&quot;shall&quot;</td><td>&quot;nuieothr&quot;</td><td>&quot;sal&quot;</td><td>8</td><td>3</td><td>2</td><td>&quot;GBGGY&quot;</td><td>9</td><td>&quot;slack, scalp, scala, scaly, sc…</td><td>true</td><td>&quot;slack&quot;</td><td>11</td><td>null</td><td>&quot;very hard&quot;</td><td>&quot;shall&quot;</td><td>1</td><td>&quot;slack&quot;</td><td>1</td></tr><tr><td>&quot;scaly&quot;</td><td>&quot;slack&quot;</td><td>&quot;nukieothr&quot;</td><td>&quot;salc&quot;</td><td>9</td><td>4</td><td>2</td><td>&quot;GYGYB&quot;</td><td>4</td><td>&quot;scalp, scala, scaly, scald&quot;</td><td>true</td><td>&quot;scalp&quot;</td><td>11</td><td>null</td><td>&quot;very hard&quot;</td><td>&quot;slack&quot;</td><td>1</td><td>&quot;scalp, clasp&quot;</td><td>2</td></tr><tr><td>&quot;scaly&quot;</td><td>&quot;scalp&quot;</td><td>&quot;nukipeothr&quot;</td><td>&quot;salc&quot;</td><td>10</td><td>4</td><td>4</td><td>&quot;GGGGB&quot;</td><td>3</td><td>&quot;scala, scald, scaly&quot;</td><td>true</td><td>&quot;scala&quot;</td><td>11</td><td>null</td><td>&quot;very hard&quot;</td><td>&quot;scalp, clasp&quot;</td><td>2</td><td>&quot;scala&quot;</td><td>1</td></tr></tbody></table></div>"
      ],
      "text/plain": [
       "\n",
       "shape: \u001b[1m(\u001b[0m\u001b[1;36m5\u001b[0m, \u001b[1;36m19\u001b[0m\u001b[1m)\u001b[0m\n",
       "┌───────────┬───────┬────────────┬────────────┬───┬────────────┬───────────┬───────────┬───────────┐\n",
       "│ challenge ┆ guess ┆ letter_dif ┆ common_let ┆ … ┆ guess_word ┆ anagram_n ┆ anagrams  ┆ anagram_n │\n",
       "│ ---       ┆ ---   ┆ ferences   ┆ ters       ┆   ┆ _anagrams  ┆ um        ┆ ---       ┆ um_right  │\n",
       "│ str       ┆ str   ┆ ---        ┆ ---        ┆   ┆ ---        ┆ ---       ┆ str       ┆ ---       │\n",
       "│           ┆       ┆ str        ┆ str        ┆   ┆ str        ┆ u8        ┆           ┆ u8        │\n",
       "╞═══════════╪═══════╪════════════╪════════════╪═══╪════════════╪═══════════╪═══════════╪═══════════╡\n",
       "│ scaly     ┆ saint ┆ nit        ┆ sa         ┆ … ┆ saint,     ┆ \u001b[1;36m5\u001b[0m         ┆ loure,    ┆ \u001b[1;36m2\u001b[0m         │\n",
       "│           ┆       ┆            ┆            ┆   ┆ stain,     ┆           ┆ roule     ┆           │\n",
       "│           ┆       ┆            ┆            ┆   ┆ satin,     ┆           ┆           ┆           │\n",
       "│           ┆       ┆            ┆            ┆   ┆ antis, na… ┆           ┆           ┆           │\n",
       "│ scaly     ┆ loure ┆ nuieotr    ┆ sal        ┆ … ┆ loure,     ┆ \u001b[1;36m2\u001b[0m         ┆ shall     ┆ \u001b[1;36m1\u001b[0m         │\n",
       "│           ┆       ┆            ┆            ┆   ┆ roule      ┆           ┆           ┆           │\n",
       "│ scaly     ┆ shall ┆ nuieothr   ┆ sal        ┆ … ┆ shall      ┆ \u001b[1;36m1\u001b[0m         ┆ slack     ┆ \u001b[1;36m1\u001b[0m         │\n",
       "│ scaly     ┆ slack ┆ nukieothr  ┆ salc       ┆ … ┆ slack      ┆ \u001b[1;36m1\u001b[0m         ┆ scalp,    ┆ \u001b[1;36m2\u001b[0m         │\n",
       "│           ┆       ┆            ┆            ┆   ┆            ┆           ┆ clasp     ┆           │\n",
       "│ scaly     ┆ scalp ┆ nukipeothr ┆ salc       ┆ … ┆ scalp,     ┆ \u001b[1;36m2\u001b[0m         ┆ scala     ┆ \u001b[1;36m1\u001b[0m         │\n",
       "│           ┆       ┆            ┆            ┆   ┆ clasp      ┆           ┆           ┆           │\n",
       "└───────────┴───────┴────────────┴────────────┴───┴────────────┴───────────┴───────────┴───────────┘"
      ]
     },
     "execution_count": 20,
     "metadata": {},
     "output_type": "execute_result"
    }
   ],
   "source": [
    "incomplete_games.head()"
   ]
  },
  {
   "cell_type": "code",
   "execution_count": 21,
   "id": "b907a981",
   "metadata": {
    "ExecuteTime": {
     "end_time": "2023-12-08T16:02:19.355001Z",
     "start_time": "2023-12-08T16:02:19.314635Z"
    }
   },
   "outputs": [
    {
     "data": {
      "text/html": [
       "<pre style=\"white-space:pre;overflow-x:auto;line-height:normal;font-family:Menlo,'DejaVu Sans Mono',consolas,'Courier New',monospace\"></pre>\n"
      ],
      "text/plain": []
     },
     "metadata": {},
     "output_type": "display_data"
    },
    {
     "data": {
      "text/html": [
       "<table border=\"1\" class=\"dataframe\">\n",
       "  <thead>\n",
       "    <tr style=\"text-align: right;\">\n",
       "      <th></th>\n",
       "      <th>challenge</th>\n",
       "      <th>guess</th>\n",
       "      <th>match_pattern</th>\n",
       "      <th>next_guess</th>\n",
       "      <th>num_choices_after_guess</th>\n",
       "      <th>possible_guesses</th>\n",
       "      <th>difficulty</th>\n",
       "    </tr>\n",
       "  </thead>\n",
       "  <tbody>\n",
       "    <tr>\n",
       "      <th>0</th>\n",
       "      <td>cabby</td>\n",
       "      <td>saint</td>\n",
       "      <td><div style='display:inline-block; width:20px; height:20px; margin:1px; text-align:center; font-weight:bold; background-color: black;'>s</div><div style='display:inline-block; width:20px; height:20px; margin:1px; text-align:center; font-weight:bold; background-color: green;'>a</div><div style='display:inline-block; width:20px; height:20px; margin:1px; text-align:center; font-weight:bold; background-color: black;'>i</div><div style='display:inline-block; width:20px; height:20px; margin:1px; text-align:center; font-weight:bold; background-color: black;'>n</div><div style='display:inline-block; width:20px; height:20px; margin:1px; text-align:center; font-weight:bold; background-color: black;'>t</div></td>\n",
       "      <td>loure</td>\n",
       "      <td>495</td>\n",
       "      <td>early, carry, major, badly, karma, value, happy, mayor, march, havoc</td>\n",
       "      <td>very hard</td>\n",
       "    </tr>\n",
       "    <tr>\n",
       "      <th>1</th>\n",
       "      <td>cabby</td>\n",
       "      <td>loure</td>\n",
       "      <td><div style='display:inline-block; width:20px; height:20px; margin:1px; text-align:center; font-weight:bold; background-color: black;'>l</div><div style='display:inline-block; width:20px; height:20px; margin:1px; text-align:center; font-weight:bold; background-color: black;'>o</div><div style='display:inline-block; width:20px; height:20px; margin:1px; text-align:center; font-weight:bold; background-color: black;'>u</div><div style='display:inline-block; width:20px; height:20px; margin:1px; text-align:center; font-weight:bold; background-color: black;'>r</div><div style='display:inline-block; width:20px; height:20px; margin:1px; text-align:center; font-weight:bold; background-color: black;'>e</div></td>\n",
       "      <td>daddy</td>\n",
       "      <td>77</td>\n",
       "      <td>daddy, happy, gamma, paddy, madam, mamma, jazzy, pappy, gamba, kappa</td>\n",
       "      <td>very hard</td>\n",
       "    </tr>\n",
       "    <tr>\n",
       "      <th>2</th>\n",
       "      <td>cabby</td>\n",
       "      <td>daddy</td>\n",
       "      <td><div style='display:inline-block; width:20px; height:20px; margin:1px; text-align:center; font-weight:bold; background-color: black;'>d</div><div style='display:inline-block; width:20px; height:20px; margin:1px; text-align:center; font-weight:bold; background-color: green;'>a</div><div style='display:inline-block; width:20px; height:20px; margin:1px; text-align:center; font-weight:bold; background-color: black;'>d</div><div style='display:inline-block; width:20px; height:20px; margin:1px; text-align:center; font-weight:bold; background-color: black;'>d</div><div style='display:inline-block; width:20px; height:20px; margin:1px; text-align:center; font-weight:bold; background-color: green;'>y</div></td>\n",
       "      <td>happy</td>\n",
       "      <td>29</td>\n",
       "      <td>happy, mammy, jacky, baggy, gabby, pappy, cabby, gawky, jazzy, wacky</td>\n",
       "      <td>very hard</td>\n",
       "    </tr>\n",
       "    <tr>\n",
       "      <th>3</th>\n",
       "      <td>cabby</td>\n",
       "      <td>happy</td>\n",
       "      <td><div style='display:inline-block; width:20px; height:20px; margin:1px; text-align:center; font-weight:bold; background-color: black;'>h</div><div style='display:inline-block; width:20px; height:20px; margin:1px; text-align:center; font-weight:bold; background-color: green;'>a</div><div style='display:inline-block; width:20px; height:20px; margin:1px; text-align:center; font-weight:bold; background-color: black;'>p</div><div style='display:inline-block; width:20px; height:20px; margin:1px; text-align:center; font-weight:bold; background-color: black;'>p</div><div style='display:inline-block; width:20px; height:20px; margin:1px; text-align:center; font-weight:bold; background-color: green;'>y</div></td>\n",
       "      <td>mammy</td>\n",
       "      <td>19</td>\n",
       "      <td>mammy, baggy, jacky, gabby, wacky, gawky, jazzy, cabby, mawky, yabby</td>\n",
       "      <td>very hard</td>\n",
       "    </tr>\n",
       "    <tr>\n",
       "      <th>4</th>\n",
       "      <td>cabby</td>\n",
       "      <td>mammy</td>\n",
       "      <td><div style='display:inline-block; width:20px; height:20px; margin:1px; text-align:center; font-weight:bold; background-color: black;'>m</div><div style='display:inline-block; width:20px; height:20px; margin:1px; text-align:center; font-weight:bold; background-color: green;'>a</div><div style='display:inline-block; width:20px; height:20px; margin:1px; text-align:center; font-weight:bold; background-color: black;'>m</div><div style='display:inline-block; width:20px; height:20px; margin:1px; text-align:center; font-weight:bold; background-color: black;'>m</div><div style='display:inline-block; width:20px; height:20px; margin:1px; text-align:center; font-weight:bold; background-color: green;'>y</div></td>\n",
       "      <td>baggy</td>\n",
       "      <td>14</td>\n",
       "      <td>baggy, jacky, gabby, wacky, gawky, jazzy, cabby, yabby, faggy, baffy</td>\n",
       "      <td>very hard</td>\n",
       "    </tr>\n",
       "    <tr>\n",
       "      <th>5</th>\n",
       "      <td>cabby</td>\n",
       "      <td>baggy</td>\n",
       "      <td><div style='display:inline-block; width:20px; height:20px; margin:1px; text-align:center; font-weight:bold; background-color: #FDBE02;'>b</div><div style='display:inline-block; width:20px; height:20px; margin:1px; text-align:center; font-weight:bold; background-color: green;'>a</div><div style='display:inline-block; width:20px; height:20px; margin:1px; text-align:center; font-weight:bold; background-color: black;'>g</div><div style='display:inline-block; width:20px; height:20px; margin:1px; text-align:center; font-weight:bold; background-color: black;'>g</div><div style='display:inline-block; width:20px; height:20px; margin:1px; text-align:center; font-weight:bold; background-color: green;'>y</div></td>\n",
       "      <td>cabby</td>\n",
       "      <td>2</td>\n",
       "      <td>cabby, yabby</td>\n",
       "      <td>very hard</td>\n",
       "    </tr>\n",
       "  </tbody>\n",
       "</table>"
      ],
      "text/plain": [
       "\u001b[1m<\u001b[0m\u001b[1;95mIPython.core.display.HTML\u001b[0m\u001b[39m object\u001b[0m\u001b[1m>\u001b[0m"
      ]
     },
     "execution_count": 21,
     "metadata": {},
     "output_type": "execute_result"
    }
   ],
   "source": [
    "null_select_group = rng.choice(incomplete_games[\"group\"], 1, replace = False)[0]\n",
    "\n",
    "HTML(\n",
    "    incomplete_games\n",
    "    .filter(pl.col(\"group\") == null_select_group)\n",
    "    .to_pandas()\n",
    "    .assign(\n",
    "        match_pattern = lambda df_:\n",
    "        color_pattern_matching(\n",
    "            dataf=df_,\n",
    "            challenge_col=\"challenge\",\n",
    "            guess_col=\"guess\"\n",
    "        )\n",
    "    )\n",
    "    [[\n",
    "        \"challenge\", \"guess\", \"match_pattern\", \"next_guess\",\n",
    "        \"num_choices_after_guess\", \"possible_guesses\", \"difficulty\",\n",
    "    ]]\n",
    "    .to_html(escape=False)\n",
    ")"
   ]
  },
  {
   "cell_type": "code",
   "execution_count": 22,
   "id": "07a8aefd",
   "metadata": {},
   "outputs": [
    {
     "data": {
      "text/html": [
       "<pre style=\"white-space:pre;overflow-x:auto;line-height:normal;font-family:Menlo,'DejaVu Sans Mono',consolas,'Courier New',monospace\"></pre>\n"
      ],
      "text/plain": []
     },
     "metadata": {},
     "output_type": "display_data"
    },
    {
     "data": {
      "text/html": [
       "<div><style>\n",
       ".dataframe > thead > tr,\n",
       ".dataframe > tbody > tr {\n",
       "  text-align: right;\n",
       "  white-space: pre-wrap;\n",
       "}\n",
       "</style>\n",
       "<small>shape: (6, 7)</small><table border=\"1\" class=\"dataframe\"><thead><tr><th>challenge</th><th>guess</th><th>match_pattern</th><th>num_choices_after_guess</th><th>possible_guesses</th><th>challenge_in_possible_guesses</th><th>next_guess</th></tr><tr><td>str</td><td>str</td><td>str</td><td>u16</td><td>str</td><td>bool</td><td>str</td></tr></thead><tbody><tr><td>&quot;cabby&quot;</td><td>&quot;saint&quot;</td><td>&quot;BGBBB&quot;</td><td>495</td><td>&quot;early, carry, major, badly, ka…</td><td>false</td><td>&quot;loure&quot;</td></tr><tr><td>&quot;cabby&quot;</td><td>&quot;loure&quot;</td><td>&quot;BBBBB&quot;</td><td>77</td><td>&quot;daddy, happy, gamma, paddy, ma…</td><td>false</td><td>&quot;daddy&quot;</td></tr><tr><td>&quot;cabby&quot;</td><td>&quot;daddy&quot;</td><td>&quot;BGBBG&quot;</td><td>29</td><td>&quot;happy, mammy, jacky, baggy, ga…</td><td>true</td><td>&quot;happy&quot;</td></tr><tr><td>&quot;cabby&quot;</td><td>&quot;happy&quot;</td><td>&quot;BGBBG&quot;</td><td>19</td><td>&quot;mammy, baggy, jacky, gabby, wa…</td><td>true</td><td>&quot;mammy&quot;</td></tr><tr><td>&quot;cabby&quot;</td><td>&quot;mammy&quot;</td><td>&quot;BGBBG&quot;</td><td>14</td><td>&quot;baggy, jacky, gabby, wacky, ga…</td><td>true</td><td>&quot;baggy&quot;</td></tr><tr><td>&quot;cabby&quot;</td><td>&quot;baggy&quot;</td><td>&quot;YGBBG&quot;</td><td>2</td><td>&quot;cabby, yabby&quot;</td><td>true</td><td>&quot;cabby&quot;</td></tr></tbody></table></div>"
      ],
      "text/plain": [
       "\n",
       "shape: \u001b[1m(\u001b[0m\u001b[1;36m6\u001b[0m, \u001b[1;36m7\u001b[0m\u001b[1m)\u001b[0m\n",
       "┌───────────┬───────┬───────────────┬────────────────┬────────────────┬───────────────┬────────────┐\n",
       "│ challenge ┆ guess ┆ match_pattern ┆ num_choices_af ┆ possible_guess ┆ challenge_in_ ┆ next_guess │\n",
       "│ ---       ┆ ---   ┆ ---           ┆ ter_guess      ┆ es             ┆ possible_gues ┆ ---        │\n",
       "│ str       ┆ str   ┆ str           ┆ ---            ┆ ---            ┆ ses           ┆ str        │\n",
       "│           ┆       ┆               ┆ u16            ┆ str            ┆ ---           ┆            │\n",
       "│           ┆       ┆               ┆                ┆                ┆ bool          ┆            │\n",
       "╞═══════════╪═══════╪═══════════════╪════════════════╪════════════════╪═══════════════╪════════════╡\n",
       "│ cabby     ┆ saint ┆ BGBBB         ┆ \u001b[1;36m495\u001b[0m            ┆ early, carry,  ┆ false         ┆ loure      │\n",
       "│           ┆       ┆               ┆                ┆ major, badly,  ┆               ┆            │\n",
       "│           ┆       ┆               ┆                ┆ ka…            ┆               ┆            │\n",
       "│ cabby     ┆ loure ┆ BBBBB         ┆ \u001b[1;36m77\u001b[0m             ┆ daddy, happy,  ┆ false         ┆ daddy      │\n",
       "│           ┆       ┆               ┆                ┆ gamma, paddy,  ┆               ┆            │\n",
       "│           ┆       ┆               ┆                ┆ ma…            ┆               ┆            │\n",
       "│ cabby     ┆ daddy ┆ BGBBG         ┆ \u001b[1;36m29\u001b[0m             ┆ happy, mammy,  ┆ true          ┆ happy      │\n",
       "│           ┆       ┆               ┆                ┆ jacky, baggy,  ┆               ┆            │\n",
       "│           ┆       ┆               ┆                ┆ ga…            ┆               ┆            │\n",
       "│ cabby     ┆ happy ┆ BGBBG         ┆ \u001b[1;36m19\u001b[0m             ┆ mammy, baggy,  ┆ true          ┆ mammy      │\n",
       "│           ┆       ┆               ┆                ┆ jacky, gabby,  ┆               ┆            │\n",
       "│           ┆       ┆               ┆                ┆ wa…            ┆               ┆            │\n",
       "│ cabby     ┆ mammy ┆ BGBBG         ┆ \u001b[1;36m14\u001b[0m             ┆ baggy, jacky,  ┆ true          ┆ baggy      │\n",
       "│           ┆       ┆               ┆                ┆ gabby, wacky,  ┆               ┆            │\n",
       "│           ┆       ┆               ┆                ┆ ga…            ┆               ┆            │\n",
       "│ cabby     ┆ baggy ┆ YGBBG         ┆ \u001b[1;36m2\u001b[0m              ┆ cabby, yabby   ┆ true          ┆ cabby      │\n",
       "└───────────┴───────┴───────────────┴────────────────┴────────────────┴───────────────┴────────────┘"
      ]
     },
     "execution_count": 22,
     "metadata": {},
     "output_type": "execute_result"
    }
   ],
   "source": [
    "incomplete_games_check = (\n",
    "    incomplete_games\n",
    "    .filter(pl.col(\"group\") == null_select_group)\n",
    "    .select(\n",
    "        \"challenge\", \"guess\", \"match_pattern\", \"num_choices_after_guess\",\n",
    "        \"possible_guesses\", \"challenge_in_possible_guesses\", \"next_guess\"\n",
    "    )\n",
    ")\n",
    "\n",
    "incomplete_games_check"
   ]
  },
  {
   "cell_type": "code",
   "execution_count": 23,
   "id": "e82f0b80",
   "metadata": {},
   "outputs": [
    {
     "data": {
      "text/html": [
       "<pre style=\"white-space:pre;overflow-x:auto;line-height:normal;font-family:Menlo,'DejaVu Sans Mono',consolas,'Courier New',monospace\"></pre>\n"
      ],
      "text/plain": []
     },
     "metadata": {},
     "output_type": "display_data"
    },
    {
     "data": {
      "text/plain": [
       "\u001b[32m'early, carry, major, badly, karma, value, happy, mayor, march, havoc'\u001b[0m"
      ]
     },
     "execution_count": 23,
     "metadata": {},
     "output_type": "execute_result"
    }
   ],
   "source": [
    "(\n",
    "    incomplete_games_check\n",
    "    .gather_every(n=1)\n",
    "    .head(1)\n",
    "    [\"possible_guesses\"]\n",
    "    .item()\n",
    ")"
   ]
  },
  {
   "cell_type": "code",
   "execution_count": 24,
   "id": "2239a205",
   "metadata": {},
   "outputs": [
    {
     "data": {
      "text/html": [
       "<pre style=\"white-space:pre;overflow-x:auto;line-height:normal;font-family:Menlo,'DejaVu Sans Mono',consolas,'Courier New',monospace\"></pre>\n"
      ],
      "text/plain": []
     },
     "metadata": {},
     "output_type": "display_data"
    },
    {
     "data": {
      "text/plain": [
       "\u001b[32m'daddy, happy, gamma, paddy, madam, mamma, jazzy, pappy, gamba, kappa'\u001b[0m"
      ]
     },
     "execution_count": 24,
     "metadata": {},
     "output_type": "execute_result"
    }
   ],
   "source": [
    "(\n",
    "    incomplete_games_check\n",
    "    .gather_every(n=1, offset=1)\n",
    "    .head(1)\n",
    "    [\"possible_guesses\"]\n",
    "    .item()\n",
    ")"
   ]
  },
  {
   "cell_type": "code",
   "execution_count": 25,
   "id": "c35129ae",
   "metadata": {},
   "outputs": [
    {
     "data": {
      "text/html": [
       "<pre style=\"white-space:pre;overflow-x:auto;line-height:normal;font-family:Menlo,'DejaVu Sans Mono',consolas,'Courier New',monospace\"></pre>\n"
      ],
      "text/plain": []
     },
     "metadata": {},
     "output_type": "display_data"
    },
    {
     "data": {
      "text/plain": [
       "\u001b[32m'happy, mammy, jacky, baggy, gabby, pappy, cabby, gawky, jazzy, wacky'\u001b[0m"
      ]
     },
     "execution_count": 25,
     "metadata": {},
     "output_type": "execute_result"
    }
   ],
   "source": [
    "(\n",
    "    incomplete_games_check\n",
    "    .gather_every(n=1, offset=2)\n",
    "    .head(1)\n",
    "    [\"possible_guesses\"]\n",
    "    .item()\n",
    ")"
   ]
  },
  {
   "cell_type": "code",
   "execution_count": 26,
   "id": "7a502f70",
   "metadata": {},
   "outputs": [
    {
     "data": {
      "text/html": [
       "<pre style=\"white-space:pre;overflow-x:auto;line-height:normal;font-family:Menlo,'DejaVu Sans Mono',consolas,'Courier New',monospace\"></pre>\n"
      ],
      "text/plain": []
     },
     "metadata": {},
     "output_type": "display_data"
    },
    {
     "data": {
      "text/plain": [
       "\u001b[32m'mammy, baggy, jacky, gabby, wacky, gawky, jazzy, cabby, mawky, yabby'\u001b[0m"
      ]
     },
     "execution_count": 26,
     "metadata": {},
     "output_type": "execute_result"
    }
   ],
   "source": [
    "(\n",
    "    incomplete_games_check\n",
    "    .gather_every(n=1, offset=3)\n",
    "    .head(1)\n",
    "    [\"possible_guesses\"]\n",
    "    .item()\n",
    ")"
   ]
  },
  {
   "cell_type": "code",
   "execution_count": 27,
   "id": "05f27d45",
   "metadata": {},
   "outputs": [
    {
     "data": {
      "text/html": [
       "<pre style=\"white-space:pre;overflow-x:auto;line-height:normal;font-family:Menlo,'DejaVu Sans Mono',consolas,'Courier New',monospace\"></pre>\n"
      ],
      "text/plain": []
     },
     "metadata": {},
     "output_type": "display_data"
    },
    {
     "data": {
      "text/plain": [
       "\u001b[32m'baggy, jacky, gabby, wacky, gawky, jazzy, cabby, yabby, faggy, baffy'\u001b[0m"
      ]
     },
     "execution_count": 27,
     "metadata": {},
     "output_type": "execute_result"
    }
   ],
   "source": [
    "(\n",
    "    incomplete_games_check\n",
    "    .gather_every(n=1, offset=4)\n",
    "    .head(1)\n",
    "    [\"possible_guesses\"]\n",
    "    .item()\n",
    ")"
   ]
  },
  {
   "cell_type": "code",
   "execution_count": 28,
   "id": "ba477afa",
   "metadata": {},
   "outputs": [
    {
     "data": {
      "text/html": [
       "<pre style=\"white-space:pre;overflow-x:auto;line-height:normal;font-family:Menlo,'DejaVu Sans Mono',consolas,'Courier New',monospace\"></pre>\n"
      ],
      "text/plain": []
     },
     "metadata": {},
     "output_type": "display_data"
    },
    {
     "data": {
      "text/plain": [
       "\u001b[32m'cabby, yabby'\u001b[0m"
      ]
     },
     "execution_count": 28,
     "metadata": {},
     "output_type": "execute_result"
    }
   ],
   "source": [
    "(\n",
    "    incomplete_games_check\n",
    "    .gather_every(n=1, offset=5)\n",
    "    .head(1)\n",
    "    [\"possible_guesses\"]\n",
    "    .item()\n",
    ")"
   ]
  },
  {
   "cell_type": "markdown",
   "id": "8c4922c5",
   "metadata": {},
   "source": [
    "### Plot incomplete games stats"
   ]
  },
  {
   "cell_type": "code",
   "execution_count": 29,
   "id": "031007ea",
   "metadata": {},
   "outputs": [
    {
     "data": {
      "text/html": [
       "<pre style=\"white-space:pre;overflow-x:auto;line-height:normal;font-family:Menlo,'DejaVu Sans Mono',consolas,'Courier New',monospace\"></pre>\n"
      ],
      "text/plain": []
     },
     "metadata": {},
     "output_type": "display_data"
    },
    {
     "data": {
      "text/html": [
       "<div><style>\n",
       ".dataframe > thead > tr,\n",
       ".dataframe > tbody > tr {\n",
       "  text-align: right;\n",
       "  white-space: pre-wrap;\n",
       "}\n",
       "</style>\n",
       "<small>shape: (5, 3)</small><table border=\"1\" class=\"dataframe\"><thead><tr><th>challenge</th><th>incomplete_games_count</th><th>incomplete_games_pct</th></tr><tr><td>str</td><td>u8</td><td>f32</td></tr></thead><tbody><tr><td>&quot;delly&quot;</td><td>1</td><td>100.0</td></tr><tr><td>&quot;woozy&quot;</td><td>1</td><td>100.0</td></tr><tr><td>&quot;scraw&quot;</td><td>1</td><td>100.0</td></tr><tr><td>&quot;caese&quot;</td><td>1</td><td>100.0</td></tr><tr><td>&quot;rakee&quot;</td><td>1</td><td>100.0</td></tr></tbody></table></div>"
      ],
      "text/plain": [
       "\n",
       "shape: \u001b[1m(\u001b[0m\u001b[1;36m5\u001b[0m, \u001b[1;36m3\u001b[0m\u001b[1m)\u001b[0m\n",
       "┌───────────┬────────────────────────┬──────────────────────┐\n",
       "│ challenge ┆ incomplete_games_count ┆ incomplete_games_pct │\n",
       "│ ---       ┆ ---                    ┆ ---                  │\n",
       "│ str       ┆ u8                     ┆ f32                  │\n",
       "╞═══════════╪════════════════════════╪══════════════════════╡\n",
       "│ delly     ┆ \u001b[1;36m1\u001b[0m                      ┆ \u001b[1;36m100.0\u001b[0m                │\n",
       "│ woozy     ┆ \u001b[1;36m1\u001b[0m                      ┆ \u001b[1;36m100.0\u001b[0m                │\n",
       "│ scraw     ┆ \u001b[1;36m1\u001b[0m                      ┆ \u001b[1;36m100.0\u001b[0m                │\n",
       "│ caese     ┆ \u001b[1;36m1\u001b[0m                      ┆ \u001b[1;36m100.0\u001b[0m                │\n",
       "│ rakee     ┆ \u001b[1;36m1\u001b[0m                      ┆ \u001b[1;36m100.0\u001b[0m                │\n",
       "└───────────┴────────────────────────┴──────────────────────┘"
      ]
     },
     "execution_count": 29,
     "metadata": {},
     "output_type": "execute_result"
    }
   ],
   "source": [
    "incomplete_games_stats = (\n",
    "    incomplete_games\n",
    "    .select(\"challenge\")\n",
    "    .unique(keep=\"first\")\n",
    "    .join(\n",
    "        (\n",
    "            incomplete_games\n",
    "            .unique(subset=\"group\", keep=\"first\")\n",
    "            [\"challenge\"]\n",
    "            .value_counts()\n",
    "        ),\n",
    "        left_on=\"challenge\",\n",
    "        right_on=\"challenge\"\n",
    "    )\n",
    "    .rename({\"count\": \"incomplete_games_count\"})\n",
    "    .with_columns(\n",
    "        pl.col(\"incomplete_games_count\").cast(pl.UInt8),\n",
    "        incomplete_games_pct = (\n",
    "            (pl.col(\"incomplete_games_count\") / first_guess[\"guess\"].n_unique() * 100)\n",
    "            .round(2)\n",
    "            .cast(pl.Float32)\n",
    "        )\n",
    "    )\n",
    "    .sort(by=\"incomplete_games_pct\", descending=True)\n",
    ")\n",
    "\n",
    "incomplete_games_stats.head()"
   ]
  },
  {
   "cell_type": "code",
   "execution_count": 30,
   "id": "898aece1",
   "metadata": {},
   "outputs": [
    {
     "data": {
      "text/html": [
       "<pre style=\"white-space:pre;overflow-x:auto;line-height:normal;font-family:Menlo,'DejaVu Sans Mono',consolas,'Courier New',monospace\"></pre>\n"
      ],
      "text/plain": []
     },
     "metadata": {},
     "output_type": "display_data"
    },
    {
     "data": {
      "text/html": [
       "<div><style>\n",
       ".dataframe > thead > tr,\n",
       ".dataframe > tbody > tr {\n",
       "  text-align: right;\n",
       "  white-space: pre-wrap;\n",
       "}\n",
       "</style>\n",
       "<small>shape: (5, 2)</small><table border=\"1\" class=\"dataframe\"><thead><tr><th>challenge</th><th>incomplete_games_count</th></tr><tr><td>str</td><td>u32</td></tr></thead><tbody><tr><td>&quot;cavie&quot;</td><td>1</td></tr><tr><td>&quot;ceric&quot;</td><td>1</td></tr><tr><td>&quot;minny&quot;</td><td>1</td></tr><tr><td>&quot;mutch&quot;</td><td>1</td></tr><tr><td>&quot;pyoid&quot;</td><td>1</td></tr></tbody></table></div>"
      ],
      "text/plain": [
       "\n",
       "shape: \u001b[1m(\u001b[0m\u001b[1;36m5\u001b[0m, \u001b[1;36m2\u001b[0m\u001b[1m)\u001b[0m\n",
       "┌───────────┬────────────────────────┐\n",
       "│ challenge ┆ incomplete_games_count │\n",
       "│ ---       ┆ ---                    │\n",
       "│ str       ┆ u32                    │\n",
       "╞═══════════╪════════════════════════╡\n",
       "│ cavie     ┆ \u001b[1;36m1\u001b[0m                      │\n",
       "│ ceric     ┆ \u001b[1;36m1\u001b[0m                      │\n",
       "│ minny     ┆ \u001b[1;36m1\u001b[0m                      │\n",
       "│ mutch     ┆ \u001b[1;36m1\u001b[0m                      │\n",
       "│ pyoid     ┆ \u001b[1;36m1\u001b[0m                      │\n",
       "└───────────┴────────────────────────┘"
      ]
     },
     "execution_count": 30,
     "metadata": {},
     "output_type": "execute_result"
    }
   ],
   "source": [
    "incomplete_games_count = (\n",
    "    first_guess\n",
    "    .filter(pl.col(\"difficulty\") == \"very hard\")\n",
    "    .group_by(\"challenge\")\n",
    "    .len()\n",
    "    .rename({\"len\": \"incomplete_games_count\"})\n",
    "    .sort(\"incomplete_games_count\", descending=True)\n",
    ")\n",
    "\n",
    "incomplete_games_count.head()"
   ]
  },
  {
   "cell_type": "code",
   "execution_count": 31,
   "id": "7a8122d8",
   "metadata": {},
   "outputs": [
    {
     "data": {
      "application/vnd.plotly.v1+json": {
       "config": {
        "plotlyServerURL": "https://plot.ly"
       },
       "data": [
        {
         "alignmentgroup": "True",
         "hovertemplate": "color=delly<br>Challenge=%{x}<br>Incomplete Percent=%{y}<extra></extra>",
         "legendgroup": "delly",
         "marker": {
          "color": "#8dd3c7",
          "pattern": {
           "shape": ""
          }
         },
         "name": "delly",
         "offsetgroup": "delly",
         "orientation": "v",
         "showlegend": true,
         "textposition": "auto",
         "type": "bar",
         "x": [
          "delly"
         ],
         "xaxis": "x",
         "y": [
          100
         ],
         "yaxis": "y"
        },
        {
         "alignmentgroup": "True",
         "hovertemplate": "color=woozy<br>Challenge=%{x}<br>Incomplete Percent=%{y}<extra></extra>",
         "legendgroup": "woozy",
         "marker": {
          "color": "#feffb3",
          "pattern": {
           "shape": ""
          }
         },
         "name": "woozy",
         "offsetgroup": "woozy",
         "orientation": "v",
         "showlegend": true,
         "textposition": "auto",
         "type": "bar",
         "x": [
          "woozy"
         ],
         "xaxis": "x",
         "y": [
          100
         ],
         "yaxis": "y"
        },
        {
         "alignmentgroup": "True",
         "hovertemplate": "color=scraw<br>Challenge=%{x}<br>Incomplete Percent=%{y}<extra></extra>",
         "legendgroup": "scraw",
         "marker": {
          "color": "#bfbbd9",
          "pattern": {
           "shape": ""
          }
         },
         "name": "scraw",
         "offsetgroup": "scraw",
         "orientation": "v",
         "showlegend": true,
         "textposition": "auto",
         "type": "bar",
         "x": [
          "scraw"
         ],
         "xaxis": "x",
         "y": [
          100
         ],
         "yaxis": "y"
        },
        {
         "alignmentgroup": "True",
         "hovertemplate": "color=caese<br>Challenge=%{x}<br>Incomplete Percent=%{y}<extra></extra>",
         "legendgroup": "caese",
         "marker": {
          "color": "#fa8174",
          "pattern": {
           "shape": ""
          }
         },
         "name": "caese",
         "offsetgroup": "caese",
         "orientation": "v",
         "showlegend": true,
         "textposition": "auto",
         "type": "bar",
         "x": [
          "caese"
         ],
         "xaxis": "x",
         "y": [
          100
         ],
         "yaxis": "y"
        },
        {
         "alignmentgroup": "True",
         "hovertemplate": "color=rakee<br>Challenge=%{x}<br>Incomplete Percent=%{y}<extra></extra>",
         "legendgroup": "rakee",
         "marker": {
          "color": "#81b1d2",
          "pattern": {
           "shape": ""
          }
         },
         "name": "rakee",
         "offsetgroup": "rakee",
         "orientation": "v",
         "showlegend": true,
         "textposition": "auto",
         "type": "bar",
         "x": [
          "rakee"
         ],
         "xaxis": "x",
         "y": [
          100
         ],
         "yaxis": "y"
        },
        {
         "alignmentgroup": "True",
         "hovertemplate": "color=barps<br>Challenge=%{x}<br>Incomplete Percent=%{y}<extra></extra>",
         "legendgroup": "barps",
         "marker": {
          "color": "#fdb462",
          "pattern": {
           "shape": ""
          }
         },
         "name": "barps",
         "offsetgroup": "barps",
         "orientation": "v",
         "showlegend": true,
         "textposition": "auto",
         "type": "bar",
         "x": [
          "barps"
         ],
         "xaxis": "x",
         "y": [
          100
         ],
         "yaxis": "y"
        },
        {
         "alignmentgroup": "True",
         "hovertemplate": "color=humpy<br>Challenge=%{x}<br>Incomplete Percent=%{y}<extra></extra>",
         "legendgroup": "humpy",
         "marker": {
          "color": "#b3de69",
          "pattern": {
           "shape": ""
          }
         },
         "name": "humpy",
         "offsetgroup": "humpy",
         "orientation": "v",
         "showlegend": true,
         "textposition": "auto",
         "type": "bar",
         "x": [
          "humpy"
         ],
         "xaxis": "x",
         "y": [
          100
         ],
         "yaxis": "y"
        },
        {
         "alignmentgroup": "True",
         "hovertemplate": "color=pupus<br>Challenge=%{x}<br>Incomplete Percent=%{y}<extra></extra>",
         "legendgroup": "pupus",
         "marker": {
          "color": "#bc82bd",
          "pattern": {
           "shape": ""
          }
         },
         "name": "pupus",
         "offsetgroup": "pupus",
         "orientation": "v",
         "showlegend": true,
         "textposition": "auto",
         "type": "bar",
         "x": [
          "pupus"
         ],
         "xaxis": "x",
         "y": [
          100
         ],
         "yaxis": "y"
        },
        {
         "alignmentgroup": "True",
         "hovertemplate": "color=weeny<br>Challenge=%{x}<br>Incomplete Percent=%{y}<extra></extra>",
         "legendgroup": "weeny",
         "marker": {
          "color": "#ccebc4",
          "pattern": {
           "shape": ""
          }
         },
         "name": "weeny",
         "offsetgroup": "weeny",
         "orientation": "v",
         "showlegend": true,
         "textposition": "auto",
         "type": "bar",
         "x": [
          "weeny"
         ],
         "xaxis": "x",
         "y": [
          100
         ],
         "yaxis": "y"
        },
        {
         "alignmentgroup": "True",
         "hovertemplate": "color=skelm<br>Challenge=%{x}<br>Incomplete Percent=%{y}<extra></extra>",
         "legendgroup": "skelm",
         "marker": {
          "color": "#ffed6f",
          "pattern": {
           "shape": ""
          }
         },
         "name": "skelm",
         "offsetgroup": "skelm",
         "orientation": "v",
         "showlegend": true,
         "textposition": "auto",
         "type": "bar",
         "x": [
          "skelm"
         ],
         "xaxis": "x",
         "y": [
          100
         ],
         "yaxis": "y"
        },
        {
         "alignmentgroup": "True",
         "hovertemplate": "color=maven<br>Challenge=%{x}<br>Incomplete Percent=%{y}<extra></extra>",
         "legendgroup": "maven",
         "marker": {
          "color": "#8dd3c7",
          "pattern": {
           "shape": ""
          }
         },
         "name": "maven",
         "offsetgroup": "maven",
         "orientation": "v",
         "showlegend": true,
         "textposition": "auto",
         "type": "bar",
         "x": [
          "maven"
         ],
         "xaxis": "x",
         "y": [
          100
         ],
         "yaxis": "y"
        },
        {
         "alignmentgroup": "True",
         "hovertemplate": "color=yarer<br>Challenge=%{x}<br>Incomplete Percent=%{y}<extra></extra>",
         "legendgroup": "yarer",
         "marker": {
          "color": "#feffb3",
          "pattern": {
           "shape": ""
          }
         },
         "name": "yarer",
         "offsetgroup": "yarer",
         "orientation": "v",
         "showlegend": true,
         "textposition": "auto",
         "type": "bar",
         "x": [
          "yarer"
         ],
         "xaxis": "x",
         "y": [
          100
         ],
         "yaxis": "y"
        },
        {
         "alignmentgroup": "True",
         "hovertemplate": "color=kight<br>Challenge=%{x}<br>Incomplete Percent=%{y}<extra></extra>",
         "legendgroup": "kight",
         "marker": {
          "color": "#bfbbd9",
          "pattern": {
           "shape": ""
          }
         },
         "name": "kight",
         "offsetgroup": "kight",
         "orientation": "v",
         "showlegend": true,
         "textposition": "auto",
         "type": "bar",
         "x": [
          "kight"
         ],
         "xaxis": "x",
         "y": [
          100
         ],
         "yaxis": "y"
        },
        {
         "alignmentgroup": "True",
         "hovertemplate": "color=emeer<br>Challenge=%{x}<br>Incomplete Percent=%{y}<extra></extra>",
         "legendgroup": "emeer",
         "marker": {
          "color": "#fa8174",
          "pattern": {
           "shape": ""
          }
         },
         "name": "emeer",
         "offsetgroup": "emeer",
         "orientation": "v",
         "showlegend": true,
         "textposition": "auto",
         "type": "bar",
         "x": [
          "emeer"
         ],
         "xaxis": "x",
         "y": [
          100
         ],
         "yaxis": "y"
        },
        {
         "alignmentgroup": "True",
         "hovertemplate": "color=carer<br>Challenge=%{x}<br>Incomplete Percent=%{y}<extra></extra>",
         "legendgroup": "carer",
         "marker": {
          "color": "#81b1d2",
          "pattern": {
           "shape": ""
          }
         },
         "name": "carer",
         "offsetgroup": "carer",
         "orientation": "v",
         "showlegend": true,
         "textposition": "auto",
         "type": "bar",
         "x": [
          "carer"
         ],
         "xaxis": "x",
         "y": [
          100
         ],
         "yaxis": "y"
        },
        {
         "alignmentgroup": "True",
         "hovertemplate": "color=cubby<br>Challenge=%{x}<br>Incomplete Percent=%{y}<extra></extra>",
         "legendgroup": "cubby",
         "marker": {
          "color": "#fdb462",
          "pattern": {
           "shape": ""
          }
         },
         "name": "cubby",
         "offsetgroup": "cubby",
         "orientation": "v",
         "showlegend": true,
         "textposition": "auto",
         "type": "bar",
         "x": [
          "cubby"
         ],
         "xaxis": "x",
         "y": [
          100
         ],
         "yaxis": "y"
        },
        {
         "alignmentgroup": "True",
         "hovertemplate": "color=hoper<br>Challenge=%{x}<br>Incomplete Percent=%{y}<extra></extra>",
         "legendgroup": "hoper",
         "marker": {
          "color": "#b3de69",
          "pattern": {
           "shape": ""
          }
         },
         "name": "hoper",
         "offsetgroup": "hoper",
         "orientation": "v",
         "showlegend": true,
         "textposition": "auto",
         "type": "bar",
         "x": [
          "hoper"
         ],
         "xaxis": "x",
         "y": [
          100
         ],
         "yaxis": "y"
        },
        {
         "alignmentgroup": "True",
         "hovertemplate": "color=borer<br>Challenge=%{x}<br>Incomplete Percent=%{y}<extra></extra>",
         "legendgroup": "borer",
         "marker": {
          "color": "#bc82bd",
          "pattern": {
           "shape": ""
          }
         },
         "name": "borer",
         "offsetgroup": "borer",
         "orientation": "v",
         "showlegend": true,
         "textposition": "auto",
         "type": "bar",
         "x": [
          "borer"
         ],
         "xaxis": "x",
         "y": [
          100
         ],
         "yaxis": "y"
        },
        {
         "alignmentgroup": "True",
         "hovertemplate": "color=kanga<br>Challenge=%{x}<br>Incomplete Percent=%{y}<extra></extra>",
         "legendgroup": "kanga",
         "marker": {
          "color": "#ccebc4",
          "pattern": {
           "shape": ""
          }
         },
         "name": "kanga",
         "offsetgroup": "kanga",
         "orientation": "v",
         "showlegend": true,
         "textposition": "auto",
         "type": "bar",
         "x": [
          "kanga"
         ],
         "xaxis": "x",
         "y": [
          100
         ],
         "yaxis": "y"
        },
        {
         "alignmentgroup": "True",
         "hovertemplate": "color=agave<br>Challenge=%{x}<br>Incomplete Percent=%{y}<extra></extra>",
         "legendgroup": "agave",
         "marker": {
          "color": "#ffed6f",
          "pattern": {
           "shape": ""
          }
         },
         "name": "agave",
         "offsetgroup": "agave",
         "orientation": "v",
         "showlegend": true,
         "textposition": "auto",
         "type": "bar",
         "x": [
          "agave"
         ],
         "xaxis": "x",
         "y": [
          100
         ],
         "yaxis": "y"
        },
        {
         "alignmentgroup": "True",
         "hovertemplate": "color=poney<br>Challenge=%{x}<br>Incomplete Percent=%{y}<extra></extra>",
         "legendgroup": "poney",
         "marker": {
          "color": "#8dd3c7",
          "pattern": {
           "shape": ""
          }
         },
         "name": "poney",
         "offsetgroup": "poney",
         "orientation": "v",
         "showlegend": true,
         "textposition": "auto",
         "type": "bar",
         "x": [
          "poney"
         ],
         "xaxis": "x",
         "y": [
          100
         ],
         "yaxis": "y"
        },
        {
         "alignmentgroup": "True",
         "hovertemplate": "color=wrate<br>Challenge=%{x}<br>Incomplete Percent=%{y}<extra></extra>",
         "legendgroup": "wrate",
         "marker": {
          "color": "#feffb3",
          "pattern": {
           "shape": ""
          }
         },
         "name": "wrate",
         "offsetgroup": "wrate",
         "orientation": "v",
         "showlegend": true,
         "textposition": "auto",
         "type": "bar",
         "x": [
          "wrate"
         ],
         "xaxis": "x",
         "y": [
          100
         ],
         "yaxis": "y"
        },
        {
         "alignmentgroup": "True",
         "hovertemplate": "color=caber<br>Challenge=%{x}<br>Incomplete Percent=%{y}<extra></extra>",
         "legendgroup": "caber",
         "marker": {
          "color": "#bfbbd9",
          "pattern": {
           "shape": ""
          }
         },
         "name": "caber",
         "offsetgroup": "caber",
         "orientation": "v",
         "showlegend": true,
         "textposition": "auto",
         "type": "bar",
         "x": [
          "caber"
         ],
         "xaxis": "x",
         "y": [
          100
         ],
         "yaxis": "y"
        },
        {
         "alignmentgroup": "True",
         "hovertemplate": "color=favas<br>Challenge=%{x}<br>Incomplete Percent=%{y}<extra></extra>",
         "legendgroup": "favas",
         "marker": {
          "color": "#fa8174",
          "pattern": {
           "shape": ""
          }
         },
         "name": "favas",
         "offsetgroup": "favas",
         "orientation": "v",
         "showlegend": true,
         "textposition": "auto",
         "type": "bar",
         "x": [
          "favas"
         ],
         "xaxis": "x",
         "y": [
          100
         ],
         "yaxis": "y"
        },
        {
         "alignmentgroup": "True",
         "hovertemplate": "color=haggs<br>Challenge=%{x}<br>Incomplete Percent=%{y}<extra></extra>",
         "legendgroup": "haggs",
         "marker": {
          "color": "#81b1d2",
          "pattern": {
           "shape": ""
          }
         },
         "name": "haggs",
         "offsetgroup": "haggs",
         "orientation": "v",
         "showlegend": true,
         "textposition": "auto",
         "type": "bar",
         "x": [
          "haggs"
         ],
         "xaxis": "x",
         "y": [
          100
         ],
         "yaxis": "y"
        },
        {
         "alignmentgroup": "True",
         "hovertemplate": "color=geyan<br>Challenge=%{x}<br>Incomplete Percent=%{y}<extra></extra>",
         "legendgroup": "geyan",
         "marker": {
          "color": "#fdb462",
          "pattern": {
           "shape": ""
          }
         },
         "name": "geyan",
         "offsetgroup": "geyan",
         "orientation": "v",
         "showlegend": true,
         "textposition": "auto",
         "type": "bar",
         "x": [
          "geyan"
         ],
         "xaxis": "x",
         "y": [
          100
         ],
         "yaxis": "y"
        },
        {
         "alignmentgroup": "True",
         "hovertemplate": "color=pudor<br>Challenge=%{x}<br>Incomplete Percent=%{y}<extra></extra>",
         "legendgroup": "pudor",
         "marker": {
          "color": "#b3de69",
          "pattern": {
           "shape": ""
          }
         },
         "name": "pudor",
         "offsetgroup": "pudor",
         "orientation": "v",
         "showlegend": true,
         "textposition": "auto",
         "type": "bar",
         "x": [
          "pudor"
         ],
         "xaxis": "x",
         "y": [
          100
         ],
         "yaxis": "y"
        },
        {
         "alignmentgroup": "True",
         "hovertemplate": "color=biffy<br>Challenge=%{x}<br>Incomplete Percent=%{y}<extra></extra>",
         "legendgroup": "biffy",
         "marker": {
          "color": "#bc82bd",
          "pattern": {
           "shape": ""
          }
         },
         "name": "biffy",
         "offsetgroup": "biffy",
         "orientation": "v",
         "showlegend": true,
         "textposition": "auto",
         "type": "bar",
         "x": [
          "biffy"
         ],
         "xaxis": "x",
         "y": [
          100
         ],
         "yaxis": "y"
        },
        {
         "alignmentgroup": "True",
         "hovertemplate": "color=sefer<br>Challenge=%{x}<br>Incomplete Percent=%{y}<extra></extra>",
         "legendgroup": "sefer",
         "marker": {
          "color": "#ccebc4",
          "pattern": {
           "shape": ""
          }
         },
         "name": "sefer",
         "offsetgroup": "sefer",
         "orientation": "v",
         "showlegend": true,
         "textposition": "auto",
         "type": "bar",
         "x": [
          "sefer"
         ],
         "xaxis": "x",
         "y": [
          100
         ],
         "yaxis": "y"
        },
        {
         "alignmentgroup": "True",
         "hovertemplate": "color=kiter<br>Challenge=%{x}<br>Incomplete Percent=%{y}<extra></extra>",
         "legendgroup": "kiter",
         "marker": {
          "color": "#ffed6f",
          "pattern": {
           "shape": ""
          }
         },
         "name": "kiter",
         "offsetgroup": "kiter",
         "orientation": "v",
         "showlegend": true,
         "textposition": "auto",
         "type": "bar",
         "x": [
          "kiter"
         ],
         "xaxis": "x",
         "y": [
          100
         ],
         "yaxis": "y"
        },
        {
         "alignmentgroup": "True",
         "hovertemplate": "color=sowle<br>Challenge=%{x}<br>Incomplete Percent=%{y}<extra></extra>",
         "legendgroup": "sowle",
         "marker": {
          "color": "#8dd3c7",
          "pattern": {
           "shape": ""
          }
         },
         "name": "sowle",
         "offsetgroup": "sowle",
         "orientation": "v",
         "showlegend": true,
         "textposition": "auto",
         "type": "bar",
         "x": [
          "sowle"
         ],
         "xaxis": "x",
         "y": [
          100
         ],
         "yaxis": "y"
        },
        {
         "alignmentgroup": "True",
         "hovertemplate": "color=cabby<br>Challenge=%{x}<br>Incomplete Percent=%{y}<extra></extra>",
         "legendgroup": "cabby",
         "marker": {
          "color": "#feffb3",
          "pattern": {
           "shape": ""
          }
         },
         "name": "cabby",
         "offsetgroup": "cabby",
         "orientation": "v",
         "showlegend": true,
         "textposition": "auto",
         "type": "bar",
         "x": [
          "cabby"
         ],
         "xaxis": "x",
         "y": [
          100
         ],
         "yaxis": "y"
        },
        {
         "alignmentgroup": "True",
         "hovertemplate": "color=faddy<br>Challenge=%{x}<br>Incomplete Percent=%{y}<extra></extra>",
         "legendgroup": "faddy",
         "marker": {
          "color": "#bfbbd9",
          "pattern": {
           "shape": ""
          }
         },
         "name": "faddy",
         "offsetgroup": "faddy",
         "orientation": "v",
         "showlegend": true,
         "textposition": "auto",
         "type": "bar",
         "x": [
          "faddy"
         ],
         "xaxis": "x",
         "y": [
          100
         ],
         "yaxis": "y"
        },
        {
         "alignmentgroup": "True",
         "hovertemplate": "color=merer<br>Challenge=%{x}<br>Incomplete Percent=%{y}<extra></extra>",
         "legendgroup": "merer",
         "marker": {
          "color": "#fa8174",
          "pattern": {
           "shape": ""
          }
         },
         "name": "merer",
         "offsetgroup": "merer",
         "orientation": "v",
         "showlegend": true,
         "textposition": "auto",
         "type": "bar",
         "x": [
          "merer"
         ],
         "xaxis": "x",
         "y": [
          100
         ],
         "yaxis": "y"
        },
        {
         "alignmentgroup": "True",
         "hovertemplate": "color=cavie<br>Challenge=%{x}<br>Incomplete Percent=%{y}<extra></extra>",
         "legendgroup": "cavie",
         "marker": {
          "color": "#81b1d2",
          "pattern": {
           "shape": ""
          }
         },
         "name": "cavie",
         "offsetgroup": "cavie",
         "orientation": "v",
         "showlegend": true,
         "textposition": "auto",
         "type": "bar",
         "x": [
          "cavie"
         ],
         "xaxis": "x",
         "y": [
          100
         ],
         "yaxis": "y"
        },
        {
         "alignmentgroup": "True",
         "hovertemplate": "color=meare<br>Challenge=%{x}<br>Incomplete Percent=%{y}<extra></extra>",
         "legendgroup": "meare",
         "marker": {
          "color": "#fdb462",
          "pattern": {
           "shape": ""
          }
         },
         "name": "meare",
         "offsetgroup": "meare",
         "orientation": "v",
         "showlegend": true,
         "textposition": "auto",
         "type": "bar",
         "x": [
          "meare"
         ],
         "xaxis": "x",
         "y": [
          100
         ],
         "yaxis": "y"
        },
        {
         "alignmentgroup": "True",
         "hovertemplate": "color=jaggy<br>Challenge=%{x}<br>Incomplete Percent=%{y}<extra></extra>",
         "legendgroup": "jaggy",
         "marker": {
          "color": "#b3de69",
          "pattern": {
           "shape": ""
          }
         },
         "name": "jaggy",
         "offsetgroup": "jaggy",
         "orientation": "v",
         "showlegend": true,
         "textposition": "auto",
         "type": "bar",
         "x": [
          "jaggy"
         ],
         "xaxis": "x",
         "y": [
          100
         ],
         "yaxis": "y"
        },
        {
         "alignmentgroup": "True",
         "hovertemplate": "color=skyer<br>Challenge=%{x}<br>Incomplete Percent=%{y}<extra></extra>",
         "legendgroup": "skyer",
         "marker": {
          "color": "#bc82bd",
          "pattern": {
           "shape": ""
          }
         },
         "name": "skyer",
         "offsetgroup": "skyer",
         "orientation": "v",
         "showlegend": true,
         "textposition": "auto",
         "type": "bar",
         "x": [
          "skyer"
         ],
         "xaxis": "x",
         "y": [
          100
         ],
         "yaxis": "y"
        },
        {
         "alignmentgroup": "True",
         "hovertemplate": "color=vower<br>Challenge=%{x}<br>Incomplete Percent=%{y}<extra></extra>",
         "legendgroup": "vower",
         "marker": {
          "color": "#ccebc4",
          "pattern": {
           "shape": ""
          }
         },
         "name": "vower",
         "offsetgroup": "vower",
         "orientation": "v",
         "showlegend": true,
         "textposition": "auto",
         "type": "bar",
         "x": [
          "vower"
         ],
         "xaxis": "x",
         "y": [
          100
         ],
         "yaxis": "y"
        },
        {
         "alignmentgroup": "True",
         "hovertemplate": "color=dowly<br>Challenge=%{x}<br>Incomplete Percent=%{y}<extra></extra>",
         "legendgroup": "dowly",
         "marker": {
          "color": "#ffed6f",
          "pattern": {
           "shape": ""
          }
         },
         "name": "dowly",
         "offsetgroup": "dowly",
         "orientation": "v",
         "showlegend": true,
         "textposition": "auto",
         "type": "bar",
         "x": [
          "dowly"
         ],
         "xaxis": "x",
         "y": [
          100
         ],
         "yaxis": "y"
        },
        {
         "alignmentgroup": "True",
         "hovertemplate": "color=broos<br>Challenge=%{x}<br>Incomplete Percent=%{y}<extra></extra>",
         "legendgroup": "broos",
         "marker": {
          "color": "#8dd3c7",
          "pattern": {
           "shape": ""
          }
         },
         "name": "broos",
         "offsetgroup": "broos",
         "orientation": "v",
         "showlegend": true,
         "textposition": "auto",
         "type": "bar",
         "x": [
          "broos"
         ],
         "xaxis": "x",
         "y": [
          100
         ],
         "yaxis": "y"
        },
        {
         "alignmentgroup": "True",
         "hovertemplate": "color=geyer<br>Challenge=%{x}<br>Incomplete Percent=%{y}<extra></extra>",
         "legendgroup": "geyer",
         "marker": {
          "color": "#feffb3",
          "pattern": {
           "shape": ""
          }
         },
         "name": "geyer",
         "offsetgroup": "geyer",
         "orientation": "v",
         "showlegend": true,
         "textposition": "auto",
         "type": "bar",
         "x": [
          "geyer"
         ],
         "xaxis": "x",
         "y": [
          100
         ],
         "yaxis": "y"
        },
        {
         "alignmentgroup": "True",
         "hovertemplate": "color=durry<br>Challenge=%{x}<br>Incomplete Percent=%{y}<extra></extra>",
         "legendgroup": "durry",
         "marker": {
          "color": "#bfbbd9",
          "pattern": {
           "shape": ""
          }
         },
         "name": "durry",
         "offsetgroup": "durry",
         "orientation": "v",
         "showlegend": true,
         "textposition": "auto",
         "type": "bar",
         "x": [
          "durry"
         ],
         "xaxis": "x",
         "y": [
          100
         ],
         "yaxis": "y"
        },
        {
         "alignmentgroup": "True",
         "hovertemplate": "color=curvy<br>Challenge=%{x}<br>Incomplete Percent=%{y}<extra></extra>",
         "legendgroup": "curvy",
         "marker": {
          "color": "#fa8174",
          "pattern": {
           "shape": ""
          }
         },
         "name": "curvy",
         "offsetgroup": "curvy",
         "orientation": "v",
         "showlegend": true,
         "textposition": "auto",
         "type": "bar",
         "x": [
          "curvy"
         ],
         "xaxis": "x",
         "y": [
          100
         ],
         "yaxis": "y"
        },
        {
         "alignmentgroup": "True",
         "hovertemplate": "color=feese<br>Challenge=%{x}<br>Incomplete Percent=%{y}<extra></extra>",
         "legendgroup": "feese",
         "marker": {
          "color": "#81b1d2",
          "pattern": {
           "shape": ""
          }
         },
         "name": "feese",
         "offsetgroup": "feese",
         "orientation": "v",
         "showlegend": true,
         "textposition": "auto",
         "type": "bar",
         "x": [
          "feese"
         ],
         "xaxis": "x",
         "y": [
          100
         ],
         "yaxis": "y"
        },
        {
         "alignmentgroup": "True",
         "hovertemplate": "color=toyos<br>Challenge=%{x}<br>Incomplete Percent=%{y}<extra></extra>",
         "legendgroup": "toyos",
         "marker": {
          "color": "#fdb462",
          "pattern": {
           "shape": ""
          }
         },
         "name": "toyos",
         "offsetgroup": "toyos",
         "orientation": "v",
         "showlegend": true,
         "textposition": "auto",
         "type": "bar",
         "x": [
          "toyos"
         ],
         "xaxis": "x",
         "y": [
          100
         ],
         "yaxis": "y"
        },
        {
         "alignmentgroup": "True",
         "hovertemplate": "color=zowie<br>Challenge=%{x}<br>Incomplete Percent=%{y}<extra></extra>",
         "legendgroup": "zowie",
         "marker": {
          "color": "#b3de69",
          "pattern": {
           "shape": ""
          }
         },
         "name": "zowie",
         "offsetgroup": "zowie",
         "orientation": "v",
         "showlegend": true,
         "textposition": "auto",
         "type": "bar",
         "x": [
          "zowie"
         ],
         "xaxis": "x",
         "y": [
          100
         ],
         "yaxis": "y"
        },
        {
         "alignmentgroup": "True",
         "hovertemplate": "color=drape<br>Challenge=%{x}<br>Incomplete Percent=%{y}<extra></extra>",
         "legendgroup": "drape",
         "marker": {
          "color": "#bc82bd",
          "pattern": {
           "shape": ""
          }
         },
         "name": "drape",
         "offsetgroup": "drape",
         "orientation": "v",
         "showlegend": true,
         "textposition": "auto",
         "type": "bar",
         "x": [
          "drape"
         ],
         "xaxis": "x",
         "y": [
          100
         ],
         "yaxis": "y"
        },
        {
         "alignmentgroup": "True",
         "hovertemplate": "color=favel<br>Challenge=%{x}<br>Incomplete Percent=%{y}<extra></extra>",
         "legendgroup": "favel",
         "marker": {
          "color": "#ccebc4",
          "pattern": {
           "shape": ""
          }
         },
         "name": "favel",
         "offsetgroup": "favel",
         "orientation": "v",
         "showlegend": true,
         "textposition": "auto",
         "type": "bar",
         "x": [
          "favel"
         ],
         "xaxis": "x",
         "y": [
          100
         ],
         "yaxis": "y"
        },
        {
         "alignmentgroup": "True",
         "hovertemplate": "color=kerky<br>Challenge=%{x}<br>Incomplete Percent=%{y}<extra></extra>",
         "legendgroup": "kerky",
         "marker": {
          "color": "#ffed6f",
          "pattern": {
           "shape": ""
          }
         },
         "name": "kerky",
         "offsetgroup": "kerky",
         "orientation": "v",
         "showlegend": true,
         "textposition": "auto",
         "type": "bar",
         "x": [
          "kerky"
         ],
         "xaxis": "x",
         "y": [
          100
         ],
         "yaxis": "y"
        },
        {
         "alignmentgroup": "True",
         "hovertemplate": "color=lader<br>Challenge=%{x}<br>Incomplete Percent=%{y}<extra></extra>",
         "legendgroup": "lader",
         "marker": {
          "color": "#8dd3c7",
          "pattern": {
           "shape": ""
          }
         },
         "name": "lader",
         "offsetgroup": "lader",
         "orientation": "v",
         "showlegend": true,
         "textposition": "auto",
         "type": "bar",
         "x": [
          "lader"
         ],
         "xaxis": "x",
         "y": [
          100
         ],
         "yaxis": "y"
        },
        {
         "alignmentgroup": "True",
         "hovertemplate": "color=unbed<br>Challenge=%{x}<br>Incomplete Percent=%{y}<extra></extra>",
         "legendgroup": "unbed",
         "marker": {
          "color": "#feffb3",
          "pattern": {
           "shape": ""
          }
         },
         "name": "unbed",
         "offsetgroup": "unbed",
         "orientation": "v",
         "showlegend": true,
         "textposition": "auto",
         "type": "bar",
         "x": [
          "unbed"
         ],
         "xaxis": "x",
         "y": [
          100
         ],
         "yaxis": "y"
        },
        {
         "alignmentgroup": "True",
         "hovertemplate": "color=ginge<br>Challenge=%{x}<br>Incomplete Percent=%{y}<extra></extra>",
         "legendgroup": "ginge",
         "marker": {
          "color": "#bfbbd9",
          "pattern": {
           "shape": ""
          }
         },
         "name": "ginge",
         "offsetgroup": "ginge",
         "orientation": "v",
         "showlegend": true,
         "textposition": "auto",
         "type": "bar",
         "x": [
          "ginge"
         ],
         "xaxis": "x",
         "y": [
          100
         ],
         "yaxis": "y"
        },
        {
         "alignmentgroup": "True",
         "hovertemplate": "color=roopy<br>Challenge=%{x}<br>Incomplete Percent=%{y}<extra></extra>",
         "legendgroup": "roopy",
         "marker": {
          "color": "#fa8174",
          "pattern": {
           "shape": ""
          }
         },
         "name": "roopy",
         "offsetgroup": "roopy",
         "orientation": "v",
         "showlegend": true,
         "textposition": "auto",
         "type": "bar",
         "x": [
          "roopy"
         ],
         "xaxis": "x",
         "y": [
          100
         ],
         "yaxis": "y"
        },
        {
         "alignmentgroup": "True",
         "hovertemplate": "color=wryer<br>Challenge=%{x}<br>Incomplete Percent=%{y}<extra></extra>",
         "legendgroup": "wryer",
         "marker": {
          "color": "#81b1d2",
          "pattern": {
           "shape": ""
          }
         },
         "name": "wryer",
         "offsetgroup": "wryer",
         "orientation": "v",
         "showlegend": true,
         "textposition": "auto",
         "type": "bar",
         "x": [
          "wryer"
         ],
         "xaxis": "x",
         "y": [
          100
         ],
         "yaxis": "y"
        },
        {
         "alignmentgroup": "True",
         "hovertemplate": "color=trike<br>Challenge=%{x}<br>Incomplete Percent=%{y}<extra></extra>",
         "legendgroup": "trike",
         "marker": {
          "color": "#fdb462",
          "pattern": {
           "shape": ""
          }
         },
         "name": "trike",
         "offsetgroup": "trike",
         "orientation": "v",
         "showlegend": true,
         "textposition": "auto",
         "type": "bar",
         "x": [
          "trike"
         ],
         "xaxis": "x",
         "y": [
          100
         ],
         "yaxis": "y"
        },
        {
         "alignmentgroup": "True",
         "hovertemplate": "color=gazer<br>Challenge=%{x}<br>Incomplete Percent=%{y}<extra></extra>",
         "legendgroup": "gazer",
         "marker": {
          "color": "#b3de69",
          "pattern": {
           "shape": ""
          }
         },
         "name": "gazer",
         "offsetgroup": "gazer",
         "orientation": "v",
         "showlegend": true,
         "textposition": "auto",
         "type": "bar",
         "x": [
          "gazer"
         ],
         "xaxis": "x",
         "y": [
          100
         ],
         "yaxis": "y"
        },
        {
         "alignmentgroup": "True",
         "hovertemplate": "color=seder<br>Challenge=%{x}<br>Incomplete Percent=%{y}<extra></extra>",
         "legendgroup": "seder",
         "marker": {
          "color": "#bc82bd",
          "pattern": {
           "shape": ""
          }
         },
         "name": "seder",
         "offsetgroup": "seder",
         "orientation": "v",
         "showlegend": true,
         "textposition": "auto",
         "type": "bar",
         "x": [
          "seder"
         ],
         "xaxis": "x",
         "y": [
          100
         ],
         "yaxis": "y"
        },
        {
         "alignmentgroup": "True",
         "hovertemplate": "color=waqfs<br>Challenge=%{x}<br>Incomplete Percent=%{y}<extra></extra>",
         "legendgroup": "waqfs",
         "marker": {
          "color": "#ccebc4",
          "pattern": {
           "shape": ""
          }
         },
         "name": "waqfs",
         "offsetgroup": "waqfs",
         "orientation": "v",
         "showlegend": true,
         "textposition": "auto",
         "type": "bar",
         "x": [
          "waqfs"
         ],
         "xaxis": "x",
         "y": [
          100
         ],
         "yaxis": "y"
        },
        {
         "alignmentgroup": "True",
         "hovertemplate": "color=poove<br>Challenge=%{x}<br>Incomplete Percent=%{y}<extra></extra>",
         "legendgroup": "poove",
         "marker": {
          "color": "#ffed6f",
          "pattern": {
           "shape": ""
          }
         },
         "name": "poove",
         "offsetgroup": "poove",
         "orientation": "v",
         "showlegend": true,
         "textposition": "auto",
         "type": "bar",
         "x": [
          "poove"
         ],
         "xaxis": "x",
         "y": [
          100
         ],
         "yaxis": "y"
        },
        {
         "alignmentgroup": "True",
         "hovertemplate": "color=manky<br>Challenge=%{x}<br>Incomplete Percent=%{y}<extra></extra>",
         "legendgroup": "manky",
         "marker": {
          "color": "#8dd3c7",
          "pattern": {
           "shape": ""
          }
         },
         "name": "manky",
         "offsetgroup": "manky",
         "orientation": "v",
         "showlegend": true,
         "textposition": "auto",
         "type": "bar",
         "x": [
          "manky"
         ],
         "xaxis": "x",
         "y": [
          100
         ],
         "yaxis": "y"
        },
        {
         "alignmentgroup": "True",
         "hovertemplate": "color=avgas<br>Challenge=%{x}<br>Incomplete Percent=%{y}<extra></extra>",
         "legendgroup": "avgas",
         "marker": {
          "color": "#feffb3",
          "pattern": {
           "shape": ""
          }
         },
         "name": "avgas",
         "offsetgroup": "avgas",
         "orientation": "v",
         "showlegend": true,
         "textposition": "auto",
         "type": "bar",
         "x": [
          "avgas"
         ],
         "xaxis": "x",
         "y": [
          100
         ],
         "yaxis": "y"
        },
        {
         "alignmentgroup": "True",
         "hovertemplate": "color=kibla<br>Challenge=%{x}<br>Incomplete Percent=%{y}<extra></extra>",
         "legendgroup": "kibla",
         "marker": {
          "color": "#bfbbd9",
          "pattern": {
           "shape": ""
          }
         },
         "name": "kibla",
         "offsetgroup": "kibla",
         "orientation": "v",
         "showlegend": true,
         "textposition": "auto",
         "type": "bar",
         "x": [
          "kibla"
         ],
         "xaxis": "x",
         "y": [
          100
         ],
         "yaxis": "y"
        },
        {
         "alignmentgroup": "True",
         "hovertemplate": "color=hayle<br>Challenge=%{x}<br>Incomplete Percent=%{y}<extra></extra>",
         "legendgroup": "hayle",
         "marker": {
          "color": "#fa8174",
          "pattern": {
           "shape": ""
          }
         },
         "name": "hayle",
         "offsetgroup": "hayle",
         "orientation": "v",
         "showlegend": true,
         "textposition": "auto",
         "type": "bar",
         "x": [
          "hayle"
         ],
         "xaxis": "x",
         "y": [
          100
         ],
         "yaxis": "y"
        },
        {
         "alignmentgroup": "True",
         "hovertemplate": "color=belon<br>Challenge=%{x}<br>Incomplete Percent=%{y}<extra></extra>",
         "legendgroup": "belon",
         "marker": {
          "color": "#81b1d2",
          "pattern": {
           "shape": ""
          }
         },
         "name": "belon",
         "offsetgroup": "belon",
         "orientation": "v",
         "showlegend": true,
         "textposition": "auto",
         "type": "bar",
         "x": [
          "belon"
         ],
         "xaxis": "x",
         "y": [
          100
         ],
         "yaxis": "y"
        },
        {
         "alignmentgroup": "True",
         "hovertemplate": "color=kicky<br>Challenge=%{x}<br>Incomplete Percent=%{y}<extra></extra>",
         "legendgroup": "kicky",
         "marker": {
          "color": "#fdb462",
          "pattern": {
           "shape": ""
          }
         },
         "name": "kicky",
         "offsetgroup": "kicky",
         "orientation": "v",
         "showlegend": true,
         "textposition": "auto",
         "type": "bar",
         "x": [
          "kicky"
         ],
         "xaxis": "x",
         "y": [
          100
         ],
         "yaxis": "y"
        },
        {
         "alignmentgroup": "True",
         "hovertemplate": "color=venge<br>Challenge=%{x}<br>Incomplete Percent=%{y}<extra></extra>",
         "legendgroup": "venge",
         "marker": {
          "color": "#b3de69",
          "pattern": {
           "shape": ""
          }
         },
         "name": "venge",
         "offsetgroup": "venge",
         "orientation": "v",
         "showlegend": true,
         "textposition": "auto",
         "type": "bar",
         "x": [
          "venge"
         ],
         "xaxis": "x",
         "y": [
          100
         ],
         "yaxis": "y"
        },
        {
         "alignmentgroup": "True",
         "hovertemplate": "color=graze<br>Challenge=%{x}<br>Incomplete Percent=%{y}<extra></extra>",
         "legendgroup": "graze",
         "marker": {
          "color": "#bc82bd",
          "pattern": {
           "shape": ""
          }
         },
         "name": "graze",
         "offsetgroup": "graze",
         "orientation": "v",
         "showlegend": true,
         "textposition": "auto",
         "type": "bar",
         "x": [
          "graze"
         ],
         "xaxis": "x",
         "y": [
          100
         ],
         "yaxis": "y"
        },
        {
         "alignmentgroup": "True",
         "hovertemplate": "color=viler<br>Challenge=%{x}<br>Incomplete Percent=%{y}<extra></extra>",
         "legendgroup": "viler",
         "marker": {
          "color": "#ccebc4",
          "pattern": {
           "shape": ""
          }
         },
         "name": "viler",
         "offsetgroup": "viler",
         "orientation": "v",
         "showlegend": true,
         "textposition": "auto",
         "type": "bar",
         "x": [
          "viler"
         ],
         "xaxis": "x",
         "y": [
          100
         ],
         "yaxis": "y"
        },
        {
         "alignmentgroup": "True",
         "hovertemplate": "color=exode<br>Challenge=%{x}<br>Incomplete Percent=%{y}<extra></extra>",
         "legendgroup": "exode",
         "marker": {
          "color": "#ffed6f",
          "pattern": {
           "shape": ""
          }
         },
         "name": "exode",
         "offsetgroup": "exode",
         "orientation": "v",
         "showlegend": true,
         "textposition": "auto",
         "type": "bar",
         "x": [
          "exode"
         ],
         "xaxis": "x",
         "y": [
          100
         ],
         "yaxis": "y"
        },
        {
         "alignmentgroup": "True",
         "hovertemplate": "color=poofy<br>Challenge=%{x}<br>Incomplete Percent=%{y}<extra></extra>",
         "legendgroup": "poofy",
         "marker": {
          "color": "#8dd3c7",
          "pattern": {
           "shape": ""
          }
         },
         "name": "poofy",
         "offsetgroup": "poofy",
         "orientation": "v",
         "showlegend": true,
         "textposition": "auto",
         "type": "bar",
         "x": [
          "poofy"
         ],
         "xaxis": "x",
         "y": [
          100
         ],
         "yaxis": "y"
        },
        {
         "alignmentgroup": "True",
         "hovertemplate": "color=hooey<br>Challenge=%{x}<br>Incomplete Percent=%{y}<extra></extra>",
         "legendgroup": "hooey",
         "marker": {
          "color": "#feffb3",
          "pattern": {
           "shape": ""
          }
         },
         "name": "hooey",
         "offsetgroup": "hooey",
         "orientation": "v",
         "showlegend": true,
         "textposition": "auto",
         "type": "bar",
         "x": [
          "hooey"
         ],
         "xaxis": "x",
         "y": [
          100
         ],
         "yaxis": "y"
        },
        {
         "alignmentgroup": "True",
         "hovertemplate": "color=rimer<br>Challenge=%{x}<br>Incomplete Percent=%{y}<extra></extra>",
         "legendgroup": "rimer",
         "marker": {
          "color": "#bfbbd9",
          "pattern": {
           "shape": ""
          }
         },
         "name": "rimer",
         "offsetgroup": "rimer",
         "orientation": "v",
         "showlegend": true,
         "textposition": "auto",
         "type": "bar",
         "x": [
          "rimer"
         ],
         "xaxis": "x",
         "y": [
          100
         ],
         "yaxis": "y"
        },
        {
         "alignmentgroup": "True",
         "hovertemplate": "color=hatch<br>Challenge=%{x}<br>Incomplete Percent=%{y}<extra></extra>",
         "legendgroup": "hatch",
         "marker": {
          "color": "#fa8174",
          "pattern": {
           "shape": ""
          }
         },
         "name": "hatch",
         "offsetgroup": "hatch",
         "orientation": "v",
         "showlegend": true,
         "textposition": "auto",
         "type": "bar",
         "x": [
          "hatch"
         ],
         "xaxis": "x",
         "y": [
          100
         ],
         "yaxis": "y"
        },
        {
         "alignmentgroup": "True",
         "hovertemplate": "color=kudus<br>Challenge=%{x}<br>Incomplete Percent=%{y}<extra></extra>",
         "legendgroup": "kudus",
         "marker": {
          "color": "#81b1d2",
          "pattern": {
           "shape": ""
          }
         },
         "name": "kudus",
         "offsetgroup": "kudus",
         "orientation": "v",
         "showlegend": true,
         "textposition": "auto",
         "type": "bar",
         "x": [
          "kudus"
         ],
         "xaxis": "x",
         "y": [
          100
         ],
         "yaxis": "y"
        },
        {
         "alignmentgroup": "True",
         "hovertemplate": "color=slipe<br>Challenge=%{x}<br>Incomplete Percent=%{y}<extra></extra>",
         "legendgroup": "slipe",
         "marker": {
          "color": "#fdb462",
          "pattern": {
           "shape": ""
          }
         },
         "name": "slipe",
         "offsetgroup": "slipe",
         "orientation": "v",
         "showlegend": true,
         "textposition": "auto",
         "type": "bar",
         "x": [
          "slipe"
         ],
         "xaxis": "x",
         "y": [
          100
         ],
         "yaxis": "y"
        },
        {
         "alignmentgroup": "True",
         "hovertemplate": "color=haver<br>Challenge=%{x}<br>Incomplete Percent=%{y}<extra></extra>",
         "legendgroup": "haver",
         "marker": {
          "color": "#b3de69",
          "pattern": {
           "shape": ""
          }
         },
         "name": "haver",
         "offsetgroup": "haver",
         "orientation": "v",
         "showlegend": true,
         "textposition": "auto",
         "type": "bar",
         "x": [
          "haver"
         ],
         "xaxis": "x",
         "y": [
          100
         ],
         "yaxis": "y"
        },
        {
         "alignmentgroup": "True",
         "hovertemplate": "color=towzy<br>Challenge=%{x}<br>Incomplete Percent=%{y}<extra></extra>",
         "legendgroup": "towzy",
         "marker": {
          "color": "#bc82bd",
          "pattern": {
           "shape": ""
          }
         },
         "name": "towzy",
         "offsetgroup": "towzy",
         "orientation": "v",
         "showlegend": true,
         "textposition": "auto",
         "type": "bar",
         "x": [
          "towzy"
         ],
         "xaxis": "x",
         "y": [
          100
         ],
         "yaxis": "y"
        },
        {
         "alignmentgroup": "True",
         "hovertemplate": "color=jujus<br>Challenge=%{x}<br>Incomplete Percent=%{y}<extra></extra>",
         "legendgroup": "jujus",
         "marker": {
          "color": "#ccebc4",
          "pattern": {
           "shape": ""
          }
         },
         "name": "jujus",
         "offsetgroup": "jujus",
         "orientation": "v",
         "showlegend": true,
         "textposition": "auto",
         "type": "bar",
         "x": [
          "jujus"
         ],
         "xaxis": "x",
         "y": [
          100
         ],
         "yaxis": "y"
        },
        {
         "alignmentgroup": "True",
         "hovertemplate": "color=zinky<br>Challenge=%{x}<br>Incomplete Percent=%{y}<extra></extra>",
         "legendgroup": "zinky",
         "marker": {
          "color": "#ffed6f",
          "pattern": {
           "shape": ""
          }
         },
         "name": "zinky",
         "offsetgroup": "zinky",
         "orientation": "v",
         "showlegend": true,
         "textposition": "auto",
         "type": "bar",
         "x": [
          "zinky"
         ],
         "xaxis": "x",
         "y": [
          100
         ],
         "yaxis": "y"
        },
        {
         "alignmentgroup": "True",
         "hovertemplate": "color=rejon<br>Challenge=%{x}<br>Incomplete Percent=%{y}<extra></extra>",
         "legendgroup": "rejon",
         "marker": {
          "color": "#8dd3c7",
          "pattern": {
           "shape": ""
          }
         },
         "name": "rejon",
         "offsetgroup": "rejon",
         "orientation": "v",
         "showlegend": true,
         "textposition": "auto",
         "type": "bar",
         "x": [
          "rejon"
         ],
         "xaxis": "x",
         "y": [
          100
         ],
         "yaxis": "y"
        },
        {
         "alignmentgroup": "True",
         "hovertemplate": "color=taxer<br>Challenge=%{x}<br>Incomplete Percent=%{y}<extra></extra>",
         "legendgroup": "taxer",
         "marker": {
          "color": "#feffb3",
          "pattern": {
           "shape": ""
          }
         },
         "name": "taxer",
         "offsetgroup": "taxer",
         "orientation": "v",
         "showlegend": true,
         "textposition": "auto",
         "type": "bar",
         "x": [
          "taxer"
         ],
         "xaxis": "x",
         "y": [
          100
         ],
         "yaxis": "y"
        },
        {
         "alignmentgroup": "True",
         "hovertemplate": "color=stumm<br>Challenge=%{x}<br>Incomplete Percent=%{y}<extra></extra>",
         "legendgroup": "stumm",
         "marker": {
          "color": "#bfbbd9",
          "pattern": {
           "shape": ""
          }
         },
         "name": "stumm",
         "offsetgroup": "stumm",
         "orientation": "v",
         "showlegend": true,
         "textposition": "auto",
         "type": "bar",
         "x": [
          "stumm"
         ],
         "xaxis": "x",
         "y": [
          100
         ],
         "yaxis": "y"
        },
        {
         "alignmentgroup": "True",
         "hovertemplate": "color=taggy<br>Challenge=%{x}<br>Incomplete Percent=%{y}<extra></extra>",
         "legendgroup": "taggy",
         "marker": {
          "color": "#fa8174",
          "pattern": {
           "shape": ""
          }
         },
         "name": "taggy",
         "offsetgroup": "taggy",
         "orientation": "v",
         "showlegend": true,
         "textposition": "auto",
         "type": "bar",
         "x": [
          "taggy"
         ],
         "xaxis": "x",
         "y": [
          100
         ],
         "yaxis": "y"
        },
        {
         "alignmentgroup": "True",
         "hovertemplate": "color=booky<br>Challenge=%{x}<br>Incomplete Percent=%{y}<extra></extra>",
         "legendgroup": "booky",
         "marker": {
          "color": "#81b1d2",
          "pattern": {
           "shape": ""
          }
         },
         "name": "booky",
         "offsetgroup": "booky",
         "orientation": "v",
         "showlegend": true,
         "textposition": "auto",
         "type": "bar",
         "x": [
          "booky"
         ],
         "xaxis": "x",
         "y": [
          100
         ],
         "yaxis": "y"
        },
        {
         "alignmentgroup": "True",
         "hovertemplate": "color=edger<br>Challenge=%{x}<br>Incomplete Percent=%{y}<extra></extra>",
         "legendgroup": "edger",
         "marker": {
          "color": "#fdb462",
          "pattern": {
           "shape": ""
          }
         },
         "name": "edger",
         "offsetgroup": "edger",
         "orientation": "v",
         "showlegend": true,
         "textposition": "auto",
         "type": "bar",
         "x": [
          "edger"
         ],
         "xaxis": "x",
         "y": [
          100
         ],
         "yaxis": "y"
        },
        {
         "alignmentgroup": "True",
         "hovertemplate": "color=vutty<br>Challenge=%{x}<br>Incomplete Percent=%{y}<extra></extra>",
         "legendgroup": "vutty",
         "marker": {
          "color": "#b3de69",
          "pattern": {
           "shape": ""
          }
         },
         "name": "vutty",
         "offsetgroup": "vutty",
         "orientation": "v",
         "showlegend": true,
         "textposition": "auto",
         "type": "bar",
         "x": [
          "vutty"
         ],
         "xaxis": "x",
         "y": [
          100
         ],
         "yaxis": "y"
        },
        {
         "alignmentgroup": "True",
         "hovertemplate": "color=kiddy<br>Challenge=%{x}<br>Incomplete Percent=%{y}<extra></extra>",
         "legendgroup": "kiddy",
         "marker": {
          "color": "#bc82bd",
          "pattern": {
           "shape": ""
          }
         },
         "name": "kiddy",
         "offsetgroup": "kiddy",
         "orientation": "v",
         "showlegend": true,
         "textposition": "auto",
         "type": "bar",
         "x": [
          "kiddy"
         ],
         "xaxis": "x",
         "y": [
          100
         ],
         "yaxis": "y"
        },
        {
         "alignmentgroup": "True",
         "hovertemplate": "color=galah<br>Challenge=%{x}<br>Incomplete Percent=%{y}<extra></extra>",
         "legendgroup": "galah",
         "marker": {
          "color": "#ccebc4",
          "pattern": {
           "shape": ""
          }
         },
         "name": "galah",
         "offsetgroup": "galah",
         "orientation": "v",
         "showlegend": true,
         "textposition": "auto",
         "type": "bar",
         "x": [
          "galah"
         ],
         "xaxis": "x",
         "y": [
          100
         ],
         "yaxis": "y"
        },
        {
         "alignmentgroup": "True",
         "hovertemplate": "color=scail<br>Challenge=%{x}<br>Incomplete Percent=%{y}<extra></extra>",
         "legendgroup": "scail",
         "marker": {
          "color": "#ffed6f",
          "pattern": {
           "shape": ""
          }
         },
         "name": "scail",
         "offsetgroup": "scail",
         "orientation": "v",
         "showlegend": true,
         "textposition": "auto",
         "type": "bar",
         "x": [
          "scail"
         ],
         "xaxis": "x",
         "y": [
          100
         ],
         "yaxis": "y"
        },
        {
         "alignmentgroup": "True",
         "hovertemplate": "color=fogey<br>Challenge=%{x}<br>Incomplete Percent=%{y}<extra></extra>",
         "legendgroup": "fogey",
         "marker": {
          "color": "#8dd3c7",
          "pattern": {
           "shape": ""
          }
         },
         "name": "fogey",
         "offsetgroup": "fogey",
         "orientation": "v",
         "showlegend": true,
         "textposition": "auto",
         "type": "bar",
         "x": [
          "fogey"
         ],
         "xaxis": "x",
         "y": [
          100
         ],
         "yaxis": "y"
        },
        {
         "alignmentgroup": "True",
         "hovertemplate": "color=reran<br>Challenge=%{x}<br>Incomplete Percent=%{y}<extra></extra>",
         "legendgroup": "reran",
         "marker": {
          "color": "#feffb3",
          "pattern": {
           "shape": ""
          }
         },
         "name": "reran",
         "offsetgroup": "reran",
         "orientation": "v",
         "showlegend": true,
         "textposition": "auto",
         "type": "bar",
         "x": [
          "reran"
         ],
         "xaxis": "x",
         "y": [
          100
         ],
         "yaxis": "y"
        },
        {
         "alignmentgroup": "True",
         "hovertemplate": "color=jager<br>Challenge=%{x}<br>Incomplete Percent=%{y}<extra></extra>",
         "legendgroup": "jager",
         "marker": {
          "color": "#bfbbd9",
          "pattern": {
           "shape": ""
          }
         },
         "name": "jager",
         "offsetgroup": "jager",
         "orientation": "v",
         "showlegend": true,
         "textposition": "auto",
         "type": "bar",
         "x": [
          "jager"
         ],
         "xaxis": "x",
         "y": [
          100
         ],
         "yaxis": "y"
        },
        {
         "alignmentgroup": "True",
         "hovertemplate": "color=fleam<br>Challenge=%{x}<br>Incomplete Percent=%{y}<extra></extra>",
         "legendgroup": "fleam",
         "marker": {
          "color": "#fa8174",
          "pattern": {
           "shape": ""
          }
         },
         "name": "fleam",
         "offsetgroup": "fleam",
         "orientation": "v",
         "showlegend": true,
         "textposition": "auto",
         "type": "bar",
         "x": [
          "fleam"
         ],
         "xaxis": "x",
         "y": [
          100
         ],
         "yaxis": "y"
        },
        {
         "alignmentgroup": "True",
         "hovertemplate": "color=coyly<br>Challenge=%{x}<br>Incomplete Percent=%{y}<extra></extra>",
         "legendgroup": "coyly",
         "marker": {
          "color": "#81b1d2",
          "pattern": {
           "shape": ""
          }
         },
         "name": "coyly",
         "offsetgroup": "coyly",
         "orientation": "v",
         "showlegend": true,
         "textposition": "auto",
         "type": "bar",
         "x": [
          "coyly"
         ],
         "xaxis": "x",
         "y": [
          100
         ],
         "yaxis": "y"
        },
        {
         "alignmentgroup": "True",
         "hovertemplate": "color=zambo<br>Challenge=%{x}<br>Incomplete Percent=%{y}<extra></extra>",
         "legendgroup": "zambo",
         "marker": {
          "color": "#fdb462",
          "pattern": {
           "shape": ""
          }
         },
         "name": "zambo",
         "offsetgroup": "zambo",
         "orientation": "v",
         "showlegend": true,
         "textposition": "auto",
         "type": "bar",
         "x": [
          "zambo"
         ],
         "xaxis": "x",
         "y": [
          100
         ],
         "yaxis": "y"
        },
        {
         "alignmentgroup": "True",
         "hovertemplate": "color=roker<br>Challenge=%{x}<br>Incomplete Percent=%{y}<extra></extra>",
         "legendgroup": "roker",
         "marker": {
          "color": "#b3de69",
          "pattern": {
           "shape": ""
          }
         },
         "name": "roker",
         "offsetgroup": "roker",
         "orientation": "v",
         "showlegend": true,
         "textposition": "auto",
         "type": "bar",
         "x": [
          "roker"
         ],
         "xaxis": "x",
         "y": [
          100
         ],
         "yaxis": "y"
        },
        {
         "alignmentgroup": "True",
         "hovertemplate": "color=parer<br>Challenge=%{x}<br>Incomplete Percent=%{y}<extra></extra>",
         "legendgroup": "parer",
         "marker": {
          "color": "#bc82bd",
          "pattern": {
           "shape": ""
          }
         },
         "name": "parer",
         "offsetgroup": "parer",
         "orientation": "v",
         "showlegend": true,
         "textposition": "auto",
         "type": "bar",
         "x": [
          "parer"
         ],
         "xaxis": "x",
         "y": [
          100
         ],
         "yaxis": "y"
        },
        {
         "alignmentgroup": "True",
         "hovertemplate": "color=wurst<br>Challenge=%{x}<br>Incomplete Percent=%{y}<extra></extra>",
         "legendgroup": "wurst",
         "marker": {
          "color": "#ccebc4",
          "pattern": {
           "shape": ""
          }
         },
         "name": "wurst",
         "offsetgroup": "wurst",
         "orientation": "v",
         "showlegend": true,
         "textposition": "auto",
         "type": "bar",
         "x": [
          "wurst"
         ],
         "xaxis": "x",
         "y": [
          100
         ],
         "yaxis": "y"
        },
        {
         "alignmentgroup": "True",
         "hovertemplate": "color=facer<br>Challenge=%{x}<br>Incomplete Percent=%{y}<extra></extra>",
         "legendgroup": "facer",
         "marker": {
          "color": "#ffed6f",
          "pattern": {
           "shape": ""
          }
         },
         "name": "facer",
         "offsetgroup": "facer",
         "orientation": "v",
         "showlegend": true,
         "textposition": "auto",
         "type": "bar",
         "x": [
          "facer"
         ],
         "xaxis": "x",
         "y": [
          100
         ],
         "yaxis": "y"
        }
       ],
       "layout": {
        "barmode": "relative",
        "height": 600,
        "legend": {
         "title": {
          "text": "color"
         },
         "tracegroupgap": 0
        },
        "showlegend": false,
        "template": {
         "data": {
          "bar": [
           {
            "error_x": {
             "color": "#2a3f5f"
            },
            "error_y": {
             "color": "#2a3f5f"
            },
            "marker": {
             "line": {
              "color": "#E5ECF6",
              "width": 0.5
             },
             "pattern": {
              "fillmode": "overlay",
              "size": 10,
              "solidity": 0.2
             }
            },
            "type": "bar"
           }
          ],
          "barpolar": [
           {
            "marker": {
             "line": {
              "color": "#E5ECF6",
              "width": 0.5
             },
             "pattern": {
              "fillmode": "overlay",
              "size": 10,
              "solidity": 0.2
             }
            },
            "type": "barpolar"
           }
          ],
          "carpet": [
           {
            "aaxis": {
             "endlinecolor": "#2a3f5f",
             "gridcolor": "white",
             "linecolor": "white",
             "minorgridcolor": "white",
             "startlinecolor": "#2a3f5f"
            },
            "baxis": {
             "endlinecolor": "#2a3f5f",
             "gridcolor": "white",
             "linecolor": "white",
             "minorgridcolor": "white",
             "startlinecolor": "#2a3f5f"
            },
            "type": "carpet"
           }
          ],
          "choropleth": [
           {
            "colorbar": {
             "outlinewidth": 0,
             "ticks": ""
            },
            "type": "choropleth"
           }
          ],
          "contour": [
           {
            "colorbar": {
             "outlinewidth": 0,
             "ticks": ""
            },
            "colorscale": [
             [
              0,
              "#0d0887"
             ],
             [
              0.1111111111111111,
              "#46039f"
             ],
             [
              0.2222222222222222,
              "#7201a8"
             ],
             [
              0.3333333333333333,
              "#9c179e"
             ],
             [
              0.4444444444444444,
              "#bd3786"
             ],
             [
              0.5555555555555556,
              "#d8576b"
             ],
             [
              0.6666666666666666,
              "#ed7953"
             ],
             [
              0.7777777777777778,
              "#fb9f3a"
             ],
             [
              0.8888888888888888,
              "#fdca26"
             ],
             [
              1,
              "#f0f921"
             ]
            ],
            "type": "contour"
           }
          ],
          "contourcarpet": [
           {
            "colorbar": {
             "outlinewidth": 0,
             "ticks": ""
            },
            "type": "contourcarpet"
           }
          ],
          "heatmap": [
           {
            "colorbar": {
             "outlinewidth": 0,
             "ticks": ""
            },
            "colorscale": [
             [
              0,
              "#0d0887"
             ],
             [
              0.1111111111111111,
              "#46039f"
             ],
             [
              0.2222222222222222,
              "#7201a8"
             ],
             [
              0.3333333333333333,
              "#9c179e"
             ],
             [
              0.4444444444444444,
              "#bd3786"
             ],
             [
              0.5555555555555556,
              "#d8576b"
             ],
             [
              0.6666666666666666,
              "#ed7953"
             ],
             [
              0.7777777777777778,
              "#fb9f3a"
             ],
             [
              0.8888888888888888,
              "#fdca26"
             ],
             [
              1,
              "#f0f921"
             ]
            ],
            "type": "heatmap"
           }
          ],
          "heatmapgl": [
           {
            "colorbar": {
             "outlinewidth": 0,
             "ticks": ""
            },
            "colorscale": [
             [
              0,
              "#0d0887"
             ],
             [
              0.1111111111111111,
              "#46039f"
             ],
             [
              0.2222222222222222,
              "#7201a8"
             ],
             [
              0.3333333333333333,
              "#9c179e"
             ],
             [
              0.4444444444444444,
              "#bd3786"
             ],
             [
              0.5555555555555556,
              "#d8576b"
             ],
             [
              0.6666666666666666,
              "#ed7953"
             ],
             [
              0.7777777777777778,
              "#fb9f3a"
             ],
             [
              0.8888888888888888,
              "#fdca26"
             ],
             [
              1,
              "#f0f921"
             ]
            ],
            "type": "heatmapgl"
           }
          ],
          "histogram": [
           {
            "marker": {
             "pattern": {
              "fillmode": "overlay",
              "size": 10,
              "solidity": 0.2
             }
            },
            "type": "histogram"
           }
          ],
          "histogram2d": [
           {
            "colorbar": {
             "outlinewidth": 0,
             "ticks": ""
            },
            "colorscale": [
             [
              0,
              "#0d0887"
             ],
             [
              0.1111111111111111,
              "#46039f"
             ],
             [
              0.2222222222222222,
              "#7201a8"
             ],
             [
              0.3333333333333333,
              "#9c179e"
             ],
             [
              0.4444444444444444,
              "#bd3786"
             ],
             [
              0.5555555555555556,
              "#d8576b"
             ],
             [
              0.6666666666666666,
              "#ed7953"
             ],
             [
              0.7777777777777778,
              "#fb9f3a"
             ],
             [
              0.8888888888888888,
              "#fdca26"
             ],
             [
              1,
              "#f0f921"
             ]
            ],
            "type": "histogram2d"
           }
          ],
          "histogram2dcontour": [
           {
            "colorbar": {
             "outlinewidth": 0,
             "ticks": ""
            },
            "colorscale": [
             [
              0,
              "#0d0887"
             ],
             [
              0.1111111111111111,
              "#46039f"
             ],
             [
              0.2222222222222222,
              "#7201a8"
             ],
             [
              0.3333333333333333,
              "#9c179e"
             ],
             [
              0.4444444444444444,
              "#bd3786"
             ],
             [
              0.5555555555555556,
              "#d8576b"
             ],
             [
              0.6666666666666666,
              "#ed7953"
             ],
             [
              0.7777777777777778,
              "#fb9f3a"
             ],
             [
              0.8888888888888888,
              "#fdca26"
             ],
             [
              1,
              "#f0f921"
             ]
            ],
            "type": "histogram2dcontour"
           }
          ],
          "mesh3d": [
           {
            "colorbar": {
             "outlinewidth": 0,
             "ticks": ""
            },
            "type": "mesh3d"
           }
          ],
          "parcoords": [
           {
            "line": {
             "colorbar": {
              "outlinewidth": 0,
              "ticks": ""
             }
            },
            "type": "parcoords"
           }
          ],
          "pie": [
           {
            "automargin": true,
            "type": "pie"
           }
          ],
          "scatter": [
           {
            "fillpattern": {
             "fillmode": "overlay",
             "size": 10,
             "solidity": 0.2
            },
            "type": "scatter"
           }
          ],
          "scatter3d": [
           {
            "line": {
             "colorbar": {
              "outlinewidth": 0,
              "ticks": ""
             }
            },
            "marker": {
             "colorbar": {
              "outlinewidth": 0,
              "ticks": ""
             }
            },
            "type": "scatter3d"
           }
          ],
          "scattercarpet": [
           {
            "marker": {
             "colorbar": {
              "outlinewidth": 0,
              "ticks": ""
             }
            },
            "type": "scattercarpet"
           }
          ],
          "scattergeo": [
           {
            "marker": {
             "colorbar": {
              "outlinewidth": 0,
              "ticks": ""
             }
            },
            "type": "scattergeo"
           }
          ],
          "scattergl": [
           {
            "marker": {
             "colorbar": {
              "outlinewidth": 0,
              "ticks": ""
             }
            },
            "type": "scattergl"
           }
          ],
          "scattermapbox": [
           {
            "marker": {
             "colorbar": {
              "outlinewidth": 0,
              "ticks": ""
             }
            },
            "type": "scattermapbox"
           }
          ],
          "scatterpolar": [
           {
            "marker": {
             "colorbar": {
              "outlinewidth": 0,
              "ticks": ""
             }
            },
            "type": "scatterpolar"
           }
          ],
          "scatterpolargl": [
           {
            "marker": {
             "colorbar": {
              "outlinewidth": 0,
              "ticks": ""
             }
            },
            "type": "scatterpolargl"
           }
          ],
          "scatterternary": [
           {
            "marker": {
             "colorbar": {
              "outlinewidth": 0,
              "ticks": ""
             }
            },
            "type": "scatterternary"
           }
          ],
          "surface": [
           {
            "colorbar": {
             "outlinewidth": 0,
             "ticks": ""
            },
            "colorscale": [
             [
              0,
              "#0d0887"
             ],
             [
              0.1111111111111111,
              "#46039f"
             ],
             [
              0.2222222222222222,
              "#7201a8"
             ],
             [
              0.3333333333333333,
              "#9c179e"
             ],
             [
              0.4444444444444444,
              "#bd3786"
             ],
             [
              0.5555555555555556,
              "#d8576b"
             ],
             [
              0.6666666666666666,
              "#ed7953"
             ],
             [
              0.7777777777777778,
              "#fb9f3a"
             ],
             [
              0.8888888888888888,
              "#fdca26"
             ],
             [
              1,
              "#f0f921"
             ]
            ],
            "type": "surface"
           }
          ],
          "table": [
           {
            "cells": {
             "fill": {
              "color": "#EBF0F8"
             },
             "line": {
              "color": "white"
             }
            },
            "header": {
             "fill": {
              "color": "#C8D4E3"
             },
             "line": {
              "color": "white"
             }
            },
            "type": "table"
           }
          ]
         },
         "layout": {
          "annotationdefaults": {
           "arrowcolor": "#2a3f5f",
           "arrowhead": 0,
           "arrowwidth": 1
          },
          "autotypenumbers": "strict",
          "coloraxis": {
           "colorbar": {
            "outlinewidth": 0,
            "ticks": ""
           }
          },
          "colorscale": {
           "diverging": [
            [
             0,
             "#8e0152"
            ],
            [
             0.1,
             "#c51b7d"
            ],
            [
             0.2,
             "#de77ae"
            ],
            [
             0.3,
             "#f1b6da"
            ],
            [
             0.4,
             "#fde0ef"
            ],
            [
             0.5,
             "#f7f7f7"
            ],
            [
             0.6,
             "#e6f5d0"
            ],
            [
             0.7,
             "#b8e186"
            ],
            [
             0.8,
             "#7fbc41"
            ],
            [
             0.9,
             "#4d9221"
            ],
            [
             1,
             "#276419"
            ]
           ],
           "sequential": [
            [
             0,
             "#0d0887"
            ],
            [
             0.1111111111111111,
             "#46039f"
            ],
            [
             0.2222222222222222,
             "#7201a8"
            ],
            [
             0.3333333333333333,
             "#9c179e"
            ],
            [
             0.4444444444444444,
             "#bd3786"
            ],
            [
             0.5555555555555556,
             "#d8576b"
            ],
            [
             0.6666666666666666,
             "#ed7953"
            ],
            [
             0.7777777777777778,
             "#fb9f3a"
            ],
            [
             0.8888888888888888,
             "#fdca26"
            ],
            [
             1,
             "#f0f921"
            ]
           ],
           "sequentialminus": [
            [
             0,
             "#0d0887"
            ],
            [
             0.1111111111111111,
             "#46039f"
            ],
            [
             0.2222222222222222,
             "#7201a8"
            ],
            [
             0.3333333333333333,
             "#9c179e"
            ],
            [
             0.4444444444444444,
             "#bd3786"
            ],
            [
             0.5555555555555556,
             "#d8576b"
            ],
            [
             0.6666666666666666,
             "#ed7953"
            ],
            [
             0.7777777777777778,
             "#fb9f3a"
            ],
            [
             0.8888888888888888,
             "#fdca26"
            ],
            [
             1,
             "#f0f921"
            ]
           ]
          },
          "colorway": [
           "#636efa",
           "#EF553B",
           "#00cc96",
           "#ab63fa",
           "#FFA15A",
           "#19d3f3",
           "#FF6692",
           "#B6E880",
           "#FF97FF",
           "#FECB52"
          ],
          "font": {
           "color": "#2a3f5f"
          },
          "geo": {
           "bgcolor": "white",
           "lakecolor": "white",
           "landcolor": "#E5ECF6",
           "showlakes": true,
           "showland": true,
           "subunitcolor": "white"
          },
          "hoverlabel": {
           "align": "left"
          },
          "hovermode": "closest",
          "mapbox": {
           "style": "light"
          },
          "paper_bgcolor": "white",
          "plot_bgcolor": "#E5ECF6",
          "polar": {
           "angularaxis": {
            "gridcolor": "white",
            "linecolor": "white",
            "ticks": ""
           },
           "bgcolor": "#E5ECF6",
           "radialaxis": {
            "gridcolor": "white",
            "linecolor": "white",
            "ticks": ""
           }
          },
          "scene": {
           "xaxis": {
            "backgroundcolor": "#E5ECF6",
            "gridcolor": "white",
            "gridwidth": 2,
            "linecolor": "white",
            "showbackground": true,
            "ticks": "",
            "zerolinecolor": "white"
           },
           "yaxis": {
            "backgroundcolor": "#E5ECF6",
            "gridcolor": "white",
            "gridwidth": 2,
            "linecolor": "white",
            "showbackground": true,
            "ticks": "",
            "zerolinecolor": "white"
           },
           "zaxis": {
            "backgroundcolor": "#E5ECF6",
            "gridcolor": "white",
            "gridwidth": 2,
            "linecolor": "white",
            "showbackground": true,
            "ticks": "",
            "zerolinecolor": "white"
           }
          },
          "shapedefaults": {
           "line": {
            "color": "#2a3f5f"
           }
          },
          "ternary": {
           "aaxis": {
            "gridcolor": "white",
            "linecolor": "white",
            "ticks": ""
           },
           "baxis": {
            "gridcolor": "white",
            "linecolor": "white",
            "ticks": ""
           },
           "bgcolor": "#E5ECF6",
           "caxis": {
            "gridcolor": "white",
            "linecolor": "white",
            "ticks": ""
           }
          },
          "title": {
           "x": 0.05
          },
          "xaxis": {
           "automargin": true,
           "gridcolor": "white",
           "linecolor": "white",
           "ticks": "",
           "title": {
            "standoff": 15
           },
           "zerolinecolor": "white",
           "zerolinewidth": 2
          },
          "yaxis": {
           "automargin": true,
           "gridcolor": "white",
           "linecolor": "white",
           "ticks": "",
           "title": {
            "standoff": 15
           },
           "zerolinecolor": "white",
           "zerolinewidth": 2
          }
         }
        },
        "title": {
         "text": "Top 100 most difficult challenge words",
         "x": 0.5
        },
        "width": 1000,
        "xaxis": {
         "anchor": "y",
         "domain": [
          0,
          1
         ],
         "title": {
          "text": "Challenge"
         }
        },
        "yaxis": {
         "anchor": "x",
         "domain": [
          0,
          1
         ],
         "title": {
          "text": "Incomplete Percent"
         }
        }
       }
      }
     },
     "metadata": {},
     "output_type": "display_data"
    }
   ],
   "source": [
    "plot_most_difficult_words(dataf=incomplete_games_stats)"
   ]
  },
  {
   "cell_type": "markdown",
   "id": "201310ce",
   "metadata": {},
   "source": [
    "## Words never guessed"
   ]
  },
  {
   "cell_type": "code",
   "execution_count": 32,
   "id": "8c450129",
   "metadata": {},
   "outputs": [
    {
     "data": {
      "text/html": [
       "<pre style=\"white-space:pre;overflow-x:auto;line-height:normal;font-family:Menlo,'DejaVu Sans Mono',consolas,'Courier New',monospace\"></pre>\n"
      ],
      "text/plain": []
     },
     "metadata": {},
     "output_type": "display_data"
    },
    {
     "data": {
      "text/html": [
       "<div><style>\n",
       ".dataframe > thead > tr,\n",
       ".dataframe > tbody > tr {\n",
       "  text-align: right;\n",
       "  white-space: pre-wrap;\n",
       "}\n",
       "</style>\n",
       "<small>shape: (5, 3)</small><table border=\"1\" class=\"dataframe\"><thead><tr><th>challenge</th><th>incomplete_games_count</th><th>incomplete_games_pct</th></tr><tr><td>str</td><td>u8</td><td>f32</td></tr></thead><tbody><tr><td>&quot;delly&quot;</td><td>1</td><td>100.0</td></tr><tr><td>&quot;woozy&quot;</td><td>1</td><td>100.0</td></tr><tr><td>&quot;scraw&quot;</td><td>1</td><td>100.0</td></tr><tr><td>&quot;caese&quot;</td><td>1</td><td>100.0</td></tr><tr><td>&quot;rakee&quot;</td><td>1</td><td>100.0</td></tr></tbody></table></div>"
      ],
      "text/plain": [
       "\n",
       "shape: \u001b[1m(\u001b[0m\u001b[1;36m5\u001b[0m, \u001b[1;36m3\u001b[0m\u001b[1m)\u001b[0m\n",
       "┌───────────┬────────────────────────┬──────────────────────┐\n",
       "│ challenge ┆ incomplete_games_count ┆ incomplete_games_pct │\n",
       "│ ---       ┆ ---                    ┆ ---                  │\n",
       "│ str       ┆ u8                     ┆ f32                  │\n",
       "╞═══════════╪════════════════════════╪══════════════════════╡\n",
       "│ delly     ┆ \u001b[1;36m1\u001b[0m                      ┆ \u001b[1;36m100.0\u001b[0m                │\n",
       "│ woozy     ┆ \u001b[1;36m1\u001b[0m                      ┆ \u001b[1;36m100.0\u001b[0m                │\n",
       "│ scraw     ┆ \u001b[1;36m1\u001b[0m                      ┆ \u001b[1;36m100.0\u001b[0m                │\n",
       "│ caese     ┆ \u001b[1;36m1\u001b[0m                      ┆ \u001b[1;36m100.0\u001b[0m                │\n",
       "│ rakee     ┆ \u001b[1;36m1\u001b[0m                      ┆ \u001b[1;36m100.0\u001b[0m                │\n",
       "└───────────┴────────────────────────┴──────────────────────┘"
      ]
     },
     "execution_count": 32,
     "metadata": {},
     "output_type": "execute_result"
    }
   ],
   "source": [
    "(\n",
    "    incomplete_games_stats\n",
    "    .filter(pl.col(\"incomplete_games_pct\") == 100)\n",
    "    .head()\n",
    ")"
   ]
  },
  {
   "cell_type": "markdown",
   "id": "58eeef70",
   "metadata": {},
   "source": [
    "# Challenge word statistics"
   ]
  },
  {
   "cell_type": "code",
   "execution_count": 33,
   "id": "d19e3e1b",
   "metadata": {},
   "outputs": [],
   "source": [
    "challenge_stats = (\n",
    "    simulating_tries_difficulty\n",
    "    .group_by(\"challenge\")\n",
    "    .agg(\n",
    "        tries_mode=pl.col(\"tries\").mode().cast(pl.UInt8),\n",
    "        tries_mean=(pl.col(\"tries\").mean().cast(pl.Float32)).round(3),\n",
    "        tries_null_pct=(pl.col(\"tries\").is_null().mean().cast(pl.Float32) * 100).round(3),\n",
    "    )\n",
    "    .explode(\"tries_mode\")\n",
    "    .sort(\"tries_null_pct\", descending = True)\n",
    ")"
   ]
  },
  {
   "cell_type": "code",
   "execution_count": 34,
   "id": "fc9d629c",
   "metadata": {},
   "outputs": [
    {
     "data": {
      "text/html": [
       "<pre style=\"white-space:pre;overflow-x:auto;line-height:normal;font-family:Menlo,'DejaVu Sans Mono',consolas,'Courier New',monospace\"></pre>\n"
      ],
      "text/plain": []
     },
     "metadata": {},
     "output_type": "display_data"
    },
    {
     "data": {
      "text/html": [
       "<div><style>\n",
       ".dataframe > thead > tr,\n",
       ".dataframe > tbody > tr {\n",
       "  text-align: right;\n",
       "  white-space: pre-wrap;\n",
       "}\n",
       "</style>\n",
       "<small>shape: (5, 4)</small><table border=\"1\" class=\"dataframe\"><thead><tr><th>challenge</th><th>tries_mode</th><th>tries_mean</th><th>tries_null_pct</th></tr><tr><td>str</td><td>u8</td><td>f32</td><td>f32</td></tr></thead><tbody><tr><td>&quot;cobby&quot;</td><td>null</td><td>null</td><td>100.0</td></tr><tr><td>&quot;welke&quot;</td><td>null</td><td>null</td><td>100.0</td></tr><tr><td>&quot;humpy&quot;</td><td>null</td><td>null</td><td>100.0</td></tr><tr><td>&quot;hexer&quot;</td><td>null</td><td>null</td><td>100.0</td></tr><tr><td>&quot;edger&quot;</td><td>null</td><td>null</td><td>100.0</td></tr></tbody></table></div>"
      ],
      "text/plain": [
       "\n",
       "shape: \u001b[1m(\u001b[0m\u001b[1;36m5\u001b[0m, \u001b[1;36m4\u001b[0m\u001b[1m)\u001b[0m\n",
       "┌───────────┬────────────┬────────────┬────────────────┐\n",
       "│ challenge ┆ tries_mode ┆ tries_mean ┆ tries_null_pct │\n",
       "│ ---       ┆ ---        ┆ ---        ┆ ---            │\n",
       "│ str       ┆ u8         ┆ f32        ┆ f32            │\n",
       "╞═══════════╪════════════╪════════════╪════════════════╡\n",
       "│ cobby     ┆ null       ┆ null       ┆ \u001b[1;36m100.0\u001b[0m          │\n",
       "│ welke     ┆ null       ┆ null       ┆ \u001b[1;36m100.0\u001b[0m          │\n",
       "│ humpy     ┆ null       ┆ null       ┆ \u001b[1;36m100.0\u001b[0m          │\n",
       "│ hexer     ┆ null       ┆ null       ┆ \u001b[1;36m100.0\u001b[0m          │\n",
       "│ edger     ┆ null       ┆ null       ┆ \u001b[1;36m100.0\u001b[0m          │\n",
       "└───────────┴────────────┴────────────┴────────────────┘"
      ]
     },
     "execution_count": 34,
     "metadata": {},
     "output_type": "execute_result"
    }
   ],
   "source": [
    "challenge_stats.head()"
   ]
  },
  {
   "cell_type": "code",
   "execution_count": 35,
   "id": "00b1ba63",
   "metadata": {},
   "outputs": [
    {
     "name": "stdout",
     "output_type": "stream",
     "text": [
      "Overall incompletion rate: 6.42%\n"
     ]
    }
   ],
   "source": [
    "print(f\"Overall incompletion rate: {(first_guess['tries'].is_null().sum() / first_guess.height) * 100:.2f}%\")"
   ]
  },
  {
   "cell_type": "markdown",
   "id": "60e58575",
   "metadata": {},
   "source": [
    "## Retrieve the 2nd row of every group of 6 rows."
   ]
  },
  {
   "cell_type": "markdown",
   "id": "d9b90014",
   "metadata": {},
   "source": [
    "### Determine the average number of choices remaining after the second guess. This will tell us how effective the two guess strategy is at solving the challenge word."
   ]
  },
  {
   "cell_type": "code",
   "execution_count": 36,
   "id": "d6450149",
   "metadata": {},
   "outputs": [],
   "source": [
    "second_guess_df = (\n",
    "    simulating_tries_difficulty\n",
    "    .with_row_index(name=\"row_num\")\n",
    "    .filter(\n",
    "        (pl.col(\"row_num\") % 6 == 1) &\n",
    "        ~(pl.col(\"guess\") == \"saint\") # remove instance where 'saint' as first guess is correct\n",
    "    )\n",
    "    .drop(\"row_num\")\n",
    ")"
   ]
  },
  {
   "cell_type": "code",
   "execution_count": 37,
   "id": "7fde8bb8",
   "metadata": {},
   "outputs": [
    {
     "data": {
      "text/html": [
       "<pre style=\"white-space:pre;overflow-x:auto;line-height:normal;font-family:Menlo,'DejaVu Sans Mono',consolas,'Courier New',monospace\"></pre>\n"
      ],
      "text/plain": []
     },
     "metadata": {},
     "output_type": "display_data"
    },
    {
     "data": {
      "text/html": [
       "<div><style>\n",
       ".dataframe > thead > tr,\n",
       ".dataframe > tbody > tr {\n",
       "  text-align: right;\n",
       "  white-space: pre-wrap;\n",
       "}\n",
       "</style>\n",
       "<small>shape: (5, 19)</small><table border=\"1\" class=\"dataframe\"><thead><tr><th>challenge</th><th>guess</th><th>letter_differences</th><th>common_letters</th><th>num_diff_letters</th><th>num_common_letters</th><th>num_matching_index</th><th>match_pattern</th><th>num_choices_after_guess</th><th>possible_guesses</th><th>challenge_in_possible_guesses</th><th>next_guess</th><th>group</th><th>tries</th><th>difficulty</th><th>guess_word_anagrams</th><th>anagram_num</th><th>anagrams</th><th>anagram_num_right</th></tr><tr><td>str</td><td>str</td><td>str</td><td>str</td><td>u8</td><td>u8</td><td>u8</td><td>str</td><td>u16</td><td>str</td><td>bool</td><td>str</td><td>u32</td><td>u8</td><td>str</td><td>str</td><td>u8</td><td>str</td><td>u8</td></tr></thead><tbody><tr><td>&quot;yummy&quot;</td><td>&quot;loure&quot;</td><td>&quot;nisaetolr&quot;</td><td>&quot;u&quot;</td><td>9</td><td>1</td><td>0</td><td>&quot;BBYBB&quot;</td><td>56</td><td>&quot;dummy, fuzzy, muddy, puppy, bu…</td><td>false</td><td>&quot;dummy&quot;</td><td>0</td><td>5</td><td>&quot;hard&quot;</td><td>&quot;loure, roule&quot;</td><td>2</td><td>&quot;dummy&quot;</td><td>1</td></tr><tr><td>&quot;calyx&quot;</td><td>&quot;loure&quot;</td><td>&quot;nuisetor&quot;</td><td>&quot;al&quot;</td><td>8</td><td>2</td><td>1</td><td>&quot;YBBBB&quot;</td><td>44</td><td>&quot;palmy, papal, wally, badly, ma…</td><td>true</td><td>&quot;palmy&quot;</td><td>1</td><td>4</td><td>&quot;moderate&quot;</td><td>&quot;loure, roule&quot;</td><td>2</td><td>null</td><td>null</td></tr><tr><td>&quot;varas&quot;</td><td>&quot;loure&quot;</td><td>&quot;nuietol&quot;</td><td>&quot;sar&quot;</td><td>7</td><td>3</td><td>1</td><td>&quot;BBBYB&quot;</td><td>21</td><td>&quot;harsh, marsh, rajas, warps, ra…</td><td>true</td><td>&quot;harsh&quot;</td><td>2</td><td>5</td><td>&quot;hard&quot;</td><td>&quot;loure, roule&quot;</td><td>2</td><td>&quot;harsh&quot;</td><td>1</td></tr><tr><td>&quot;bubba&quot;</td><td>&quot;loure&quot;</td><td>&quot;nisetolr&quot;</td><td>&quot;au&quot;</td><td>8</td><td>2</td><td>0</td><td>&quot;BBYBB&quot;</td><td>21</td><td>&quot;quack, yucca, bubba, guava, gu…</td><td>true</td><td>&quot;quack&quot;</td><td>3</td><td>4</td><td>&quot;moderate&quot;</td><td>&quot;loure, roule&quot;</td><td>2</td><td>&quot;quack&quot;</td><td>1</td></tr><tr><td>&quot;lowes&quot;</td><td>&quot;loure&quot;</td><td>&quot;nuiatr&quot;</td><td>&quot;sloe&quot;</td><td>6</td><td>4</td><td>2</td><td>&quot;GGBBY&quot;</td><td>4</td><td>&quot;loess, lowes, losel, lomes&quot;</td><td>true</td><td>&quot;loess&quot;</td><td>4</td><td>4</td><td>&quot;moderate&quot;</td><td>&quot;loure, roule&quot;</td><td>2</td><td>&quot;loess&quot;</td><td>1</td></tr></tbody></table></div>"
      ],
      "text/plain": [
       "\n",
       "shape: \u001b[1m(\u001b[0m\u001b[1;36m5\u001b[0m, \u001b[1;36m19\u001b[0m\u001b[1m)\u001b[0m\n",
       "┌───────────┬───────┬────────────┬────────────┬───┬────────────┬────────────┬──────────┬───────────┐\n",
       "│ challenge ┆ guess ┆ letter_dif ┆ common_let ┆ … ┆ guess_word ┆ anagram_nu ┆ anagrams ┆ anagram_n │\n",
       "│ ---       ┆ ---   ┆ ferences   ┆ ters       ┆   ┆ _anagrams  ┆ m          ┆ ---      ┆ um_right  │\n",
       "│ str       ┆ str   ┆ ---        ┆ ---        ┆   ┆ ---        ┆ ---        ┆ str      ┆ ---       │\n",
       "│           ┆       ┆ str        ┆ str        ┆   ┆ str        ┆ u8         ┆          ┆ u8        │\n",
       "╞═══════════╪═══════╪════════════╪════════════╪═══╪════════════╪════════════╪══════════╪═══════════╡\n",
       "│ yummy     ┆ loure ┆ nisaetolr  ┆ u          ┆ … ┆ loure,     ┆ \u001b[1;36m2\u001b[0m          ┆ dummy    ┆ \u001b[1;36m1\u001b[0m         │\n",
       "│           ┆       ┆            ┆            ┆   ┆ roule      ┆            ┆          ┆           │\n",
       "│ calyx     ┆ loure ┆ nuisetor   ┆ al         ┆ … ┆ loure,     ┆ \u001b[1;36m2\u001b[0m          ┆ null     ┆ null      │\n",
       "│           ┆       ┆            ┆            ┆   ┆ roule      ┆            ┆          ┆           │\n",
       "│ varas     ┆ loure ┆ nuietol    ┆ sar        ┆ … ┆ loure,     ┆ \u001b[1;36m2\u001b[0m          ┆ harsh    ┆ \u001b[1;36m1\u001b[0m         │\n",
       "│           ┆       ┆            ┆            ┆   ┆ roule      ┆            ┆          ┆           │\n",
       "│ bubba     ┆ loure ┆ nisetolr   ┆ au         ┆ … ┆ loure,     ┆ \u001b[1;36m2\u001b[0m          ┆ quack    ┆ \u001b[1;36m1\u001b[0m         │\n",
       "│           ┆       ┆            ┆            ┆   ┆ roule      ┆            ┆          ┆           │\n",
       "│ lowes     ┆ loure ┆ nuiatr     ┆ sloe       ┆ … ┆ loure,     ┆ \u001b[1;36m2\u001b[0m          ┆ loess    ┆ \u001b[1;36m1\u001b[0m         │\n",
       "│           ┆       ┆            ┆            ┆   ┆ roule      ┆            ┆          ┆           │\n",
       "└───────────┴───────┴────────────┴────────────┴───┴────────────┴────────────┴──────────┴───────────┘"
      ]
     },
     "execution_count": 37,
     "metadata": {},
     "output_type": "execute_result"
    }
   ],
   "source": [
    "second_guess_df.head()"
   ]
  },
  {
   "cell_type": "code",
   "execution_count": 38,
   "id": "3ab3c70f",
   "metadata": {},
   "outputs": [
    {
     "data": {
      "text/html": [
       "<pre style=\"white-space:pre;overflow-x:auto;line-height:normal;font-family:Menlo,'DejaVu Sans Mono',consolas,'Courier New',monospace\"></pre>\n"
      ],
      "text/plain": []
     },
     "metadata": {},
     "output_type": "display_data"
    },
    {
     "data": {
      "text/html": [
       "<div><style>\n",
       ".dataframe > thead > tr,\n",
       ".dataframe > tbody > tr {\n",
       "  text-align: right;\n",
       "  white-space: pre-wrap;\n",
       "}\n",
       "</style>\n",
       "<small>shape: (5, 19)</small><table border=\"1\" class=\"dataframe\"><thead><tr><th>challenge</th><th>guess</th><th>letter_differences</th><th>common_letters</th><th>num_diff_letters</th><th>num_common_letters</th><th>num_matching_index</th><th>match_pattern</th><th>num_choices_after_guess</th><th>possible_guesses</th><th>challenge_in_possible_guesses</th><th>next_guess</th><th>group</th><th>tries</th><th>difficulty</th><th>guess_word_anagrams</th><th>anagram_num</th><th>anagrams</th><th>anagram_num_right</th></tr><tr><td>str</td><td>str</td><td>str</td><td>str</td><td>u8</td><td>u8</td><td>u8</td><td>str</td><td>u16</td><td>str</td><td>bool</td><td>str</td><td>u32</td><td>u8</td><td>str</td><td>str</td><td>u8</td><td>str</td><td>u8</td></tr></thead><tbody><tr><td>&quot;yummy&quot;</td><td>&quot;loure&quot;</td><td>&quot;nisaetolr&quot;</td><td>&quot;u&quot;</td><td>9</td><td>1</td><td>0</td><td>&quot;BBYBB&quot;</td><td>56</td><td>&quot;dummy, fuzzy, muddy, puppy, bu…</td><td>false</td><td>&quot;dummy&quot;</td><td>0</td><td>5</td><td>&quot;hard&quot;</td><td>&quot;loure, roule&quot;</td><td>2</td><td>&quot;dummy&quot;</td><td>1</td></tr><tr><td>&quot;calyx&quot;</td><td>&quot;loure&quot;</td><td>&quot;nuisetor&quot;</td><td>&quot;al&quot;</td><td>8</td><td>2</td><td>1</td><td>&quot;YBBBB&quot;</td><td>44</td><td>&quot;palmy, papal, wally, badly, ma…</td><td>true</td><td>&quot;palmy&quot;</td><td>1</td><td>4</td><td>&quot;moderate&quot;</td><td>&quot;loure, roule&quot;</td><td>2</td><td>null</td><td>null</td></tr><tr><td>&quot;varas&quot;</td><td>&quot;loure&quot;</td><td>&quot;nuietol&quot;</td><td>&quot;sar&quot;</td><td>7</td><td>3</td><td>1</td><td>&quot;BBBYB&quot;</td><td>21</td><td>&quot;harsh, marsh, rajas, warps, ra…</td><td>true</td><td>&quot;harsh&quot;</td><td>2</td><td>5</td><td>&quot;hard&quot;</td><td>&quot;loure, roule&quot;</td><td>2</td><td>&quot;harsh&quot;</td><td>1</td></tr><tr><td>&quot;bubba&quot;</td><td>&quot;loure&quot;</td><td>&quot;nisetolr&quot;</td><td>&quot;au&quot;</td><td>8</td><td>2</td><td>0</td><td>&quot;BBYBB&quot;</td><td>21</td><td>&quot;quack, yucca, bubba, guava, gu…</td><td>true</td><td>&quot;quack&quot;</td><td>3</td><td>4</td><td>&quot;moderate&quot;</td><td>&quot;loure, roule&quot;</td><td>2</td><td>&quot;quack&quot;</td><td>1</td></tr><tr><td>&quot;lowes&quot;</td><td>&quot;loure&quot;</td><td>&quot;nuiatr&quot;</td><td>&quot;sloe&quot;</td><td>6</td><td>4</td><td>2</td><td>&quot;GGBBY&quot;</td><td>4</td><td>&quot;loess, lowes, losel, lomes&quot;</td><td>true</td><td>&quot;loess&quot;</td><td>4</td><td>4</td><td>&quot;moderate&quot;</td><td>&quot;loure, roule&quot;</td><td>2</td><td>&quot;loess&quot;</td><td>1</td></tr></tbody></table></div>"
      ],
      "text/plain": [
       "\n",
       "shape: \u001b[1m(\u001b[0m\u001b[1;36m5\u001b[0m, \u001b[1;36m19\u001b[0m\u001b[1m)\u001b[0m\n",
       "┌───────────┬───────┬────────────┬────────────┬───┬────────────┬────────────┬──────────┬───────────┐\n",
       "│ challenge ┆ guess ┆ letter_dif ┆ common_let ┆ … ┆ guess_word ┆ anagram_nu ┆ anagrams ┆ anagram_n │\n",
       "│ ---       ┆ ---   ┆ ferences   ┆ ters       ┆   ┆ _anagrams  ┆ m          ┆ ---      ┆ um_right  │\n",
       "│ str       ┆ str   ┆ ---        ┆ ---        ┆   ┆ ---        ┆ ---        ┆ str      ┆ ---       │\n",
       "│           ┆       ┆ str        ┆ str        ┆   ┆ str        ┆ u8         ┆          ┆ u8        │\n",
       "╞═══════════╪═══════╪════════════╪════════════╪═══╪════════════╪════════════╪══════════╪═══════════╡\n",
       "│ yummy     ┆ loure ┆ nisaetolr  ┆ u          ┆ … ┆ loure,     ┆ \u001b[1;36m2\u001b[0m          ┆ dummy    ┆ \u001b[1;36m1\u001b[0m         │\n",
       "│           ┆       ┆            ┆            ┆   ┆ roule      ┆            ┆          ┆           │\n",
       "│ calyx     ┆ loure ┆ nuisetor   ┆ al         ┆ … ┆ loure,     ┆ \u001b[1;36m2\u001b[0m          ┆ null     ┆ null      │\n",
       "│           ┆       ┆            ┆            ┆   ┆ roule      ┆            ┆          ┆           │\n",
       "│ varas     ┆ loure ┆ nuietol    ┆ sar        ┆ … ┆ loure,     ┆ \u001b[1;36m2\u001b[0m          ┆ harsh    ┆ \u001b[1;36m1\u001b[0m         │\n",
       "│           ┆       ┆            ┆            ┆   ┆ roule      ┆            ┆          ┆           │\n",
       "│ bubba     ┆ loure ┆ nisetolr   ┆ au         ┆ … ┆ loure,     ┆ \u001b[1;36m2\u001b[0m          ┆ quack    ┆ \u001b[1;36m1\u001b[0m         │\n",
       "│           ┆       ┆            ┆            ┆   ┆ roule      ┆            ┆          ┆           │\n",
       "│ lowes     ┆ loure ┆ nuiatr     ┆ sloe       ┆ … ┆ loure,     ┆ \u001b[1;36m2\u001b[0m          ┆ loess    ┆ \u001b[1;36m1\u001b[0m         │\n",
       "│           ┆       ┆            ┆            ┆   ┆ roule      ┆            ┆          ┆           │\n",
       "└───────────┴───────┴────────────┴────────────┴───┴────────────┴────────────┴──────────┴───────────┘"
      ]
     },
     "execution_count": 38,
     "metadata": {},
     "output_type": "execute_result"
    }
   ],
   "source": [
    "# More efficiently \n",
    "second_guess_df_2 = (\n",
    "    simulating_tries_difficulty\n",
    "    .gather_every(n=6, offset=1)\n",
    "    .filter(~(pl.col(\"guess\") == \"saint\")) # remove instance where 'saint' as first guess is correct\n",
    ")\n",
    "\n",
    "second_guess_df_2.head()"
   ]
  },
  {
   "cell_type": "code",
   "execution_count": 39,
   "id": "cfbeee20",
   "metadata": {},
   "outputs": [
    {
     "name": "stdout",
     "output_type": "stream",
     "text": [
      "Avg num choices after 2nd guess: 15.68\n"
     ]
    }
   ],
   "source": [
    "print(f'Avg num choices after 2nd guess: {round(second_guess_df_2[\"num_choices_after_guess\"].mean(), 2)}')"
   ]
  },
  {
   "cell_type": "markdown",
   "id": "97a96540",
   "metadata": {},
   "source": [
    "### Greatest num of choices left after second guess"
   ]
  },
  {
   "cell_type": "code",
   "execution_count": 40,
   "id": "6f17632a",
   "metadata": {},
   "outputs": [
    {
     "data": {
      "text/html": [
       "<pre style=\"white-space:pre;overflow-x:auto;line-height:normal;font-family:Menlo,'DejaVu Sans Mono',consolas,'Courier New',monospace\"></pre>\n"
      ],
      "text/plain": []
     },
     "metadata": {},
     "output_type": "display_data"
    },
    {
     "data": {
      "text/plain": [
       "\u001b[1;36m81\u001b[0m"
      ]
     },
     "execution_count": 40,
     "metadata": {},
     "output_type": "execute_result"
    }
   ],
   "source": [
    "max_num_choices_after_2nd_guess = (\n",
    "    second_guess_df_2\n",
    "    .sort(\"num_choices_after_guess\", descending=True)\n",
    "    [\"num_choices_after_guess\"]\n",
    "    .head(1)\n",
    "    .item()\n",
    ")\n",
    "\n",
    "max_num_choices_after_2nd_guess"
   ]
  },
  {
   "cell_type": "code",
   "execution_count": 41,
   "id": "be0d6b6e",
   "metadata": {},
   "outputs": [
    {
     "data": {
      "text/html": [
       "<pre style=\"white-space:pre;overflow-x:auto;line-height:normal;font-family:Menlo,'DejaVu Sans Mono',consolas,'Courier New',monospace\"></pre>\n"
      ],
      "text/plain": []
     },
     "metadata": {},
     "output_type": "display_data"
    },
    {
     "data": {
      "text/plain": [
       "\n",
       "\u001b[1;35marray\u001b[0m\u001b[1m(\u001b[0m\u001b[1m[\u001b[0m\u001b[32m'boofy'\u001b[0m, \u001b[32m'goofy'\u001b[0m, \u001b[32m'poofy'\u001b[0m, \u001b[32m'bombo'\u001b[0m, \u001b[32m'comfy'\u001b[0m, \u001b[32m'cocky'\u001b[0m, \u001b[32m'cobby'\u001b[0m,\n",
       "       \u001b[32m'poboy'\u001b[0m, \u001b[32m'gombo'\u001b[0m, \u001b[32m'pooch'\u001b[0m, \u001b[32m'gobbo'\u001b[0m, \u001b[32m'mooch'\u001b[0m, \u001b[32m'coppy'\u001b[0m, \u001b[32m'dodgy'\u001b[0m,\n",
       "       \u001b[32m'compo'\u001b[0m, \u001b[32m'boffo'\u001b[0m, \u001b[32m'oomph'\u001b[0m, \u001b[32m'comby'\u001b[0m, \u001b[32m'bobby'\u001b[0m, \u001b[32m'boomy'\u001b[0m, \u001b[32m'gooby'\u001b[0m,\n",
       "       \u001b[32m'woody'\u001b[0m, \u001b[32m'boggy'\u001b[0m, \u001b[32m'mochy'\u001b[0m, \u001b[32m'cocco'\u001b[0m, \u001b[32m'mommy'\u001b[0m, \u001b[32m'pommy'\u001b[0m, \u001b[32m'poddy'\u001b[0m,\n",
       "       \u001b[32m'yobbo'\u001b[0m, \u001b[32m'foody'\u001b[0m, \u001b[32m'mobby'\u001b[0m, \u001b[32m'dohyo'\u001b[0m, \u001b[32m'doggo'\u001b[0m, \u001b[32m'cooch'\u001b[0m, \u001b[32m'howdy'\u001b[0m,\n",
       "       \u001b[32m'doozy'\u001b[0m, \u001b[32m'hobby'\u001b[0m, \u001b[32m'vozhd'\u001b[0m, \u001b[32m'moggy'\u001b[0m, \u001b[32m'podgy'\u001b[0m, \u001b[32m'woofy'\u001b[0m, \u001b[32m'doggy'\u001b[0m,\n",
       "       \u001b[32m'foggy'\u001b[0m, \u001b[32m'commo'\u001b[0m, \u001b[32m'moody'\u001b[0m, \u001b[32m'dobby'\u001b[0m, \u001b[32m'jocko'\u001b[0m, \u001b[32m'coomy'\u001b[0m, \u001b[32m'boogy'\u001b[0m,\n",
       "       \u001b[32m'booky'\u001b[0m, \u001b[32m'zocco'\u001b[0m, \u001b[32m'doddy'\u001b[0m, \u001b[32m'pozzy'\u001b[0m, \u001b[32m'hoody'\u001b[0m, \u001b[32m'cohog'\u001b[0m, \u001b[32m'goody'\u001b[0m,\n",
       "       \u001b[32m'goopy'\u001b[0m, \u001b[32m'kooky'\u001b[0m, \u001b[32m'commy'\u001b[0m, \u001b[32m'cooky'\u001b[0m, \u001b[32m'hoppy'\u001b[0m, \u001b[32m'woozy'\u001b[0m, \u001b[32m'combo'\u001b[0m,\n",
       "       \u001b[32m'hooky'\u001b[0m, \u001b[32m'womby'\u001b[0m, \u001b[32m'zoppo'\u001b[0m, \u001b[32m'poovy'\u001b[0m, \u001b[32m'booby'\u001b[0m, \u001b[32m'coomb'\u001b[0m, \u001b[32m'gobby'\u001b[0m,\n",
       "       \u001b[32m'poppy'\u001b[0m, \u001b[32m'doomy'\u001b[0m, \u001b[32m'howff'\u001b[0m, \u001b[32m'hooch'\u001b[0m, \u001b[32m'moppy'\u001b[0m, \u001b[32m'boody'\u001b[0m, \u001b[32m'pocky'\u001b[0m,\n",
       "       \u001b[32m'gooky'\u001b[0m, \u001b[32m'dowdy'\u001b[0m, \u001b[32m'doody'\u001b[0m, \u001b[32m'boozy'\u001b[0m\u001b[1m]\u001b[0m, \u001b[33mdtype\u001b[0m=\u001b[35mobject\u001b[0m\u001b[1m)\u001b[0m"
      ]
     },
     "execution_count": 41,
     "metadata": {},
     "output_type": "execute_result"
    }
   ],
   "source": [
    "(\n",
    "    second_guess_df_2\n",
    "    .filter(pl.col(\"num_choices_after_guess\") == max_num_choices_after_2nd_guess)\n",
    "    [\"challenge\"]\n",
    "    .unique()\n",
    "    .to_numpy()\n",
    ")"
   ]
  },
  {
   "cell_type": "markdown",
   "id": "7b21ef4a",
   "metadata": {},
   "source": [
    "### How often on average is the challenge word in the possible choices after the second guess"
   ]
  },
  {
   "cell_type": "code",
   "execution_count": 42,
   "id": "dee3abbd",
   "metadata": {},
   "outputs": [
    {
     "name": "stdout",
     "output_type": "stream",
     "text": [
      "Avg times challenge in possible guesses: 75.72%\n"
     ]
    }
   ],
   "source": [
    "print(f'Avg times challenge in possible guesses: {round(second_guess_df_2[\"challenge_in_possible_guesses\"].mean() * 100, 2)}%')"
   ]
  },
  {
   "cell_type": "code",
   "execution_count": 43,
   "id": "b5a9c6f2",
   "metadata": {},
   "outputs": [
    {
     "data": {
      "text/html": [
       "<pre style=\"white-space:pre;overflow-x:auto;line-height:normal;font-family:Menlo,'DejaVu Sans Mono',consolas,'Courier New',monospace\"></pre>\n"
      ],
      "text/plain": []
     },
     "metadata": {},
     "output_type": "display_data"
    },
    {
     "data": {
      "text/plain": [
       "\u001b[1;35marray\u001b[0m\u001b[1m(\u001b[0m\u001b[1m[\u001b[0m\u001b[1;36m2248\u001b[0m, \u001b[1;36m2404\u001b[0m, \u001b[1;36m4717\u001b[0m, \u001b[1;36m5900\u001b[0m, \u001b[1;36m5990\u001b[0m, \u001b[1;36m6233\u001b[0m, \u001b[1;36m6736\u001b[0m, \u001b[1;36m6928\u001b[0m, \u001b[1;36m7799\u001b[0m\u001b[1m]\u001b[0m, \u001b[33mdtype\u001b[0m=\u001b[35muint32\u001b[0m\u001b[1m)\u001b[0m"
      ]
     },
     "execution_count": 43,
     "metadata": {},
     "output_type": "execute_result"
    }
   ],
   "source": [
    "endswith_und = (\n",
    "    simulating_tries_difficulty\n",
    "    .filter(pl.col(\"challenge\").str.ends_with(\"und\"))\n",
    "    [\"group\"]\n",
    "    .unique()\n",
    "    .to_numpy()\n",
    ")\n",
    "\n",
    "endswith_und"
   ]
  },
  {
   "cell_type": "code",
   "execution_count": 44,
   "id": "67c591b7",
   "metadata": {},
   "outputs": [
    {
     "data": {
      "text/html": [
       "<pre style=\"white-space:pre;overflow-x:auto;line-height:normal;font-family:Menlo,'DejaVu Sans Mono',consolas,'Courier New',monospace\"></pre>\n"
      ],
      "text/plain": []
     },
     "metadata": {},
     "output_type": "display_data"
    },
    {
     "data": {
      "text/html": [
       "<table border=\"1\" class=\"dataframe\">\n",
       "  <thead>\n",
       "    <tr style=\"text-align: right;\">\n",
       "      <th></th>\n",
       "      <th>challenge</th>\n",
       "      <th>guess</th>\n",
       "      <th>match_pattern</th>\n",
       "      <th>next_guess</th>\n",
       "      <th>num_choices_after_guess</th>\n",
       "      <th>possible_guesses</th>\n",
       "      <th>difficulty</th>\n",
       "    </tr>\n",
       "  </thead>\n",
       "  <tbody>\n",
       "    <tr>\n",
       "      <th>0</th>\n",
       "      <td>mound</td>\n",
       "      <td>saint</td>\n",
       "      <td><div style='display:inline-block; width:20px; height:20px; margin:1px; text-align:center; font-weight:bold; background-color: black;'>s</div><div style='display:inline-block; width:20px; height:20px; margin:1px; text-align:center; font-weight:bold; background-color: black;'>a</div><div style='display:inline-block; width:20px; height:20px; margin:1px; text-align:center; font-weight:bold; background-color: black;'>i</div><div style='display:inline-block; width:20px; height:20px; margin:1px; text-align:center; font-weight:bold; background-color: green;'>n</div><div style='display:inline-block; width:20px; height:20px; margin:1px; text-align:center; font-weight:bold; background-color: black;'>t</div></td>\n",
       "      <td>loure</td>\n",
       "      <td>111</td>\n",
       "      <td>young, prone, ebony, wrong, jenny, pound, blend, donne, funny, round</td>\n",
       "      <td>hard</td>\n",
       "    </tr>\n",
       "    <tr>\n",
       "      <th>1</th>\n",
       "      <td>mound</td>\n",
       "      <td>loure</td>\n",
       "      <td><div style='display:inline-block; width:20px; height:20px; margin:1px; text-align:center; font-weight:bold; background-color: black;'>l</div><div style='display:inline-block; width:20px; height:20px; margin:1px; text-align:center; font-weight:bold; background-color: green;'>o</div><div style='display:inline-block; width:20px; height:20px; margin:1px; text-align:center; font-weight:bold; background-color: green;'>u</div><div style='display:inline-block; width:20px; height:20px; margin:1px; text-align:center; font-weight:bold; background-color: black;'>r</div><div style='display:inline-block; width:20px; height:20px; margin:1px; text-align:center; font-weight:bold; background-color: black;'>e</div></td>\n",
       "      <td>young</td>\n",
       "      <td>6</td>\n",
       "      <td>young, wound, pound, mound, hound, nouny</td>\n",
       "      <td>hard</td>\n",
       "    </tr>\n",
       "    <tr>\n",
       "      <th>2</th>\n",
       "      <td>mound</td>\n",
       "      <td>young</td>\n",
       "      <td><div style='display:inline-block; width:20px; height:20px; margin:1px; text-align:center; font-weight:bold; background-color: black;'>y</div><div style='display:inline-block; width:20px; height:20px; margin:1px; text-align:center; font-weight:bold; background-color: green;'>o</div><div style='display:inline-block; width:20px; height:20px; margin:1px; text-align:center; font-weight:bold; background-color: green;'>u</div><div style='display:inline-block; width:20px; height:20px; margin:1px; text-align:center; font-weight:bold; background-color: green;'>n</div><div style='display:inline-block; width:20px; height:20px; margin:1px; text-align:center; font-weight:bold; background-color: black;'>g</div></td>\n",
       "      <td>pound</td>\n",
       "      <td>4</td>\n",
       "      <td>pound, wound, mound, hound</td>\n",
       "      <td>hard</td>\n",
       "    </tr>\n",
       "    <tr>\n",
       "      <th>3</th>\n",
       "      <td>mound</td>\n",
       "      <td>pound</td>\n",
       "      <td><div style='display:inline-block; width:20px; height:20px; margin:1px; text-align:center; font-weight:bold; background-color: black;'>p</div><div style='display:inline-block; width:20px; height:20px; margin:1px; text-align:center; font-weight:bold; background-color: green;'>o</div><div style='display:inline-block; width:20px; height:20px; margin:1px; text-align:center; font-weight:bold; background-color: green;'>u</div><div style='display:inline-block; width:20px; height:20px; margin:1px; text-align:center; font-weight:bold; background-color: green;'>n</div><div style='display:inline-block; width:20px; height:20px; margin:1px; text-align:center; font-weight:bold; background-color: green;'>d</div></td>\n",
       "      <td>wound</td>\n",
       "      <td>3</td>\n",
       "      <td>wound, mound, hound</td>\n",
       "      <td>hard</td>\n",
       "    </tr>\n",
       "    <tr>\n",
       "      <th>4</th>\n",
       "      <td>mound</td>\n",
       "      <td>wound</td>\n",
       "      <td><div style='display:inline-block; width:20px; height:20px; margin:1px; text-align:center; font-weight:bold; background-color: black;'>w</div><div style='display:inline-block; width:20px; height:20px; margin:1px; text-align:center; font-weight:bold; background-color: green;'>o</div><div style='display:inline-block; width:20px; height:20px; margin:1px; text-align:center; font-weight:bold; background-color: green;'>u</div><div style='display:inline-block; width:20px; height:20px; margin:1px; text-align:center; font-weight:bold; background-color: green;'>n</div><div style='display:inline-block; width:20px; height:20px; margin:1px; text-align:center; font-weight:bold; background-color: green;'>d</div></td>\n",
       "      <td>mound</td>\n",
       "      <td>2</td>\n",
       "      <td>mound, hound</td>\n",
       "      <td>hard</td>\n",
       "    </tr>\n",
       "    <tr>\n",
       "      <th>5</th>\n",
       "      <td>mound</td>\n",
       "      <td>mound</td>\n",
       "      <td><div style='display:inline-block; width:20px; height:20px; margin:1px; text-align:center; font-weight:bold; background-color: green;'>m</div><div style='display:inline-block; width:20px; height:20px; margin:1px; text-align:center; font-weight:bold; background-color: green;'>o</div><div style='display:inline-block; width:20px; height:20px; margin:1px; text-align:center; font-weight:bold; background-color: green;'>u</div><div style='display:inline-block; width:20px; height:20px; margin:1px; text-align:center; font-weight:bold; background-color: green;'>n</div><div style='display:inline-block; width:20px; height:20px; margin:1px; text-align:center; font-weight:bold; background-color: green;'>d</div></td>\n",
       "      <td>mound</td>\n",
       "      <td>0</td>\n",
       "      <td></td>\n",
       "      <td>hard</td>\n",
       "    </tr>\n",
       "  </tbody>\n",
       "</table>"
      ],
      "text/plain": [
       "\u001b[1m<\u001b[0m\u001b[1;95mIPython.core.display.HTML\u001b[0m\u001b[39m object\u001b[0m\u001b[1m>\u001b[0m"
      ]
     },
     "execution_count": 44,
     "metadata": {},
     "output_type": "execute_result"
    }
   ],
   "source": [
    "endswith_und_group = rng.choice(endswith_und, 1, replace = False)\n",
    "HTML(\n",
    "    simulating_tries_difficulty\n",
    "    .filter(pl.col(\"group\") == endswith_und_group)\n",
    "    .to_pandas()\n",
    "    .assign(\n",
    "        match_pattern = lambda df_:\n",
    "        color_pattern_matching(\n",
    "            dataf=df_,\n",
    "            challenge_col=\"challenge\",\n",
    "            guess_col=\"guess\"\n",
    "        )\n",
    "    )\n",
    "    [[\n",
    "        \"challenge\", \"guess\", \"match_pattern\", \"next_guess\",\n",
    "        \"num_choices_after_guess\", \"possible_guesses\", \"difficulty\",\n",
    "    ]]\n",
    "    .to_html(escape=False)\n",
    ")\n"
   ]
  },
  {
   "cell_type": "code",
   "execution_count": 45,
   "id": "60e4eb61",
   "metadata": {},
   "outputs": [
    {
     "data": {
      "text/html": [
       "<pre style=\"white-space:pre;overflow-x:auto;line-height:normal;font-family:Menlo,'DejaVu Sans Mono',consolas,'Courier New',monospace\"></pre>\n"
      ],
      "text/plain": []
     },
     "metadata": {},
     "output_type": "display_data"
    },
    {
     "data": {
      "text/plain": [
       "\n",
       "\u001b[1;35marray\u001b[0m\u001b[1m(\u001b[0m\u001b[1m[\u001b[0m \u001b[1;36m143\u001b[0m,  \u001b[1;36m616\u001b[0m,  \u001b[1;36m975\u001b[0m, \u001b[1;36m1406\u001b[0m, \u001b[1;36m1916\u001b[0m, \u001b[1;36m2727\u001b[0m, \u001b[1;36m2804\u001b[0m, \u001b[1;36m4154\u001b[0m, \u001b[1;36m4520\u001b[0m, \u001b[1;36m4531\u001b[0m, \u001b[1;36m5828\u001b[0m,\n",
       "       \u001b[1;36m5960\u001b[0m, \u001b[1;36m6224\u001b[0m, \u001b[1;36m6416\u001b[0m\u001b[1m]\u001b[0m, \u001b[33mdtype\u001b[0m=\u001b[35muint32\u001b[0m\u001b[1m)\u001b[0m"
      ]
     },
     "execution_count": 45,
     "metadata": {},
     "output_type": "execute_result"
    }
   ],
   "source": [
    "endswith_ght = (\n",
    "    simulating_tries_difficulty\n",
    "    .filter(pl.col(\"challenge\").str.ends_with(\"ght\"))\n",
    "    [\"group\"]\n",
    "    .unique()\n",
    "    .to_numpy()\n",
    ")\n",
    "\n",
    "endswith_ght"
   ]
  },
  {
   "cell_type": "code",
   "execution_count": 46,
   "id": "b753aff5",
   "metadata": {},
   "outputs": [
    {
     "data": {
      "text/html": [
       "<pre style=\"white-space:pre;overflow-x:auto;line-height:normal;font-family:Menlo,'DejaVu Sans Mono',consolas,'Courier New',monospace\"></pre>\n"
      ],
      "text/plain": []
     },
     "metadata": {},
     "output_type": "display_data"
    },
    {
     "data": {
      "text/html": [
       "<table border=\"1\" class=\"dataframe\">\n",
       "  <thead>\n",
       "    <tr style=\"text-align: right;\">\n",
       "      <th></th>\n",
       "      <th>challenge</th>\n",
       "      <th>guess</th>\n",
       "      <th>match_pattern</th>\n",
       "      <th>next_guess</th>\n",
       "      <th>num_choices_after_guess</th>\n",
       "      <th>possible_guesses</th>\n",
       "      <th>difficulty</th>\n",
       "    </tr>\n",
       "  </thead>\n",
       "  <tbody>\n",
       "    <tr>\n",
       "      <th>0</th>\n",
       "      <td>bight</td>\n",
       "      <td>saint</td>\n",
       "      <td><div style='display:inline-block; width:20px; height:20px; margin:1px; text-align:center; font-weight:bold; background-color: black;'>s</div><div style='display:inline-block; width:20px; height:20px; margin:1px; text-align:center; font-weight:bold; background-color: black;'>a</div><div style='display:inline-block; width:20px; height:20px; margin:1px; text-align:center; font-weight:bold; background-color: #FDBE02;'>i</div><div style='display:inline-block; width:20px; height:20px; margin:1px; text-align:center; font-weight:bold; background-color: black;'>n</div><div style='display:inline-block; width:20px; height:20px; margin:1px; text-align:center; font-weight:bold; background-color: green;'>t</div></td>\n",
       "      <td>loure</td>\n",
       "      <td>68</td>\n",
       "      <td>light, right, fruit, limit, fight, vomit, debit, tight, pilot, bigot</td>\n",
       "      <td>hard</td>\n",
       "    </tr>\n",
       "    <tr>\n",
       "      <th>1</th>\n",
       "      <td>bight</td>\n",
       "      <td>loure</td>\n",
       "      <td><div style='display:inline-block; width:20px; height:20px; margin:1px; text-align:center; font-weight:bold; background-color: black;'>l</div><div style='display:inline-block; width:20px; height:20px; margin:1px; text-align:center; font-weight:bold; background-color: black;'>o</div><div style='display:inline-block; width:20px; height:20px; margin:1px; text-align:center; font-weight:bold; background-color: black;'>u</div><div style='display:inline-block; width:20px; height:20px; margin:1px; text-align:center; font-weight:bold; background-color: black;'>r</div><div style='display:inline-block; width:20px; height:20px; margin:1px; text-align:center; font-weight:bold; background-color: black;'>e</div></td>\n",
       "      <td>fight</td>\n",
       "      <td>16</td>\n",
       "      <td>fight, tight, digit, wight, bight, dixit, hight, pipit, dicht, micht</td>\n",
       "      <td>hard</td>\n",
       "    </tr>\n",
       "    <tr>\n",
       "      <th>2</th>\n",
       "      <td>bight</td>\n",
       "      <td>fight</td>\n",
       "      <td><div style='display:inline-block; width:20px; height:20px; margin:1px; text-align:center; font-weight:bold; background-color: black;'>f</div><div style='display:inline-block; width:20px; height:20px; margin:1px; text-align:center; font-weight:bold; background-color: green;'>i</div><div style='display:inline-block; width:20px; height:20px; margin:1px; text-align:center; font-weight:bold; background-color: green;'>g</div><div style='display:inline-block; width:20px; height:20px; margin:1px; text-align:center; font-weight:bold; background-color: green;'>h</div><div style='display:inline-block; width:20px; height:20px; margin:1px; text-align:center; font-weight:bold; background-color: green;'>t</div></td>\n",
       "      <td>tight</td>\n",
       "      <td>7</td>\n",
       "      <td>tight, wight, bight, hight, dight, kight, pight</td>\n",
       "      <td>hard</td>\n",
       "    </tr>\n",
       "    <tr>\n",
       "      <th>3</th>\n",
       "      <td>bight</td>\n",
       "      <td>tight</td>\n",
       "      <td><div style='display:inline-block; width:20px; height:20px; margin:1px; text-align:center; font-weight:bold; background-color: #FDBE02;'>t</div><div style='display:inline-block; width:20px; height:20px; margin:1px; text-align:center; font-weight:bold; background-color: green;'>i</div><div style='display:inline-block; width:20px; height:20px; margin:1px; text-align:center; font-weight:bold; background-color: green;'>g</div><div style='display:inline-block; width:20px; height:20px; margin:1px; text-align:center; font-weight:bold; background-color: green;'>h</div><div style='display:inline-block; width:20px; height:20px; margin:1px; text-align:center; font-weight:bold; background-color: green;'>t</div></td>\n",
       "      <td>wight</td>\n",
       "      <td>6</td>\n",
       "      <td>wight, bight, hight, dight, kight, pight</td>\n",
       "      <td>hard</td>\n",
       "    </tr>\n",
       "    <tr>\n",
       "      <th>4</th>\n",
       "      <td>bight</td>\n",
       "      <td>wight</td>\n",
       "      <td><div style='display:inline-block; width:20px; height:20px; margin:1px; text-align:center; font-weight:bold; background-color: black;'>w</div><div style='display:inline-block; width:20px; height:20px; margin:1px; text-align:center; font-weight:bold; background-color: green;'>i</div><div style='display:inline-block; width:20px; height:20px; margin:1px; text-align:center; font-weight:bold; background-color: green;'>g</div><div style='display:inline-block; width:20px; height:20px; margin:1px; text-align:center; font-weight:bold; background-color: green;'>h</div><div style='display:inline-block; width:20px; height:20px; margin:1px; text-align:center; font-weight:bold; background-color: green;'>t</div></td>\n",
       "      <td>bight</td>\n",
       "      <td>5</td>\n",
       "      <td>bight, hight, dight, kight, pight</td>\n",
       "      <td>hard</td>\n",
       "    </tr>\n",
       "    <tr>\n",
       "      <th>5</th>\n",
       "      <td>bight</td>\n",
       "      <td>bight</td>\n",
       "      <td><div style='display:inline-block; width:20px; height:20px; margin:1px; text-align:center; font-weight:bold; background-color: green;'>b</div><div style='display:inline-block; width:20px; height:20px; margin:1px; text-align:center; font-weight:bold; background-color: green;'>i</div><div style='display:inline-block; width:20px; height:20px; margin:1px; text-align:center; font-weight:bold; background-color: green;'>g</div><div style='display:inline-block; width:20px; height:20px; margin:1px; text-align:center; font-weight:bold; background-color: green;'>h</div><div style='display:inline-block; width:20px; height:20px; margin:1px; text-align:center; font-weight:bold; background-color: green;'>t</div></td>\n",
       "      <td>bight</td>\n",
       "      <td>0</td>\n",
       "      <td></td>\n",
       "      <td>hard</td>\n",
       "    </tr>\n",
       "  </tbody>\n",
       "</table>"
      ],
      "text/plain": [
       "\u001b[1m<\u001b[0m\u001b[1;95mIPython.core.display.HTML\u001b[0m\u001b[39m object\u001b[0m\u001b[1m>\u001b[0m"
      ]
     },
     "execution_count": 46,
     "metadata": {},
     "output_type": "execute_result"
    }
   ],
   "source": [
    "endswith_ght_group = rng.choice(endswith_ght, 1, replace = False)\n",
    "HTML(\n",
    "    simulating_tries_difficulty\n",
    "    .filter(pl.col(\"group\") == endswith_ght_group)\n",
    "    .to_pandas()\n",
    "    .assign(\n",
    "        match_pattern = lambda df_:\n",
    "        color_pattern_matching(\n",
    "            dataf=df_,\n",
    "            challenge_col=\"challenge\",\n",
    "            guess_col=\"guess\"\n",
    "        )\n",
    "    )\n",
    "    [[\n",
    "        \"challenge\", \"guess\", \"match_pattern\", \"next_guess\",\n",
    "        \"num_choices_after_guess\", \"possible_guesses\", \"difficulty\",\n",
    "    ]]\n",
    "    .to_html(escape=False)\n",
    ")\n"
   ]
  },
  {
   "cell_type": "code",
   "execution_count": 47,
   "id": "630d3e92",
   "metadata": {},
   "outputs": [],
   "source": [
    "endswith_unt = (\n",
    "    simulating_tries_difficulty\n",
    "    .filter(pl.col(\"challenge\").is_in([\"jaunt\", \"vaunt\", \"daunt\", \"haunt\", \"gaunt\", \"taunt\"]))\n",
    "    [\"group\"]\n",
    "    .unique()\n",
    ")"
   ]
  },
  {
   "cell_type": "code",
   "execution_count": 48,
   "id": "d58c0e69",
   "metadata": {},
   "outputs": [
    {
     "data": {
      "text/html": [
       "<pre style=\"white-space:pre;overflow-x:auto;line-height:normal;font-family:Menlo,'DejaVu Sans Mono',consolas,'Courier New',monospace\"></pre>\n"
      ],
      "text/plain": []
     },
     "metadata": {},
     "output_type": "display_data"
    },
    {
     "data": {
      "text/html": [
       "<table border=\"1\" class=\"dataframe\">\n",
       "  <thead>\n",
       "    <tr style=\"text-align: right;\">\n",
       "      <th></th>\n",
       "      <th>challenge</th>\n",
       "      <th>guess</th>\n",
       "      <th>match_pattern</th>\n",
       "      <th>next_guess</th>\n",
       "      <th>num_choices_after_guess</th>\n",
       "      <th>possible_guesses</th>\n",
       "      <th>difficulty</th>\n",
       "    </tr>\n",
       "  </thead>\n",
       "  <tbody>\n",
       "    <tr>\n",
       "      <th>0</th>\n",
       "      <td>taunt</td>\n",
       "      <td>saint</td>\n",
       "      <td><div style='display:inline-block; width:20px; height:20px; margin:1px; text-align:center; font-weight:bold; background-color: black;'>s</div><div style='display:inline-block; width:20px; height:20px; margin:1px; text-align:center; font-weight:bold; background-color: green;'>a</div><div style='display:inline-block; width:20px; height:20px; margin:1px; text-align:center; font-weight:bold; background-color: black;'>i</div><div style='display:inline-block; width:20px; height:20px; margin:1px; text-align:center; font-weight:bold; background-color: green;'>n</div><div style='display:inline-block; width:20px; height:20px; margin:1px; text-align:center; font-weight:bold; background-color: green;'>t</div></td>\n",
       "      <td>loure</td>\n",
       "      <td>8</td>\n",
       "      <td>haunt, gaunt, taunt, jaunt, daunt, vaunt, naunt, daynt</td>\n",
       "      <td>hard</td>\n",
       "    </tr>\n",
       "    <tr>\n",
       "      <th>1</th>\n",
       "      <td>taunt</td>\n",
       "      <td>loure</td>\n",
       "      <td><div style='display:inline-block; width:20px; height:20px; margin:1px; text-align:center; font-weight:bold; background-color: black;'>l</div><div style='display:inline-block; width:20px; height:20px; margin:1px; text-align:center; font-weight:bold; background-color: black;'>o</div><div style='display:inline-block; width:20px; height:20px; margin:1px; text-align:center; font-weight:bold; background-color: green;'>u</div><div style='display:inline-block; width:20px; height:20px; margin:1px; text-align:center; font-weight:bold; background-color: black;'>r</div><div style='display:inline-block; width:20px; height:20px; margin:1px; text-align:center; font-weight:bold; background-color: black;'>e</div></td>\n",
       "      <td>haunt</td>\n",
       "      <td>7</td>\n",
       "      <td>haunt, gaunt, taunt, jaunt, daunt, vaunt, naunt</td>\n",
       "      <td>hard</td>\n",
       "    </tr>\n",
       "    <tr>\n",
       "      <th>2</th>\n",
       "      <td>taunt</td>\n",
       "      <td>haunt</td>\n",
       "      <td><div style='display:inline-block; width:20px; height:20px; margin:1px; text-align:center; font-weight:bold; background-color: black;'>h</div><div style='display:inline-block; width:20px; height:20px; margin:1px; text-align:center; font-weight:bold; background-color: green;'>a</div><div style='display:inline-block; width:20px; height:20px; margin:1px; text-align:center; font-weight:bold; background-color: green;'>u</div><div style='display:inline-block; width:20px; height:20px; margin:1px; text-align:center; font-weight:bold; background-color: green;'>n</div><div style='display:inline-block; width:20px; height:20px; margin:1px; text-align:center; font-weight:bold; background-color: green;'>t</div></td>\n",
       "      <td>gaunt</td>\n",
       "      <td>6</td>\n",
       "      <td>gaunt, taunt, jaunt, daunt, vaunt, naunt</td>\n",
       "      <td>hard</td>\n",
       "    </tr>\n",
       "    <tr>\n",
       "      <th>3</th>\n",
       "      <td>taunt</td>\n",
       "      <td>gaunt</td>\n",
       "      <td><div style='display:inline-block; width:20px; height:20px; margin:1px; text-align:center; font-weight:bold; background-color: black;'>g</div><div style='display:inline-block; width:20px; height:20px; margin:1px; text-align:center; font-weight:bold; background-color: green;'>a</div><div style='display:inline-block; width:20px; height:20px; margin:1px; text-align:center; font-weight:bold; background-color: green;'>u</div><div style='display:inline-block; width:20px; height:20px; margin:1px; text-align:center; font-weight:bold; background-color: green;'>n</div><div style='display:inline-block; width:20px; height:20px; margin:1px; text-align:center; font-weight:bold; background-color: green;'>t</div></td>\n",
       "      <td>taunt</td>\n",
       "      <td>5</td>\n",
       "      <td>taunt, jaunt, daunt, vaunt, naunt</td>\n",
       "      <td>hard</td>\n",
       "    </tr>\n",
       "    <tr>\n",
       "      <th>4</th>\n",
       "      <td>taunt</td>\n",
       "      <td>taunt</td>\n",
       "      <td><div style='display:inline-block; width:20px; height:20px; margin:1px; text-align:center; font-weight:bold; background-color: green;'>t</div><div style='display:inline-block; width:20px; height:20px; margin:1px; text-align:center; font-weight:bold; background-color: green;'>a</div><div style='display:inline-block; width:20px; height:20px; margin:1px; text-align:center; font-weight:bold; background-color: green;'>u</div><div style='display:inline-block; width:20px; height:20px; margin:1px; text-align:center; font-weight:bold; background-color: green;'>n</div><div style='display:inline-block; width:20px; height:20px; margin:1px; text-align:center; font-weight:bold; background-color: green;'>t</div></td>\n",
       "      <td>taunt</td>\n",
       "      <td>4</td>\n",
       "      <td>jaunt, daunt, vaunt, naunt</td>\n",
       "      <td>hard</td>\n",
       "    </tr>\n",
       "    <tr>\n",
       "      <th>5</th>\n",
       "      <td>taunt</td>\n",
       "      <td>taunt</td>\n",
       "      <td><div style='display:inline-block; width:20px; height:20px; margin:1px; text-align:center; font-weight:bold; background-color: green;'>t</div><div style='display:inline-block; width:20px; height:20px; margin:1px; text-align:center; font-weight:bold; background-color: green;'>a</div><div style='display:inline-block; width:20px; height:20px; margin:1px; text-align:center; font-weight:bold; background-color: green;'>u</div><div style='display:inline-block; width:20px; height:20px; margin:1px; text-align:center; font-weight:bold; background-color: green;'>n</div><div style='display:inline-block; width:20px; height:20px; margin:1px; text-align:center; font-weight:bold; background-color: green;'>t</div></td>\n",
       "      <td>taunt</td>\n",
       "      <td>4</td>\n",
       "      <td>jaunt, daunt, vaunt, naunt</td>\n",
       "      <td>hard</td>\n",
       "    </tr>\n",
       "  </tbody>\n",
       "</table>"
      ],
      "text/plain": [
       "\u001b[1m<\u001b[0m\u001b[1;95mIPython.core.display.HTML\u001b[0m\u001b[39m object\u001b[0m\u001b[1m>\u001b[0m"
      ]
     },
     "execution_count": 48,
     "metadata": {},
     "output_type": "execute_result"
    }
   ],
   "source": [
    "endswith_unt_group = rng.choice(endswith_unt, 1, replace = False)\n",
    "HTML(\n",
    "    simulating_tries_difficulty\n",
    "    .filter(pl.col(\"group\") == endswith_unt_group)\n",
    "    .to_pandas()\n",
    "    .assign(\n",
    "        match_pattern = lambda df_:\n",
    "        color_pattern_matching(\n",
    "            dataf=df_,\n",
    "            challenge_col=\"challenge\",\n",
    "            guess_col=\"guess\"\n",
    "        )\n",
    "    )\n",
    "    [[\n",
    "        \"challenge\", \"guess\", \"match_pattern\", \"next_guess\",\n",
    "        \"num_choices_after_guess\", \"possible_guesses\", \"difficulty\",\n",
    "    ]]\n",
    "    .to_html(escape=False)\n",
    ")\n"
   ]
  },
  {
   "cell_type": "code",
   "execution_count": 49,
   "id": "a16af3f3",
   "metadata": {},
   "outputs": [
    {
     "data": {
      "text/html": [
       "<pre style=\"white-space:pre;overflow-x:auto;line-height:normal;font-family:Menlo,'DejaVu Sans Mono',consolas,'Courier New',monospace\"></pre>\n"
      ],
      "text/plain": []
     },
     "metadata": {},
     "output_type": "display_data"
    },
    {
     "data": {
      "text/plain": [
       "\n",
       "\u001b[1;35marray\u001b[0m\u001b[1m(\u001b[0m\u001b[1m[\u001b[0m \u001b[1;36m473\u001b[0m,  \u001b[1;36m591\u001b[0m,  \u001b[1;36m704\u001b[0m, \u001b[1;36m1014\u001b[0m, \u001b[1;36m1119\u001b[0m, \u001b[1;36m1187\u001b[0m, \u001b[1;36m1428\u001b[0m, \u001b[1;36m1758\u001b[0m, \u001b[1;36m1777\u001b[0m, \u001b[1;36m2362\u001b[0m, \u001b[1;36m3102\u001b[0m,\n",
       "       \u001b[1;36m3181\u001b[0m, \u001b[1;36m3279\u001b[0m, \u001b[1;36m3378\u001b[0m, \u001b[1;36m4192\u001b[0m, \u001b[1;36m4239\u001b[0m, \u001b[1;36m4501\u001b[0m, \u001b[1;36m4784\u001b[0m, \u001b[1;36m4856\u001b[0m, \u001b[1;36m5291\u001b[0m, \u001b[1;36m5318\u001b[0m, \u001b[1;36m5553\u001b[0m,\n",
       "       \u001b[1;36m6860\u001b[0m, \u001b[1;36m7005\u001b[0m, \u001b[1;36m7091\u001b[0m, \u001b[1;36m7643\u001b[0m, \u001b[1;36m8475\u001b[0m\u001b[1m]\u001b[0m, \u001b[33mdtype\u001b[0m=\u001b[35muint32\u001b[0m\u001b[1m)\u001b[0m"
      ]
     },
     "execution_count": 49,
     "metadata": {},
     "output_type": "execute_result"
    }
   ],
   "source": [
    "endswith_are = (\n",
    "    simulating_tries_difficulty\n",
    "    .filter(pl.col(\"challenge\").str.ends_with(\"are\"))\n",
    "    [\"group\"]\n",
    "    .unique()\n",
    "    .to_numpy()\n",
    ")\n",
    "\n",
    "endswith_are"
   ]
  },
  {
   "cell_type": "code",
   "execution_count": 50,
   "id": "dae6b1fb",
   "metadata": {},
   "outputs": [
    {
     "data": {
      "text/html": [
       "<pre style=\"white-space:pre;overflow-x:auto;line-height:normal;font-family:Menlo,'DejaVu Sans Mono',consolas,'Courier New',monospace\"></pre>\n"
      ],
      "text/plain": []
     },
     "metadata": {},
     "output_type": "display_data"
    },
    {
     "data": {
      "text/html": [
       "<table border=\"1\" class=\"dataframe\">\n",
       "  <thead>\n",
       "    <tr style=\"text-align: right;\">\n",
       "      <th></th>\n",
       "      <th>challenge</th>\n",
       "      <th>guess</th>\n",
       "      <th>match_pattern</th>\n",
       "      <th>next_guess</th>\n",
       "      <th>num_choices_after_guess</th>\n",
       "      <th>possible_guesses</th>\n",
       "      <th>difficulty</th>\n",
       "    </tr>\n",
       "  </thead>\n",
       "  <tbody>\n",
       "    <tr>\n",
       "      <th>0</th>\n",
       "      <td>heare</td>\n",
       "      <td>saint</td>\n",
       "      <td><div style='display:inline-block; width:20px; height:20px; margin:1px; text-align:center; font-weight:bold; background-color: black;'>s</div><div style='display:inline-block; width:20px; height:20px; margin:1px; text-align:center; font-weight:bold; background-color: #FDBE02;'>a</div><div style='display:inline-block; width:20px; height:20px; margin:1px; text-align:center; font-weight:bold; background-color: black;'>i</div><div style='display:inline-block; width:20px; height:20px; margin:1px; text-align:center; font-weight:bold; background-color: black;'>n</div><div style='display:inline-block; width:20px; height:20px; margin:1px; text-align:center; font-weight:bold; background-color: black;'>t</div></td>\n",
       "      <td>loure</td>\n",
       "      <td>751</td>\n",
       "      <td>equal, royal, moral, clear, grade, board, local, black, legal, album</td>\n",
       "      <td>hard</td>\n",
       "    </tr>\n",
       "    <tr>\n",
       "      <th>1</th>\n",
       "      <td>heare</td>\n",
       "      <td>loure</td>\n",
       "      <td><div style='display:inline-block; width:20px; height:20px; margin:1px; text-align:center; font-weight:bold; background-color: black;'>l</div><div style='display:inline-block; width:20px; height:20px; margin:1px; text-align:center; font-weight:bold; background-color: black;'>o</div><div style='display:inline-block; width:20px; height:20px; margin:1px; text-align:center; font-weight:bold; background-color: black;'>u</div><div style='display:inline-block; width:20px; height:20px; margin:1px; text-align:center; font-weight:bold; background-color: green;'>r</div><div style='display:inline-block; width:20px; height:20px; margin:1px; text-align:center; font-weight:bold; background-color: green;'>e</div></td>\n",
       "      <td>aware</td>\n",
       "      <td>14</td>\n",
       "      <td>aware, feare, beare, heare, deare, phare, geare, crare, aygre, whare</td>\n",
       "      <td>hard</td>\n",
       "    </tr>\n",
       "    <tr>\n",
       "      <th>2</th>\n",
       "      <td>heare</td>\n",
       "      <td>aware</td>\n",
       "      <td><div style='display:inline-block; width:20px; height:20px; margin:1px; text-align:center; font-weight:bold; background-color: #FDBE02;'>a</div><div style='display:inline-block; width:20px; height:20px; margin:1px; text-align:center; font-weight:bold; background-color: black;'>w</div><div style='display:inline-block; width:20px; height:20px; margin:1px; text-align:center; font-weight:bold; background-color: green;'>a</div><div style='display:inline-block; width:20px; height:20px; margin:1px; text-align:center; font-weight:bold; background-color: green;'>r</div><div style='display:inline-block; width:20px; height:20px; margin:1px; text-align:center; font-weight:bold; background-color: green;'>e</div></td>\n",
       "      <td>feare</td>\n",
       "      <td>10</td>\n",
       "      <td>feare, beare, heare, deare, phare, geare, crare, chare, meare, peare</td>\n",
       "      <td>hard</td>\n",
       "    </tr>\n",
       "    <tr>\n",
       "      <th>3</th>\n",
       "      <td>heare</td>\n",
       "      <td>feare</td>\n",
       "      <td><div style='display:inline-block; width:20px; height:20px; margin:1px; text-align:center; font-weight:bold; background-color: black;'>f</div><div style='display:inline-block; width:20px; height:20px; margin:1px; text-align:center; font-weight:bold; background-color: green;'>e</div><div style='display:inline-block; width:20px; height:20px; margin:1px; text-align:center; font-weight:bold; background-color: green;'>a</div><div style='display:inline-block; width:20px; height:20px; margin:1px; text-align:center; font-weight:bold; background-color: green;'>r</div><div style='display:inline-block; width:20px; height:20px; margin:1px; text-align:center; font-weight:bold; background-color: green;'>e</div></td>\n",
       "      <td>beare</td>\n",
       "      <td>9</td>\n",
       "      <td>beare, heare, deare, phare, geare, crare, chare, meare, peare</td>\n",
       "      <td>hard</td>\n",
       "    </tr>\n",
       "    <tr>\n",
       "      <th>4</th>\n",
       "      <td>heare</td>\n",
       "      <td>beare</td>\n",
       "      <td><div style='display:inline-block; width:20px; height:20px; margin:1px; text-align:center; font-weight:bold; background-color: black;'>b</div><div style='display:inline-block; width:20px; height:20px; margin:1px; text-align:center; font-weight:bold; background-color: green;'>e</div><div style='display:inline-block; width:20px; height:20px; margin:1px; text-align:center; font-weight:bold; background-color: green;'>a</div><div style='display:inline-block; width:20px; height:20px; margin:1px; text-align:center; font-weight:bold; background-color: green;'>r</div><div style='display:inline-block; width:20px; height:20px; margin:1px; text-align:center; font-weight:bold; background-color: green;'>e</div></td>\n",
       "      <td>heare</td>\n",
       "      <td>8</td>\n",
       "      <td>heare, deare, phare, geare, crare, chare, meare, peare</td>\n",
       "      <td>hard</td>\n",
       "    </tr>\n",
       "    <tr>\n",
       "      <th>5</th>\n",
       "      <td>heare</td>\n",
       "      <td>heare</td>\n",
       "      <td><div style='display:inline-block; width:20px; height:20px; margin:1px; text-align:center; font-weight:bold; background-color: green;'>h</div><div style='display:inline-block; width:20px; height:20px; margin:1px; text-align:center; font-weight:bold; background-color: green;'>e</div><div style='display:inline-block; width:20px; height:20px; margin:1px; text-align:center; font-weight:bold; background-color: green;'>a</div><div style='display:inline-block; width:20px; height:20px; margin:1px; text-align:center; font-weight:bold; background-color: green;'>r</div><div style='display:inline-block; width:20px; height:20px; margin:1px; text-align:center; font-weight:bold; background-color: green;'>e</div></td>\n",
       "      <td>heare</td>\n",
       "      <td>0</td>\n",
       "      <td></td>\n",
       "      <td>hard</td>\n",
       "    </tr>\n",
       "  </tbody>\n",
       "</table>"
      ],
      "text/plain": [
       "\u001b[1m<\u001b[0m\u001b[1;95mIPython.core.display.HTML\u001b[0m\u001b[39m object\u001b[0m\u001b[1m>\u001b[0m"
      ]
     },
     "execution_count": 50,
     "metadata": {},
     "output_type": "execute_result"
    }
   ],
   "source": [
    "endswith_are_group = rng.choice(endswith_are, 1, replace = False)\n",
    "HTML(\n",
    "    simulating_tries_difficulty\n",
    "    .filter(pl.col(\"group\") == endswith_are_group)\n",
    "    .to_pandas()\n",
    "    .assign(\n",
    "        match_pattern = lambda df_:\n",
    "        color_pattern_matching(\n",
    "            dataf=df_,\n",
    "            challenge_col=\"challenge\",\n",
    "            guess_col=\"guess\"\n",
    "        )\n",
    "    )\n",
    "    [[\n",
    "        \"challenge\", \"guess\", \"match_pattern\", \"next_guess\",\n",
    "        \"num_choices_after_guess\", \"possible_guesses\", \"difficulty\",\n",
    "    ]]\n",
    "    .to_html(escape=False)\n",
    ")\n"
   ]
  }
 ],
 "metadata": {
  "kernelspec": {
   "display_name": "wordle310",
   "language": "python",
   "name": "python3"
  },
  "language_info": {
   "codemirror_mode": {
    "name": "ipython",
    "version": 3
   },
   "file_extension": ".py",
   "mimetype": "text/x-python",
   "name": "python",
   "nbconvert_exporter": "python",
   "pygments_lexer": "ipython3",
   "version": "3.10.14"
  },
  "toc": {
   "base_numbering": 1,
   "nav_menu": {},
   "number_sections": true,
   "sideBar": true,
   "skip_h1_title": false,
   "title_cell": "Table of Contents",
   "title_sidebar": "Contents",
   "toc_cell": false,
   "toc_position": {
    "height": "calc(100% - 180px)",
    "left": "10px",
    "top": "150px",
    "width": "254px"
   },
   "toc_section_display": true,
   "toc_window_display": false
  },
  "varInspector": {
   "cols": {
    "lenName": 16,
    "lenType": 16,
    "lenVar": 40
   },
   "kernels_config": {
    "python": {
     "delete_cmd_postfix": "",
     "delete_cmd_prefix": "del ",
     "library": "var_list.py",
     "varRefreshCmd": "print(var_dic_list())"
    },
    "r": {
     "delete_cmd_postfix": ") ",
     "delete_cmd_prefix": "rm(",
     "library": "var_list.r",
     "varRefreshCmd": "cat(var_dic_list()) "
    }
   },
   "types_to_exclude": [
    "module",
    "function",
    "builtin_function_or_method",
    "instance",
    "_Feature"
   ],
   "window_display": false
  }
 },
 "nbformat": 4,
 "nbformat_minor": 5
}
