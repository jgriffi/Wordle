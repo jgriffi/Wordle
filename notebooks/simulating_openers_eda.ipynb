{
 "cells": [
  {
   "cell_type": "markdown",
   "id": "39ce8f9e",
   "metadata": {},
   "source": [
    "https://www.wired.com/story/best-wordle-tips/"
   ]
  },
  {
   "cell_type": "code",
   "execution_count": null,
   "id": "bd840306",
   "metadata": {},
   "outputs": [],
   "source": [
    "%load_ext kedro.ipython"
   ]
  },
  {
   "cell_type": "code",
   "execution_count": null,
   "id": "f93da8de",
   "metadata": {},
   "outputs": [],
   "source": [
    "%reload_kedro"
   ]
  },
  {
   "cell_type": "code",
   "execution_count": 3,
   "id": "d0637bef",
   "metadata": {},
   "outputs": [],
   "source": [
    "import sys\n",
    "sys.path.append(\"../../src/projectwordle\")"
   ]
  },
  {
   "cell_type": "code",
   "execution_count": 4,
   "id": "e06e947c",
   "metadata": {},
   "outputs": [
    {
     "data": {
      "text/html": [
       "<pre style=\"white-space:pre;overflow-x:auto;line-height:normal;font-family:Menlo,'DejaVu Sans Mono',consolas,'Courier New',monospace\"></pre>\n"
      ],
      "text/plain": []
     },
     "metadata": {},
     "output_type": "display_data"
    },
    {
     "data": {
      "text/plain": [
       "\u001b[1m<\u001b[0m\u001b[1;95mpolars.config.Config\u001b[0m\u001b[39m object at \u001b[0m\u001b[1;36m0x1469d3490\u001b[0m\u001b[1m>\u001b[0m"
      ]
     },
     "execution_count": 4,
     "metadata": {},
     "output_type": "execute_result"
    }
   ],
   "source": [
    "import polars as pl\n",
    "import numpy as np\n",
    "from IPython.display import HTML\n",
    "from projectwordle.utils import (\n",
    "    color_pattern_matching,\n",
    "    difficulty_distribution,\n",
    ")\n",
    "\n",
    "pl.Config(tbl_rows=50)"
   ]
  },
  {
   "cell_type": "markdown",
   "id": "5cf8db3f",
   "metadata": {},
   "source": [
    "# Load Data"
   ]
  },
  {
   "cell_type": "code",
   "execution_count": null,
   "id": "3588dfd3",
   "metadata": {},
   "outputs": [],
   "source": [
    "five_letter_word_anagrams = catalog.load(\"five_letter_words_anagrams\")\n",
    "simulating_openers = catalog.load(\"simulating_openers\")"
   ]
  },
  {
   "cell_type": "code",
   "execution_count": 6,
   "id": "e86b6425",
   "metadata": {},
   "outputs": [],
   "source": [
    "simulating_tries_difficulty = (\n",
    "    simulating_openers\n",
    "    .select(\n",
    "        \"challenge\", \"guess\", \"letter_differences\", \"common_letters\",\n",
    "        \"num_diff_letters\", \"num_common_letters\", \"num_matching_index\",\n",
    "        \"match_pattern\", \"num_choices_after_guess\", \"possible_guesses\",\n",
    "        \"challenge_in_possible_guesses\", \"next_guess\", \"group\", \"tries\",\n",
    "        \"difficulty\", \"guess_word_anagrams\", \"anagram_num\"\n",
    "    )\n",
    "    .join(\n",
    "        five_letter_word_anagrams.select(\"words\", \"anagrams\", \"anagram_num\"),\n",
    "        left_on=\"next_guess\",\n",
    "        right_on=\"words\",\n",
    "        how=\"left\",\n",
    "        coalesce=True\n",
    "    )\n",
    ")"
   ]
  },
  {
   "cell_type": "code",
   "execution_count": 7,
   "id": "a29a539c",
   "metadata": {},
   "outputs": [
    {
     "data": {
      "text/html": [
       "<pre style=\"white-space:pre;overflow-x:auto;line-height:normal;font-family:Menlo,'DejaVu Sans Mono',consolas,'Courier New',monospace\"></pre>\n"
      ],
      "text/plain": []
     },
     "metadata": {},
     "output_type": "display_data"
    },
    {
     "data": {
      "text/html": [
       "<div><style>\n",
       ".dataframe > thead > tr,\n",
       ".dataframe > tbody > tr {\n",
       "  text-align: right;\n",
       "  white-space: pre-wrap;\n",
       "}\n",
       "</style>\n",
       "<small>shape: (6, 18)</small><table border=\"1\" class=\"dataframe\"><thead><tr><th>index</th><th>challenge</th><th>guess</th><th>match_pattern</th><th>letter_differences</th><th>common_letters</th><th>num_diff_letters</th><th>num_common_letters</th><th>num_matching_index</th><th>num_choices_after_guess</th><th>possible_guesses</th><th>challenge_in_possible_guesses</th><th>next_guess</th><th>group</th><th>tries</th><th>difficulty</th><th>guess_word_anagrams</th><th>anagram_num</th></tr><tr><td>u32</td><td>str</td><td>str</td><td>str</td><td>str</td><td>str</td><td>u8</td><td>u8</td><td>u8</td><td>u16</td><td>str</td><td>bool</td><td>str</td><td>u32</td><td>u8</td><td>str</td><td>str</td><td>u8</td></tr></thead><tbody><tr><td>0</td><td>&quot;yummy&quot;</td><td>&quot;saint&quot;</td><td>&quot;BBBBB&quot;</td><td>&quot;nisat&quot;</td><td>&quot;&quot;</td><td>5</td><td>0</td><td>0</td><td>1222</td><td>&quot;fully, chord, power, offer, er…</td><td>false</td><td>&quot;loure&quot;</td><td>0</td><td>5</td><td>&quot;hard&quot;</td><td>&quot;saint, stain, satin, antis, na…</td><td>5</td></tr><tr><td>1</td><td>&quot;yummy&quot;</td><td>&quot;loure&quot;</td><td>&quot;BBYBB&quot;</td><td>&quot;nisaetolr&quot;</td><td>&quot;u&quot;</td><td>9</td><td>1</td><td>0</td><td>56</td><td>&quot;dummy, fuzzy, muddy, puppy, bu…</td><td>false</td><td>&quot;dummy&quot;</td><td>0</td><td>5</td><td>&quot;hard&quot;</td><td>&quot;loure, roule&quot;</td><td>2</td></tr><tr><td>2</td><td>&quot;yummy&quot;</td><td>&quot;dummy&quot;</td><td>&quot;BGGGG&quot;</td><td>&quot;nidsaetolr&quot;</td><td>&quot;umy&quot;</td><td>10</td><td>3</td><td>3</td><td>3</td><td>&quot;mummy, gummy, yummy&quot;</td><td>true</td><td>&quot;mummy&quot;</td><td>0</td><td>5</td><td>&quot;hard&quot;</td><td>&quot;dummy&quot;</td><td>1</td></tr><tr><td>3</td><td>&quot;yummy&quot;</td><td>&quot;mummy&quot;</td><td>&quot;YGGGG&quot;</td><td>&quot;nidsaetolr&quot;</td><td>&quot;umy&quot;</td><td>10</td><td>3</td><td>3</td><td>2</td><td>&quot;yummy, gummy&quot;</td><td>true</td><td>&quot;yummy&quot;</td><td>0</td><td>5</td><td>&quot;hard&quot;</td><td>&quot;mummy&quot;</td><td>1</td></tr><tr><td>4</td><td>&quot;yummy&quot;</td><td>&quot;yummy&quot;</td><td>&quot;GGGGG&quot;</td><td>&quot;&quot;</td><td>&quot;umy&quot;</td><td>0</td><td>3</td><td>3</td><td>1</td><td>&quot;gummy&quot;</td><td>false</td><td>&quot;yummy&quot;</td><td>0</td><td>5</td><td>&quot;hard&quot;</td><td>&quot;yummy&quot;</td><td>1</td></tr><tr><td>5</td><td>&quot;yummy&quot;</td><td>&quot;yummy&quot;</td><td>&quot;GGGGG&quot;</td><td>&quot;&quot;</td><td>&quot;umy&quot;</td><td>0</td><td>3</td><td>3</td><td>1</td><td>&quot;gummy&quot;</td><td>false</td><td>&quot;yummy&quot;</td><td>0</td><td>5</td><td>&quot;hard&quot;</td><td>&quot;yummy&quot;</td><td>1</td></tr></tbody></table></div>"
      ],
      "text/plain": [
       "\n",
       "shape: \u001b[1m(\u001b[0m\u001b[1;36m6\u001b[0m, \u001b[1;36m18\u001b[0m\u001b[1m)\u001b[0m\n",
       "┌───────┬───────────┬───────┬───────────────┬───┬───────┬────────────┬───────────────┬─────────────┐\n",
       "│ index ┆ challenge ┆ guess ┆ match_pattern ┆ … ┆ tries ┆ difficulty ┆ guess_word_an ┆ anagram_num │\n",
       "│ ---   ┆ ---       ┆ ---   ┆ ---           ┆   ┆ ---   ┆ ---        ┆ agrams        ┆ ---         │\n",
       "│ u32   ┆ str       ┆ str   ┆ str           ┆   ┆ u8    ┆ str        ┆ ---           ┆ u8          │\n",
       "│       ┆           ┆       ┆               ┆   ┆       ┆            ┆ str           ┆             │\n",
       "╞═══════╪═══════════╪═══════╪═══════════════╪═══╪═══════╪════════════╪═══════════════╪═════════════╡\n",
       "│ \u001b[1;36m0\u001b[0m     ┆ yummy     ┆ saint ┆ BBBBB         ┆ … ┆ \u001b[1;36m5\u001b[0m     ┆ hard       ┆ saint, stain, ┆ \u001b[1;36m5\u001b[0m           │\n",
       "│       ┆           ┆       ┆               ┆   ┆       ┆            ┆ satin, antis, ┆             │\n",
       "│       ┆           ┆       ┆               ┆   ┆       ┆            ┆ na…           ┆             │\n",
       "│ \u001b[1;36m1\u001b[0m     ┆ yummy     ┆ loure ┆ BBYBB         ┆ … ┆ \u001b[1;36m5\u001b[0m     ┆ hard       ┆ loure, roule  ┆ \u001b[1;36m2\u001b[0m           │\n",
       "│ \u001b[1;36m2\u001b[0m     ┆ yummy     ┆ dummy ┆ BGGGG         ┆ … ┆ \u001b[1;36m5\u001b[0m     ┆ hard       ┆ dummy         ┆ \u001b[1;36m1\u001b[0m           │\n",
       "│ \u001b[1;36m3\u001b[0m     ┆ yummy     ┆ mummy ┆ YGGGG         ┆ … ┆ \u001b[1;36m5\u001b[0m     ┆ hard       ┆ mummy         ┆ \u001b[1;36m1\u001b[0m           │\n",
       "│ \u001b[1;36m4\u001b[0m     ┆ yummy     ┆ yummy ┆ GGGGG         ┆ … ┆ \u001b[1;36m5\u001b[0m     ┆ hard       ┆ yummy         ┆ \u001b[1;36m1\u001b[0m           │\n",
       "│ \u001b[1;36m5\u001b[0m     ┆ yummy     ┆ yummy ┆ GGGGG         ┆ … ┆ \u001b[1;36m5\u001b[0m     ┆ hard       ┆ yummy         ┆ \u001b[1;36m1\u001b[0m           │\n",
       "└───────┴───────────┴───────┴───────────────┴───┴───────┴────────────┴───────────────┴─────────────┘"
      ]
     },
     "execution_count": 7,
     "metadata": {},
     "output_type": "execute_result"
    }
   ],
   "source": [
    "simulating_openers.head(6)"
   ]
  },
  {
   "cell_type": "code",
   "execution_count": 8,
   "id": "76991a10",
   "metadata": {
    "ExecuteTime": {
     "end_time": "2023-12-08T16:01:59.451895Z",
     "start_time": "2023-12-08T16:01:59.423384Z"
    }
   },
   "outputs": [
    {
     "data": {
      "text/html": [
       "<pre style=\"white-space:pre;overflow-x:auto;line-height:normal;font-family:Menlo,'DejaVu Sans Mono',consolas,'Courier New',monospace\"></pre>\n"
      ],
      "text/plain": []
     },
     "metadata": {},
     "output_type": "display_data"
    },
    {
     "data": {
      "text/html": [
       "<div><style>\n",
       ".dataframe > thead > tr,\n",
       ".dataframe > tbody > tr {\n",
       "  text-align: right;\n",
       "  white-space: pre-wrap;\n",
       "}\n",
       "</style>\n",
       "<small>shape: (5, 19)</small><table border=\"1\" class=\"dataframe\"><thead><tr><th>challenge</th><th>guess</th><th>letter_differences</th><th>common_letters</th><th>num_diff_letters</th><th>num_common_letters</th><th>num_matching_index</th><th>match_pattern</th><th>num_choices_after_guess</th><th>possible_guesses</th><th>challenge_in_possible_guesses</th><th>next_guess</th><th>group</th><th>tries</th><th>difficulty</th><th>guess_word_anagrams</th><th>anagram_num</th><th>anagrams</th><th>anagram_num_right</th></tr><tr><td>str</td><td>str</td><td>str</td><td>str</td><td>u8</td><td>u8</td><td>u8</td><td>str</td><td>u16</td><td>str</td><td>bool</td><td>str</td><td>u32</td><td>u8</td><td>str</td><td>str</td><td>u8</td><td>str</td><td>u8</td></tr></thead><tbody><tr><td>&quot;yummy&quot;</td><td>&quot;saint&quot;</td><td>&quot;nisat&quot;</td><td>&quot;&quot;</td><td>5</td><td>0</td><td>0</td><td>&quot;BBBBB&quot;</td><td>1222</td><td>&quot;fully, chord, power, offer, er…</td><td>false</td><td>&quot;loure&quot;</td><td>0</td><td>5</td><td>&quot;hard&quot;</td><td>&quot;saint, stain, satin, antis, na…</td><td>5</td><td>&quot;loure, roule&quot;</td><td>2</td></tr><tr><td>&quot;yummy&quot;</td><td>&quot;loure&quot;</td><td>&quot;nisaetolr&quot;</td><td>&quot;u&quot;</td><td>9</td><td>1</td><td>0</td><td>&quot;BBYBB&quot;</td><td>56</td><td>&quot;dummy, fuzzy, muddy, puppy, bu…</td><td>false</td><td>&quot;dummy&quot;</td><td>0</td><td>5</td><td>&quot;hard&quot;</td><td>&quot;loure, roule&quot;</td><td>2</td><td>&quot;dummy&quot;</td><td>1</td></tr><tr><td>&quot;yummy&quot;</td><td>&quot;dummy&quot;</td><td>&quot;nidsaetolr&quot;</td><td>&quot;umy&quot;</td><td>10</td><td>3</td><td>3</td><td>&quot;BGGGG&quot;</td><td>3</td><td>&quot;mummy, gummy, yummy&quot;</td><td>true</td><td>&quot;mummy&quot;</td><td>0</td><td>5</td><td>&quot;hard&quot;</td><td>&quot;dummy&quot;</td><td>1</td><td>&quot;mummy&quot;</td><td>1</td></tr><tr><td>&quot;yummy&quot;</td><td>&quot;mummy&quot;</td><td>&quot;nidsaetolr&quot;</td><td>&quot;umy&quot;</td><td>10</td><td>3</td><td>3</td><td>&quot;YGGGG&quot;</td><td>2</td><td>&quot;yummy, gummy&quot;</td><td>true</td><td>&quot;yummy&quot;</td><td>0</td><td>5</td><td>&quot;hard&quot;</td><td>&quot;mummy&quot;</td><td>1</td><td>&quot;yummy&quot;</td><td>1</td></tr><tr><td>&quot;yummy&quot;</td><td>&quot;yummy&quot;</td><td>&quot;&quot;</td><td>&quot;umy&quot;</td><td>0</td><td>3</td><td>3</td><td>&quot;GGGGG&quot;</td><td>1</td><td>&quot;gummy&quot;</td><td>false</td><td>&quot;yummy&quot;</td><td>0</td><td>5</td><td>&quot;hard&quot;</td><td>&quot;yummy&quot;</td><td>1</td><td>&quot;yummy&quot;</td><td>1</td></tr></tbody></table></div>"
      ],
      "text/plain": [
       "\n",
       "shape: \u001b[1m(\u001b[0m\u001b[1;36m5\u001b[0m, \u001b[1;36m19\u001b[0m\u001b[1m)\u001b[0m\n",
       "┌───────────┬───────┬────────────┬────────────┬───┬────────────┬───────────┬───────────┬───────────┐\n",
       "│ challenge ┆ guess ┆ letter_dif ┆ common_let ┆ … ┆ guess_word ┆ anagram_n ┆ anagrams  ┆ anagram_n │\n",
       "│ ---       ┆ ---   ┆ ferences   ┆ ters       ┆   ┆ _anagrams  ┆ um        ┆ ---       ┆ um_right  │\n",
       "│ str       ┆ str   ┆ ---        ┆ ---        ┆   ┆ ---        ┆ ---       ┆ str       ┆ ---       │\n",
       "│           ┆       ┆ str        ┆ str        ┆   ┆ str        ┆ u8        ┆           ┆ u8        │\n",
       "╞═══════════╪═══════╪════════════╪════════════╪═══╪════════════╪═══════════╪═══════════╪═══════════╡\n",
       "│ yummy     ┆ saint ┆ nisat      ┆            ┆ … ┆ saint,     ┆ \u001b[1;36m5\u001b[0m         ┆ loure,    ┆ \u001b[1;36m2\u001b[0m         │\n",
       "│           ┆       ┆            ┆            ┆   ┆ stain,     ┆           ┆ roule     ┆           │\n",
       "│           ┆       ┆            ┆            ┆   ┆ satin,     ┆           ┆           ┆           │\n",
       "│           ┆       ┆            ┆            ┆   ┆ antis, na… ┆           ┆           ┆           │\n",
       "│ yummy     ┆ loure ┆ nisaetolr  ┆ u          ┆ … ┆ loure,     ┆ \u001b[1;36m2\u001b[0m         ┆ dummy     ┆ \u001b[1;36m1\u001b[0m         │\n",
       "│           ┆       ┆            ┆            ┆   ┆ roule      ┆           ┆           ┆           │\n",
       "│ yummy     ┆ dummy ┆ nidsaetolr ┆ umy        ┆ … ┆ dummy      ┆ \u001b[1;36m1\u001b[0m         ┆ mummy     ┆ \u001b[1;36m1\u001b[0m         │\n",
       "│ yummy     ┆ mummy ┆ nidsaetolr ┆ umy        ┆ … ┆ mummy      ┆ \u001b[1;36m1\u001b[0m         ┆ yummy     ┆ \u001b[1;36m1\u001b[0m         │\n",
       "│ yummy     ┆ yummy ┆            ┆ umy        ┆ … ┆ yummy      ┆ \u001b[1;36m1\u001b[0m         ┆ yummy     ┆ \u001b[1;36m1\u001b[0m         │\n",
       "└───────────┴───────┴────────────┴────────────┴───┴────────────┴───────────┴───────────┴───────────┘"
      ]
     },
     "execution_count": 8,
     "metadata": {},
     "output_type": "execute_result"
    }
   ],
   "source": [
    "simulating_tries_difficulty.head()"
   ]
  },
  {
   "cell_type": "code",
   "execution_count": 9,
   "id": "be8f0326",
   "metadata": {},
   "outputs": [
    {
     "data": {
      "text/html": [
       "<pre style=\"white-space:pre;overflow-x:auto;line-height:normal;font-family:Menlo,'DejaVu Sans Mono',consolas,'Courier New',monospace\"></pre>\n"
      ],
      "text/plain": []
     },
     "metadata": {},
     "output_type": "display_data"
    },
    {
     "data": {
      "text/html": [
       "<div><style>\n",
       ".dataframe > thead > tr,\n",
       ".dataframe > tbody > tr {\n",
       "  text-align: right;\n",
       "  white-space: pre-wrap;\n",
       "}\n",
       "</style>\n",
       "<small>shape: (4, 2)</small><table border=\"1\" class=\"dataframe\"><thead><tr><th>difficulty</th><th>count</th></tr><tr><td>str</td><td>u32</td></tr></thead><tbody><tr><td>&quot;moderate&quot;</td><td>5462</td></tr><tr><td>&quot;hard&quot;</td><td>3041</td></tr><tr><td>&quot;very hard&quot;</td><td>583</td></tr><tr><td>&quot;easy&quot;</td><td>2</td></tr></tbody></table></div>"
      ],
      "text/plain": [
       "\n",
       "shape: \u001b[1m(\u001b[0m\u001b[1;36m4\u001b[0m, \u001b[1;36m2\u001b[0m\u001b[1m)\u001b[0m\n",
       "┌────────────┬───────┐\n",
       "│ difficulty ┆ count │\n",
       "│ ---        ┆ ---   │\n",
       "│ str        ┆ u32   │\n",
       "╞════════════╪═══════╡\n",
       "│ moderate   ┆ \u001b[1;36m5462\u001b[0m  │\n",
       "│ hard       ┆ \u001b[1;36m3041\u001b[0m  │\n",
       "│ very hard  ┆ \u001b[1;36m583\u001b[0m   │\n",
       "│ easy       ┆ \u001b[1;36m2\u001b[0m     │\n",
       "└────────────┴───────┘"
      ]
     },
     "execution_count": 9,
     "metadata": {},
     "output_type": "execute_result"
    }
   ],
   "source": [
    "(\n",
    "    simulating_tries_difficulty\n",
    "    .unique(subset=[\"group\"], keep=\"first\")\n",
    "    [\"difficulty\"]\n",
    "    .value_counts()\n",
    "    .sort(\"count\", descending=True)\n",
    ")"
   ]
  },
  {
   "cell_type": "markdown",
   "id": "c07f2cb9",
   "metadata": {},
   "source": [
    "# Create dataframe of first guesses"
   ]
  },
  {
   "cell_type": "code",
   "execution_count": 10,
   "id": "4f3eda4e",
   "metadata": {
    "ExecuteTime": {
     "end_time": "2023-12-08T16:02:04.898939Z",
     "start_time": "2023-12-08T16:02:01.301668Z"
    }
   },
   "outputs": [
    {
     "data": {
      "text/html": [
       "<pre style=\"white-space:pre;overflow-x:auto;line-height:normal;font-family:Menlo,'DejaVu Sans Mono',consolas,'Courier New',monospace\"></pre>\n"
      ],
      "text/plain": []
     },
     "metadata": {},
     "output_type": "display_data"
    },
    {
     "data": {
      "text/html": [
       "<div><style>\n",
       ".dataframe > thead > tr,\n",
       ".dataframe > tbody > tr {\n",
       "  text-align: right;\n",
       "  white-space: pre-wrap;\n",
       "}\n",
       "</style>\n",
       "<small>shape: (5, 19)</small><table border=\"1\" class=\"dataframe\"><thead><tr><th>group</th><th>challenge</th><th>guess</th><th>letter_differences</th><th>common_letters</th><th>num_diff_letters</th><th>num_common_letters</th><th>num_matching_index</th><th>match_pattern</th><th>num_choices_after_guess</th><th>possible_guesses</th><th>challenge_in_possible_guesses</th><th>next_guess</th><th>tries</th><th>difficulty</th><th>guess_word_anagrams</th><th>anagram_num</th><th>anagrams</th><th>anagram_num_right</th></tr><tr><td>u32</td><td>str</td><td>str</td><td>str</td><td>str</td><td>u8</td><td>u8</td><td>u8</td><td>str</td><td>u16</td><td>str</td><td>bool</td><td>str</td><td>u8</td><td>str</td><td>str</td><td>u8</td><td>str</td><td>u8</td></tr></thead><tbody><tr><td>0</td><td>&quot;yummy&quot;</td><td>&quot;saint&quot;</td><td>&quot;nisat&quot;</td><td>&quot;&quot;</td><td>5</td><td>0</td><td>0</td><td>&quot;BBBBB&quot;</td><td>1222</td><td>&quot;fully, chord, power, offer, er…</td><td>false</td><td>&quot;loure&quot;</td><td>5</td><td>&quot;hard&quot;</td><td>&quot;saint, stain, satin, antis, na…</td><td>5</td><td>&quot;loure, roule&quot;</td><td>2</td></tr><tr><td>1</td><td>&quot;calyx&quot;</td><td>&quot;saint&quot;</td><td>&quot;ntis&quot;</td><td>&quot;a&quot;</td><td>4</td><td>1</td><td>1</td><td>&quot;BGBBB&quot;</td><td>495</td><td>&quot;cargo, labor, favor, large, ha…</td><td>false</td><td>&quot;loure&quot;</td><td>4</td><td>&quot;moderate&quot;</td><td>&quot;saint, stain, satin, antis, na…</td><td>5</td><td>&quot;loure, roule&quot;</td><td>2</td></tr><tr><td>2</td><td>&quot;varas&quot;</td><td>&quot;saint&quot;</td><td>&quot;nit&quot;</td><td>&quot;sa&quot;</td><td>3</td><td>2</td><td>1</td><td>&quot;YGBBB&quot;</td><td>184</td><td>&quot;harsh, cause, wales, false, ja…</td><td>false</td><td>&quot;loure&quot;</td><td>5</td><td>&quot;hard&quot;</td><td>&quot;saint, stain, satin, antis, na…</td><td>5</td><td>&quot;loure, roule&quot;</td><td>2</td></tr><tr><td>3</td><td>&quot;bubba&quot;</td><td>&quot;saint&quot;</td><td>&quot;ntis&quot;</td><td>&quot;a&quot;</td><td>4</td><td>1</td><td>0</td><td>&quot;BYBBB&quot;</td><td>751</td><td>&quot;board, weary, cheap, grave, fe…</td><td>false</td><td>&quot;loure&quot;</td><td>4</td><td>&quot;moderate&quot;</td><td>&quot;saint, stain, satin, antis, na…</td><td>5</td><td>&quot;loure, roule&quot;</td><td>2</td></tr><tr><td>4</td><td>&quot;lowes&quot;</td><td>&quot;saint&quot;</td><td>&quot;nait&quot;</td><td>&quot;s&quot;</td><td>4</td><td>1</td><td>0</td><td>&quot;YBBBB&quot;</td><td>440</td><td>&quot;press, house, close, fresh, mo…</td><td>false</td><td>&quot;loure&quot;</td><td>4</td><td>&quot;moderate&quot;</td><td>&quot;saint, stain, satin, antis, na…</td><td>5</td><td>&quot;loure, roule&quot;</td><td>2</td></tr></tbody></table></div>"
      ],
      "text/plain": [
       "\n",
       "shape: \u001b[1m(\u001b[0m\u001b[1;36m5\u001b[0m, \u001b[1;36m19\u001b[0m\u001b[1m)\u001b[0m\n",
       "┌───────┬───────────┬───────┬─────────────┬───┬─────────────┬────────────┬────────────┬────────────┐\n",
       "│ group ┆ challenge ┆ guess ┆ letter_diff ┆ … ┆ guess_word_ ┆ anagram_nu ┆ anagrams   ┆ anagram_nu │\n",
       "│ ---   ┆ ---       ┆ ---   ┆ erences     ┆   ┆ anagrams    ┆ m          ┆ ---        ┆ m_right    │\n",
       "│ u32   ┆ str       ┆ str   ┆ ---         ┆   ┆ ---         ┆ ---        ┆ str        ┆ ---        │\n",
       "│       ┆           ┆       ┆ str         ┆   ┆ str         ┆ u8         ┆            ┆ u8         │\n",
       "╞═══════╪═══════════╪═══════╪═════════════╪═══╪═════════════╪════════════╪════════════╪════════════╡\n",
       "│ \u001b[1;36m0\u001b[0m     ┆ yummy     ┆ saint ┆ nisat       ┆ … ┆ saint,      ┆ \u001b[1;36m5\u001b[0m          ┆ loure,     ┆ \u001b[1;36m2\u001b[0m          │\n",
       "│       ┆           ┆       ┆             ┆   ┆ stain,      ┆            ┆ roule      ┆            │\n",
       "│       ┆           ┆       ┆             ┆   ┆ satin,      ┆            ┆            ┆            │\n",
       "│       ┆           ┆       ┆             ┆   ┆ antis, na…  ┆            ┆            ┆            │\n",
       "│ \u001b[1;36m1\u001b[0m     ┆ calyx     ┆ saint ┆ ntis        ┆ … ┆ saint,      ┆ \u001b[1;36m5\u001b[0m          ┆ loure,     ┆ \u001b[1;36m2\u001b[0m          │\n",
       "│       ┆           ┆       ┆             ┆   ┆ stain,      ┆            ┆ roule      ┆            │\n",
       "│       ┆           ┆       ┆             ┆   ┆ satin,      ┆            ┆            ┆            │\n",
       "│       ┆           ┆       ┆             ┆   ┆ antis, na…  ┆            ┆            ┆            │\n",
       "│ \u001b[1;36m2\u001b[0m     ┆ varas     ┆ saint ┆ nit         ┆ … ┆ saint,      ┆ \u001b[1;36m5\u001b[0m          ┆ loure,     ┆ \u001b[1;36m2\u001b[0m          │\n",
       "│       ┆           ┆       ┆             ┆   ┆ stain,      ┆            ┆ roule      ┆            │\n",
       "│       ┆           ┆       ┆             ┆   ┆ satin,      ┆            ┆            ┆            │\n",
       "│       ┆           ┆       ┆             ┆   ┆ antis, na…  ┆            ┆            ┆            │\n",
       "│ \u001b[1;36m3\u001b[0m     ┆ bubba     ┆ saint ┆ ntis        ┆ … ┆ saint,      ┆ \u001b[1;36m5\u001b[0m          ┆ loure,     ┆ \u001b[1;36m2\u001b[0m          │\n",
       "│       ┆           ┆       ┆             ┆   ┆ stain,      ┆            ┆ roule      ┆            │\n",
       "│       ┆           ┆       ┆             ┆   ┆ satin,      ┆            ┆            ┆            │\n",
       "│       ┆           ┆       ┆             ┆   ┆ antis, na…  ┆            ┆            ┆            │\n",
       "│ \u001b[1;36m4\u001b[0m     ┆ lowes     ┆ saint ┆ nait        ┆ … ┆ saint,      ┆ \u001b[1;36m5\u001b[0m          ┆ loure,     ┆ \u001b[1;36m2\u001b[0m          │\n",
       "│       ┆           ┆       ┆             ┆   ┆ stain,      ┆            ┆ roule      ┆            │\n",
       "│       ┆           ┆       ┆             ┆   ┆ satin,      ┆            ┆            ┆            │\n",
       "│       ┆           ┆       ┆             ┆   ┆ antis, na…  ┆            ┆            ┆            │\n",
       "└───────┴───────────┴───────┴─────────────┴───┴─────────────┴────────────┴────────────┴────────────┘"
      ]
     },
     "execution_count": 10,
     "metadata": {},
     "output_type": "execute_result"
    }
   ],
   "source": [
    "# Group by \"Category\" and return the first row of each group\n",
    "first_guess = (\n",
    "    simulating_tries_difficulty\n",
    "    .group_by(\"group\", maintain_order=True)\n",
    "    .first()\n",
    ")\n",
    "\n",
    "first_guess.head()"
   ]
  },
  {
   "cell_type": "code",
   "execution_count": 11,
   "id": "8f95b325",
   "metadata": {},
   "outputs": [
    {
     "data": {
      "text/html": [
       "<pre style=\"white-space:pre;overflow-x:auto;line-height:normal;font-family:Menlo,'DejaVu Sans Mono',consolas,'Courier New',monospace\"></pre>\n"
      ],
      "text/plain": []
     },
     "metadata": {},
     "output_type": "display_data"
    },
    {
     "data": {
      "text/plain": [
       "\u001b[1;36m4.22\u001b[0m"
      ]
     },
     "execution_count": 11,
     "metadata": {},
     "output_type": "execute_result"
    }
   ],
   "source": [
    "avg_tries = round(first_guess[\"tries\"].mean(), 2)\n",
    "avg_tries"
   ]
  },
  {
   "cell_type": "markdown",
   "id": "0ed45740",
   "metadata": {},
   "source": [
    "# EDA"
   ]
  },
  {
   "cell_type": "code",
   "execution_count": 12,
   "id": "3803085b",
   "metadata": {
    "ExecuteTime": {
     "end_time": "2023-12-08T16:02:06.338200Z",
     "start_time": "2023-12-08T16:02:04.929145Z"
    }
   },
   "outputs": [
    {
     "data": {
      "application/vnd.plotly.v1+json": {
       "config": {
        "plotlyServerURL": "https://plot.ly"
       },
       "data": [
        {
         "alignmentgroup": "True",
         "hovertemplate": "difficulty=%{x}<br>count=%{y}<extra></extra>",
         "legendgroup": "moderate",
         "marker": {
          "color": "#ff7f0e",
          "pattern": {
           "shape": ""
          }
         },
         "name": "moderate",
         "offsetgroup": "moderate",
         "orientation": "v",
         "showlegend": true,
         "textposition": "auto",
         "type": "bar",
         "x": [
          "moderate"
         ],
         "xaxis": "x",
         "y": [
          5462
         ],
         "yaxis": "y"
        },
        {
         "alignmentgroup": "True",
         "hovertemplate": "difficulty=%{x}<br>count=%{y}<extra></extra>",
         "legendgroup": "hard",
         "marker": {
          "color": "#2ca02c",
          "pattern": {
           "shape": ""
          }
         },
         "name": "hard",
         "offsetgroup": "hard",
         "orientation": "v",
         "showlegend": true,
         "textposition": "auto",
         "type": "bar",
         "x": [
          "hard"
         ],
         "xaxis": "x",
         "y": [
          3041
         ],
         "yaxis": "y"
        },
        {
         "alignmentgroup": "True",
         "hovertemplate": "difficulty=%{x}<br>count=%{y}<extra></extra>",
         "legendgroup": "very hard",
         "marker": {
          "color": "#d62728",
          "pattern": {
           "shape": ""
          }
         },
         "name": "very hard",
         "offsetgroup": "very hard",
         "orientation": "v",
         "showlegend": true,
         "textposition": "auto",
         "type": "bar",
         "x": [
          "very hard"
         ],
         "xaxis": "x",
         "y": [
          583
         ],
         "yaxis": "y"
        },
        {
         "alignmentgroup": "True",
         "hovertemplate": "difficulty=%{x}<br>count=%{y}<extra></extra>",
         "legendgroup": "easy",
         "marker": {
          "color": "#1f77b4",
          "pattern": {
           "shape": ""
          }
         },
         "name": "easy",
         "offsetgroup": "easy",
         "orientation": "v",
         "showlegend": true,
         "textposition": "auto",
         "type": "bar",
         "x": [
          "easy"
         ],
         "xaxis": "x",
         "y": [
          2
         ],
         "yaxis": "y"
        }
       ],
       "layout": {
        "barmode": "relative",
        "height": 600,
        "legend": {
         "title": {
          "text": "difficulty"
         },
         "tracegroupgap": 0
        },
        "template": {
         "data": {
          "bar": [
           {
            "error_x": {
             "color": "#2a3f5f"
            },
            "error_y": {
             "color": "#2a3f5f"
            },
            "marker": {
             "line": {
              "color": "#E5ECF6",
              "width": 0.5
             },
             "pattern": {
              "fillmode": "overlay",
              "size": 10,
              "solidity": 0.2
             }
            },
            "type": "bar"
           }
          ],
          "barpolar": [
           {
            "marker": {
             "line": {
              "color": "#E5ECF6",
              "width": 0.5
             },
             "pattern": {
              "fillmode": "overlay",
              "size": 10,
              "solidity": 0.2
             }
            },
            "type": "barpolar"
           }
          ],
          "carpet": [
           {
            "aaxis": {
             "endlinecolor": "#2a3f5f",
             "gridcolor": "white",
             "linecolor": "white",
             "minorgridcolor": "white",
             "startlinecolor": "#2a3f5f"
            },
            "baxis": {
             "endlinecolor": "#2a3f5f",
             "gridcolor": "white",
             "linecolor": "white",
             "minorgridcolor": "white",
             "startlinecolor": "#2a3f5f"
            },
            "type": "carpet"
           }
          ],
          "choropleth": [
           {
            "colorbar": {
             "outlinewidth": 0,
             "ticks": ""
            },
            "type": "choropleth"
           }
          ],
          "contour": [
           {
            "colorbar": {
             "outlinewidth": 0,
             "ticks": ""
            },
            "colorscale": [
             [
              0,
              "#0d0887"
             ],
             [
              0.1111111111111111,
              "#46039f"
             ],
             [
              0.2222222222222222,
              "#7201a8"
             ],
             [
              0.3333333333333333,
              "#9c179e"
             ],
             [
              0.4444444444444444,
              "#bd3786"
             ],
             [
              0.5555555555555556,
              "#d8576b"
             ],
             [
              0.6666666666666666,
              "#ed7953"
             ],
             [
              0.7777777777777778,
              "#fb9f3a"
             ],
             [
              0.8888888888888888,
              "#fdca26"
             ],
             [
              1,
              "#f0f921"
             ]
            ],
            "type": "contour"
           }
          ],
          "contourcarpet": [
           {
            "colorbar": {
             "outlinewidth": 0,
             "ticks": ""
            },
            "type": "contourcarpet"
           }
          ],
          "heatmap": [
           {
            "colorbar": {
             "outlinewidth": 0,
             "ticks": ""
            },
            "colorscale": [
             [
              0,
              "#0d0887"
             ],
             [
              0.1111111111111111,
              "#46039f"
             ],
             [
              0.2222222222222222,
              "#7201a8"
             ],
             [
              0.3333333333333333,
              "#9c179e"
             ],
             [
              0.4444444444444444,
              "#bd3786"
             ],
             [
              0.5555555555555556,
              "#d8576b"
             ],
             [
              0.6666666666666666,
              "#ed7953"
             ],
             [
              0.7777777777777778,
              "#fb9f3a"
             ],
             [
              0.8888888888888888,
              "#fdca26"
             ],
             [
              1,
              "#f0f921"
             ]
            ],
            "type": "heatmap"
           }
          ],
          "heatmapgl": [
           {
            "colorbar": {
             "outlinewidth": 0,
             "ticks": ""
            },
            "colorscale": [
             [
              0,
              "#0d0887"
             ],
             [
              0.1111111111111111,
              "#46039f"
             ],
             [
              0.2222222222222222,
              "#7201a8"
             ],
             [
              0.3333333333333333,
              "#9c179e"
             ],
             [
              0.4444444444444444,
              "#bd3786"
             ],
             [
              0.5555555555555556,
              "#d8576b"
             ],
             [
              0.6666666666666666,
              "#ed7953"
             ],
             [
              0.7777777777777778,
              "#fb9f3a"
             ],
             [
              0.8888888888888888,
              "#fdca26"
             ],
             [
              1,
              "#f0f921"
             ]
            ],
            "type": "heatmapgl"
           }
          ],
          "histogram": [
           {
            "marker": {
             "pattern": {
              "fillmode": "overlay",
              "size": 10,
              "solidity": 0.2
             }
            },
            "type": "histogram"
           }
          ],
          "histogram2d": [
           {
            "colorbar": {
             "outlinewidth": 0,
             "ticks": ""
            },
            "colorscale": [
             [
              0,
              "#0d0887"
             ],
             [
              0.1111111111111111,
              "#46039f"
             ],
             [
              0.2222222222222222,
              "#7201a8"
             ],
             [
              0.3333333333333333,
              "#9c179e"
             ],
             [
              0.4444444444444444,
              "#bd3786"
             ],
             [
              0.5555555555555556,
              "#d8576b"
             ],
             [
              0.6666666666666666,
              "#ed7953"
             ],
             [
              0.7777777777777778,
              "#fb9f3a"
             ],
             [
              0.8888888888888888,
              "#fdca26"
             ],
             [
              1,
              "#f0f921"
             ]
            ],
            "type": "histogram2d"
           }
          ],
          "histogram2dcontour": [
           {
            "colorbar": {
             "outlinewidth": 0,
             "ticks": ""
            },
            "colorscale": [
             [
              0,
              "#0d0887"
             ],
             [
              0.1111111111111111,
              "#46039f"
             ],
             [
              0.2222222222222222,
              "#7201a8"
             ],
             [
              0.3333333333333333,
              "#9c179e"
             ],
             [
              0.4444444444444444,
              "#bd3786"
             ],
             [
              0.5555555555555556,
              "#d8576b"
             ],
             [
              0.6666666666666666,
              "#ed7953"
             ],
             [
              0.7777777777777778,
              "#fb9f3a"
             ],
             [
              0.8888888888888888,
              "#fdca26"
             ],
             [
              1,
              "#f0f921"
             ]
            ],
            "type": "histogram2dcontour"
           }
          ],
          "mesh3d": [
           {
            "colorbar": {
             "outlinewidth": 0,
             "ticks": ""
            },
            "type": "mesh3d"
           }
          ],
          "parcoords": [
           {
            "line": {
             "colorbar": {
              "outlinewidth": 0,
              "ticks": ""
             }
            },
            "type": "parcoords"
           }
          ],
          "pie": [
           {
            "automargin": true,
            "type": "pie"
           }
          ],
          "scatter": [
           {
            "fillpattern": {
             "fillmode": "overlay",
             "size": 10,
             "solidity": 0.2
            },
            "type": "scatter"
           }
          ],
          "scatter3d": [
           {
            "line": {
             "colorbar": {
              "outlinewidth": 0,
              "ticks": ""
             }
            },
            "marker": {
             "colorbar": {
              "outlinewidth": 0,
              "ticks": ""
             }
            },
            "type": "scatter3d"
           }
          ],
          "scattercarpet": [
           {
            "marker": {
             "colorbar": {
              "outlinewidth": 0,
              "ticks": ""
             }
            },
            "type": "scattercarpet"
           }
          ],
          "scattergeo": [
           {
            "marker": {
             "colorbar": {
              "outlinewidth": 0,
              "ticks": ""
             }
            },
            "type": "scattergeo"
           }
          ],
          "scattergl": [
           {
            "marker": {
             "colorbar": {
              "outlinewidth": 0,
              "ticks": ""
             }
            },
            "type": "scattergl"
           }
          ],
          "scattermapbox": [
           {
            "marker": {
             "colorbar": {
              "outlinewidth": 0,
              "ticks": ""
             }
            },
            "type": "scattermapbox"
           }
          ],
          "scatterpolar": [
           {
            "marker": {
             "colorbar": {
              "outlinewidth": 0,
              "ticks": ""
             }
            },
            "type": "scatterpolar"
           }
          ],
          "scatterpolargl": [
           {
            "marker": {
             "colorbar": {
              "outlinewidth": 0,
              "ticks": ""
             }
            },
            "type": "scatterpolargl"
           }
          ],
          "scatterternary": [
           {
            "marker": {
             "colorbar": {
              "outlinewidth": 0,
              "ticks": ""
             }
            },
            "type": "scatterternary"
           }
          ],
          "surface": [
           {
            "colorbar": {
             "outlinewidth": 0,
             "ticks": ""
            },
            "colorscale": [
             [
              0,
              "#0d0887"
             ],
             [
              0.1111111111111111,
              "#46039f"
             ],
             [
              0.2222222222222222,
              "#7201a8"
             ],
             [
              0.3333333333333333,
              "#9c179e"
             ],
             [
              0.4444444444444444,
              "#bd3786"
             ],
             [
              0.5555555555555556,
              "#d8576b"
             ],
             [
              0.6666666666666666,
              "#ed7953"
             ],
             [
              0.7777777777777778,
              "#fb9f3a"
             ],
             [
              0.8888888888888888,
              "#fdca26"
             ],
             [
              1,
              "#f0f921"
             ]
            ],
            "type": "surface"
           }
          ],
          "table": [
           {
            "cells": {
             "fill": {
              "color": "#EBF0F8"
             },
             "line": {
              "color": "white"
             }
            },
            "header": {
             "fill": {
              "color": "#C8D4E3"
             },
             "line": {
              "color": "white"
             }
            },
            "type": "table"
           }
          ]
         },
         "layout": {
          "annotationdefaults": {
           "arrowcolor": "#2a3f5f",
           "arrowhead": 0,
           "arrowwidth": 1
          },
          "autotypenumbers": "strict",
          "coloraxis": {
           "colorbar": {
            "outlinewidth": 0,
            "ticks": ""
           }
          },
          "colorscale": {
           "diverging": [
            [
             0,
             "#8e0152"
            ],
            [
             0.1,
             "#c51b7d"
            ],
            [
             0.2,
             "#de77ae"
            ],
            [
             0.3,
             "#f1b6da"
            ],
            [
             0.4,
             "#fde0ef"
            ],
            [
             0.5,
             "#f7f7f7"
            ],
            [
             0.6,
             "#e6f5d0"
            ],
            [
             0.7,
             "#b8e186"
            ],
            [
             0.8,
             "#7fbc41"
            ],
            [
             0.9,
             "#4d9221"
            ],
            [
             1,
             "#276419"
            ]
           ],
           "sequential": [
            [
             0,
             "#0d0887"
            ],
            [
             0.1111111111111111,
             "#46039f"
            ],
            [
             0.2222222222222222,
             "#7201a8"
            ],
            [
             0.3333333333333333,
             "#9c179e"
            ],
            [
             0.4444444444444444,
             "#bd3786"
            ],
            [
             0.5555555555555556,
             "#d8576b"
            ],
            [
             0.6666666666666666,
             "#ed7953"
            ],
            [
             0.7777777777777778,
             "#fb9f3a"
            ],
            [
             0.8888888888888888,
             "#fdca26"
            ],
            [
             1,
             "#f0f921"
            ]
           ],
           "sequentialminus": [
            [
             0,
             "#0d0887"
            ],
            [
             0.1111111111111111,
             "#46039f"
            ],
            [
             0.2222222222222222,
             "#7201a8"
            ],
            [
             0.3333333333333333,
             "#9c179e"
            ],
            [
             0.4444444444444444,
             "#bd3786"
            ],
            [
             0.5555555555555556,
             "#d8576b"
            ],
            [
             0.6666666666666666,
             "#ed7953"
            ],
            [
             0.7777777777777778,
             "#fb9f3a"
            ],
            [
             0.8888888888888888,
             "#fdca26"
            ],
            [
             1,
             "#f0f921"
            ]
           ]
          },
          "colorway": [
           "#636efa",
           "#EF553B",
           "#00cc96",
           "#ab63fa",
           "#FFA15A",
           "#19d3f3",
           "#FF6692",
           "#B6E880",
           "#FF97FF",
           "#FECB52"
          ],
          "font": {
           "color": "#2a3f5f"
          },
          "geo": {
           "bgcolor": "white",
           "lakecolor": "white",
           "landcolor": "#E5ECF6",
           "showlakes": true,
           "showland": true,
           "subunitcolor": "white"
          },
          "hoverlabel": {
           "align": "left"
          },
          "hovermode": "closest",
          "mapbox": {
           "style": "light"
          },
          "paper_bgcolor": "white",
          "plot_bgcolor": "#E5ECF6",
          "polar": {
           "angularaxis": {
            "gridcolor": "white",
            "linecolor": "white",
            "ticks": ""
           },
           "bgcolor": "#E5ECF6",
           "radialaxis": {
            "gridcolor": "white",
            "linecolor": "white",
            "ticks": ""
           }
          },
          "scene": {
           "xaxis": {
            "backgroundcolor": "#E5ECF6",
            "gridcolor": "white",
            "gridwidth": 2,
            "linecolor": "white",
            "showbackground": true,
            "ticks": "",
            "zerolinecolor": "white"
           },
           "yaxis": {
            "backgroundcolor": "#E5ECF6",
            "gridcolor": "white",
            "gridwidth": 2,
            "linecolor": "white",
            "showbackground": true,
            "ticks": "",
            "zerolinecolor": "white"
           },
           "zaxis": {
            "backgroundcolor": "#E5ECF6",
            "gridcolor": "white",
            "gridwidth": 2,
            "linecolor": "white",
            "showbackground": true,
            "ticks": "",
            "zerolinecolor": "white"
           }
          },
          "shapedefaults": {
           "line": {
            "color": "#2a3f5f"
           }
          },
          "ternary": {
           "aaxis": {
            "gridcolor": "white",
            "linecolor": "white",
            "ticks": ""
           },
           "baxis": {
            "gridcolor": "white",
            "linecolor": "white",
            "ticks": ""
           },
           "bgcolor": "#E5ECF6",
           "caxis": {
            "gridcolor": "white",
            "linecolor": "white",
            "ticks": ""
           }
          },
          "title": {
           "x": 0.05
          },
          "xaxis": {
           "automargin": true,
           "gridcolor": "white",
           "linecolor": "white",
           "ticks": "",
           "title": {
            "standoff": 15
           },
           "zerolinecolor": "white",
           "zerolinewidth": 2
          },
          "yaxis": {
           "automargin": true,
           "gridcolor": "white",
           "linecolor": "white",
           "ticks": "",
           "title": {
            "standoff": 15
           },
           "zerolinecolor": "white",
           "zerolinewidth": 2
          }
         }
        },
        "title": {
         "text": "Difficulty Distribution",
         "x": 0.5
        },
        "width": 800,
        "xaxis": {
         "anchor": "y",
         "categoryarray": [
          "easy",
          "moderate",
          "hard",
          "very hard"
         ],
         "categoryorder": "array",
         "domain": [
          0,
          1
         ],
         "title": {
          "text": "Difficulty"
         }
        },
        "yaxis": {
         "anchor": "x",
         "domain": [
          0,
          1
         ],
         "title": {
          "text": "Count"
         }
        }
       }
      }
     },
     "metadata": {},
     "output_type": "display_data"
    }
   ],
   "source": [
    "# Plot difficulty distribution\n",
    "difficulty_distribution(\n",
    "    simulating_tries_difficulty\n",
    ")"
   ]
  },
  {
   "cell_type": "markdown",
   "id": "468c6c0d",
   "metadata": {},
   "source": [
    "## Most frequent number of guesses"
   ]
  },
  {
   "cell_type": "code",
   "execution_count": 13,
   "id": "b44e193d",
   "metadata": {
    "ExecuteTime": {
     "end_time": "2023-12-08T16:02:06.386255Z",
     "start_time": "2023-12-08T16:02:06.370476Z"
    }
   },
   "outputs": [
    {
     "data": {
      "text/html": [
       "<pre style=\"white-space:pre;overflow-x:auto;line-height:normal;font-family:Menlo,'DejaVu Sans Mono',consolas,'Courier New',monospace\"></pre>\n"
      ],
      "text/plain": []
     },
     "metadata": {},
     "output_type": "display_data"
    },
    {
     "data": {
      "text/html": [
       "<div><style>\n",
       ".dataframe > thead > tr,\n",
       ".dataframe > tbody > tr {\n",
       "  text-align: right;\n",
       "  white-space: pre-wrap;\n",
       "}\n",
       "</style>\n",
       "<small>shape: (7, 2)</small><table border=\"1\" class=\"dataframe\"><thead><tr><th>tries</th><th>count</th></tr><tr><td>u8</td><td>u32</td></tr></thead><tbody><tr><td>4</td><td>3384</td></tr><tr><td>5</td><td>2130</td></tr><tr><td>3</td><td>2078</td></tr><tr><td>6</td><td>911</td></tr><tr><td>null</td><td>583</td></tr><tr><td>2</td><td>1</td></tr><tr><td>1</td><td>1</td></tr></tbody></table></div>"
      ],
      "text/plain": [
       "\n",
       "shape: \u001b[1m(\u001b[0m\u001b[1;36m7\u001b[0m, \u001b[1;36m2\u001b[0m\u001b[1m)\u001b[0m\n",
       "┌───────┬───────┐\n",
       "│ tries ┆ count │\n",
       "│ ---   ┆ ---   │\n",
       "│ u8    ┆ u32   │\n",
       "╞═══════╪═══════╡\n",
       "│ \u001b[1;36m4\u001b[0m     ┆ \u001b[1;36m3384\u001b[0m  │\n",
       "│ \u001b[1;36m5\u001b[0m     ┆ \u001b[1;36m2130\u001b[0m  │\n",
       "│ \u001b[1;36m3\u001b[0m     ┆ \u001b[1;36m2078\u001b[0m  │\n",
       "│ \u001b[1;36m6\u001b[0m     ┆ \u001b[1;36m911\u001b[0m   │\n",
       "│ null  ┆ \u001b[1;36m583\u001b[0m   │\n",
       "│ \u001b[1;36m2\u001b[0m     ┆ \u001b[1;36m1\u001b[0m     │\n",
       "│ \u001b[1;36m1\u001b[0m     ┆ \u001b[1;36m1\u001b[0m     │\n",
       "└───────┴───────┘"
      ]
     },
     "execution_count": 13,
     "metadata": {},
     "output_type": "execute_result"
    }
   ],
   "source": [
    "(\n",
    "    first_guess\n",
    "    [\"tries\"]\n",
    "    .value_counts()\n",
    "    .sort(by=\"count\", descending=True)\n",
    ")"
   ]
  },
  {
   "cell_type": "markdown",
   "id": "dfc55119",
   "metadata": {},
   "source": [
    "## Anagrams  \n",
    "\n",
    "Only the most frequently occuring anagrams were only considered for root words after the five letter words were processed to remove plurals, names and places. As such there won't be any anagrams for `leads` as it's root word is `lead` which is a 4-letter word.  \n",
    "\n",
    "However, if our challenge word is `leads`, or even its anagram `deals`, we can use their anagram `slade` to make a correct guess."
   ]
  },
  {
   "cell_type": "code",
   "execution_count": 14,
   "id": "9df26d76",
   "metadata": {
    "ExecuteTime": {
     "end_time": "2023-12-08T16:02:08.643481Z",
     "start_time": "2023-12-08T16:02:07.749355Z"
    }
   },
   "outputs": [
    {
     "data": {
      "text/html": [
       "<pre style=\"white-space:pre;overflow-x:auto;line-height:normal;font-family:Menlo,'DejaVu Sans Mono',consolas,'Courier New',monospace\"></pre>\n"
      ],
      "text/plain": []
     },
     "metadata": {},
     "output_type": "display_data"
    },
    {
     "data": {
      "text/html": [
       "<div><style>\n",
       ".dataframe > thead > tr,\n",
       ".dataframe > tbody > tr {\n",
       "  text-align: right;\n",
       "  white-space: pre-wrap;\n",
       "}\n",
       "</style>\n",
       "<small>shape: (4, 19)</small><table border=\"1\" class=\"dataframe\"><thead><tr><th>challenge</th><th>guess</th><th>letter_differences</th><th>common_letters</th><th>num_diff_letters</th><th>num_common_letters</th><th>num_matching_index</th><th>match_pattern</th><th>num_choices_after_guess</th><th>possible_guesses</th><th>challenge_in_possible_guesses</th><th>next_guess</th><th>group</th><th>tries</th><th>difficulty</th><th>guess_word_anagrams</th><th>anagram_num</th><th>anagrams</th><th>anagram_num_right</th></tr><tr><td>str</td><td>str</td><td>str</td><td>str</td><td>u8</td><td>u8</td><td>u8</td><td>str</td><td>u16</td><td>str</td><td>bool</td><td>str</td><td>u32</td><td>u8</td><td>str</td><td>str</td><td>u8</td><td>str</td><td>u8</td></tr></thead><tbody><tr><td>&quot;natis&quot;</td><td>&quot;saint&quot;</td><td>&quot;&quot;</td><td>&quot;saint&quot;</td><td>0</td><td>5</td><td>1</td><td>&quot;YGYYY&quot;</td><td>1</td><td>&quot;natis&quot;</td><td>true</td><td>&quot;loure&quot;</td><td>682</td><td>3</td><td>&quot;moderate&quot;</td><td>&quot;saint, stain, satin, antis, na…</td><td>5</td><td>&quot;loure, roule&quot;</td><td>2</td></tr><tr><td>&quot;stain&quot;</td><td>&quot;saint&quot;</td><td>&quot;&quot;</td><td>&quot;saint&quot;</td><td>0</td><td>5</td><td>1</td><td>&quot;GYYYY&quot;</td><td>1</td><td>&quot;stain&quot;</td><td>true</td><td>&quot;loure&quot;</td><td>1880</td><td>3</td><td>&quot;moderate&quot;</td><td>&quot;saint, stain, satin, antis, na…</td><td>5</td><td>&quot;loure, roule&quot;</td><td>2</td></tr><tr><td>&quot;antis&quot;</td><td>&quot;saint&quot;</td><td>&quot;&quot;</td><td>&quot;saint&quot;</td><td>0</td><td>5</td><td>0</td><td>&quot;YYYYY&quot;</td><td>1</td><td>&quot;antis&quot;</td><td>true</td><td>&quot;loure&quot;</td><td>4908</td><td>3</td><td>&quot;moderate&quot;</td><td>&quot;saint, stain, satin, antis, na…</td><td>5</td><td>&quot;loure, roule&quot;</td><td>2</td></tr><tr><td>&quot;satin&quot;</td><td>&quot;saint&quot;</td><td>&quot;&quot;</td><td>&quot;saint&quot;</td><td>0</td><td>5</td><td>2</td><td>&quot;GGYYY&quot;</td><td>1</td><td>&quot;satin&quot;</td><td>true</td><td>&quot;loure&quot;</td><td>6584</td><td>3</td><td>&quot;moderate&quot;</td><td>&quot;saint, stain, satin, antis, na…</td><td>5</td><td>&quot;loure, roule&quot;</td><td>2</td></tr></tbody></table></div>"
      ],
      "text/plain": [
       "\n",
       "shape: \u001b[1m(\u001b[0m\u001b[1;36m4\u001b[0m, \u001b[1;36m19\u001b[0m\u001b[1m)\u001b[0m\n",
       "┌───────────┬───────┬────────────┬────────────┬───┬────────────┬───────────┬───────────┬───────────┐\n",
       "│ challenge ┆ guess ┆ letter_dif ┆ common_let ┆ … ┆ guess_word ┆ anagram_n ┆ anagrams  ┆ anagram_n │\n",
       "│ ---       ┆ ---   ┆ ferences   ┆ ters       ┆   ┆ _anagrams  ┆ um        ┆ ---       ┆ um_right  │\n",
       "│ str       ┆ str   ┆ ---        ┆ ---        ┆   ┆ ---        ┆ ---       ┆ str       ┆ ---       │\n",
       "│           ┆       ┆ str        ┆ str        ┆   ┆ str        ┆ u8        ┆           ┆ u8        │\n",
       "╞═══════════╪═══════╪════════════╪════════════╪═══╪════════════╪═══════════╪═══════════╪═══════════╡\n",
       "│ natis     ┆ saint ┆            ┆ saint      ┆ … ┆ saint,     ┆ \u001b[1;36m5\u001b[0m         ┆ loure,    ┆ \u001b[1;36m2\u001b[0m         │\n",
       "│           ┆       ┆            ┆            ┆   ┆ stain,     ┆           ┆ roule     ┆           │\n",
       "│           ┆       ┆            ┆            ┆   ┆ satin,     ┆           ┆           ┆           │\n",
       "│           ┆       ┆            ┆            ┆   ┆ antis, na… ┆           ┆           ┆           │\n",
       "│ stain     ┆ saint ┆            ┆ saint      ┆ … ┆ saint,     ┆ \u001b[1;36m5\u001b[0m         ┆ loure,    ┆ \u001b[1;36m2\u001b[0m         │\n",
       "│           ┆       ┆            ┆            ┆   ┆ stain,     ┆           ┆ roule     ┆           │\n",
       "│           ┆       ┆            ┆            ┆   ┆ satin,     ┆           ┆           ┆           │\n",
       "│           ┆       ┆            ┆            ┆   ┆ antis, na… ┆           ┆           ┆           │\n",
       "│ antis     ┆ saint ┆            ┆ saint      ┆ … ┆ saint,     ┆ \u001b[1;36m5\u001b[0m         ┆ loure,    ┆ \u001b[1;36m2\u001b[0m         │\n",
       "│           ┆       ┆            ┆            ┆   ┆ stain,     ┆           ┆ roule     ┆           │\n",
       "│           ┆       ┆            ┆            ┆   ┆ satin,     ┆           ┆           ┆           │\n",
       "│           ┆       ┆            ┆            ┆   ┆ antis, na… ┆           ┆           ┆           │\n",
       "│ satin     ┆ saint ┆            ┆ saint      ┆ … ┆ saint,     ┆ \u001b[1;36m5\u001b[0m         ┆ loure,    ┆ \u001b[1;36m2\u001b[0m         │\n",
       "│           ┆       ┆            ┆            ┆   ┆ stain,     ┆           ┆ roule     ┆           │\n",
       "│           ┆       ┆            ┆            ┆   ┆ satin,     ┆           ┆           ┆           │\n",
       "│           ┆       ┆            ┆            ┆   ┆ antis, na… ┆           ┆           ┆           │\n",
       "└───────────┴───────┴────────────┴────────────┴───┴────────────┴───────────┴───────────┴───────────┘"
      ]
     },
     "execution_count": 14,
     "metadata": {},
     "output_type": "execute_result"
    }
   ],
   "source": [
    "# where challenge and guess are anagrams, removing instances where you guess right\n",
    "# the first time to see how quickly we converge on the challenge word\n",
    "\n",
    "anagrams = (\n",
    "    simulating_tries_difficulty\n",
    "    .filter(\n",
    "        (pl.col(\"letter_differences\") == \"\")\n",
    "        & (pl.col(\"num_common_letters\") == 5)\n",
    "        & (pl.col(\"challenge\") != pl.col(\"guess\"))\n",
    "    )\n",
    ")\n",
    "\n",
    "anagrams"
   ]
  },
  {
   "cell_type": "code",
   "execution_count": 15,
   "id": "38718196",
   "metadata": {
    "ExecuteTime": {
     "end_time": "2023-12-08T16:02:08.692780Z",
     "start_time": "2023-12-08T16:02:08.676341Z"
    }
   },
   "outputs": [
    {
     "data": {
      "text/html": [
       "<pre style=\"white-space:pre;overflow-x:auto;line-height:normal;font-family:Menlo,'DejaVu Sans Mono',consolas,'Courier New',monospace\"></pre>\n"
      ],
      "text/plain": []
     },
     "metadata": {},
     "output_type": "display_data"
    },
    {
     "data": {
      "text/html": [
       "<table border=\"1\" class=\"dataframe\">\n",
       "  <thead>\n",
       "    <tr style=\"text-align: right;\">\n",
       "      <th></th>\n",
       "      <th>challenge</th>\n",
       "      <th>guess</th>\n",
       "      <th>match_pattern</th>\n",
       "      <th>next_guess</th>\n",
       "      <th>num_choices_after_guess</th>\n",
       "      <th>possible_guesses</th>\n",
       "      <th>difficulty</th>\n",
       "    </tr>\n",
       "  </thead>\n",
       "  <tbody>\n",
       "    <tr>\n",
       "      <th>0</th>\n",
       "      <td>satin</td>\n",
       "      <td>saint</td>\n",
       "      <td><div style='display:inline-block; width:20px; height:20px; margin:1px; text-align:center; font-weight:bold; background-color: green;'>s</div><div style='display:inline-block; width:20px; height:20px; margin:1px; text-align:center; font-weight:bold; background-color: green;'>a</div><div style='display:inline-block; width:20px; height:20px; margin:1px; text-align:center; font-weight:bold; background-color: #FDBE02;'>i</div><div style='display:inline-block; width:20px; height:20px; margin:1px; text-align:center; font-weight:bold; background-color: #FDBE02;'>n</div><div style='display:inline-block; width:20px; height:20px; margin:1px; text-align:center; font-weight:bold; background-color: #FDBE02;'>t</div></td>\n",
       "      <td>loure</td>\n",
       "      <td>1</td>\n",
       "      <td>satin</td>\n",
       "      <td>moderate</td>\n",
       "    </tr>\n",
       "    <tr>\n",
       "      <th>1</th>\n",
       "      <td>satin</td>\n",
       "      <td>loure</td>\n",
       "      <td><div style='display:inline-block; width:20px; height:20px; margin:1px; text-align:center; font-weight:bold; background-color: black;'>l</div><div style='display:inline-block; width:20px; height:20px; margin:1px; text-align:center; font-weight:bold; background-color: black;'>o</div><div style='display:inline-block; width:20px; height:20px; margin:1px; text-align:center; font-weight:bold; background-color: black;'>u</div><div style='display:inline-block; width:20px; height:20px; margin:1px; text-align:center; font-weight:bold; background-color: black;'>r</div><div style='display:inline-block; width:20px; height:20px; margin:1px; text-align:center; font-weight:bold; background-color: black;'>e</div></td>\n",
       "      <td>satin</td>\n",
       "      <td>1</td>\n",
       "      <td>satin</td>\n",
       "      <td>moderate</td>\n",
       "    </tr>\n",
       "    <tr>\n",
       "      <th>2</th>\n",
       "      <td>satin</td>\n",
       "      <td>satin</td>\n",
       "      <td><div style='display:inline-block; width:20px; height:20px; margin:1px; text-align:center; font-weight:bold; background-color: green;'>s</div><div style='display:inline-block; width:20px; height:20px; margin:1px; text-align:center; font-weight:bold; background-color: green;'>a</div><div style='display:inline-block; width:20px; height:20px; margin:1px; text-align:center; font-weight:bold; background-color: green;'>t</div><div style='display:inline-block; width:20px; height:20px; margin:1px; text-align:center; font-weight:bold; background-color: green;'>i</div><div style='display:inline-block; width:20px; height:20px; margin:1px; text-align:center; font-weight:bold; background-color: green;'>n</div></td>\n",
       "      <td>satin</td>\n",
       "      <td>0</td>\n",
       "      <td></td>\n",
       "      <td>moderate</td>\n",
       "    </tr>\n",
       "    <tr>\n",
       "      <th>3</th>\n",
       "      <td>satin</td>\n",
       "      <td>satin</td>\n",
       "      <td><div style='display:inline-block; width:20px; height:20px; margin:1px; text-align:center; font-weight:bold; background-color: green;'>s</div><div style='display:inline-block; width:20px; height:20px; margin:1px; text-align:center; font-weight:bold; background-color: green;'>a</div><div style='display:inline-block; width:20px; height:20px; margin:1px; text-align:center; font-weight:bold; background-color: green;'>t</div><div style='display:inline-block; width:20px; height:20px; margin:1px; text-align:center; font-weight:bold; background-color: green;'>i</div><div style='display:inline-block; width:20px; height:20px; margin:1px; text-align:center; font-weight:bold; background-color: green;'>n</div></td>\n",
       "      <td>satin</td>\n",
       "      <td>0</td>\n",
       "      <td></td>\n",
       "      <td>moderate</td>\n",
       "    </tr>\n",
       "    <tr>\n",
       "      <th>4</th>\n",
       "      <td>satin</td>\n",
       "      <td>satin</td>\n",
       "      <td><div style='display:inline-block; width:20px; height:20px; margin:1px; text-align:center; font-weight:bold; background-color: green;'>s</div><div style='display:inline-block; width:20px; height:20px; margin:1px; text-align:center; font-weight:bold; background-color: green;'>a</div><div style='display:inline-block; width:20px; height:20px; margin:1px; text-align:center; font-weight:bold; background-color: green;'>t</div><div style='display:inline-block; width:20px; height:20px; margin:1px; text-align:center; font-weight:bold; background-color: green;'>i</div><div style='display:inline-block; width:20px; height:20px; margin:1px; text-align:center; font-weight:bold; background-color: green;'>n</div></td>\n",
       "      <td>satin</td>\n",
       "      <td>0</td>\n",
       "      <td></td>\n",
       "      <td>moderate</td>\n",
       "    </tr>\n",
       "    <tr>\n",
       "      <th>5</th>\n",
       "      <td>satin</td>\n",
       "      <td>satin</td>\n",
       "      <td><div style='display:inline-block; width:20px; height:20px; margin:1px; text-align:center; font-weight:bold; background-color: green;'>s</div><div style='display:inline-block; width:20px; height:20px; margin:1px; text-align:center; font-weight:bold; background-color: green;'>a</div><div style='display:inline-block; width:20px; height:20px; margin:1px; text-align:center; font-weight:bold; background-color: green;'>t</div><div style='display:inline-block; width:20px; height:20px; margin:1px; text-align:center; font-weight:bold; background-color: green;'>i</div><div style='display:inline-block; width:20px; height:20px; margin:1px; text-align:center; font-weight:bold; background-color: green;'>n</div></td>\n",
       "      <td>satin</td>\n",
       "      <td>0</td>\n",
       "      <td></td>\n",
       "      <td>moderate</td>\n",
       "    </tr>\n",
       "  </tbody>\n",
       "</table>"
      ],
      "text/plain": [
       "\u001b[1m<\u001b[0m\u001b[1;95mIPython.core.display.HTML\u001b[0m\u001b[39m object\u001b[0m\u001b[1m>\u001b[0m"
      ]
     },
     "execution_count": 15,
     "metadata": {},
     "output_type": "execute_result"
    }
   ],
   "source": [
    "# Display the DataFrame with colored patterns\n",
    "\n",
    "anagrams_select_group = np.random.choice(anagrams[\"group\"], 1, replace = False)[0]\n",
    "\n",
    "HTML(\n",
    "    simulating_tries_difficulty\n",
    "    .filter(pl.col(\"group\") == anagrams_select_group)\n",
    "    .to_pandas()\n",
    "    .assign(\n",
    "        match_pattern = lambda df_:\n",
    "        color_pattern_matching(\n",
    "            dataf=df_,\n",
    "            challenge_col=\"challenge\",\n",
    "            guess_col=\"guess\"\n",
    "        )\n",
    "    )\n",
    "    [[\n",
    "        \"challenge\", \"guess\", \"match_pattern\", \"next_guess\",\n",
    "        \"num_choices_after_guess\", \"possible_guesses\", \"difficulty\",\n",
    "    ]]\n",
    "    .to_html(escape=False)\n",
    ")\n"
   ]
  },
  {
   "cell_type": "markdown",
   "id": "86dd8aef",
   "metadata": {},
   "source": [
    "### Challenge words without `r` , `s` or `t`\n",
    "These are some of the most frequently ocuuring letters. We can then see how our naive algorithm operates in coming to the correct guess."
   ]
  },
  {
   "cell_type": "code",
   "execution_count": 16,
   "id": "6ece91b8",
   "metadata": {
    "ExecuteTime": {
     "end_time": "2023-12-08T16:02:10.567413Z",
     "start_time": "2023-12-08T16:02:09.865810Z"
    }
   },
   "outputs": [
    {
     "data": {
      "text/html": [
       "<pre style=\"white-space:pre;overflow-x:auto;line-height:normal;font-family:Menlo,'DejaVu Sans Mono',consolas,'Courier New',monospace\"></pre>\n"
      ],
      "text/plain": []
     },
     "metadata": {},
     "output_type": "display_data"
    },
    {
     "data": {
      "text/html": [
       "<div><style>\n",
       ".dataframe > thead > tr,\n",
       ".dataframe > tbody > tr {\n",
       "  text-align: right;\n",
       "  white-space: pre-wrap;\n",
       "}\n",
       "</style>\n",
       "<small>shape: (20, 19)</small><table border=\"1\" class=\"dataframe\"><thead><tr><th>group</th><th>challenge</th><th>guess</th><th>letter_differences</th><th>common_letters</th><th>num_diff_letters</th><th>num_common_letters</th><th>num_matching_index</th><th>match_pattern</th><th>num_choices_after_guess</th><th>possible_guesses</th><th>challenge_in_possible_guesses</th><th>next_guess</th><th>tries</th><th>difficulty</th><th>guess_word_anagrams</th><th>anagram_num</th><th>anagrams</th><th>anagram_num_right</th></tr><tr><td>u32</td><td>str</td><td>str</td><td>str</td><td>str</td><td>u8</td><td>u8</td><td>u8</td><td>str</td><td>u16</td><td>str</td><td>bool</td><td>str</td><td>u8</td><td>str</td><td>str</td><td>u8</td><td>str</td><td>u8</td></tr></thead><tbody><tr><td>2025</td><td>&quot;bicep&quot;</td><td>&quot;saint&quot;</td><td>&quot;nats&quot;</td><td>&quot;i&quot;</td><td>4</td><td>1</td><td>0</td><td>&quot;BBYBB&quot;</td><td>482</td><td>&quot;bible, pixel, river, liege, pi…</td><td>false</td><td>&quot;loure&quot;</td><td>4</td><td>&quot;moderate&quot;</td><td>&quot;saint, stain, satin, antis, na…</td><td>5</td><td>&quot;loure, roule&quot;</td><td>2</td></tr><tr><td>8530</td><td>&quot;pawaw&quot;</td><td>&quot;saint&quot;</td><td>&quot;ntis&quot;</td><td>&quot;a&quot;</td><td>4</td><td>1</td><td>1</td><td>&quot;BGBBB&quot;</td><td>495</td><td>&quot;rally, value, early, march, la…</td><td>false</td><td>&quot;loure&quot;</td><td>6</td><td>&quot;hard&quot;</td><td>&quot;saint, stain, satin, antis, na…</td><td>5</td><td>&quot;loure, roule&quot;</td><td>2</td></tr><tr><td>1839</td><td>&quot;gompa&quot;</td><td>&quot;saint&quot;</td><td>&quot;ntis&quot;</td><td>&quot;a&quot;</td><td>4</td><td>1</td><td>0</td><td>&quot;BYBBB&quot;</td><td>751</td><td>&quot;leave, realm, guard, glare, br…</td><td>false</td><td>&quot;loure&quot;</td><td>5</td><td>&quot;hard&quot;</td><td>&quot;saint, stain, satin, antis, na…</td><td>5</td><td>&quot;loure, roule&quot;</td><td>2</td></tr><tr><td>8308</td><td>&quot;lagan&quot;</td><td>&quot;saint&quot;</td><td>&quot;tis&quot;</td><td>&quot;an&quot;</td><td>3</td><td>2</td><td>1</td><td>&quot;BGBYB&quot;</td><td>149</td><td>&quot;range, canon, handy, canal, ca…</td><td>false</td><td>&quot;loure&quot;</td><td>4</td><td>&quot;moderate&quot;</td><td>&quot;saint, stain, satin, antis, na…</td><td>5</td><td>&quot;loure, roule&quot;</td><td>2</td></tr><tr><td>8839</td><td>&quot;knave&quot;</td><td>&quot;saint&quot;</td><td>&quot;tis&quot;</td><td>&quot;an&quot;</td><td>3</td><td>2</td><td>0</td><td>&quot;BYBYB&quot;</td><td>178</td><td>&quot;urban, human, woman, clean, ro…</td><td>false</td><td>&quot;loure&quot;</td><td>3</td><td>&quot;moderate&quot;</td><td>&quot;saint, stain, satin, antis, na…</td><td>5</td><td>&quot;loure, roule&quot;</td><td>2</td></tr><tr><td>3504</td><td>&quot;kinky&quot;</td><td>&quot;saint&quot;</td><td>&quot;ats&quot;</td><td>&quot;in&quot;</td><td>3</td><td>2</td><td>0</td><td>&quot;BBYYB&quot;</td><td>204</td><td>&quot;minor, inner, begin, fungi, in…</td><td>false</td><td>&quot;loure&quot;</td><td>6</td><td>&quot;hard&quot;</td><td>&quot;saint, stain, satin, antis, na…</td><td>5</td><td>&quot;loure, roule&quot;</td><td>2</td></tr><tr><td>1051</td><td>&quot;fling&quot;</td><td>&quot;saint&quot;</td><td>&quot;ats&quot;</td><td>&quot;in&quot;</td><td>3</td><td>2</td><td>2</td><td>&quot;BBGGB&quot;</td><td>42</td><td>&quot;bring, blind, drink, urine, rh…</td><td>false</td><td>&quot;loure&quot;</td><td>5</td><td>&quot;hard&quot;</td><td>&quot;saint, stain, satin, antis, na…</td><td>5</td><td>&quot;loure, roule&quot;</td><td>2</td></tr><tr><td>6804</td><td>&quot;comae&quot;</td><td>&quot;saint&quot;</td><td>&quot;ntis&quot;</td><td>&quot;a&quot;</td><td>4</td><td>1</td><td>0</td><td>&quot;BYBBB&quot;</td><td>751</td><td>&quot;brace, grave, board, black, op…</td><td>false</td><td>&quot;loure&quot;</td><td>4</td><td>&quot;moderate&quot;</td><td>&quot;saint, stain, satin, antis, na…</td><td>5</td><td>&quot;loure, roule&quot;</td><td>2</td></tr><tr><td>557</td><td>&quot;padma&quot;</td><td>&quot;saint&quot;</td><td>&quot;ntis&quot;</td><td>&quot;a&quot;</td><td>4</td><td>1</td><td>1</td><td>&quot;BGBBB&quot;</td><td>495</td><td>&quot;harry, papal, marry, early, wa…</td><td>false</td><td>&quot;loure&quot;</td><td>4</td><td>&quot;moderate&quot;</td><td>&quot;saint, stain, satin, antis, na…</td><td>5</td><td>&quot;loure, roule&quot;</td><td>2</td></tr><tr><td>795</td><td>&quot;gelee&quot;</td><td>&quot;saint&quot;</td><td>&quot;nisat&quot;</td><td>&quot;&quot;</td><td>5</td><td>0</td><td>0</td><td>&quot;BBBBB&quot;</td><td>1222</td><td>&quot;cover, humor, level, model, fu…</td><td>false</td><td>&quot;loure&quot;</td><td>6</td><td>&quot;hard&quot;</td><td>&quot;saint, stain, satin, antis, na…</td><td>5</td><td>&quot;loure, roule&quot;</td><td>2</td></tr><tr><td>5562</td><td>&quot;pogey&quot;</td><td>&quot;saint&quot;</td><td>&quot;nisat&quot;</td><td>&quot;&quot;</td><td>5</td><td>0</td><td>0</td><td>&quot;BBBBB&quot;</td><td>1222</td><td>&quot;fully, refer, belly, proxy, up…</td><td>false</td><td>&quot;loure&quot;</td><td>4</td><td>&quot;moderate&quot;</td><td>&quot;saint, stain, satin, antis, na…</td><td>5</td><td>&quot;loure, roule&quot;</td><td>2</td></tr><tr><td>1330</td><td>&quot;khoja&quot;</td><td>&quot;saint&quot;</td><td>&quot;ntis&quot;</td><td>&quot;a&quot;</td><td>4</td><td>1</td><td>0</td><td>&quot;BYBBB&quot;</td><td>751</td><td>&quot;place, local, grade, equal, be…</td><td>false</td><td>&quot;loure&quot;</td><td>4</td><td>&quot;moderate&quot;</td><td>&quot;saint, stain, satin, antis, na…</td><td>5</td><td>&quot;loure, roule&quot;</td><td>2</td></tr><tr><td>550</td><td>&quot;daven&quot;</td><td>&quot;saint&quot;</td><td>&quot;tis&quot;</td><td>&quot;an&quot;</td><td>3</td><td>2</td><td>1</td><td>&quot;BGBYB&quot;</td><td>149</td><td>&quot;canal, dance, handy, canon, ma…</td><td>false</td><td>&quot;loure&quot;</td><td>4</td><td>&quot;moderate&quot;</td><td>&quot;saint, stain, satin, antis, na…</td><td>5</td><td>&quot;loure, roule&quot;</td><td>2</td></tr><tr><td>147</td><td>&quot;nudie&quot;</td><td>&quot;saint&quot;</td><td>&quot;ats&quot;</td><td>&quot;in&quot;</td><td>3</td><td>2</td><td>0</td><td>&quot;BBYYB&quot;</td><td>204</td><td>&quot;minor, index, begin, inner, co…</td><td>false</td><td>&quot;loure&quot;</td><td>3</td><td>&quot;moderate&quot;</td><td>&quot;saint, stain, satin, antis, na…</td><td>5</td><td>&quot;loure, roule&quot;</td><td>2</td></tr><tr><td>5622</td><td>&quot;goony&quot;</td><td>&quot;saint&quot;</td><td>&quot;atis&quot;</td><td>&quot;n&quot;</td><td>4</td><td>1</td><td>1</td><td>&quot;BBBGB&quot;</td><td>111</td><td>&quot;young, wrong, round, pound, ph…</td><td>false</td><td>&quot;loure&quot;</td><td>5</td><td>&quot;hard&quot;</td><td>&quot;saint, stain, satin, antis, na…</td><td>5</td><td>&quot;loure, roule&quot;</td><td>2</td></tr><tr><td>1147</td><td>&quot;woofy&quot;</td><td>&quot;saint&quot;</td><td>&quot;nisat&quot;</td><td>&quot;&quot;</td><td>5</td><td>0</td><td>0</td><td>&quot;BBBBB&quot;</td><td>1222</td><td>&quot;order, world, goody, occur, co…</td><td>false</td><td>&quot;loure&quot;</td><td>6</td><td>&quot;hard&quot;</td><td>&quot;saint, stain, satin, antis, na…</td><td>5</td><td>&quot;loure, roule&quot;</td><td>2</td></tr><tr><td>5415</td><td>&quot;jimpy&quot;</td><td>&quot;saint&quot;</td><td>&quot;nats&quot;</td><td>&quot;i&quot;</td><td>4</td><td>1</td><td>0</td><td>&quot;BBYBB&quot;</td><td>482</td><td>&quot;civil, peril, vivid, river, fi…</td><td>false</td><td>&quot;loure&quot;</td><td>4</td><td>&quot;moderate&quot;</td><td>&quot;saint, stain, satin, antis, na…</td><td>5</td><td>&quot;loure, roule&quot;</td><td>2</td></tr><tr><td>9054</td><td>&quot;lauch&quot;</td><td>&quot;saint&quot;</td><td>&quot;ntis&quot;</td><td>&quot;a&quot;</td><td>4</td><td>1</td><td>1</td><td>&quot;BGBBB&quot;</td><td>495</td><td>&quot;labor, large, valve, carry, va…</td><td>false</td><td>&quot;loure&quot;</td><td>4</td><td>&quot;moderate&quot;</td><td>&quot;saint, stain, satin, antis, na…</td><td>5</td><td>&quot;loure, roule&quot;</td><td>2</td></tr><tr><td>7001</td><td>&quot;hinky&quot;</td><td>&quot;saint&quot;</td><td>&quot;ats&quot;</td><td>&quot;in&quot;</td><td>3</td><td>2</td><td>0</td><td>&quot;BBYYB&quot;</td><td>204</td><td>&quot;colin, niger, index, renin, mi…</td><td>false</td><td>&quot;loure&quot;</td><td>6</td><td>&quot;hard&quot;</td><td>&quot;saint, stain, satin, antis, na…</td><td>5</td><td>&quot;loure, roule&quot;</td><td>2</td></tr><tr><td>6451</td><td>&quot;levee&quot;</td><td>&quot;saint&quot;</td><td>&quot;nisat&quot;</td><td>&quot;&quot;</td><td>5</td><td>0</td><td>0</td><td>&quot;BBBBB&quot;</td><td>1222</td><td>&quot;homer, glory, error, blood, bu…</td><td>false</td><td>&quot;loure&quot;</td><td>4</td><td>&quot;moderate&quot;</td><td>&quot;saint, stain, satin, antis, na…</td><td>5</td><td>&quot;loure, roule&quot;</td><td>2</td></tr></tbody></table></div>"
      ],
      "text/plain": [
       "\n",
       "shape: \u001b[1m(\u001b[0m\u001b[1;36m20\u001b[0m, \u001b[1;36m19\u001b[0m\u001b[1m)\u001b[0m\n",
       "┌───────┬───────────┬───────┬─────────────┬───┬─────────────┬────────────┬────────────┬────────────┐\n",
       "│ group ┆ challenge ┆ guess ┆ letter_diff ┆ … ┆ guess_word_ ┆ anagram_nu ┆ anagrams   ┆ anagram_nu │\n",
       "│ ---   ┆ ---       ┆ ---   ┆ erences     ┆   ┆ anagrams    ┆ m          ┆ ---        ┆ m_right    │\n",
       "│ u32   ┆ str       ┆ str   ┆ ---         ┆   ┆ ---         ┆ ---        ┆ str        ┆ ---        │\n",
       "│       ┆           ┆       ┆ str         ┆   ┆ str         ┆ u8         ┆            ┆ u8         │\n",
       "╞═══════╪═══════════╪═══════╪═════════════╪═══╪═════════════╪════════════╪════════════╪════════════╡\n",
       "│ \u001b[1;36m2025\u001b[0m  ┆ bicep     ┆ saint ┆ nats        ┆ … ┆ saint,      ┆ \u001b[1;36m5\u001b[0m          ┆ loure,     ┆ \u001b[1;36m2\u001b[0m          │\n",
       "│       ┆           ┆       ┆             ┆   ┆ stain,      ┆            ┆ roule      ┆            │\n",
       "│       ┆           ┆       ┆             ┆   ┆ satin,      ┆            ┆            ┆            │\n",
       "│       ┆           ┆       ┆             ┆   ┆ antis, na…  ┆            ┆            ┆            │\n",
       "│ \u001b[1;36m8530\u001b[0m  ┆ pawaw     ┆ saint ┆ ntis        ┆ … ┆ saint,      ┆ \u001b[1;36m5\u001b[0m          ┆ loure,     ┆ \u001b[1;36m2\u001b[0m          │\n",
       "│       ┆           ┆       ┆             ┆   ┆ stain,      ┆            ┆ roule      ┆            │\n",
       "│       ┆           ┆       ┆             ┆   ┆ satin,      ┆            ┆            ┆            │\n",
       "│       ┆           ┆       ┆             ┆   ┆ antis, na…  ┆            ┆            ┆            │\n",
       "│ \u001b[1;36m1839\u001b[0m  ┆ gompa     ┆ saint ┆ ntis        ┆ … ┆ saint,      ┆ \u001b[1;36m5\u001b[0m          ┆ loure,     ┆ \u001b[1;36m2\u001b[0m          │\n",
       "│       ┆           ┆       ┆             ┆   ┆ stain,      ┆            ┆ roule      ┆            │\n",
       "│       ┆           ┆       ┆             ┆   ┆ satin,      ┆            ┆            ┆            │\n",
       "│       ┆           ┆       ┆             ┆   ┆ antis, na…  ┆            ┆            ┆            │\n",
       "│ \u001b[1;36m8308\u001b[0m  ┆ lagan     ┆ saint ┆ tis         ┆ … ┆ saint,      ┆ \u001b[1;36m5\u001b[0m          ┆ loure,     ┆ \u001b[1;36m2\u001b[0m          │\n",
       "│       ┆           ┆       ┆             ┆   ┆ stain,      ┆            ┆ roule      ┆            │\n",
       "│       ┆           ┆       ┆             ┆   ┆ satin,      ┆            ┆            ┆            │\n",
       "│       ┆           ┆       ┆             ┆   ┆ antis, na…  ┆            ┆            ┆            │\n",
       "│ \u001b[1;36m8839\u001b[0m  ┆ knave     ┆ saint ┆ tis         ┆ … ┆ saint,      ┆ \u001b[1;36m5\u001b[0m          ┆ loure,     ┆ \u001b[1;36m2\u001b[0m          │\n",
       "│       ┆           ┆       ┆             ┆   ┆ stain,      ┆            ┆ roule      ┆            │\n",
       "│       ┆           ┆       ┆             ┆   ┆ satin,      ┆            ┆            ┆            │\n",
       "│       ┆           ┆       ┆             ┆   ┆ antis, na…  ┆            ┆            ┆            │\n",
       "│ \u001b[1;36m3504\u001b[0m  ┆ kinky     ┆ saint ┆ ats         ┆ … ┆ saint,      ┆ \u001b[1;36m5\u001b[0m          ┆ loure,     ┆ \u001b[1;36m2\u001b[0m          │\n",
       "│       ┆           ┆       ┆             ┆   ┆ stain,      ┆            ┆ roule      ┆            │\n",
       "│       ┆           ┆       ┆             ┆   ┆ satin,      ┆            ┆            ┆            │\n",
       "│       ┆           ┆       ┆             ┆   ┆ antis, na…  ┆            ┆            ┆            │\n",
       "│ \u001b[1;36m1051\u001b[0m  ┆ fling     ┆ saint ┆ ats         ┆ … ┆ saint,      ┆ \u001b[1;36m5\u001b[0m          ┆ loure,     ┆ \u001b[1;36m2\u001b[0m          │\n",
       "│       ┆           ┆       ┆             ┆   ┆ stain,      ┆            ┆ roule      ┆            │\n",
       "│       ┆           ┆       ┆             ┆   ┆ satin,      ┆            ┆            ┆            │\n",
       "│       ┆           ┆       ┆             ┆   ┆ antis, na…  ┆            ┆            ┆            │\n",
       "│ \u001b[1;36m6804\u001b[0m  ┆ comae     ┆ saint ┆ ntis        ┆ … ┆ saint,      ┆ \u001b[1;36m5\u001b[0m          ┆ loure,     ┆ \u001b[1;36m2\u001b[0m          │\n",
       "│       ┆           ┆       ┆             ┆   ┆ stain,      ┆            ┆ roule      ┆            │\n",
       "│       ┆           ┆       ┆             ┆   ┆ satin,      ┆            ┆            ┆            │\n",
       "│       ┆           ┆       ┆             ┆   ┆ antis, na…  ┆            ┆            ┆            │\n",
       "│ \u001b[1;36m557\u001b[0m   ┆ padma     ┆ saint ┆ ntis        ┆ … ┆ saint,      ┆ \u001b[1;36m5\u001b[0m          ┆ loure,     ┆ \u001b[1;36m2\u001b[0m          │\n",
       "│       ┆           ┆       ┆             ┆   ┆ stain,      ┆            ┆ roule      ┆            │\n",
       "│       ┆           ┆       ┆             ┆   ┆ satin,      ┆            ┆            ┆            │\n",
       "│       ┆           ┆       ┆             ┆   ┆ antis, na…  ┆            ┆            ┆            │\n",
       "│ \u001b[1;36m795\u001b[0m   ┆ gelee     ┆ saint ┆ nisat       ┆ … ┆ saint,      ┆ \u001b[1;36m5\u001b[0m          ┆ loure,     ┆ \u001b[1;36m2\u001b[0m          │\n",
       "│       ┆           ┆       ┆             ┆   ┆ stain,      ┆            ┆ roule      ┆            │\n",
       "│       ┆           ┆       ┆             ┆   ┆ satin,      ┆            ┆            ┆            │\n",
       "│       ┆           ┆       ┆             ┆   ┆ antis, na…  ┆            ┆            ┆            │\n",
       "│ \u001b[1;36m5562\u001b[0m  ┆ pogey     ┆ saint ┆ nisat       ┆ … ┆ saint,      ┆ \u001b[1;36m5\u001b[0m          ┆ loure,     ┆ \u001b[1;36m2\u001b[0m          │\n",
       "│       ┆           ┆       ┆             ┆   ┆ stain,      ┆            ┆ roule      ┆            │\n",
       "│       ┆           ┆       ┆             ┆   ┆ satin,      ┆            ┆            ┆            │\n",
       "│       ┆           ┆       ┆             ┆   ┆ antis, na…  ┆            ┆            ┆            │\n",
       "│ \u001b[1;36m1330\u001b[0m  ┆ khoja     ┆ saint ┆ ntis        ┆ … ┆ saint,      ┆ \u001b[1;36m5\u001b[0m          ┆ loure,     ┆ \u001b[1;36m2\u001b[0m          │\n",
       "│       ┆           ┆       ┆             ┆   ┆ stain,      ┆            ┆ roule      ┆            │\n",
       "│       ┆           ┆       ┆             ┆   ┆ satin,      ┆            ┆            ┆            │\n",
       "│       ┆           ┆       ┆             ┆   ┆ antis, na…  ┆            ┆            ┆            │\n",
       "│ \u001b[1;36m550\u001b[0m   ┆ daven     ┆ saint ┆ tis         ┆ … ┆ saint,      ┆ \u001b[1;36m5\u001b[0m          ┆ loure,     ┆ \u001b[1;36m2\u001b[0m          │\n",
       "│       ┆           ┆       ┆             ┆   ┆ stain,      ┆            ┆ roule      ┆            │\n",
       "│       ┆           ┆       ┆             ┆   ┆ satin,      ┆            ┆            ┆            │\n",
       "│       ┆           ┆       ┆             ┆   ┆ antis, na…  ┆            ┆            ┆            │\n",
       "│ \u001b[1;36m147\u001b[0m   ┆ nudie     ┆ saint ┆ ats         ┆ … ┆ saint,      ┆ \u001b[1;36m5\u001b[0m          ┆ loure,     ┆ \u001b[1;36m2\u001b[0m          │\n",
       "│       ┆           ┆       ┆             ┆   ┆ stain,      ┆            ┆ roule      ┆            │\n",
       "│       ┆           ┆       ┆             ┆   ┆ satin,      ┆            ┆            ┆            │\n",
       "│       ┆           ┆       ┆             ┆   ┆ antis, na…  ┆            ┆            ┆            │\n",
       "│ \u001b[1;36m5622\u001b[0m  ┆ goony     ┆ saint ┆ atis        ┆ … ┆ saint,      ┆ \u001b[1;36m5\u001b[0m          ┆ loure,     ┆ \u001b[1;36m2\u001b[0m          │\n",
       "│       ┆           ┆       ┆             ┆   ┆ stain,      ┆            ┆ roule      ┆            │\n",
       "│       ┆           ┆       ┆             ┆   ┆ satin,      ┆            ┆            ┆            │\n",
       "│       ┆           ┆       ┆             ┆   ┆ antis, na…  ┆            ┆            ┆            │\n",
       "│ \u001b[1;36m1147\u001b[0m  ┆ woofy     ┆ saint ┆ nisat       ┆ … ┆ saint,      ┆ \u001b[1;36m5\u001b[0m          ┆ loure,     ┆ \u001b[1;36m2\u001b[0m          │\n",
       "│       ┆           ┆       ┆             ┆   ┆ stain,      ┆            ┆ roule      ┆            │\n",
       "│       ┆           ┆       ┆             ┆   ┆ satin,      ┆            ┆            ┆            │\n",
       "│       ┆           ┆       ┆             ┆   ┆ antis, na…  ┆            ┆            ┆            │\n",
       "│ \u001b[1;36m5415\u001b[0m  ┆ jimpy     ┆ saint ┆ nats        ┆ … ┆ saint,      ┆ \u001b[1;36m5\u001b[0m          ┆ loure,     ┆ \u001b[1;36m2\u001b[0m          │\n",
       "│       ┆           ┆       ┆             ┆   ┆ stain,      ┆            ┆ roule      ┆            │\n",
       "│       ┆           ┆       ┆             ┆   ┆ satin,      ┆            ┆            ┆            │\n",
       "│       ┆           ┆       ┆             ┆   ┆ antis, na…  ┆            ┆            ┆            │\n",
       "│ \u001b[1;36m9054\u001b[0m  ┆ lauch     ┆ saint ┆ ntis        ┆ … ┆ saint,      ┆ \u001b[1;36m5\u001b[0m          ┆ loure,     ┆ \u001b[1;36m2\u001b[0m          │\n",
       "│       ┆           ┆       ┆             ┆   ┆ stain,      ┆            ┆ roule      ┆            │\n",
       "│       ┆           ┆       ┆             ┆   ┆ satin,      ┆            ┆            ┆            │\n",
       "│       ┆           ┆       ┆             ┆   ┆ antis, na…  ┆            ┆            ┆            │\n",
       "│ \u001b[1;36m7001\u001b[0m  ┆ hinky     ┆ saint ┆ ats         ┆ … ┆ saint,      ┆ \u001b[1;36m5\u001b[0m          ┆ loure,     ┆ \u001b[1;36m2\u001b[0m          │\n",
       "│       ┆           ┆       ┆             ┆   ┆ stain,      ┆            ┆ roule      ┆            │\n",
       "│       ┆           ┆       ┆             ┆   ┆ satin,      ┆            ┆            ┆            │\n",
       "│       ┆           ┆       ┆             ┆   ┆ antis, na…  ┆            ┆            ┆            │\n",
       "│ \u001b[1;36m6451\u001b[0m  ┆ levee     ┆ saint ┆ nisat       ┆ … ┆ saint,      ┆ \u001b[1;36m5\u001b[0m          ┆ loure,     ┆ \u001b[1;36m2\u001b[0m          │\n",
       "│       ┆           ┆       ┆             ┆   ┆ stain,      ┆            ┆ roule      ┆            │\n",
       "│       ┆           ┆       ┆             ┆   ┆ satin,      ┆            ┆            ┆            │\n",
       "│       ┆           ┆       ┆             ┆   ┆ antis, na…  ┆            ┆            ┆            │\n",
       "└───────┴───────────┴───────┴─────────────┴───┴─────────────┴────────────┴────────────┴────────────┘"
      ]
     },
     "execution_count": 16,
     "metadata": {},
     "output_type": "execute_result"
    }
   ],
   "source": [
    "challenge_words_without_r_s_t = (\n",
    "    first_guess\n",
    "    .filter(\n",
    "        ~(pl.col(\"challenge\").str.contains(\"r|s|t\"))\n",
    "        & ((pl.col(\"challenge\") != (pl.col(\"guess\"))))\n",
    "    )\n",
    ")\n",
    "\n",
    "challenge_words_without_r_s_t.sample(n = 20, with_replacement = False)"
   ]
  },
  {
   "cell_type": "code",
   "execution_count": 17,
   "id": "cf408c05",
   "metadata": {
    "ExecuteTime": {
     "end_time": "2023-12-08T16:02:10.891308Z",
     "start_time": "2023-12-08T16:02:10.806372Z"
    }
   },
   "outputs": [
    {
     "data": {
      "application/vnd.plotly.v1+json": {
       "config": {
        "plotlyServerURL": "https://plot.ly"
       },
       "data": [
        {
         "alignmentgroup": "True",
         "hovertemplate": "difficulty=%{x}<br>count=%{y}<extra></extra>",
         "legendgroup": "moderate",
         "marker": {
          "color": "#ff7f0e",
          "pattern": {
           "shape": ""
          }
         },
         "name": "moderate",
         "offsetgroup": "moderate",
         "orientation": "v",
         "showlegend": true,
         "textposition": "auto",
         "type": "bar",
         "x": [
          "moderate"
         ],
         "xaxis": "x",
         "y": [
          1476
         ],
         "yaxis": "y"
        },
        {
         "alignmentgroup": "True",
         "hovertemplate": "difficulty=%{x}<br>count=%{y}<extra></extra>",
         "legendgroup": "hard",
         "marker": {
          "color": "#2ca02c",
          "pattern": {
           "shape": ""
          }
         },
         "name": "hard",
         "offsetgroup": "hard",
         "orientation": "v",
         "showlegend": true,
         "textposition": "auto",
         "type": "bar",
         "x": [
          "hard"
         ],
         "xaxis": "x",
         "y": [
          1240
         ],
         "yaxis": "y"
        },
        {
         "alignmentgroup": "True",
         "hovertemplate": "difficulty=%{x}<br>count=%{y}<extra></extra>",
         "legendgroup": "very hard",
         "marker": {
          "color": "#d62728",
          "pattern": {
           "shape": ""
          }
         },
         "name": "very hard",
         "offsetgroup": "very hard",
         "orientation": "v",
         "showlegend": true,
         "textposition": "auto",
         "type": "bar",
         "x": [
          "very hard"
         ],
         "xaxis": "x",
         "y": [
          216
         ],
         "yaxis": "y"
        }
       ],
       "layout": {
        "barmode": "relative",
        "height": 600,
        "legend": {
         "title": {
          "text": "difficulty"
         },
         "tracegroupgap": 0
        },
        "template": {
         "data": {
          "bar": [
           {
            "error_x": {
             "color": "#2a3f5f"
            },
            "error_y": {
             "color": "#2a3f5f"
            },
            "marker": {
             "line": {
              "color": "#E5ECF6",
              "width": 0.5
             },
             "pattern": {
              "fillmode": "overlay",
              "size": 10,
              "solidity": 0.2
             }
            },
            "type": "bar"
           }
          ],
          "barpolar": [
           {
            "marker": {
             "line": {
              "color": "#E5ECF6",
              "width": 0.5
             },
             "pattern": {
              "fillmode": "overlay",
              "size": 10,
              "solidity": 0.2
             }
            },
            "type": "barpolar"
           }
          ],
          "carpet": [
           {
            "aaxis": {
             "endlinecolor": "#2a3f5f",
             "gridcolor": "white",
             "linecolor": "white",
             "minorgridcolor": "white",
             "startlinecolor": "#2a3f5f"
            },
            "baxis": {
             "endlinecolor": "#2a3f5f",
             "gridcolor": "white",
             "linecolor": "white",
             "minorgridcolor": "white",
             "startlinecolor": "#2a3f5f"
            },
            "type": "carpet"
           }
          ],
          "choropleth": [
           {
            "colorbar": {
             "outlinewidth": 0,
             "ticks": ""
            },
            "type": "choropleth"
           }
          ],
          "contour": [
           {
            "colorbar": {
             "outlinewidth": 0,
             "ticks": ""
            },
            "colorscale": [
             [
              0,
              "#0d0887"
             ],
             [
              0.1111111111111111,
              "#46039f"
             ],
             [
              0.2222222222222222,
              "#7201a8"
             ],
             [
              0.3333333333333333,
              "#9c179e"
             ],
             [
              0.4444444444444444,
              "#bd3786"
             ],
             [
              0.5555555555555556,
              "#d8576b"
             ],
             [
              0.6666666666666666,
              "#ed7953"
             ],
             [
              0.7777777777777778,
              "#fb9f3a"
             ],
             [
              0.8888888888888888,
              "#fdca26"
             ],
             [
              1,
              "#f0f921"
             ]
            ],
            "type": "contour"
           }
          ],
          "contourcarpet": [
           {
            "colorbar": {
             "outlinewidth": 0,
             "ticks": ""
            },
            "type": "contourcarpet"
           }
          ],
          "heatmap": [
           {
            "colorbar": {
             "outlinewidth": 0,
             "ticks": ""
            },
            "colorscale": [
             [
              0,
              "#0d0887"
             ],
             [
              0.1111111111111111,
              "#46039f"
             ],
             [
              0.2222222222222222,
              "#7201a8"
             ],
             [
              0.3333333333333333,
              "#9c179e"
             ],
             [
              0.4444444444444444,
              "#bd3786"
             ],
             [
              0.5555555555555556,
              "#d8576b"
             ],
             [
              0.6666666666666666,
              "#ed7953"
             ],
             [
              0.7777777777777778,
              "#fb9f3a"
             ],
             [
              0.8888888888888888,
              "#fdca26"
             ],
             [
              1,
              "#f0f921"
             ]
            ],
            "type": "heatmap"
           }
          ],
          "heatmapgl": [
           {
            "colorbar": {
             "outlinewidth": 0,
             "ticks": ""
            },
            "colorscale": [
             [
              0,
              "#0d0887"
             ],
             [
              0.1111111111111111,
              "#46039f"
             ],
             [
              0.2222222222222222,
              "#7201a8"
             ],
             [
              0.3333333333333333,
              "#9c179e"
             ],
             [
              0.4444444444444444,
              "#bd3786"
             ],
             [
              0.5555555555555556,
              "#d8576b"
             ],
             [
              0.6666666666666666,
              "#ed7953"
             ],
             [
              0.7777777777777778,
              "#fb9f3a"
             ],
             [
              0.8888888888888888,
              "#fdca26"
             ],
             [
              1,
              "#f0f921"
             ]
            ],
            "type": "heatmapgl"
           }
          ],
          "histogram": [
           {
            "marker": {
             "pattern": {
              "fillmode": "overlay",
              "size": 10,
              "solidity": 0.2
             }
            },
            "type": "histogram"
           }
          ],
          "histogram2d": [
           {
            "colorbar": {
             "outlinewidth": 0,
             "ticks": ""
            },
            "colorscale": [
             [
              0,
              "#0d0887"
             ],
             [
              0.1111111111111111,
              "#46039f"
             ],
             [
              0.2222222222222222,
              "#7201a8"
             ],
             [
              0.3333333333333333,
              "#9c179e"
             ],
             [
              0.4444444444444444,
              "#bd3786"
             ],
             [
              0.5555555555555556,
              "#d8576b"
             ],
             [
              0.6666666666666666,
              "#ed7953"
             ],
             [
              0.7777777777777778,
              "#fb9f3a"
             ],
             [
              0.8888888888888888,
              "#fdca26"
             ],
             [
              1,
              "#f0f921"
             ]
            ],
            "type": "histogram2d"
           }
          ],
          "histogram2dcontour": [
           {
            "colorbar": {
             "outlinewidth": 0,
             "ticks": ""
            },
            "colorscale": [
             [
              0,
              "#0d0887"
             ],
             [
              0.1111111111111111,
              "#46039f"
             ],
             [
              0.2222222222222222,
              "#7201a8"
             ],
             [
              0.3333333333333333,
              "#9c179e"
             ],
             [
              0.4444444444444444,
              "#bd3786"
             ],
             [
              0.5555555555555556,
              "#d8576b"
             ],
             [
              0.6666666666666666,
              "#ed7953"
             ],
             [
              0.7777777777777778,
              "#fb9f3a"
             ],
             [
              0.8888888888888888,
              "#fdca26"
             ],
             [
              1,
              "#f0f921"
             ]
            ],
            "type": "histogram2dcontour"
           }
          ],
          "mesh3d": [
           {
            "colorbar": {
             "outlinewidth": 0,
             "ticks": ""
            },
            "type": "mesh3d"
           }
          ],
          "parcoords": [
           {
            "line": {
             "colorbar": {
              "outlinewidth": 0,
              "ticks": ""
             }
            },
            "type": "parcoords"
           }
          ],
          "pie": [
           {
            "automargin": true,
            "type": "pie"
           }
          ],
          "scatter": [
           {
            "fillpattern": {
             "fillmode": "overlay",
             "size": 10,
             "solidity": 0.2
            },
            "type": "scatter"
           }
          ],
          "scatter3d": [
           {
            "line": {
             "colorbar": {
              "outlinewidth": 0,
              "ticks": ""
             }
            },
            "marker": {
             "colorbar": {
              "outlinewidth": 0,
              "ticks": ""
             }
            },
            "type": "scatter3d"
           }
          ],
          "scattercarpet": [
           {
            "marker": {
             "colorbar": {
              "outlinewidth": 0,
              "ticks": ""
             }
            },
            "type": "scattercarpet"
           }
          ],
          "scattergeo": [
           {
            "marker": {
             "colorbar": {
              "outlinewidth": 0,
              "ticks": ""
             }
            },
            "type": "scattergeo"
           }
          ],
          "scattergl": [
           {
            "marker": {
             "colorbar": {
              "outlinewidth": 0,
              "ticks": ""
             }
            },
            "type": "scattergl"
           }
          ],
          "scattermapbox": [
           {
            "marker": {
             "colorbar": {
              "outlinewidth": 0,
              "ticks": ""
             }
            },
            "type": "scattermapbox"
           }
          ],
          "scatterpolar": [
           {
            "marker": {
             "colorbar": {
              "outlinewidth": 0,
              "ticks": ""
             }
            },
            "type": "scatterpolar"
           }
          ],
          "scatterpolargl": [
           {
            "marker": {
             "colorbar": {
              "outlinewidth": 0,
              "ticks": ""
             }
            },
            "type": "scatterpolargl"
           }
          ],
          "scatterternary": [
           {
            "marker": {
             "colorbar": {
              "outlinewidth": 0,
              "ticks": ""
             }
            },
            "type": "scatterternary"
           }
          ],
          "surface": [
           {
            "colorbar": {
             "outlinewidth": 0,
             "ticks": ""
            },
            "colorscale": [
             [
              0,
              "#0d0887"
             ],
             [
              0.1111111111111111,
              "#46039f"
             ],
             [
              0.2222222222222222,
              "#7201a8"
             ],
             [
              0.3333333333333333,
              "#9c179e"
             ],
             [
              0.4444444444444444,
              "#bd3786"
             ],
             [
              0.5555555555555556,
              "#d8576b"
             ],
             [
              0.6666666666666666,
              "#ed7953"
             ],
             [
              0.7777777777777778,
              "#fb9f3a"
             ],
             [
              0.8888888888888888,
              "#fdca26"
             ],
             [
              1,
              "#f0f921"
             ]
            ],
            "type": "surface"
           }
          ],
          "table": [
           {
            "cells": {
             "fill": {
              "color": "#EBF0F8"
             },
             "line": {
              "color": "white"
             }
            },
            "header": {
             "fill": {
              "color": "#C8D4E3"
             },
             "line": {
              "color": "white"
             }
            },
            "type": "table"
           }
          ]
         },
         "layout": {
          "annotationdefaults": {
           "arrowcolor": "#2a3f5f",
           "arrowhead": 0,
           "arrowwidth": 1
          },
          "autotypenumbers": "strict",
          "coloraxis": {
           "colorbar": {
            "outlinewidth": 0,
            "ticks": ""
           }
          },
          "colorscale": {
           "diverging": [
            [
             0,
             "#8e0152"
            ],
            [
             0.1,
             "#c51b7d"
            ],
            [
             0.2,
             "#de77ae"
            ],
            [
             0.3,
             "#f1b6da"
            ],
            [
             0.4,
             "#fde0ef"
            ],
            [
             0.5,
             "#f7f7f7"
            ],
            [
             0.6,
             "#e6f5d0"
            ],
            [
             0.7,
             "#b8e186"
            ],
            [
             0.8,
             "#7fbc41"
            ],
            [
             0.9,
             "#4d9221"
            ],
            [
             1,
             "#276419"
            ]
           ],
           "sequential": [
            [
             0,
             "#0d0887"
            ],
            [
             0.1111111111111111,
             "#46039f"
            ],
            [
             0.2222222222222222,
             "#7201a8"
            ],
            [
             0.3333333333333333,
             "#9c179e"
            ],
            [
             0.4444444444444444,
             "#bd3786"
            ],
            [
             0.5555555555555556,
             "#d8576b"
            ],
            [
             0.6666666666666666,
             "#ed7953"
            ],
            [
             0.7777777777777778,
             "#fb9f3a"
            ],
            [
             0.8888888888888888,
             "#fdca26"
            ],
            [
             1,
             "#f0f921"
            ]
           ],
           "sequentialminus": [
            [
             0,
             "#0d0887"
            ],
            [
             0.1111111111111111,
             "#46039f"
            ],
            [
             0.2222222222222222,
             "#7201a8"
            ],
            [
             0.3333333333333333,
             "#9c179e"
            ],
            [
             0.4444444444444444,
             "#bd3786"
            ],
            [
             0.5555555555555556,
             "#d8576b"
            ],
            [
             0.6666666666666666,
             "#ed7953"
            ],
            [
             0.7777777777777778,
             "#fb9f3a"
            ],
            [
             0.8888888888888888,
             "#fdca26"
            ],
            [
             1,
             "#f0f921"
            ]
           ]
          },
          "colorway": [
           "#636efa",
           "#EF553B",
           "#00cc96",
           "#ab63fa",
           "#FFA15A",
           "#19d3f3",
           "#FF6692",
           "#B6E880",
           "#FF97FF",
           "#FECB52"
          ],
          "font": {
           "color": "#2a3f5f"
          },
          "geo": {
           "bgcolor": "white",
           "lakecolor": "white",
           "landcolor": "#E5ECF6",
           "showlakes": true,
           "showland": true,
           "subunitcolor": "white"
          },
          "hoverlabel": {
           "align": "left"
          },
          "hovermode": "closest",
          "mapbox": {
           "style": "light"
          },
          "paper_bgcolor": "white",
          "plot_bgcolor": "#E5ECF6",
          "polar": {
           "angularaxis": {
            "gridcolor": "white",
            "linecolor": "white",
            "ticks": ""
           },
           "bgcolor": "#E5ECF6",
           "radialaxis": {
            "gridcolor": "white",
            "linecolor": "white",
            "ticks": ""
           }
          },
          "scene": {
           "xaxis": {
            "backgroundcolor": "#E5ECF6",
            "gridcolor": "white",
            "gridwidth": 2,
            "linecolor": "white",
            "showbackground": true,
            "ticks": "",
            "zerolinecolor": "white"
           },
           "yaxis": {
            "backgroundcolor": "#E5ECF6",
            "gridcolor": "white",
            "gridwidth": 2,
            "linecolor": "white",
            "showbackground": true,
            "ticks": "",
            "zerolinecolor": "white"
           },
           "zaxis": {
            "backgroundcolor": "#E5ECF6",
            "gridcolor": "white",
            "gridwidth": 2,
            "linecolor": "white",
            "showbackground": true,
            "ticks": "",
            "zerolinecolor": "white"
           }
          },
          "shapedefaults": {
           "line": {
            "color": "#2a3f5f"
           }
          },
          "ternary": {
           "aaxis": {
            "gridcolor": "white",
            "linecolor": "white",
            "ticks": ""
           },
           "baxis": {
            "gridcolor": "white",
            "linecolor": "white",
            "ticks": ""
           },
           "bgcolor": "#E5ECF6",
           "caxis": {
            "gridcolor": "white",
            "linecolor": "white",
            "ticks": ""
           }
          },
          "title": {
           "x": 0.05
          },
          "xaxis": {
           "automargin": true,
           "gridcolor": "white",
           "linecolor": "white",
           "ticks": "",
           "title": {
            "standoff": 15
           },
           "zerolinecolor": "white",
           "zerolinewidth": 2
          },
          "yaxis": {
           "automargin": true,
           "gridcolor": "white",
           "linecolor": "white",
           "ticks": "",
           "title": {
            "standoff": 15
           },
           "zerolinecolor": "white",
           "zerolinewidth": 2
          }
         }
        },
        "title": {
         "text": "Difficulty Distribution",
         "x": 0.5
        },
        "width": 800,
        "xaxis": {
         "anchor": "y",
         "categoryarray": [
          "easy",
          "moderate",
          "hard",
          "very hard"
         ],
         "categoryorder": "array",
         "domain": [
          0,
          1
         ],
         "title": {
          "text": "Difficulty"
         }
        },
        "yaxis": {
         "anchor": "x",
         "domain": [
          0,
          1
         ],
         "title": {
          "text": "Count"
         }
        }
       }
      }
     },
     "metadata": {},
     "output_type": "display_data"
    }
   ],
   "source": [
    "# Plot difficulty distribution of of challenge words that doesn't contain 'r', 's' or 't'\n",
    "difficulty_distribution(challenge_words_without_r_s_t)"
   ]
  },
  {
   "cell_type": "markdown",
   "id": "bf0dbed8",
   "metadata": {},
   "source": [
    "## Null values (Incomplete games)"
   ]
  },
  {
   "cell_type": "code",
   "execution_count": 18,
   "id": "9f6b0faf",
   "metadata": {
    "ExecuteTime": {
     "end_time": "2023-12-08T16:02:12.143030Z",
     "start_time": "2023-12-08T16:02:11.747093Z"
    }
   },
   "outputs": [],
   "source": [
    "incomplete_games = (\n",
    "    simulating_tries_difficulty\n",
    "    .filter(pl.col(\"tries\").is_null())\n",
    ")"
   ]
  },
  {
   "cell_type": "code",
   "execution_count": 19,
   "id": "09466b50",
   "metadata": {
    "ExecuteTime": {
     "end_time": "2023-12-08T16:02:15.312162Z",
     "start_time": "2023-12-08T16:02:15.297501Z"
    }
   },
   "outputs": [
    {
     "data": {
      "text/html": [
       "<pre style=\"white-space:pre;overflow-x:auto;line-height:normal;font-family:Menlo,'DejaVu Sans Mono',consolas,'Courier New',monospace\"></pre>\n"
      ],
      "text/plain": []
     },
     "metadata": {},
     "output_type": "display_data"
    },
    {
     "data": {
      "text/html": [
       "<div><style>\n",
       ".dataframe > thead > tr,\n",
       ".dataframe > tbody > tr {\n",
       "  text-align: right;\n",
       "  white-space: pre-wrap;\n",
       "}\n",
       "</style>\n",
       "<small>shape: (5, 19)</small><table border=\"1\" class=\"dataframe\"><thead><tr><th>challenge</th><th>guess</th><th>letter_differences</th><th>common_letters</th><th>num_diff_letters</th><th>num_common_letters</th><th>num_matching_index</th><th>match_pattern</th><th>num_choices_after_guess</th><th>possible_guesses</th><th>challenge_in_possible_guesses</th><th>next_guess</th><th>group</th><th>tries</th><th>difficulty</th><th>guess_word_anagrams</th><th>anagram_num</th><th>anagrams</th><th>anagram_num_right</th></tr><tr><td>str</td><td>str</td><td>str</td><td>str</td><td>u8</td><td>u8</td><td>u8</td><td>str</td><td>u16</td><td>str</td><td>bool</td><td>str</td><td>u32</td><td>u8</td><td>str</td><td>str</td><td>u8</td><td>str</td><td>u8</td></tr></thead><tbody><tr><td>&quot;scaly&quot;</td><td>&quot;saint&quot;</td><td>&quot;nit&quot;</td><td>&quot;sa&quot;</td><td>3</td><td>2</td><td>1</td><td>&quot;GYBBB&quot;</td><td>171</td><td>&quot;small, share, shall, space, sp…</td><td>false</td><td>&quot;loure&quot;</td><td>11</td><td>null</td><td>&quot;very hard&quot;</td><td>&quot;saint, stain, satin, antis, na…</td><td>5</td><td>&quot;loure, roule&quot;</td><td>2</td></tr><tr><td>&quot;scaly&quot;</td><td>&quot;loure&quot;</td><td>&quot;nuieotr&quot;</td><td>&quot;sal&quot;</td><td>7</td><td>3</td><td>1</td><td>&quot;YBBBB&quot;</td><td>22</td><td>&quot;shall, small, scalp, scala, sp…</td><td>true</td><td>&quot;shall&quot;</td><td>11</td><td>null</td><td>&quot;very hard&quot;</td><td>&quot;loure, roule&quot;</td><td>2</td><td>&quot;shall&quot;</td><td>1</td></tr><tr><td>&quot;scaly&quot;</td><td>&quot;shall&quot;</td><td>&quot;nuieothr&quot;</td><td>&quot;sal&quot;</td><td>8</td><td>3</td><td>2</td><td>&quot;GBGGY&quot;</td><td>9</td><td>&quot;slack, scalp, scala, scaly, sc…</td><td>true</td><td>&quot;slack&quot;</td><td>11</td><td>null</td><td>&quot;very hard&quot;</td><td>&quot;shall&quot;</td><td>1</td><td>&quot;slack&quot;</td><td>1</td></tr><tr><td>&quot;scaly&quot;</td><td>&quot;slack&quot;</td><td>&quot;nukieothr&quot;</td><td>&quot;salc&quot;</td><td>9</td><td>4</td><td>2</td><td>&quot;GYGYB&quot;</td><td>4</td><td>&quot;scalp, scala, scaly, scald&quot;</td><td>true</td><td>&quot;scalp&quot;</td><td>11</td><td>null</td><td>&quot;very hard&quot;</td><td>&quot;slack&quot;</td><td>1</td><td>&quot;scalp, clasp&quot;</td><td>2</td></tr><tr><td>&quot;scaly&quot;</td><td>&quot;scalp&quot;</td><td>&quot;nukipeothr&quot;</td><td>&quot;salc&quot;</td><td>10</td><td>4</td><td>4</td><td>&quot;GGGGB&quot;</td><td>3</td><td>&quot;scala, scald, scaly&quot;</td><td>true</td><td>&quot;scala&quot;</td><td>11</td><td>null</td><td>&quot;very hard&quot;</td><td>&quot;scalp, clasp&quot;</td><td>2</td><td>&quot;scala&quot;</td><td>1</td></tr></tbody></table></div>"
      ],
      "text/plain": [
       "\n",
       "shape: \u001b[1m(\u001b[0m\u001b[1;36m5\u001b[0m, \u001b[1;36m19\u001b[0m\u001b[1m)\u001b[0m\n",
       "┌───────────┬───────┬────────────┬────────────┬───┬────────────┬───────────┬───────────┬───────────┐\n",
       "│ challenge ┆ guess ┆ letter_dif ┆ common_let ┆ … ┆ guess_word ┆ anagram_n ┆ anagrams  ┆ anagram_n │\n",
       "│ ---       ┆ ---   ┆ ferences   ┆ ters       ┆   ┆ _anagrams  ┆ um        ┆ ---       ┆ um_right  │\n",
       "│ str       ┆ str   ┆ ---        ┆ ---        ┆   ┆ ---        ┆ ---       ┆ str       ┆ ---       │\n",
       "│           ┆       ┆ str        ┆ str        ┆   ┆ str        ┆ u8        ┆           ┆ u8        │\n",
       "╞═══════════╪═══════╪════════════╪════════════╪═══╪════════════╪═══════════╪═══════════╪═══════════╡\n",
       "│ scaly     ┆ saint ┆ nit        ┆ sa         ┆ … ┆ saint,     ┆ \u001b[1;36m5\u001b[0m         ┆ loure,    ┆ \u001b[1;36m2\u001b[0m         │\n",
       "│           ┆       ┆            ┆            ┆   ┆ stain,     ┆           ┆ roule     ┆           │\n",
       "│           ┆       ┆            ┆            ┆   ┆ satin,     ┆           ┆           ┆           │\n",
       "│           ┆       ┆            ┆            ┆   ┆ antis, na… ┆           ┆           ┆           │\n",
       "│ scaly     ┆ loure ┆ nuieotr    ┆ sal        ┆ … ┆ loure,     ┆ \u001b[1;36m2\u001b[0m         ┆ shall     ┆ \u001b[1;36m1\u001b[0m         │\n",
       "│           ┆       ┆            ┆            ┆   ┆ roule      ┆           ┆           ┆           │\n",
       "│ scaly     ┆ shall ┆ nuieothr   ┆ sal        ┆ … ┆ shall      ┆ \u001b[1;36m1\u001b[0m         ┆ slack     ┆ \u001b[1;36m1\u001b[0m         │\n",
       "│ scaly     ┆ slack ┆ nukieothr  ┆ salc       ┆ … ┆ slack      ┆ \u001b[1;36m1\u001b[0m         ┆ scalp,    ┆ \u001b[1;36m2\u001b[0m         │\n",
       "│           ┆       ┆            ┆            ┆   ┆            ┆           ┆ clasp     ┆           │\n",
       "│ scaly     ┆ scalp ┆ nukipeothr ┆ salc       ┆ … ┆ scalp,     ┆ \u001b[1;36m2\u001b[0m         ┆ scala     ┆ \u001b[1;36m1\u001b[0m         │\n",
       "│           ┆       ┆            ┆            ┆   ┆ clasp      ┆           ┆           ┆           │\n",
       "└───────────┴───────┴────────────┴────────────┴───┴────────────┴───────────┴───────────┴───────────┘"
      ]
     },
     "execution_count": 19,
     "metadata": {},
     "output_type": "execute_result"
    }
   ],
   "source": [
    "incomplete_games.head()"
   ]
  },
  {
   "cell_type": "code",
   "execution_count": 20,
   "id": "b907a981",
   "metadata": {
    "ExecuteTime": {
     "end_time": "2023-12-08T16:02:19.355001Z",
     "start_time": "2023-12-08T16:02:19.314635Z"
    }
   },
   "outputs": [
    {
     "data": {
      "text/html": [
       "<pre style=\"white-space:pre;overflow-x:auto;line-height:normal;font-family:Menlo,'DejaVu Sans Mono',consolas,'Courier New',monospace\"></pre>\n"
      ],
      "text/plain": []
     },
     "metadata": {},
     "output_type": "display_data"
    },
    {
     "data": {
      "text/html": [
       "<table border=\"1\" class=\"dataframe\">\n",
       "  <thead>\n",
       "    <tr style=\"text-align: right;\">\n",
       "      <th></th>\n",
       "      <th>challenge</th>\n",
       "      <th>guess</th>\n",
       "      <th>match_pattern</th>\n",
       "      <th>next_guess</th>\n",
       "      <th>num_choices_after_guess</th>\n",
       "      <th>possible_guesses</th>\n",
       "      <th>difficulty</th>\n",
       "    </tr>\n",
       "  </thead>\n",
       "  <tbody>\n",
       "    <tr>\n",
       "      <th>0</th>\n",
       "      <td>wussy</td>\n",
       "      <td>saint</td>\n",
       "      <td><div style='display:inline-block; width:20px; height:20px; margin:1px; text-align:center; font-weight:bold; background-color: #FDBE02;'>s</div><div style='display:inline-block; width:20px; height:20px; margin:1px; text-align:center; font-weight:bold; background-color: black;'>a</div><div style='display:inline-block; width:20px; height:20px; margin:1px; text-align:center; font-weight:bold; background-color: black;'>i</div><div style='display:inline-block; width:20px; height:20px; margin:1px; text-align:center; font-weight:bold; background-color: black;'>n</div><div style='display:inline-block; width:20px; height:20px; margin:1px; text-align:center; font-weight:bold; background-color: black;'>t</div></td>\n",
       "      <td>loure</td>\n",
       "      <td>440</td>\n",
       "      <td>bosom, close, jesus, house, press, flush, moses, flesh, verse, horse</td>\n",
       "      <td>very hard</td>\n",
       "    </tr>\n",
       "    <tr>\n",
       "      <th>1</th>\n",
       "      <td>wussy</td>\n",
       "      <td>loure</td>\n",
       "      <td><div style='display:inline-block; width:20px; height:20px; margin:1px; text-align:center; font-weight:bold; background-color: black;'>l</div><div style='display:inline-block; width:20px; height:20px; margin:1px; text-align:center; font-weight:bold; background-color: black;'>o</div><div style='display:inline-block; width:20px; height:20px; margin:1px; text-align:center; font-weight:bold; background-color: #FDBE02;'>u</div><div style='display:inline-block; width:20px; height:20px; margin:1px; text-align:center; font-weight:bold; background-color: black;'>r</div><div style='display:inline-block; width:20px; height:20px; margin:1px; text-align:center; font-weight:bold; background-color: black;'>e</div></td>\n",
       "      <td>dusky</td>\n",
       "      <td>52</td>\n",
       "      <td>dusky, husky, bushy, humus, musky, mucus, cusps, pussy, busby, mushy</td>\n",
       "      <td>very hard</td>\n",
       "    </tr>\n",
       "    <tr>\n",
       "      <th>2</th>\n",
       "      <td>wussy</td>\n",
       "      <td>dusky</td>\n",
       "      <td><div style='display:inline-block; width:20px; height:20px; margin:1px; text-align:center; font-weight:bold; background-color: black;'>d</div><div style='display:inline-block; width:20px; height:20px; margin:1px; text-align:center; font-weight:bold; background-color: green;'>u</div><div style='display:inline-block; width:20px; height:20px; margin:1px; text-align:center; font-weight:bold; background-color: green;'>s</div><div style='display:inline-block; width:20px; height:20px; margin:1px; text-align:center; font-weight:bold; background-color: black;'>k</div><div style='display:inline-block; width:20px; height:20px; margin:1px; text-align:center; font-weight:bold; background-color: green;'>y</div></td>\n",
       "      <td>bushy</td>\n",
       "      <td>13</td>\n",
       "      <td>bushy, pussy, fussy, busby, mushy, pushy, hussy, mussy, cushy, wussy</td>\n",
       "      <td>very hard</td>\n",
       "    </tr>\n",
       "    <tr>\n",
       "      <th>3</th>\n",
       "      <td>wussy</td>\n",
       "      <td>bushy</td>\n",
       "      <td><div style='display:inline-block; width:20px; height:20px; margin:1px; text-align:center; font-weight:bold; background-color: black;'>b</div><div style='display:inline-block; width:20px; height:20px; margin:1px; text-align:center; font-weight:bold; background-color: green;'>u</div><div style='display:inline-block; width:20px; height:20px; margin:1px; text-align:center; font-weight:bold; background-color: green;'>s</div><div style='display:inline-block; width:20px; height:20px; margin:1px; text-align:center; font-weight:bold; background-color: black;'>h</div><div style='display:inline-block; width:20px; height:20px; margin:1px; text-align:center; font-weight:bold; background-color: green;'>y</div></td>\n",
       "      <td>pussy</td>\n",
       "      <td>5</td>\n",
       "      <td>pussy, fussy, mussy, wussy, gussy</td>\n",
       "      <td>very hard</td>\n",
       "    </tr>\n",
       "    <tr>\n",
       "      <th>4</th>\n",
       "      <td>wussy</td>\n",
       "      <td>pussy</td>\n",
       "      <td><div style='display:inline-block; width:20px; height:20px; margin:1px; text-align:center; font-weight:bold; background-color: black;'>p</div><div style='display:inline-block; width:20px; height:20px; margin:1px; text-align:center; font-weight:bold; background-color: green;'>u</div><div style='display:inline-block; width:20px; height:20px; margin:1px; text-align:center; font-weight:bold; background-color: green;'>s</div><div style='display:inline-block; width:20px; height:20px; margin:1px; text-align:center; font-weight:bold; background-color: green;'>s</div><div style='display:inline-block; width:20px; height:20px; margin:1px; text-align:center; font-weight:bold; background-color: green;'>y</div></td>\n",
       "      <td>fussy</td>\n",
       "      <td>4</td>\n",
       "      <td>fussy, mussy, wussy, gussy</td>\n",
       "      <td>very hard</td>\n",
       "    </tr>\n",
       "    <tr>\n",
       "      <th>5</th>\n",
       "      <td>wussy</td>\n",
       "      <td>fussy</td>\n",
       "      <td><div style='display:inline-block; width:20px; height:20px; margin:1px; text-align:center; font-weight:bold; background-color: black;'>f</div><div style='display:inline-block; width:20px; height:20px; margin:1px; text-align:center; font-weight:bold; background-color: green;'>u</div><div style='display:inline-block; width:20px; height:20px; margin:1px; text-align:center; font-weight:bold; background-color: green;'>s</div><div style='display:inline-block; width:20px; height:20px; margin:1px; text-align:center; font-weight:bold; background-color: green;'>s</div><div style='display:inline-block; width:20px; height:20px; margin:1px; text-align:center; font-weight:bold; background-color: green;'>y</div></td>\n",
       "      <td>mussy</td>\n",
       "      <td>3</td>\n",
       "      <td>mussy, wussy, gussy</td>\n",
       "      <td>very hard</td>\n",
       "    </tr>\n",
       "  </tbody>\n",
       "</table>"
      ],
      "text/plain": [
       "\u001b[1m<\u001b[0m\u001b[1;95mIPython.core.display.HTML\u001b[0m\u001b[39m object\u001b[0m\u001b[1m>\u001b[0m"
      ]
     },
     "execution_count": 20,
     "metadata": {},
     "output_type": "execute_result"
    }
   ],
   "source": [
    "null_select_group = np.random.choice(incomplete_games[\"group\"], 1, replace = False)[0]\n",
    "\n",
    "HTML(\n",
    "    incomplete_games\n",
    "    .filter(pl.col(\"group\") == null_select_group)\n",
    "    .to_pandas()\n",
    "    .assign(\n",
    "        match_pattern = lambda df_:\n",
    "        color_pattern_matching(\n",
    "            dataf=df_,\n",
    "            challenge_col=\"challenge\",\n",
    "            guess_col=\"guess\"\n",
    "        )\n",
    "    )\n",
    "    [[\n",
    "        \"challenge\", \"guess\", \"match_pattern\", \"next_guess\",\n",
    "        \"num_choices_after_guess\", \"possible_guesses\", \"difficulty\",\n",
    "    ]]\n",
    "    .to_html(escape=False)\n",
    ")"
   ]
  },
  {
   "cell_type": "code",
   "execution_count": 21,
   "id": "07a8aefd",
   "metadata": {},
   "outputs": [
    {
     "data": {
      "text/html": [
       "<pre style=\"white-space:pre;overflow-x:auto;line-height:normal;font-family:Menlo,'DejaVu Sans Mono',consolas,'Courier New',monospace\"></pre>\n"
      ],
      "text/plain": []
     },
     "metadata": {},
     "output_type": "display_data"
    },
    {
     "data": {
      "text/html": [
       "<div><style>\n",
       ".dataframe > thead > tr,\n",
       ".dataframe > tbody > tr {\n",
       "  text-align: right;\n",
       "  white-space: pre-wrap;\n",
       "}\n",
       "</style>\n",
       "<small>shape: (6, 7)</small><table border=\"1\" class=\"dataframe\"><thead><tr><th>challenge</th><th>guess</th><th>match_pattern</th><th>num_choices_after_guess</th><th>possible_guesses</th><th>challenge_in_possible_guesses</th><th>next_guess</th></tr><tr><td>str</td><td>str</td><td>str</td><td>u16</td><td>str</td><td>bool</td><td>str</td></tr></thead><tbody><tr><td>&quot;wussy&quot;</td><td>&quot;saint&quot;</td><td>&quot;YBBBB&quot;</td><td>440</td><td>&quot;bosom, close, jesus, house, pr…</td><td>false</td><td>&quot;loure&quot;</td></tr><tr><td>&quot;wussy&quot;</td><td>&quot;loure&quot;</td><td>&quot;BBYBB&quot;</td><td>52</td><td>&quot;dusky, husky, bushy, humus, mu…</td><td>false</td><td>&quot;dusky&quot;</td></tr><tr><td>&quot;wussy&quot;</td><td>&quot;dusky&quot;</td><td>&quot;BGGBG&quot;</td><td>13</td><td>&quot;bushy, pussy, fussy, busby, mu…</td><td>true</td><td>&quot;bushy&quot;</td></tr><tr><td>&quot;wussy&quot;</td><td>&quot;bushy&quot;</td><td>&quot;BGGBG&quot;</td><td>5</td><td>&quot;pussy, fussy, mussy, wussy, gu…</td><td>true</td><td>&quot;pussy&quot;</td></tr><tr><td>&quot;wussy&quot;</td><td>&quot;pussy&quot;</td><td>&quot;BGGGG&quot;</td><td>4</td><td>&quot;fussy, mussy, wussy, gussy&quot;</td><td>true</td><td>&quot;fussy&quot;</td></tr><tr><td>&quot;wussy&quot;</td><td>&quot;fussy&quot;</td><td>&quot;BGGGG&quot;</td><td>3</td><td>&quot;mussy, wussy, gussy&quot;</td><td>true</td><td>&quot;mussy&quot;</td></tr></tbody></table></div>"
      ],
      "text/plain": [
       "\n",
       "shape: \u001b[1m(\u001b[0m\u001b[1;36m6\u001b[0m, \u001b[1;36m7\u001b[0m\u001b[1m)\u001b[0m\n",
       "┌───────────┬───────┬───────────────┬────────────────┬────────────────┬───────────────┬────────────┐\n",
       "│ challenge ┆ guess ┆ match_pattern ┆ num_choices_af ┆ possible_guess ┆ challenge_in_ ┆ next_guess │\n",
       "│ ---       ┆ ---   ┆ ---           ┆ ter_guess      ┆ es             ┆ possible_gues ┆ ---        │\n",
       "│ str       ┆ str   ┆ str           ┆ ---            ┆ ---            ┆ ses           ┆ str        │\n",
       "│           ┆       ┆               ┆ u16            ┆ str            ┆ ---           ┆            │\n",
       "│           ┆       ┆               ┆                ┆                ┆ bool          ┆            │\n",
       "╞═══════════╪═══════╪═══════════════╪════════════════╪════════════════╪═══════════════╪════════════╡\n",
       "│ wussy     ┆ saint ┆ YBBBB         ┆ \u001b[1;36m440\u001b[0m            ┆ bosom, close,  ┆ false         ┆ loure      │\n",
       "│           ┆       ┆               ┆                ┆ jesus, house,  ┆               ┆            │\n",
       "│           ┆       ┆               ┆                ┆ pr…            ┆               ┆            │\n",
       "│ wussy     ┆ loure ┆ BBYBB         ┆ \u001b[1;36m52\u001b[0m             ┆ dusky, husky,  ┆ false         ┆ dusky      │\n",
       "│           ┆       ┆               ┆                ┆ bushy, humus,  ┆               ┆            │\n",
       "│           ┆       ┆               ┆                ┆ mu…            ┆               ┆            │\n",
       "│ wussy     ┆ dusky ┆ BGGBG         ┆ \u001b[1;36m13\u001b[0m             ┆ bushy, pussy,  ┆ true          ┆ bushy      │\n",
       "│           ┆       ┆               ┆                ┆ fussy, busby,  ┆               ┆            │\n",
       "│           ┆       ┆               ┆                ┆ mu…            ┆               ┆            │\n",
       "│ wussy     ┆ bushy ┆ BGGBG         ┆ \u001b[1;36m5\u001b[0m              ┆ pussy, fussy,  ┆ true          ┆ pussy      │\n",
       "│           ┆       ┆               ┆                ┆ mussy, wussy,  ┆               ┆            │\n",
       "│           ┆       ┆               ┆                ┆ gu…            ┆               ┆            │\n",
       "│ wussy     ┆ pussy ┆ BGGGG         ┆ \u001b[1;36m4\u001b[0m              ┆ fussy, mussy,  ┆ true          ┆ fussy      │\n",
       "│           ┆       ┆               ┆                ┆ wussy, gussy   ┆               ┆            │\n",
       "│ wussy     ┆ fussy ┆ BGGGG         ┆ \u001b[1;36m3\u001b[0m              ┆ mussy, wussy,  ┆ true          ┆ mussy      │\n",
       "│           ┆       ┆               ┆                ┆ gussy          ┆               ┆            │\n",
       "└───────────┴───────┴───────────────┴────────────────┴────────────────┴───────────────┴────────────┘"
      ]
     },
     "execution_count": 21,
     "metadata": {},
     "output_type": "execute_result"
    }
   ],
   "source": [
    "incomplete_games_check = (\n",
    "    incomplete_games\n",
    "    .filter(pl.col(\"group\") == null_select_group)\n",
    "    .select(\n",
    "        \"challenge\", \"guess\", \"match_pattern\", \"num_choices_after_guess\",\n",
    "        \"possible_guesses\", \"challenge_in_possible_guesses\", \"next_guess\"\n",
    "    )\n",
    ")\n",
    "\n",
    "incomplete_games_check"
   ]
  },
  {
   "cell_type": "code",
   "execution_count": 22,
   "id": "e82f0b80",
   "metadata": {},
   "outputs": [
    {
     "data": {
      "text/html": [
       "<pre style=\"white-space:pre;overflow-x:auto;line-height:normal;font-family:Menlo,'DejaVu Sans Mono',consolas,'Courier New',monospace\"></pre>\n"
      ],
      "text/plain": []
     },
     "metadata": {},
     "output_type": "display_data"
    },
    {
     "data": {
      "text/plain": [
       "\u001b[32m'bosom, close, jesus, house, press, flush, moses, flesh, verse, horse'\u001b[0m"
      ]
     },
     "execution_count": 22,
     "metadata": {},
     "output_type": "execute_result"
    }
   ],
   "source": [
    "(\n",
    "    incomplete_games_check\n",
    "    .gather_every(n=1)\n",
    "    .head(1)\n",
    "    [\"possible_guesses\"]\n",
    "    .item()\n",
    ")"
   ]
  },
  {
   "cell_type": "code",
   "execution_count": 23,
   "id": "2239a205",
   "metadata": {},
   "outputs": [
    {
     "data": {
      "text/html": [
       "<pre style=\"white-space:pre;overflow-x:auto;line-height:normal;font-family:Menlo,'DejaVu Sans Mono',consolas,'Courier New',monospace\"></pre>\n"
      ],
      "text/plain": []
     },
     "metadata": {},
     "output_type": "display_data"
    },
    {
     "data": {
      "text/plain": [
       "\u001b[32m'dusky, husky, bushy, humus, musky, mucus, cusps, pussy, busby, mushy'\u001b[0m"
      ]
     },
     "execution_count": 23,
     "metadata": {},
     "output_type": "execute_result"
    }
   ],
   "source": [
    "(\n",
    "    incomplete_games_check\n",
    "    .gather_every(n=1, offset=1)\n",
    "    .head(1)\n",
    "    [\"possible_guesses\"]\n",
    "    .item()\n",
    ")"
   ]
  },
  {
   "cell_type": "code",
   "execution_count": 24,
   "id": "c35129ae",
   "metadata": {},
   "outputs": [
    {
     "data": {
      "text/html": [
       "<pre style=\"white-space:pre;overflow-x:auto;line-height:normal;font-family:Menlo,'DejaVu Sans Mono',consolas,'Courier New',monospace\"></pre>\n"
      ],
      "text/plain": []
     },
     "metadata": {},
     "output_type": "display_data"
    },
    {
     "data": {
      "text/plain": [
       "\u001b[32m'bushy, pussy, fussy, busby, mushy, pushy, hussy, mussy, cushy, wussy'\u001b[0m"
      ]
     },
     "execution_count": 24,
     "metadata": {},
     "output_type": "execute_result"
    }
   ],
   "source": [
    "(\n",
    "    incomplete_games_check\n",
    "    .gather_every(n=1, offset=2)\n",
    "    .head(1)\n",
    "    [\"possible_guesses\"]\n",
    "    .item()\n",
    ")"
   ]
  },
  {
   "cell_type": "code",
   "execution_count": 25,
   "id": "7a502f70",
   "metadata": {},
   "outputs": [
    {
     "data": {
      "text/html": [
       "<pre style=\"white-space:pre;overflow-x:auto;line-height:normal;font-family:Menlo,'DejaVu Sans Mono',consolas,'Courier New',monospace\"></pre>\n"
      ],
      "text/plain": []
     },
     "metadata": {},
     "output_type": "display_data"
    },
    {
     "data": {
      "text/plain": [
       "\u001b[32m'pussy, fussy, mussy, wussy, gussy'\u001b[0m"
      ]
     },
     "execution_count": 25,
     "metadata": {},
     "output_type": "execute_result"
    }
   ],
   "source": [
    "(\n",
    "    incomplete_games_check\n",
    "    .gather_every(n=1, offset=3)\n",
    "    .head(1)\n",
    "    [\"possible_guesses\"]\n",
    "    .item()\n",
    ")"
   ]
  },
  {
   "cell_type": "code",
   "execution_count": 26,
   "id": "05f27d45",
   "metadata": {},
   "outputs": [
    {
     "data": {
      "text/html": [
       "<pre style=\"white-space:pre;overflow-x:auto;line-height:normal;font-family:Menlo,'DejaVu Sans Mono',consolas,'Courier New',monospace\"></pre>\n"
      ],
      "text/plain": []
     },
     "metadata": {},
     "output_type": "display_data"
    },
    {
     "data": {
      "text/plain": [
       "\u001b[32m'fussy, mussy, wussy, gussy'\u001b[0m"
      ]
     },
     "execution_count": 26,
     "metadata": {},
     "output_type": "execute_result"
    }
   ],
   "source": [
    "(\n",
    "    incomplete_games_check\n",
    "    .gather_every(n=1, offset=4)\n",
    "    .head(1)\n",
    "    [\"possible_guesses\"]\n",
    "    .item()\n",
    ")"
   ]
  },
  {
   "cell_type": "code",
   "execution_count": 27,
   "id": "ba477afa",
   "metadata": {},
   "outputs": [
    {
     "data": {
      "text/html": [
       "<pre style=\"white-space:pre;overflow-x:auto;line-height:normal;font-family:Menlo,'DejaVu Sans Mono',consolas,'Courier New',monospace\"></pre>\n"
      ],
      "text/plain": []
     },
     "metadata": {},
     "output_type": "display_data"
    },
    {
     "data": {
      "text/plain": [
       "\u001b[32m'mussy, wussy, gussy'\u001b[0m"
      ]
     },
     "execution_count": 27,
     "metadata": {},
     "output_type": "execute_result"
    }
   ],
   "source": [
    "(\n",
    "    incomplete_games_check\n",
    "    .gather_every(n=1, offset=5)\n",
    "    .head(1)\n",
    "    [\"possible_guesses\"]\n",
    "    .item()\n",
    ")"
   ]
  },
  {
   "cell_type": "markdown",
   "id": "58eeef70",
   "metadata": {},
   "source": [
    "# Challenge word statistics"
   ]
  },
  {
   "cell_type": "code",
   "execution_count": 28,
   "id": "d19e3e1b",
   "metadata": {},
   "outputs": [],
   "source": [
    "challenge_stats = (\n",
    "    simulating_tries_difficulty\n",
    "    .group_by(\"challenge\")\n",
    "    .agg(\n",
    "        tries_mode=pl.col(\"tries\").mode().cast(pl.UInt8),\n",
    "        tries_mean=(pl.col(\"tries\").mean().cast(pl.Float32)).round(3),\n",
    "        tries_null_pct=(pl.col(\"tries\").is_null().mean().cast(pl.Float32) * 100).round(3),\n",
    "    )\n",
    "    .explode(\"tries_mode\")\n",
    "    .sort(\"tries_null_pct\", descending = True)\n",
    ")"
   ]
  },
  {
   "cell_type": "code",
   "execution_count": 29,
   "id": "fc9d629c",
   "metadata": {},
   "outputs": [
    {
     "data": {
      "text/html": [
       "<pre style=\"white-space:pre;overflow-x:auto;line-height:normal;font-family:Menlo,'DejaVu Sans Mono',consolas,'Courier New',monospace\"></pre>\n"
      ],
      "text/plain": []
     },
     "metadata": {},
     "output_type": "display_data"
    },
    {
     "data": {
      "text/html": [
       "<div><style>\n",
       ".dataframe > thead > tr,\n",
       ".dataframe > tbody > tr {\n",
       "  text-align: right;\n",
       "  white-space: pre-wrap;\n",
       "}\n",
       "</style>\n",
       "<small>shape: (5, 4)</small><table border=\"1\" class=\"dataframe\"><thead><tr><th>challenge</th><th>tries_mode</th><th>tries_mean</th><th>tries_null_pct</th></tr><tr><td>str</td><td>u8</td><td>f32</td><td>f32</td></tr></thead><tbody><tr><td>&quot;taxer&quot;</td><td>null</td><td>null</td><td>100.0</td></tr><tr><td>&quot;canty&quot;</td><td>null</td><td>null</td><td>100.0</td></tr><tr><td>&quot;pudus&quot;</td><td>null</td><td>null</td><td>100.0</td></tr><tr><td>&quot;cardy&quot;</td><td>null</td><td>null</td><td>100.0</td></tr><tr><td>&quot;polys&quot;</td><td>null</td><td>null</td><td>100.0</td></tr></tbody></table></div>"
      ],
      "text/plain": [
       "\n",
       "shape: \u001b[1m(\u001b[0m\u001b[1;36m5\u001b[0m, \u001b[1;36m4\u001b[0m\u001b[1m)\u001b[0m\n",
       "┌───────────┬────────────┬────────────┬────────────────┐\n",
       "│ challenge ┆ tries_mode ┆ tries_mean ┆ tries_null_pct │\n",
       "│ ---       ┆ ---        ┆ ---        ┆ ---            │\n",
       "│ str       ┆ u8         ┆ f32        ┆ f32            │\n",
       "╞═══════════╪════════════╪════════════╪════════════════╡\n",
       "│ taxer     ┆ null       ┆ null       ┆ \u001b[1;36m100.0\u001b[0m          │\n",
       "│ canty     ┆ null       ┆ null       ┆ \u001b[1;36m100.0\u001b[0m          │\n",
       "│ pudus     ┆ null       ┆ null       ┆ \u001b[1;36m100.0\u001b[0m          │\n",
       "│ cardy     ┆ null       ┆ null       ┆ \u001b[1;36m100.0\u001b[0m          │\n",
       "│ polys     ┆ null       ┆ null       ┆ \u001b[1;36m100.0\u001b[0m          │\n",
       "└───────────┴────────────┴────────────┴────────────────┘"
      ]
     },
     "execution_count": 29,
     "metadata": {},
     "output_type": "execute_result"
    }
   ],
   "source": [
    "challenge_stats.head()"
   ]
  },
  {
   "cell_type": "code",
   "execution_count": 30,
   "id": "00b1ba63",
   "metadata": {},
   "outputs": [
    {
     "name": "stdout",
     "output_type": "stream",
     "text": [
      "Overall incompletion rate: 6.42%\n"
     ]
    }
   ],
   "source": [
    "print(f\"Overall incompletion rate: {(first_guess['tries'].is_null().sum() / first_guess.height) * 100:.2f}%\")"
   ]
  },
  {
   "cell_type": "markdown",
   "id": "60e58575",
   "metadata": {},
   "source": [
    "## Retrieve the 2nd row of every group of 6 rows."
   ]
  },
  {
   "cell_type": "markdown",
   "id": "d9b90014",
   "metadata": {},
   "source": [
    "### Determine the average number of choices remaining after the second guess. This will tell us how effective the two guess strategy is at solving the challenge word."
   ]
  },
  {
   "cell_type": "code",
   "execution_count": 31,
   "id": "d6450149",
   "metadata": {},
   "outputs": [],
   "source": [
    "second_guess_df = (\n",
    "    simulating_tries_difficulty\n",
    "    .with_row_index(name=\"row_num\")\n",
    "    .filter(\n",
    "        (pl.col(\"row_num\") % 6 == 1) &\n",
    "        ~(pl.col(\"guess\") == \"saint\") # remove instance where 'saint' as first guess is correct\n",
    "    )\n",
    "    .drop(\"row_num\")\n",
    ")"
   ]
  },
  {
   "cell_type": "code",
   "execution_count": 32,
   "id": "7fde8bb8",
   "metadata": {},
   "outputs": [
    {
     "data": {
      "text/html": [
       "<pre style=\"white-space:pre;overflow-x:auto;line-height:normal;font-family:Menlo,'DejaVu Sans Mono',consolas,'Courier New',monospace\"></pre>\n"
      ],
      "text/plain": []
     },
     "metadata": {},
     "output_type": "display_data"
    },
    {
     "data": {
      "text/html": [
       "<div><style>\n",
       ".dataframe > thead > tr,\n",
       ".dataframe > tbody > tr {\n",
       "  text-align: right;\n",
       "  white-space: pre-wrap;\n",
       "}\n",
       "</style>\n",
       "<small>shape: (5, 19)</small><table border=\"1\" class=\"dataframe\"><thead><tr><th>challenge</th><th>guess</th><th>letter_differences</th><th>common_letters</th><th>num_diff_letters</th><th>num_common_letters</th><th>num_matching_index</th><th>match_pattern</th><th>num_choices_after_guess</th><th>possible_guesses</th><th>challenge_in_possible_guesses</th><th>next_guess</th><th>group</th><th>tries</th><th>difficulty</th><th>guess_word_anagrams</th><th>anagram_num</th><th>anagrams</th><th>anagram_num_right</th></tr><tr><td>str</td><td>str</td><td>str</td><td>str</td><td>u8</td><td>u8</td><td>u8</td><td>str</td><td>u16</td><td>str</td><td>bool</td><td>str</td><td>u32</td><td>u8</td><td>str</td><td>str</td><td>u8</td><td>str</td><td>u8</td></tr></thead><tbody><tr><td>&quot;yummy&quot;</td><td>&quot;loure&quot;</td><td>&quot;nisaetolr&quot;</td><td>&quot;u&quot;</td><td>9</td><td>1</td><td>0</td><td>&quot;BBYBB&quot;</td><td>56</td><td>&quot;dummy, fuzzy, muddy, puppy, bu…</td><td>false</td><td>&quot;dummy&quot;</td><td>0</td><td>5</td><td>&quot;hard&quot;</td><td>&quot;loure, roule&quot;</td><td>2</td><td>&quot;dummy&quot;</td><td>1</td></tr><tr><td>&quot;calyx&quot;</td><td>&quot;loure&quot;</td><td>&quot;nuisetor&quot;</td><td>&quot;al&quot;</td><td>8</td><td>2</td><td>1</td><td>&quot;YBBBB&quot;</td><td>44</td><td>&quot;palmy, papal, wally, badly, ma…</td><td>true</td><td>&quot;palmy&quot;</td><td>1</td><td>4</td><td>&quot;moderate&quot;</td><td>&quot;loure, roule&quot;</td><td>2</td><td>null</td><td>null</td></tr><tr><td>&quot;varas&quot;</td><td>&quot;loure&quot;</td><td>&quot;nuietol&quot;</td><td>&quot;sar&quot;</td><td>7</td><td>3</td><td>1</td><td>&quot;BBBYB&quot;</td><td>21</td><td>&quot;harsh, marsh, rajas, warps, ra…</td><td>true</td><td>&quot;harsh&quot;</td><td>2</td><td>5</td><td>&quot;hard&quot;</td><td>&quot;loure, roule&quot;</td><td>2</td><td>&quot;harsh&quot;</td><td>1</td></tr><tr><td>&quot;bubba&quot;</td><td>&quot;loure&quot;</td><td>&quot;nisetolr&quot;</td><td>&quot;au&quot;</td><td>8</td><td>2</td><td>0</td><td>&quot;BBYBB&quot;</td><td>21</td><td>&quot;quack, yucca, bubba, guava, gu…</td><td>true</td><td>&quot;quack&quot;</td><td>3</td><td>4</td><td>&quot;moderate&quot;</td><td>&quot;loure, roule&quot;</td><td>2</td><td>&quot;quack&quot;</td><td>1</td></tr><tr><td>&quot;lowes&quot;</td><td>&quot;loure&quot;</td><td>&quot;nuiatr&quot;</td><td>&quot;sloe&quot;</td><td>6</td><td>4</td><td>2</td><td>&quot;GGBBY&quot;</td><td>4</td><td>&quot;loess, lowes, losel, lomes&quot;</td><td>true</td><td>&quot;loess&quot;</td><td>4</td><td>4</td><td>&quot;moderate&quot;</td><td>&quot;loure, roule&quot;</td><td>2</td><td>&quot;loess&quot;</td><td>1</td></tr></tbody></table></div>"
      ],
      "text/plain": [
       "\n",
       "shape: \u001b[1m(\u001b[0m\u001b[1;36m5\u001b[0m, \u001b[1;36m19\u001b[0m\u001b[1m)\u001b[0m\n",
       "┌───────────┬───────┬────────────┬────────────┬───┬────────────┬────────────┬──────────┬───────────┐\n",
       "│ challenge ┆ guess ┆ letter_dif ┆ common_let ┆ … ┆ guess_word ┆ anagram_nu ┆ anagrams ┆ anagram_n │\n",
       "│ ---       ┆ ---   ┆ ferences   ┆ ters       ┆   ┆ _anagrams  ┆ m          ┆ ---      ┆ um_right  │\n",
       "│ str       ┆ str   ┆ ---        ┆ ---        ┆   ┆ ---        ┆ ---        ┆ str      ┆ ---       │\n",
       "│           ┆       ┆ str        ┆ str        ┆   ┆ str        ┆ u8         ┆          ┆ u8        │\n",
       "╞═══════════╪═══════╪════════════╪════════════╪═══╪════════════╪════════════╪══════════╪═══════════╡\n",
       "│ yummy     ┆ loure ┆ nisaetolr  ┆ u          ┆ … ┆ loure,     ┆ \u001b[1;36m2\u001b[0m          ┆ dummy    ┆ \u001b[1;36m1\u001b[0m         │\n",
       "│           ┆       ┆            ┆            ┆   ┆ roule      ┆            ┆          ┆           │\n",
       "│ calyx     ┆ loure ┆ nuisetor   ┆ al         ┆ … ┆ loure,     ┆ \u001b[1;36m2\u001b[0m          ┆ null     ┆ null      │\n",
       "│           ┆       ┆            ┆            ┆   ┆ roule      ┆            ┆          ┆           │\n",
       "│ varas     ┆ loure ┆ nuietol    ┆ sar        ┆ … ┆ loure,     ┆ \u001b[1;36m2\u001b[0m          ┆ harsh    ┆ \u001b[1;36m1\u001b[0m         │\n",
       "│           ┆       ┆            ┆            ┆   ┆ roule      ┆            ┆          ┆           │\n",
       "│ bubba     ┆ loure ┆ nisetolr   ┆ au         ┆ … ┆ loure,     ┆ \u001b[1;36m2\u001b[0m          ┆ quack    ┆ \u001b[1;36m1\u001b[0m         │\n",
       "│           ┆       ┆            ┆            ┆   ┆ roule      ┆            ┆          ┆           │\n",
       "│ lowes     ┆ loure ┆ nuiatr     ┆ sloe       ┆ … ┆ loure,     ┆ \u001b[1;36m2\u001b[0m          ┆ loess    ┆ \u001b[1;36m1\u001b[0m         │\n",
       "│           ┆       ┆            ┆            ┆   ┆ roule      ┆            ┆          ┆           │\n",
       "└───────────┴───────┴────────────┴────────────┴───┴────────────┴────────────┴──────────┴───────────┘"
      ]
     },
     "execution_count": 32,
     "metadata": {},
     "output_type": "execute_result"
    }
   ],
   "source": [
    "second_guess_df.head()"
   ]
  },
  {
   "cell_type": "code",
   "execution_count": 33,
   "id": "3ab3c70f",
   "metadata": {},
   "outputs": [
    {
     "data": {
      "text/html": [
       "<pre style=\"white-space:pre;overflow-x:auto;line-height:normal;font-family:Menlo,'DejaVu Sans Mono',consolas,'Courier New',monospace\"></pre>\n"
      ],
      "text/plain": []
     },
     "metadata": {},
     "output_type": "display_data"
    },
    {
     "data": {
      "text/html": [
       "<div><style>\n",
       ".dataframe > thead > tr,\n",
       ".dataframe > tbody > tr {\n",
       "  text-align: right;\n",
       "  white-space: pre-wrap;\n",
       "}\n",
       "</style>\n",
       "<small>shape: (5, 19)</small><table border=\"1\" class=\"dataframe\"><thead><tr><th>challenge</th><th>guess</th><th>letter_differences</th><th>common_letters</th><th>num_diff_letters</th><th>num_common_letters</th><th>num_matching_index</th><th>match_pattern</th><th>num_choices_after_guess</th><th>possible_guesses</th><th>challenge_in_possible_guesses</th><th>next_guess</th><th>group</th><th>tries</th><th>difficulty</th><th>guess_word_anagrams</th><th>anagram_num</th><th>anagrams</th><th>anagram_num_right</th></tr><tr><td>str</td><td>str</td><td>str</td><td>str</td><td>u8</td><td>u8</td><td>u8</td><td>str</td><td>u16</td><td>str</td><td>bool</td><td>str</td><td>u32</td><td>u8</td><td>str</td><td>str</td><td>u8</td><td>str</td><td>u8</td></tr></thead><tbody><tr><td>&quot;yummy&quot;</td><td>&quot;loure&quot;</td><td>&quot;nisaetolr&quot;</td><td>&quot;u&quot;</td><td>9</td><td>1</td><td>0</td><td>&quot;BBYBB&quot;</td><td>56</td><td>&quot;dummy, fuzzy, muddy, puppy, bu…</td><td>false</td><td>&quot;dummy&quot;</td><td>0</td><td>5</td><td>&quot;hard&quot;</td><td>&quot;loure, roule&quot;</td><td>2</td><td>&quot;dummy&quot;</td><td>1</td></tr><tr><td>&quot;calyx&quot;</td><td>&quot;loure&quot;</td><td>&quot;nuisetor&quot;</td><td>&quot;al&quot;</td><td>8</td><td>2</td><td>1</td><td>&quot;YBBBB&quot;</td><td>44</td><td>&quot;palmy, papal, wally, badly, ma…</td><td>true</td><td>&quot;palmy&quot;</td><td>1</td><td>4</td><td>&quot;moderate&quot;</td><td>&quot;loure, roule&quot;</td><td>2</td><td>null</td><td>null</td></tr><tr><td>&quot;varas&quot;</td><td>&quot;loure&quot;</td><td>&quot;nuietol&quot;</td><td>&quot;sar&quot;</td><td>7</td><td>3</td><td>1</td><td>&quot;BBBYB&quot;</td><td>21</td><td>&quot;harsh, marsh, rajas, warps, ra…</td><td>true</td><td>&quot;harsh&quot;</td><td>2</td><td>5</td><td>&quot;hard&quot;</td><td>&quot;loure, roule&quot;</td><td>2</td><td>&quot;harsh&quot;</td><td>1</td></tr><tr><td>&quot;bubba&quot;</td><td>&quot;loure&quot;</td><td>&quot;nisetolr&quot;</td><td>&quot;au&quot;</td><td>8</td><td>2</td><td>0</td><td>&quot;BBYBB&quot;</td><td>21</td><td>&quot;quack, yucca, bubba, guava, gu…</td><td>true</td><td>&quot;quack&quot;</td><td>3</td><td>4</td><td>&quot;moderate&quot;</td><td>&quot;loure, roule&quot;</td><td>2</td><td>&quot;quack&quot;</td><td>1</td></tr><tr><td>&quot;lowes&quot;</td><td>&quot;loure&quot;</td><td>&quot;nuiatr&quot;</td><td>&quot;sloe&quot;</td><td>6</td><td>4</td><td>2</td><td>&quot;GGBBY&quot;</td><td>4</td><td>&quot;loess, lowes, losel, lomes&quot;</td><td>true</td><td>&quot;loess&quot;</td><td>4</td><td>4</td><td>&quot;moderate&quot;</td><td>&quot;loure, roule&quot;</td><td>2</td><td>&quot;loess&quot;</td><td>1</td></tr></tbody></table></div>"
      ],
      "text/plain": [
       "\n",
       "shape: \u001b[1m(\u001b[0m\u001b[1;36m5\u001b[0m, \u001b[1;36m19\u001b[0m\u001b[1m)\u001b[0m\n",
       "┌───────────┬───────┬────────────┬────────────┬───┬────────────┬────────────┬──────────┬───────────┐\n",
       "│ challenge ┆ guess ┆ letter_dif ┆ common_let ┆ … ┆ guess_word ┆ anagram_nu ┆ anagrams ┆ anagram_n │\n",
       "│ ---       ┆ ---   ┆ ferences   ┆ ters       ┆   ┆ _anagrams  ┆ m          ┆ ---      ┆ um_right  │\n",
       "│ str       ┆ str   ┆ ---        ┆ ---        ┆   ┆ ---        ┆ ---        ┆ str      ┆ ---       │\n",
       "│           ┆       ┆ str        ┆ str        ┆   ┆ str        ┆ u8         ┆          ┆ u8        │\n",
       "╞═══════════╪═══════╪════════════╪════════════╪═══╪════════════╪════════════╪══════════╪═══════════╡\n",
       "│ yummy     ┆ loure ┆ nisaetolr  ┆ u          ┆ … ┆ loure,     ┆ \u001b[1;36m2\u001b[0m          ┆ dummy    ┆ \u001b[1;36m1\u001b[0m         │\n",
       "│           ┆       ┆            ┆            ┆   ┆ roule      ┆            ┆          ┆           │\n",
       "│ calyx     ┆ loure ┆ nuisetor   ┆ al         ┆ … ┆ loure,     ┆ \u001b[1;36m2\u001b[0m          ┆ null     ┆ null      │\n",
       "│           ┆       ┆            ┆            ┆   ┆ roule      ┆            ┆          ┆           │\n",
       "│ varas     ┆ loure ┆ nuietol    ┆ sar        ┆ … ┆ loure,     ┆ \u001b[1;36m2\u001b[0m          ┆ harsh    ┆ \u001b[1;36m1\u001b[0m         │\n",
       "│           ┆       ┆            ┆            ┆   ┆ roule      ┆            ┆          ┆           │\n",
       "│ bubba     ┆ loure ┆ nisetolr   ┆ au         ┆ … ┆ loure,     ┆ \u001b[1;36m2\u001b[0m          ┆ quack    ┆ \u001b[1;36m1\u001b[0m         │\n",
       "│           ┆       ┆            ┆            ┆   ┆ roule      ┆            ┆          ┆           │\n",
       "│ lowes     ┆ loure ┆ nuiatr     ┆ sloe       ┆ … ┆ loure,     ┆ \u001b[1;36m2\u001b[0m          ┆ loess    ┆ \u001b[1;36m1\u001b[0m         │\n",
       "│           ┆       ┆            ┆            ┆   ┆ roule      ┆            ┆          ┆           │\n",
       "└───────────┴───────┴────────────┴────────────┴───┴────────────┴────────────┴──────────┴───────────┘"
      ]
     },
     "execution_count": 33,
     "metadata": {},
     "output_type": "execute_result"
    }
   ],
   "source": [
    "# More efficiently \n",
    "second_guess_df_2 = (\n",
    "    simulating_tries_difficulty\n",
    "    .gather_every(n=6, offset=1)\n",
    "    .filter(~(pl.col(\"guess\") == \"saint\")) # remove instance where 'saint' as first guess is correct\n",
    ")\n",
    "\n",
    "second_guess_df_2.head()"
   ]
  },
  {
   "cell_type": "code",
   "execution_count": 34,
   "id": "cfbeee20",
   "metadata": {},
   "outputs": [
    {
     "name": "stdout",
     "output_type": "stream",
     "text": [
      "Avg num choices after 2nd guess: 15.68\n"
     ]
    }
   ],
   "source": [
    "print(f'Avg num choices after 2nd guess: {round(second_guess_df_2[\"num_choices_after_guess\"].mean(), 2)}')"
   ]
  },
  {
   "cell_type": "markdown",
   "id": "97a96540",
   "metadata": {},
   "source": [
    "### Greatest num of choices left after second guess"
   ]
  },
  {
   "cell_type": "code",
   "execution_count": 35,
   "id": "6f17632a",
   "metadata": {},
   "outputs": [
    {
     "data": {
      "text/html": [
       "<pre style=\"white-space:pre;overflow-x:auto;line-height:normal;font-family:Menlo,'DejaVu Sans Mono',consolas,'Courier New',monospace\"></pre>\n"
      ],
      "text/plain": []
     },
     "metadata": {},
     "output_type": "display_data"
    },
    {
     "data": {
      "text/plain": [
       "\u001b[1;36m81\u001b[0m"
      ]
     },
     "execution_count": 35,
     "metadata": {},
     "output_type": "execute_result"
    }
   ],
   "source": [
    "max_num_choices_after_2nd_guess = (\n",
    "    second_guess_df_2\n",
    "    .sort(\"num_choices_after_guess\", descending=True)\n",
    "    [\"num_choices_after_guess\"]\n",
    "    .head(1)\n",
    "    .item()\n",
    ")\n",
    "\n",
    "max_num_choices_after_2nd_guess"
   ]
  },
  {
   "cell_type": "code",
   "execution_count": 36,
   "id": "be0d6b6e",
   "metadata": {},
   "outputs": [
    {
     "data": {
      "text/html": [
       "<pre style=\"white-space:pre;overflow-x:auto;line-height:normal;font-family:Menlo,'DejaVu Sans Mono',consolas,'Courier New',monospace\"></pre>\n"
      ],
      "text/plain": []
     },
     "metadata": {},
     "output_type": "display_data"
    },
    {
     "data": {
      "text/plain": [
       "\n",
       "\u001b[1;35marray\u001b[0m\u001b[1m(\u001b[0m\u001b[1m[\u001b[0m\u001b[32m'booby'\u001b[0m, \u001b[32m'foody'\u001b[0m, \u001b[32m'boody'\u001b[0m, \u001b[32m'woofy'\u001b[0m, \u001b[32m'booky'\u001b[0m, \u001b[32m'doomy'\u001b[0m, \u001b[32m'coppy'\u001b[0m,\n",
       "       \u001b[32m'moppy'\u001b[0m, \u001b[32m'dodgy'\u001b[0m, \u001b[32m'gooky'\u001b[0m, \u001b[32m'boomy'\u001b[0m, \u001b[32m'doody'\u001b[0m, \u001b[32m'howff'\u001b[0m, \u001b[32m'dobby'\u001b[0m,\n",
       "       \u001b[32m'howdy'\u001b[0m, \u001b[32m'poovy'\u001b[0m, \u001b[32m'poboy'\u001b[0m, \u001b[32m'podgy'\u001b[0m, \u001b[32m'cohog'\u001b[0m, \u001b[32m'cobby'\u001b[0m, \u001b[32m'goopy'\u001b[0m,\n",
       "       \u001b[32m'bobby'\u001b[0m, \u001b[32m'comby'\u001b[0m, \u001b[32m'doggy'\u001b[0m, \u001b[32m'gooby'\u001b[0m, \u001b[32m'zocco'\u001b[0m, \u001b[32m'doddy'\u001b[0m, \u001b[32m'mobby'\u001b[0m,\n",
       "       \u001b[32m'boozy'\u001b[0m, \u001b[32m'poddy'\u001b[0m, \u001b[32m'pommy'\u001b[0m, \u001b[32m'moggy'\u001b[0m, \u001b[32m'compo'\u001b[0m, \u001b[32m'gobby'\u001b[0m, \u001b[32m'commy'\u001b[0m,\n",
       "       \u001b[32m'oomph'\u001b[0m, \u001b[32m'cocco'\u001b[0m, \u001b[32m'doggo'\u001b[0m, \u001b[32m'dohyo'\u001b[0m, \u001b[32m'woozy'\u001b[0m, \u001b[32m'comfy'\u001b[0m, \u001b[32m'zoppo'\u001b[0m,\n",
       "       \u001b[32m'foggy'\u001b[0m, \u001b[32m'boogy'\u001b[0m, \u001b[32m'doozy'\u001b[0m, \u001b[32m'goody'\u001b[0m, \u001b[32m'coomy'\u001b[0m, \u001b[32m'gombo'\u001b[0m, \u001b[32m'boofy'\u001b[0m,\n",
       "       \u001b[32m'pozzy'\u001b[0m, \u001b[32m'pooch'\u001b[0m, \u001b[32m'poppy'\u001b[0m, \u001b[32m'hoody'\u001b[0m, \u001b[32m'gobbo'\u001b[0m, \u001b[32m'boggy'\u001b[0m, \u001b[32m'coomb'\u001b[0m,\n",
       "       \u001b[32m'hobby'\u001b[0m, \u001b[32m'dowdy'\u001b[0m, \u001b[32m'poofy'\u001b[0m, \u001b[32m'hooky'\u001b[0m, \u001b[32m'cooky'\u001b[0m, \u001b[32m'cocky'\u001b[0m, \u001b[32m'goofy'\u001b[0m,\n",
       "       \u001b[32m'mommy'\u001b[0m, \u001b[32m'moody'\u001b[0m, \u001b[32m'boffo'\u001b[0m, \u001b[32m'vozhd'\u001b[0m, \u001b[32m'womby'\u001b[0m, \u001b[32m'kooky'\u001b[0m, \u001b[32m'yobbo'\u001b[0m,\n",
       "       \u001b[32m'cooch'\u001b[0m, \u001b[32m'woody'\u001b[0m, \u001b[32m'combo'\u001b[0m, \u001b[32m'pocky'\u001b[0m, \u001b[32m'mooch'\u001b[0m, \u001b[32m'jocko'\u001b[0m, \u001b[32m'bombo'\u001b[0m,\n",
       "       \u001b[32m'hoppy'\u001b[0m, \u001b[32m'mochy'\u001b[0m, \u001b[32m'commo'\u001b[0m, \u001b[32m'hooch'\u001b[0m\u001b[1m]\u001b[0m, \u001b[33mdtype\u001b[0m=\u001b[35mobject\u001b[0m\u001b[1m)\u001b[0m"
      ]
     },
     "execution_count": 36,
     "metadata": {},
     "output_type": "execute_result"
    }
   ],
   "source": [
    "(\n",
    "    second_guess_df_2\n",
    "    .filter(pl.col(\"num_choices_after_guess\") == max_num_choices_after_2nd_guess)\n",
    "    [\"challenge\"]\n",
    "    .unique()\n",
    "    .to_numpy()\n",
    ")"
   ]
  },
  {
   "cell_type": "markdown",
   "id": "7b21ef4a",
   "metadata": {},
   "source": [
    "### How often on average is the challenge word in the possible choices after the second guess"
   ]
  },
  {
   "cell_type": "code",
   "execution_count": 37,
   "id": "dee3abbd",
   "metadata": {},
   "outputs": [
    {
     "name": "stdout",
     "output_type": "stream",
     "text": [
      "Avg times challenge in possible guesses: 75.72%\n"
     ]
    }
   ],
   "source": [
    "print(f'Avg times challenge in possible guesses: {round(second_guess_df_2[\"challenge_in_possible_guesses\"].mean() * 100, 2)}%')"
   ]
  },
  {
   "cell_type": "code",
   "execution_count": 38,
   "id": "b5a9c6f2",
   "metadata": {},
   "outputs": [
    {
     "data": {
      "text/html": [
       "<pre style=\"white-space:pre;overflow-x:auto;line-height:normal;font-family:Menlo,'DejaVu Sans Mono',consolas,'Courier New',monospace\"></pre>\n"
      ],
      "text/plain": []
     },
     "metadata": {},
     "output_type": "display_data"
    },
    {
     "data": {
      "text/html": [
       "<div><style>\n",
       ".dataframe > thead > tr,\n",
       ".dataframe > tbody > tr {\n",
       "  text-align: right;\n",
       "  white-space: pre-wrap;\n",
       "}\n",
       "</style>\n",
       "<small>shape: (6, 19)</small><table border=\"1\" class=\"dataframe\"><thead><tr><th>challenge</th><th>guess</th><th>letter_differences</th><th>common_letters</th><th>num_diff_letters</th><th>num_common_letters</th><th>num_matching_index</th><th>match_pattern</th><th>num_choices_after_guess</th><th>possible_guesses</th><th>challenge_in_possible_guesses</th><th>next_guess</th><th>group</th><th>tries</th><th>difficulty</th><th>guess_word_anagrams</th><th>anagram_num</th><th>anagrams</th><th>anagram_num_right</th></tr><tr><td>str</td><td>str</td><td>str</td><td>str</td><td>u8</td><td>u8</td><td>u8</td><td>str</td><td>u16</td><td>str</td><td>bool</td><td>str</td><td>u32</td><td>u8</td><td>str</td><td>str</td><td>u8</td><td>str</td><td>u8</td></tr></thead><tbody><tr><td>&quot;hound&quot;</td><td>&quot;saint&quot;</td><td>&quot;atis&quot;</td><td>&quot;n&quot;</td><td>4</td><td>1</td><td>1</td><td>&quot;BBBGB&quot;</td><td>111</td><td>&quot;young, drunk, pound, blend, ro…</td><td>false</td><td>&quot;loure&quot;</td><td>2248</td><td>null</td><td>&quot;very hard&quot;</td><td>&quot;saint, stain, satin, antis, na…</td><td>5</td><td>&quot;loure, roule&quot;</td><td>2</td></tr><tr><td>&quot;hound&quot;</td><td>&quot;loure&quot;</td><td>&quot;isaetlr&quot;</td><td>&quot;nou&quot;</td><td>7</td><td>3</td><td>3</td><td>&quot;BGGBB&quot;</td><td>6</td><td>&quot;young, wound, pound, mound, ho…</td><td>true</td><td>&quot;young&quot;</td><td>2248</td><td>null</td><td>&quot;very hard&quot;</td><td>&quot;loure, roule&quot;</td><td>2</td><td>&quot;young&quot;</td><td>1</td></tr><tr><td>&quot;hound&quot;</td><td>&quot;young&quot;</td><td>&quot;yisaetlrg&quot;</td><td>&quot;nou&quot;</td><td>9</td><td>3</td><td>3</td><td>&quot;BGGGB&quot;</td><td>4</td><td>&quot;wound, pound, mound, hound&quot;</td><td>true</td><td>&quot;wound&quot;</td><td>2248</td><td>null</td><td>&quot;very hard&quot;</td><td>&quot;young&quot;</td><td>1</td><td>&quot;wound&quot;</td><td>1</td></tr><tr><td>&quot;hound&quot;</td><td>&quot;wound&quot;</td><td>&quot;wyisaetlrg&quot;</td><td>&quot;noud&quot;</td><td>10</td><td>4</td><td>4</td><td>&quot;BGGGG&quot;</td><td>3</td><td>&quot;pound, mound, hound&quot;</td><td>true</td><td>&quot;pound&quot;</td><td>2248</td><td>null</td><td>&quot;very hard&quot;</td><td>&quot;wound&quot;</td><td>1</td><td>&quot;pound&quot;</td><td>1</td></tr><tr><td>&quot;hound&quot;</td><td>&quot;pound&quot;</td><td>&quot;wyispaetlrg&quot;</td><td>&quot;noud&quot;</td><td>11</td><td>4</td><td>4</td><td>&quot;BGGGG&quot;</td><td>2</td><td>&quot;mound, hound&quot;</td><td>true</td><td>&quot;mound&quot;</td><td>2248</td><td>null</td><td>&quot;very hard&quot;</td><td>&quot;pound&quot;</td><td>1</td><td>&quot;mound&quot;</td><td>1</td></tr><tr><td>&quot;hound&quot;</td><td>&quot;mound&quot;</td><td>&quot;wyispaetlmrg&quot;</td><td>&quot;noud&quot;</td><td>12</td><td>4</td><td>4</td><td>&quot;BGGGG&quot;</td><td>1</td><td>&quot;hound&quot;</td><td>true</td><td>&quot;hound&quot;</td><td>2248</td><td>null</td><td>&quot;very hard&quot;</td><td>&quot;mound&quot;</td><td>1</td><td>&quot;hound&quot;</td><td>1</td></tr></tbody></table></div>"
      ],
      "text/plain": [
       "\n",
       "shape: \u001b[1m(\u001b[0m\u001b[1;36m6\u001b[0m, \u001b[1;36m19\u001b[0m\u001b[1m)\u001b[0m\n",
       "┌───────────┬───────┬────────────┬────────────┬───┬────────────┬───────────┬───────────┬───────────┐\n",
       "│ challenge ┆ guess ┆ letter_dif ┆ common_let ┆ … ┆ guess_word ┆ anagram_n ┆ anagrams  ┆ anagram_n │\n",
       "│ ---       ┆ ---   ┆ ferences   ┆ ters       ┆   ┆ _anagrams  ┆ um        ┆ ---       ┆ um_right  │\n",
       "│ str       ┆ str   ┆ ---        ┆ ---        ┆   ┆ ---        ┆ ---       ┆ str       ┆ ---       │\n",
       "│           ┆       ┆ str        ┆ str        ┆   ┆ str        ┆ u8        ┆           ┆ u8        │\n",
       "╞═══════════╪═══════╪════════════╪════════════╪═══╪════════════╪═══════════╪═══════════╪═══════════╡\n",
       "│ hound     ┆ saint ┆ atis       ┆ n          ┆ … ┆ saint,     ┆ \u001b[1;36m5\u001b[0m         ┆ loure,    ┆ \u001b[1;36m2\u001b[0m         │\n",
       "│           ┆       ┆            ┆            ┆   ┆ stain,     ┆           ┆ roule     ┆           │\n",
       "│           ┆       ┆            ┆            ┆   ┆ satin,     ┆           ┆           ┆           │\n",
       "│           ┆       ┆            ┆            ┆   ┆ antis, na… ┆           ┆           ┆           │\n",
       "│ hound     ┆ loure ┆ isaetlr    ┆ nou        ┆ … ┆ loure,     ┆ \u001b[1;36m2\u001b[0m         ┆ young     ┆ \u001b[1;36m1\u001b[0m         │\n",
       "│           ┆       ┆            ┆            ┆   ┆ roule      ┆           ┆           ┆           │\n",
       "│ hound     ┆ young ┆ yisaetlrg  ┆ nou        ┆ … ┆ young      ┆ \u001b[1;36m1\u001b[0m         ┆ wound     ┆ \u001b[1;36m1\u001b[0m         │\n",
       "│ hound     ┆ wound ┆ wyisaetlrg ┆ noud       ┆ … ┆ wound      ┆ \u001b[1;36m1\u001b[0m         ┆ pound     ┆ \u001b[1;36m1\u001b[0m         │\n",
       "│ hound     ┆ pound ┆ wyispaetlr ┆ noud       ┆ … ┆ pound      ┆ \u001b[1;36m1\u001b[0m         ┆ mound     ┆ \u001b[1;36m1\u001b[0m         │\n",
       "│           ┆       ┆ g          ┆            ┆   ┆            ┆           ┆           ┆           │\n",
       "│ hound     ┆ mound ┆ wyispaetlm ┆ noud       ┆ … ┆ mound      ┆ \u001b[1;36m1\u001b[0m         ┆ hound     ┆ \u001b[1;36m1\u001b[0m         │\n",
       "│           ┆       ┆ rg         ┆            ┆   ┆            ┆           ┆           ┆           │\n",
       "└───────────┴───────┴────────────┴────────────┴───┴────────────┴───────────┴───────────┴───────────┘"
      ]
     },
     "execution_count": 38,
     "metadata": {},
     "output_type": "execute_result"
    }
   ],
   "source": [
    "(\n",
    "    simulating_tries_difficulty\n",
    "    .filter(pl.col(\"challenge\") == \"hound\")\n",
    ")"
   ]
  },
  {
   "cell_type": "code",
   "execution_count": 39,
   "id": "67c591b7",
   "metadata": {},
   "outputs": [
    {
     "data": {
      "text/html": [
       "<pre style=\"white-space:pre;overflow-x:auto;line-height:normal;font-family:Menlo,'DejaVu Sans Mono',consolas,'Courier New',monospace\"></pre>\n"
      ],
      "text/plain": []
     },
     "metadata": {},
     "output_type": "display_data"
    },
    {
     "data": {
      "text/html": [
       "<table border=\"1\" class=\"dataframe\">\n",
       "  <thead>\n",
       "    <tr style=\"text-align: right;\">\n",
       "      <th></th>\n",
       "      <th>challenge</th>\n",
       "      <th>guess</th>\n",
       "      <th>match_pattern</th>\n",
       "      <th>next_guess</th>\n",
       "      <th>num_choices_after_guess</th>\n",
       "      <th>possible_guesses</th>\n",
       "      <th>difficulty</th>\n",
       "    </tr>\n",
       "  </thead>\n",
       "  <tbody>\n",
       "    <tr>\n",
       "      <th>0</th>\n",
       "      <td>hound</td>\n",
       "      <td>saint</td>\n",
       "      <td><div style='display:inline-block; width:20px; height:20px; margin:1px; text-align:center; font-weight:bold; background-color: black;'>s</div><div style='display:inline-block; width:20px; height:20px; margin:1px; text-align:center; font-weight:bold; background-color: black;'>a</div><div style='display:inline-block; width:20px; height:20px; margin:1px; text-align:center; font-weight:bold; background-color: black;'>i</div><div style='display:inline-block; width:20px; height:20px; margin:1px; text-align:center; font-weight:bold; background-color: green;'>n</div><div style='display:inline-block; width:20px; height:20px; margin:1px; text-align:center; font-weight:bold; background-color: black;'>t</div></td>\n",
       "      <td>loure</td>\n",
       "      <td>111</td>\n",
       "      <td>young, drunk, pound, blend, round, prune, wrong, bonne, penny, wound</td>\n",
       "      <td>very hard</td>\n",
       "    </tr>\n",
       "    <tr>\n",
       "      <th>1</th>\n",
       "      <td>hound</td>\n",
       "      <td>loure</td>\n",
       "      <td><div style='display:inline-block; width:20px; height:20px; margin:1px; text-align:center; font-weight:bold; background-color: black;'>l</div><div style='display:inline-block; width:20px; height:20px; margin:1px; text-align:center; font-weight:bold; background-color: green;'>o</div><div style='display:inline-block; width:20px; height:20px; margin:1px; text-align:center; font-weight:bold; background-color: green;'>u</div><div style='display:inline-block; width:20px; height:20px; margin:1px; text-align:center; font-weight:bold; background-color: black;'>r</div><div style='display:inline-block; width:20px; height:20px; margin:1px; text-align:center; font-weight:bold; background-color: black;'>e</div></td>\n",
       "      <td>young</td>\n",
       "      <td>6</td>\n",
       "      <td>young, wound, pound, mound, hound, nouny</td>\n",
       "      <td>very hard</td>\n",
       "    </tr>\n",
       "    <tr>\n",
       "      <th>2</th>\n",
       "      <td>hound</td>\n",
       "      <td>young</td>\n",
       "      <td><div style='display:inline-block; width:20px; height:20px; margin:1px; text-align:center; font-weight:bold; background-color: black;'>y</div><div style='display:inline-block; width:20px; height:20px; margin:1px; text-align:center; font-weight:bold; background-color: green;'>o</div><div style='display:inline-block; width:20px; height:20px; margin:1px; text-align:center; font-weight:bold; background-color: green;'>u</div><div style='display:inline-block; width:20px; height:20px; margin:1px; text-align:center; font-weight:bold; background-color: green;'>n</div><div style='display:inline-block; width:20px; height:20px; margin:1px; text-align:center; font-weight:bold; background-color: black;'>g</div></td>\n",
       "      <td>wound</td>\n",
       "      <td>4</td>\n",
       "      <td>wound, pound, mound, hound</td>\n",
       "      <td>very hard</td>\n",
       "    </tr>\n",
       "    <tr>\n",
       "      <th>3</th>\n",
       "      <td>hound</td>\n",
       "      <td>wound</td>\n",
       "      <td><div style='display:inline-block; width:20px; height:20px; margin:1px; text-align:center; font-weight:bold; background-color: black;'>w</div><div style='display:inline-block; width:20px; height:20px; margin:1px; text-align:center; font-weight:bold; background-color: green;'>o</div><div style='display:inline-block; width:20px; height:20px; margin:1px; text-align:center; font-weight:bold; background-color: green;'>u</div><div style='display:inline-block; width:20px; height:20px; margin:1px; text-align:center; font-weight:bold; background-color: green;'>n</div><div style='display:inline-block; width:20px; height:20px; margin:1px; text-align:center; font-weight:bold; background-color: green;'>d</div></td>\n",
       "      <td>pound</td>\n",
       "      <td>3</td>\n",
       "      <td>pound, mound, hound</td>\n",
       "      <td>very hard</td>\n",
       "    </tr>\n",
       "    <tr>\n",
       "      <th>4</th>\n",
       "      <td>hound</td>\n",
       "      <td>pound</td>\n",
       "      <td><div style='display:inline-block; width:20px; height:20px; margin:1px; text-align:center; font-weight:bold; background-color: black;'>p</div><div style='display:inline-block; width:20px; height:20px; margin:1px; text-align:center; font-weight:bold; background-color: green;'>o</div><div style='display:inline-block; width:20px; height:20px; margin:1px; text-align:center; font-weight:bold; background-color: green;'>u</div><div style='display:inline-block; width:20px; height:20px; margin:1px; text-align:center; font-weight:bold; background-color: green;'>n</div><div style='display:inline-block; width:20px; height:20px; margin:1px; text-align:center; font-weight:bold; background-color: green;'>d</div></td>\n",
       "      <td>mound</td>\n",
       "      <td>2</td>\n",
       "      <td>mound, hound</td>\n",
       "      <td>very hard</td>\n",
       "    </tr>\n",
       "    <tr>\n",
       "      <th>5</th>\n",
       "      <td>hound</td>\n",
       "      <td>mound</td>\n",
       "      <td><div style='display:inline-block; width:20px; height:20px; margin:1px; text-align:center; font-weight:bold; background-color: black;'>m</div><div style='display:inline-block; width:20px; height:20px; margin:1px; text-align:center; font-weight:bold; background-color: green;'>o</div><div style='display:inline-block; width:20px; height:20px; margin:1px; text-align:center; font-weight:bold; background-color: green;'>u</div><div style='display:inline-block; width:20px; height:20px; margin:1px; text-align:center; font-weight:bold; background-color: green;'>n</div><div style='display:inline-block; width:20px; height:20px; margin:1px; text-align:center; font-weight:bold; background-color: green;'>d</div></td>\n",
       "      <td>hound</td>\n",
       "      <td>1</td>\n",
       "      <td>hound</td>\n",
       "      <td>very hard</td>\n",
       "    </tr>\n",
       "  </tbody>\n",
       "</table>"
      ],
      "text/plain": [
       "\u001b[1m<\u001b[0m\u001b[1;95mIPython.core.display.HTML\u001b[0m\u001b[39m object\u001b[0m\u001b[1m>\u001b[0m"
      ]
     },
     "execution_count": 39,
     "metadata": {},
     "output_type": "execute_result"
    }
   ],
   "source": [
    "HTML(\n",
    "    simulating_tries_difficulty\n",
    "    .filter(pl.col(\"group\") == 2248)\n",
    "    .to_pandas()\n",
    "    .assign(\n",
    "        match_pattern = lambda df_:\n",
    "        color_pattern_matching(\n",
    "            dataf=df_,\n",
    "            challenge_col=\"challenge\",\n",
    "            guess_col=\"guess\"\n",
    "        )\n",
    "    )\n",
    "    [[\n",
    "        \"challenge\", \"guess\", \"match_pattern\", \"next_guess\",\n",
    "        \"num_choices_after_guess\", \"possible_guesses\", \"difficulty\",\n",
    "    ]]\n",
    "    .to_html(escape=False)\n",
    ")\n"
   ]
  },
  {
   "cell_type": "code",
   "execution_count": 40,
   "id": "60e4eb61",
   "metadata": {},
   "outputs": [
    {
     "data": {
      "text/html": [
       "<pre style=\"white-space:pre;overflow-x:auto;line-height:normal;font-family:Menlo,'DejaVu Sans Mono',consolas,'Courier New',monospace\"></pre>\n"
      ],
      "text/plain": []
     },
     "metadata": {},
     "output_type": "display_data"
    },
    {
     "data": {
      "text/html": [
       "<div><style>\n",
       ".dataframe > thead > tr,\n",
       ".dataframe > tbody > tr {\n",
       "  text-align: right;\n",
       "  white-space: pre-wrap;\n",
       "}\n",
       "</style>\n",
       "<small>shape: (6, 19)</small><table border=\"1\" class=\"dataframe\"><thead><tr><th>challenge</th><th>guess</th><th>letter_differences</th><th>common_letters</th><th>num_diff_letters</th><th>num_common_letters</th><th>num_matching_index</th><th>match_pattern</th><th>num_choices_after_guess</th><th>possible_guesses</th><th>challenge_in_possible_guesses</th><th>next_guess</th><th>group</th><th>tries</th><th>difficulty</th><th>guess_word_anagrams</th><th>anagram_num</th><th>anagrams</th><th>anagram_num_right</th></tr><tr><td>str</td><td>str</td><td>str</td><td>str</td><td>u8</td><td>u8</td><td>u8</td><td>str</td><td>u16</td><td>str</td><td>bool</td><td>str</td><td>u32</td><td>u8</td><td>str</td><td>str</td><td>u8</td><td>str</td><td>u8</td></tr></thead><tbody><tr><td>&quot;night&quot;</td><td>&quot;saint&quot;</td><td>&quot;as&quot;</td><td>&quot;int&quot;</td><td>2</td><td>3</td><td>1</td><td>&quot;BBYYG&quot;</td><td>19</td><td>&quot;night, input, inert, inlet, ni…</td><td>true</td><td>&quot;loure&quot;</td><td>5828</td><td>3</td><td>&quot;moderate&quot;</td><td>&quot;saint, stain, satin, antis, na…</td><td>5</td><td>&quot;loure, roule&quot;</td><td>2</td></tr><tr><td>&quot;night&quot;</td><td>&quot;loure&quot;</td><td>&quot;usaeolr&quot;</td><td>&quot;int&quot;</td><td>7</td><td>3</td><td>1</td><td>&quot;BBBBB&quot;</td><td>6</td><td>&quot;night, nicht, tinct, inwit, ci…</td><td>true</td><td>&quot;night&quot;</td><td>5828</td><td>3</td><td>&quot;moderate&quot;</td><td>&quot;loure, roule&quot;</td><td>2</td><td>&quot;night, thing&quot;</td><td>2</td></tr><tr><td>&quot;night&quot;</td><td>&quot;night&quot;</td><td>&quot;&quot;</td><td>&quot;intgh&quot;</td><td>0</td><td>5</td><td>5</td><td>&quot;GGGGG&quot;</td><td>0</td><td>&quot;&quot;</td><td>false</td><td>&quot;night&quot;</td><td>5828</td><td>3</td><td>&quot;moderate&quot;</td><td>&quot;night, thing&quot;</td><td>2</td><td>&quot;night, thing&quot;</td><td>2</td></tr><tr><td>&quot;night&quot;</td><td>&quot;night&quot;</td><td>&quot;&quot;</td><td>&quot;intgh&quot;</td><td>0</td><td>5</td><td>5</td><td>&quot;GGGGG&quot;</td><td>0</td><td>&quot;&quot;</td><td>false</td><td>&quot;night&quot;</td><td>5828</td><td>3</td><td>&quot;moderate&quot;</td><td>&quot;night, thing&quot;</td><td>2</td><td>&quot;night, thing&quot;</td><td>2</td></tr><tr><td>&quot;night&quot;</td><td>&quot;night&quot;</td><td>&quot;&quot;</td><td>&quot;intgh&quot;</td><td>0</td><td>5</td><td>5</td><td>&quot;GGGGG&quot;</td><td>0</td><td>&quot;&quot;</td><td>false</td><td>&quot;night&quot;</td><td>5828</td><td>3</td><td>&quot;moderate&quot;</td><td>&quot;night, thing&quot;</td><td>2</td><td>&quot;night, thing&quot;</td><td>2</td></tr><tr><td>&quot;night&quot;</td><td>&quot;night&quot;</td><td>&quot;&quot;</td><td>&quot;intgh&quot;</td><td>0</td><td>5</td><td>5</td><td>&quot;GGGGG&quot;</td><td>0</td><td>&quot;&quot;</td><td>false</td><td>&quot;night&quot;</td><td>5828</td><td>3</td><td>&quot;moderate&quot;</td><td>&quot;night, thing&quot;</td><td>2</td><td>&quot;night, thing&quot;</td><td>2</td></tr></tbody></table></div>"
      ],
      "text/plain": [
       "\n",
       "shape: \u001b[1m(\u001b[0m\u001b[1;36m6\u001b[0m, \u001b[1;36m19\u001b[0m\u001b[1m)\u001b[0m\n",
       "┌───────────┬───────┬────────────┬────────────┬───┬────────────┬───────────┬───────────┬───────────┐\n",
       "│ challenge ┆ guess ┆ letter_dif ┆ common_let ┆ … ┆ guess_word ┆ anagram_n ┆ anagrams  ┆ anagram_n │\n",
       "│ ---       ┆ ---   ┆ ferences   ┆ ters       ┆   ┆ _anagrams  ┆ um        ┆ ---       ┆ um_right  │\n",
       "│ str       ┆ str   ┆ ---        ┆ ---        ┆   ┆ ---        ┆ ---       ┆ str       ┆ ---       │\n",
       "│           ┆       ┆ str        ┆ str        ┆   ┆ str        ┆ u8        ┆           ┆ u8        │\n",
       "╞═══════════╪═══════╪════════════╪════════════╪═══╪════════════╪═══════════╪═══════════╪═══════════╡\n",
       "│ night     ┆ saint ┆ as         ┆ int        ┆ … ┆ saint,     ┆ \u001b[1;36m5\u001b[0m         ┆ loure,    ┆ \u001b[1;36m2\u001b[0m         │\n",
       "│           ┆       ┆            ┆            ┆   ┆ stain,     ┆           ┆ roule     ┆           │\n",
       "│           ┆       ┆            ┆            ┆   ┆ satin,     ┆           ┆           ┆           │\n",
       "│           ┆       ┆            ┆            ┆   ┆ antis, na… ┆           ┆           ┆           │\n",
       "│ night     ┆ loure ┆ usaeolr    ┆ int        ┆ … ┆ loure,     ┆ \u001b[1;36m2\u001b[0m         ┆ night,    ┆ \u001b[1;36m2\u001b[0m         │\n",
       "│           ┆       ┆            ┆            ┆   ┆ roule      ┆           ┆ thing     ┆           │\n",
       "│ night     ┆ night ┆            ┆ intgh      ┆ … ┆ night,     ┆ \u001b[1;36m2\u001b[0m         ┆ night,    ┆ \u001b[1;36m2\u001b[0m         │\n",
       "│           ┆       ┆            ┆            ┆   ┆ thing      ┆           ┆ thing     ┆           │\n",
       "│ night     ┆ night ┆            ┆ intgh      ┆ … ┆ night,     ┆ \u001b[1;36m2\u001b[0m         ┆ night,    ┆ \u001b[1;36m2\u001b[0m         │\n",
       "│           ┆       ┆            ┆            ┆   ┆ thing      ┆           ┆ thing     ┆           │\n",
       "│ night     ┆ night ┆            ┆ intgh      ┆ … ┆ night,     ┆ \u001b[1;36m2\u001b[0m         ┆ night,    ┆ \u001b[1;36m2\u001b[0m         │\n",
       "│           ┆       ┆            ┆            ┆   ┆ thing      ┆           ┆ thing     ┆           │\n",
       "│ night     ┆ night ┆            ┆ intgh      ┆ … ┆ night,     ┆ \u001b[1;36m2\u001b[0m         ┆ night,    ┆ \u001b[1;36m2\u001b[0m         │\n",
       "│           ┆       ┆            ┆            ┆   ┆ thing      ┆           ┆ thing     ┆           │\n",
       "└───────────┴───────┴────────────┴────────────┴───┴────────────┴───────────┴───────────┴───────────┘"
      ]
     },
     "execution_count": 40,
     "metadata": {},
     "output_type": "execute_result"
    }
   ],
   "source": [
    "(\n",
    "    simulating_tries_difficulty\n",
    "    .filter(pl.col(\"challenge\") == \"night\")\n",
    ")"
   ]
  },
  {
   "cell_type": "code",
   "execution_count": 41,
   "id": "b753aff5",
   "metadata": {},
   "outputs": [
    {
     "data": {
      "text/html": [
       "<pre style=\"white-space:pre;overflow-x:auto;line-height:normal;font-family:Menlo,'DejaVu Sans Mono',consolas,'Courier New',monospace\"></pre>\n"
      ],
      "text/plain": []
     },
     "metadata": {},
     "output_type": "display_data"
    },
    {
     "data": {
      "text/html": [
       "<table border=\"1\" class=\"dataframe\">\n",
       "  <thead>\n",
       "    <tr style=\"text-align: right;\">\n",
       "      <th></th>\n",
       "      <th>challenge</th>\n",
       "      <th>guess</th>\n",
       "      <th>match_pattern</th>\n",
       "      <th>next_guess</th>\n",
       "      <th>num_choices_after_guess</th>\n",
       "      <th>possible_guesses</th>\n",
       "      <th>difficulty</th>\n",
       "    </tr>\n",
       "  </thead>\n",
       "  <tbody>\n",
       "    <tr>\n",
       "      <th>0</th>\n",
       "      <td>night</td>\n",
       "      <td>saint</td>\n",
       "      <td><div style='display:inline-block; width:20px; height:20px; margin:1px; text-align:center; font-weight:bold; background-color: black;'>s</div><div style='display:inline-block; width:20px; height:20px; margin:1px; text-align:center; font-weight:bold; background-color: black;'>a</div><div style='display:inline-block; width:20px; height:20px; margin:1px; text-align:center; font-weight:bold; background-color: #FDBE02;'>i</div><div style='display:inline-block; width:20px; height:20px; margin:1px; text-align:center; font-weight:bold; background-color: #FDBE02;'>n</div><div style='display:inline-block; width:20px; height:20px; margin:1px; text-align:center; font-weight:bold; background-color: green;'>t</div></td>\n",
       "      <td>loure</td>\n",
       "      <td>19</td>\n",
       "      <td>night, input, inert, inlet, nicht, unlit, unfit, inept, ingot, pinot</td>\n",
       "      <td>moderate</td>\n",
       "    </tr>\n",
       "    <tr>\n",
       "      <th>1</th>\n",
       "      <td>night</td>\n",
       "      <td>loure</td>\n",
       "      <td><div style='display:inline-block; width:20px; height:20px; margin:1px; text-align:center; font-weight:bold; background-color: black;'>l</div><div style='display:inline-block; width:20px; height:20px; margin:1px; text-align:center; font-weight:bold; background-color: black;'>o</div><div style='display:inline-block; width:20px; height:20px; margin:1px; text-align:center; font-weight:bold; background-color: black;'>u</div><div style='display:inline-block; width:20px; height:20px; margin:1px; text-align:center; font-weight:bold; background-color: black;'>r</div><div style='display:inline-block; width:20px; height:20px; margin:1px; text-align:center; font-weight:bold; background-color: black;'>e</div></td>\n",
       "      <td>night</td>\n",
       "      <td>6</td>\n",
       "      <td>night, nicht, tinct, inwit, cinct, binit</td>\n",
       "      <td>moderate</td>\n",
       "    </tr>\n",
       "    <tr>\n",
       "      <th>2</th>\n",
       "      <td>night</td>\n",
       "      <td>night</td>\n",
       "      <td><div style='display:inline-block; width:20px; height:20px; margin:1px; text-align:center; font-weight:bold; background-color: green;'>n</div><div style='display:inline-block; width:20px; height:20px; margin:1px; text-align:center; font-weight:bold; background-color: green;'>i</div><div style='display:inline-block; width:20px; height:20px; margin:1px; text-align:center; font-weight:bold; background-color: green;'>g</div><div style='display:inline-block; width:20px; height:20px; margin:1px; text-align:center; font-weight:bold; background-color: green;'>h</div><div style='display:inline-block; width:20px; height:20px; margin:1px; text-align:center; font-weight:bold; background-color: green;'>t</div></td>\n",
       "      <td>night</td>\n",
       "      <td>0</td>\n",
       "      <td></td>\n",
       "      <td>moderate</td>\n",
       "    </tr>\n",
       "    <tr>\n",
       "      <th>3</th>\n",
       "      <td>night</td>\n",
       "      <td>night</td>\n",
       "      <td><div style='display:inline-block; width:20px; height:20px; margin:1px; text-align:center; font-weight:bold; background-color: green;'>n</div><div style='display:inline-block; width:20px; height:20px; margin:1px; text-align:center; font-weight:bold; background-color: green;'>i</div><div style='display:inline-block; width:20px; height:20px; margin:1px; text-align:center; font-weight:bold; background-color: green;'>g</div><div style='display:inline-block; width:20px; height:20px; margin:1px; text-align:center; font-weight:bold; background-color: green;'>h</div><div style='display:inline-block; width:20px; height:20px; margin:1px; text-align:center; font-weight:bold; background-color: green;'>t</div></td>\n",
       "      <td>night</td>\n",
       "      <td>0</td>\n",
       "      <td></td>\n",
       "      <td>moderate</td>\n",
       "    </tr>\n",
       "    <tr>\n",
       "      <th>4</th>\n",
       "      <td>night</td>\n",
       "      <td>night</td>\n",
       "      <td><div style='display:inline-block; width:20px; height:20px; margin:1px; text-align:center; font-weight:bold; background-color: green;'>n</div><div style='display:inline-block; width:20px; height:20px; margin:1px; text-align:center; font-weight:bold; background-color: green;'>i</div><div style='display:inline-block; width:20px; height:20px; margin:1px; text-align:center; font-weight:bold; background-color: green;'>g</div><div style='display:inline-block; width:20px; height:20px; margin:1px; text-align:center; font-weight:bold; background-color: green;'>h</div><div style='display:inline-block; width:20px; height:20px; margin:1px; text-align:center; font-weight:bold; background-color: green;'>t</div></td>\n",
       "      <td>night</td>\n",
       "      <td>0</td>\n",
       "      <td></td>\n",
       "      <td>moderate</td>\n",
       "    </tr>\n",
       "    <tr>\n",
       "      <th>5</th>\n",
       "      <td>night</td>\n",
       "      <td>night</td>\n",
       "      <td><div style='display:inline-block; width:20px; height:20px; margin:1px; text-align:center; font-weight:bold; background-color: green;'>n</div><div style='display:inline-block; width:20px; height:20px; margin:1px; text-align:center; font-weight:bold; background-color: green;'>i</div><div style='display:inline-block; width:20px; height:20px; margin:1px; text-align:center; font-weight:bold; background-color: green;'>g</div><div style='display:inline-block; width:20px; height:20px; margin:1px; text-align:center; font-weight:bold; background-color: green;'>h</div><div style='display:inline-block; width:20px; height:20px; margin:1px; text-align:center; font-weight:bold; background-color: green;'>t</div></td>\n",
       "      <td>night</td>\n",
       "      <td>0</td>\n",
       "      <td></td>\n",
       "      <td>moderate</td>\n",
       "    </tr>\n",
       "  </tbody>\n",
       "</table>"
      ],
      "text/plain": [
       "\u001b[1m<\u001b[0m\u001b[1;95mIPython.core.display.HTML\u001b[0m\u001b[39m object\u001b[0m\u001b[1m>\u001b[0m"
      ]
     },
     "execution_count": 41,
     "metadata": {},
     "output_type": "execute_result"
    }
   ],
   "source": [
    "HTML(\n",
    "    simulating_tries_difficulty\n",
    "    .filter(pl.col(\"group\") == 5828)\n",
    "    .to_pandas()\n",
    "    .assign(\n",
    "        match_pattern = lambda df_:\n",
    "        color_pattern_matching(\n",
    "            dataf=df_,\n",
    "            challenge_col=\"challenge\",\n",
    "            guess_col=\"guess\"\n",
    "        )\n",
    "    )\n",
    "    [[\n",
    "        \"challenge\", \"guess\", \"match_pattern\", \"next_guess\",\n",
    "        \"num_choices_after_guess\", \"possible_guesses\", \"difficulty\",\n",
    "    ]]\n",
    "    .to_html(escape=False)\n",
    ")\n"
   ]
  },
  {
   "cell_type": "code",
   "execution_count": 45,
   "id": "630d3e92",
   "metadata": {},
   "outputs": [
    {
     "data": {
      "text/html": [
       "<pre style=\"white-space:pre;overflow-x:auto;line-height:normal;font-family:Menlo,'DejaVu Sans Mono',consolas,'Courier New',monospace\"></pre>\n"
      ],
      "text/plain": []
     },
     "metadata": {},
     "output_type": "display_data"
    },
    {
     "data": {
      "text/html": [
       "<div><style>\n",
       ".dataframe > thead > tr,\n",
       ".dataframe > tbody > tr {\n",
       "  text-align: right;\n",
       "  white-space: pre-wrap;\n",
       "}\n",
       "</style>\n",
       "<small>shape: (6,)</small><table border=\"1\" class=\"dataframe\"><thead><tr><th>group</th></tr><tr><td>u32</td></tr></thead><tbody><tr><td>879</td></tr><tr><td>2303</td></tr><tr><td>3283</td></tr><tr><td>6634</td></tr><tr><td>7793</td></tr><tr><td>7884</td></tr></tbody></table></div>"
      ],
      "text/plain": [
       "\n",
       "shape: \u001b[1m(\u001b[0m\u001b[1;36m6\u001b[0m,\u001b[1m)\u001b[0m\n",
       "Series: \u001b[32m'group'\u001b[0m \u001b[1m[\u001b[0mu32\u001b[1m]\u001b[0m\n",
       "\u001b[1m[\u001b[0m\n",
       "        \u001b[1;36m879\u001b[0m\n",
       "        \u001b[1;36m2303\u001b[0m\n",
       "        \u001b[1;36m3283\u001b[0m\n",
       "        \u001b[1;36m6634\u001b[0m\n",
       "        \u001b[1;36m7793\u001b[0m\n",
       "        \u001b[1;36m7884\u001b[0m\n",
       "\u001b[1m]\u001b[0m"
      ]
     },
     "execution_count": 45,
     "metadata": {},
     "output_type": "execute_result"
    }
   ],
   "source": [
    "(\n",
    "    simulating_tries_difficulty\n",
    "    .filter(pl.col(\"challenge\").is_in([\"jaunt\", \"vaunt\", \"daunt\", \"haunt\", \"gaunt\", \"taunt\"]))\n",
    "    [\"group\"]\n",
    "    .unique()\n",
    ")"
   ]
  },
  {
   "cell_type": "code",
   "execution_count": 59,
   "id": "d58c0e69",
   "metadata": {},
   "outputs": [
    {
     "data": {
      "text/html": [
       "<pre style=\"white-space:pre;overflow-x:auto;line-height:normal;font-family:Menlo,'DejaVu Sans Mono',consolas,'Courier New',monospace\"></pre>\n"
      ],
      "text/plain": []
     },
     "metadata": {},
     "output_type": "display_data"
    },
    {
     "data": {
      "text/html": [
       "<table border=\"1\" class=\"dataframe\">\n",
       "  <thead>\n",
       "    <tr style=\"text-align: right;\">\n",
       "      <th></th>\n",
       "      <th>challenge</th>\n",
       "      <th>guess</th>\n",
       "      <th>match_pattern</th>\n",
       "      <th>next_guess</th>\n",
       "      <th>num_choices_after_guess</th>\n",
       "      <th>possible_guesses</th>\n",
       "      <th>difficulty</th>\n",
       "    </tr>\n",
       "  </thead>\n",
       "  <tbody>\n",
       "    <tr>\n",
       "      <th>0</th>\n",
       "      <td>vaunt</td>\n",
       "      <td>saint</td>\n",
       "      <td><div style='display:inline-block; width:20px; height:20px; margin:1px; text-align:center; font-weight:bold; background-color: black;'>s</div><div style='display:inline-block; width:20px; height:20px; margin:1px; text-align:center; font-weight:bold; background-color: green;'>a</div><div style='display:inline-block; width:20px; height:20px; margin:1px; text-align:center; font-weight:bold; background-color: black;'>i</div><div style='display:inline-block; width:20px; height:20px; margin:1px; text-align:center; font-weight:bold; background-color: green;'>n</div><div style='display:inline-block; width:20px; height:20px; margin:1px; text-align:center; font-weight:bold; background-color: green;'>t</div></td>\n",
       "      <td>loure</td>\n",
       "      <td>8</td>\n",
       "      <td>haunt, gaunt, taunt, jaunt, daunt, vaunt, naunt, daynt</td>\n",
       "      <td>very hard</td>\n",
       "    </tr>\n",
       "    <tr>\n",
       "      <th>1</th>\n",
       "      <td>vaunt</td>\n",
       "      <td>loure</td>\n",
       "      <td><div style='display:inline-block; width:20px; height:20px; margin:1px; text-align:center; font-weight:bold; background-color: black;'>l</div><div style='display:inline-block; width:20px; height:20px; margin:1px; text-align:center; font-weight:bold; background-color: black;'>o</div><div style='display:inline-block; width:20px; height:20px; margin:1px; text-align:center; font-weight:bold; background-color: green;'>u</div><div style='display:inline-block; width:20px; height:20px; margin:1px; text-align:center; font-weight:bold; background-color: black;'>r</div><div style='display:inline-block; width:20px; height:20px; margin:1px; text-align:center; font-weight:bold; background-color: black;'>e</div></td>\n",
       "      <td>haunt</td>\n",
       "      <td>7</td>\n",
       "      <td>haunt, gaunt, taunt, jaunt, daunt, vaunt, naunt</td>\n",
       "      <td>very hard</td>\n",
       "    </tr>\n",
       "    <tr>\n",
       "      <th>2</th>\n",
       "      <td>vaunt</td>\n",
       "      <td>haunt</td>\n",
       "      <td><div style='display:inline-block; width:20px; height:20px; margin:1px; text-align:center; font-weight:bold; background-color: black;'>h</div><div style='display:inline-block; width:20px; height:20px; margin:1px; text-align:center; font-weight:bold; background-color: green;'>a</div><div style='display:inline-block; width:20px; height:20px; margin:1px; text-align:center; font-weight:bold; background-color: green;'>u</div><div style='display:inline-block; width:20px; height:20px; margin:1px; text-align:center; font-weight:bold; background-color: green;'>n</div><div style='display:inline-block; width:20px; height:20px; margin:1px; text-align:center; font-weight:bold; background-color: green;'>t</div></td>\n",
       "      <td>gaunt</td>\n",
       "      <td>6</td>\n",
       "      <td>gaunt, taunt, jaunt, daunt, vaunt, naunt</td>\n",
       "      <td>very hard</td>\n",
       "    </tr>\n",
       "    <tr>\n",
       "      <th>3</th>\n",
       "      <td>vaunt</td>\n",
       "      <td>gaunt</td>\n",
       "      <td><div style='display:inline-block; width:20px; height:20px; margin:1px; text-align:center; font-weight:bold; background-color: black;'>g</div><div style='display:inline-block; width:20px; height:20px; margin:1px; text-align:center; font-weight:bold; background-color: green;'>a</div><div style='display:inline-block; width:20px; height:20px; margin:1px; text-align:center; font-weight:bold; background-color: green;'>u</div><div style='display:inline-block; width:20px; height:20px; margin:1px; text-align:center; font-weight:bold; background-color: green;'>n</div><div style='display:inline-block; width:20px; height:20px; margin:1px; text-align:center; font-weight:bold; background-color: green;'>t</div></td>\n",
       "      <td>taunt</td>\n",
       "      <td>5</td>\n",
       "      <td>taunt, jaunt, daunt, vaunt, naunt</td>\n",
       "      <td>very hard</td>\n",
       "    </tr>\n",
       "    <tr>\n",
       "      <th>4</th>\n",
       "      <td>vaunt</td>\n",
       "      <td>taunt</td>\n",
       "      <td><div style='display:inline-block; width:20px; height:20px; margin:1px; text-align:center; font-weight:bold; background-color: #FDBE02;'>t</div><div style='display:inline-block; width:20px; height:20px; margin:1px; text-align:center; font-weight:bold; background-color: green;'>a</div><div style='display:inline-block; width:20px; height:20px; margin:1px; text-align:center; font-weight:bold; background-color: green;'>u</div><div style='display:inline-block; width:20px; height:20px; margin:1px; text-align:center; font-weight:bold; background-color: green;'>n</div><div style='display:inline-block; width:20px; height:20px; margin:1px; text-align:center; font-weight:bold; background-color: green;'>t</div></td>\n",
       "      <td>jaunt</td>\n",
       "      <td>4</td>\n",
       "      <td>jaunt, daunt, vaunt, naunt</td>\n",
       "      <td>very hard</td>\n",
       "    </tr>\n",
       "    <tr>\n",
       "      <th>5</th>\n",
       "      <td>vaunt</td>\n",
       "      <td>jaunt</td>\n",
       "      <td><div style='display:inline-block; width:20px; height:20px; margin:1px; text-align:center; font-weight:bold; background-color: black;'>j</div><div style='display:inline-block; width:20px; height:20px; margin:1px; text-align:center; font-weight:bold; background-color: green;'>a</div><div style='display:inline-block; width:20px; height:20px; margin:1px; text-align:center; font-weight:bold; background-color: green;'>u</div><div style='display:inline-block; width:20px; height:20px; margin:1px; text-align:center; font-weight:bold; background-color: green;'>n</div><div style='display:inline-block; width:20px; height:20px; margin:1px; text-align:center; font-weight:bold; background-color: green;'>t</div></td>\n",
       "      <td>daunt</td>\n",
       "      <td>3</td>\n",
       "      <td>daunt, vaunt, naunt</td>\n",
       "      <td>very hard</td>\n",
       "    </tr>\n",
       "  </tbody>\n",
       "</table>"
      ],
      "text/plain": [
       "\u001b[1m<\u001b[0m\u001b[1;95mIPython.core.display.HTML\u001b[0m\u001b[39m object\u001b[0m\u001b[1m>\u001b[0m"
      ]
     },
     "execution_count": 59,
     "metadata": {},
     "output_type": "execute_result"
    }
   ],
   "source": [
    "HTML(\n",
    "    simulating_tries_difficulty\n",
    "    .filter(pl.col(\"group\") == 879)\n",
    "    .to_pandas()\n",
    "    .assign(\n",
    "        match_pattern = lambda df_:\n",
    "        color_pattern_matching(\n",
    "            dataf=df_,\n",
    "            challenge_col=\"challenge\",\n",
    "            guess_col=\"guess\"\n",
    "        )\n",
    "    )\n",
    "    [[\n",
    "        \"challenge\", \"guess\", \"match_pattern\", \"next_guess\",\n",
    "        \"num_choices_after_guess\", \"possible_guesses\", \"difficulty\",\n",
    "    ]]\n",
    "    .to_html(escape=False)\n",
    ")\n"
   ]
  },
  {
   "cell_type": "code",
   "execution_count": null,
   "id": "a16af3f3",
   "metadata": {},
   "outputs": [],
   "source": []
  }
 ],
 "metadata": {
  "kernelspec": {
   "display_name": "wordle310",
   "language": "python",
   "name": "python3"
  },
  "language_info": {
   "codemirror_mode": {
    "name": "ipython",
    "version": 3
   },
   "file_extension": ".py",
   "mimetype": "text/x-python",
   "name": "python",
   "nbconvert_exporter": "python",
   "pygments_lexer": "ipython3",
   "version": "3.10.14"
  },
  "toc": {
   "base_numbering": 1,
   "nav_menu": {},
   "number_sections": true,
   "sideBar": true,
   "skip_h1_title": false,
   "title_cell": "Table of Contents",
   "title_sidebar": "Contents",
   "toc_cell": false,
   "toc_position": {
    "height": "calc(100% - 180px)",
    "left": "10px",
    "top": "150px",
    "width": "254px"
   },
   "toc_section_display": true,
   "toc_window_display": false
  },
  "varInspector": {
   "cols": {
    "lenName": 16,
    "lenType": 16,
    "lenVar": 40
   },
   "kernels_config": {
    "python": {
     "delete_cmd_postfix": "",
     "delete_cmd_prefix": "del ",
     "library": "var_list.py",
     "varRefreshCmd": "print(var_dic_list())"
    },
    "r": {
     "delete_cmd_postfix": ") ",
     "delete_cmd_prefix": "rm(",
     "library": "var_list.r",
     "varRefreshCmd": "cat(var_dic_list()) "
    }
   },
   "types_to_exclude": [
    "module",
    "function",
    "builtin_function_or_method",
    "instance",
    "_Feature"
   ],
   "window_display": false
  }
 },
 "nbformat": 4,
 "nbformat_minor": 5
}
