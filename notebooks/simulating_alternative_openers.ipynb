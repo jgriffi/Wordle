{
 "cells": [
  {
   "cell_type": "code",
   "execution_count": null,
   "metadata": {},
   "outputs": [],
   "source": [
    "%load_ext kedro.ipython"
   ]
  },
  {
   "cell_type": "code",
   "execution_count": 2,
   "metadata": {},
   "outputs": [
    {
     "data": {
      "text/html": [
       "<pre style=\"white-space:pre;overflow-x:auto;line-height:normal;font-family:Menlo,'DejaVu Sans Mono',consolas,'Courier New',monospace\"></pre>\n"
      ],
      "text/plain": []
     },
     "metadata": {},
     "output_type": "display_data"
    },
    {
     "data": {
      "text/plain": [
       "\u001b[1m<\u001b[0m\u001b[1;95mpolars.config.Config\u001b[0m\u001b[39m object at \u001b[0m\u001b[1;36m0x30bedfb50\u001b[0m\u001b[1m>\u001b[0m"
      ]
     },
     "execution_count": 2,
     "metadata": {},
     "output_type": "execute_result"
    }
   ],
   "source": [
    "import polars as pl \n",
    "import numpy as np\n",
    "\n",
    "pl.Config(tbl_rows=50)"
   ]
  },
  {
   "cell_type": "code",
   "execution_count": null,
   "metadata": {},
   "outputs": [],
   "source": [
    "simulating_alternative_openers = catalog.load(\"simulating_alternative_openers\")"
   ]
  },
  {
   "cell_type": "code",
   "execution_count": 4,
   "metadata": {},
   "outputs": [
    {
     "data": {
      "text/html": [
       "<pre style=\"white-space:pre;overflow-x:auto;line-height:normal;font-family:Menlo,'DejaVu Sans Mono',consolas,'Courier New',monospace\"></pre>\n"
      ],
      "text/plain": []
     },
     "metadata": {},
     "output_type": "display_data"
    },
    {
     "data": {
      "text/html": [
       "<div><style>\n",
       ".dataframe > thead > tr,\n",
       ".dataframe > tbody > tr {\n",
       "  text-align: right;\n",
       "  white-space: pre-wrap;\n",
       "}\n",
       "</style>\n",
       "<small>shape: (12, 18)</small><table border=\"1\" class=\"dataframe\"><thead><tr><th>index</th><th>challenge</th><th>guess</th><th>match_pattern</th><th>letter_differences</th><th>common_letters</th><th>num_diff_letters</th><th>num_common_letters</th><th>num_matching_index</th><th>num_choices_after_guess</th><th>possible_guesses</th><th>challenge_in_possible_guesses</th><th>next_guess</th><th>group</th><th>tries</th><th>difficulty</th><th>guess_word_anagrams</th><th>anagram_num</th></tr><tr><td>u32</td><td>str</td><td>str</td><td>str</td><td>str</td><td>str</td><td>u8</td><td>u8</td><td>u8</td><td>u16</td><td>str</td><td>bool</td><td>str</td><td>u32</td><td>u8</td><td>str</td><td>str</td><td>u8</td></tr></thead><tbody><tr><td>0</td><td>&quot;yummy&quot;</td><td>&quot;soare&quot;</td><td>&quot;BBBBB&quot;</td><td>&quot;saeor&quot;</td><td>&quot;&quot;</td><td>5</td><td>0</td><td>0</td><td>538</td><td>&quot;thing, child, pupil, cubic, im…</td><td>false</td><td>&quot;linty&quot;</td><td>0</td><td>null</td><td>&quot;very hard&quot;</td><td>&quot;soare&quot;</td><td>1</td></tr><tr><td>1</td><td>&quot;yummy&quot;</td><td>&quot;linty&quot;</td><td>&quot;BBBBG&quot;</td><td>&quot;nisaeotlr&quot;</td><td>&quot;y&quot;</td><td>9</td><td>1</td><td>1</td><td>50</td><td>&quot;fuzzy, mummy, puffy, pudgy, du…</td><td>false</td><td>&quot;fuzzy&quot;</td><td>0</td><td>null</td><td>&quot;very hard&quot;</td><td>&quot;linty&quot;</td><td>1</td></tr><tr><td>2</td><td>&quot;yummy&quot;</td><td>&quot;soare&quot;</td><td>&quot;BBBBB&quot;</td><td>&quot;saeor&quot;</td><td>&quot;&quot;</td><td>5</td><td>0</td><td>0</td><td>538</td><td>&quot;think, fight, click, quint, fi…</td><td>false</td><td>&quot;milty&quot;</td><td>1</td><td>null</td><td>&quot;very hard&quot;</td><td>&quot;soare&quot;</td><td>1</td></tr><tr><td>3</td><td>&quot;yummy&quot;</td><td>&quot;milty&quot;</td><td>&quot;YBBBG&quot;</td><td>&quot;isaeotlr&quot;</td><td>&quot;my&quot;</td><td>8</td><td>2</td><td>1</td><td>10</td><td>&quot;dummy, bumpy, pygmy, gummy, ju…</td><td>true</td><td>&quot;dummy&quot;</td><td>1</td><td>null</td><td>&quot;very hard&quot;</td><td>&quot;milty&quot;</td><td>1</td></tr><tr><td>4</td><td>&quot;yummy&quot;</td><td>&quot;soare&quot;</td><td>&quot;BBBBB&quot;</td><td>&quot;saeor&quot;</td><td>&quot;&quot;</td><td>5</td><td>0</td><td>0</td><td>538</td><td>&quot;thing, civil, input, thick, ni…</td><td>false</td><td>&quot;minty&quot;</td><td>2</td><td>null</td><td>&quot;very hard&quot;</td><td>&quot;soare&quot;</td><td>1</td></tr><tr><td>5</td><td>&quot;yummy&quot;</td><td>&quot;minty&quot;</td><td>&quot;YBBBG&quot;</td><td>&quot;nisaeotr&quot;</td><td>&quot;my&quot;</td><td>8</td><td>2</td><td>1</td><td>13</td><td>&quot;dummy, lumpy, bumpy, pygmy, gu…</td><td>true</td><td>&quot;dummy&quot;</td><td>2</td><td>null</td><td>&quot;very hard&quot;</td><td>&quot;minty&quot;</td><td>1</td></tr><tr><td>6</td><td>&quot;yummy&quot;</td><td>&quot;soare&quot;</td><td>&quot;BBBBB&quot;</td><td>&quot;saeor&quot;</td><td>&quot;&quot;</td><td>5</td><td>0</td><td>0</td><td>538</td><td>&quot;nicht, night, fifth, ninth, ly…</td><td>false</td><td>&quot;clint&quot;</td><td>3</td><td>null</td><td>&quot;very hard&quot;</td><td>&quot;soare&quot;</td><td>1</td></tr><tr><td>7</td><td>&quot;yummy&quot;</td><td>&quot;clint&quot;</td><td>&quot;BBBBB&quot;</td><td>&quot;ncisaeotlr&quot;</td><td>&quot;&quot;</td><td>10</td><td>0</td><td>0</td><td>48</td><td>&quot;fuzzy, puppy, mummy, yummy, pu…</td><td>true</td><td>&quot;fuzzy&quot;</td><td>3</td><td>null</td><td>&quot;very hard&quot;</td><td>&quot;clint&quot;</td><td>1</td></tr><tr><td>8</td><td>&quot;yummy&quot;</td><td>&quot;soare&quot;</td><td>&quot;BBBBB&quot;</td><td>&quot;saeor&quot;</td><td>&quot;&quot;</td><td>5</td><td>0</td><td>0</td><td>538</td><td>&quot;blind, light, civic, unity, th…</td><td>false</td><td>&quot;unlit&quot;</td><td>4</td><td>null</td><td>&quot;very hard&quot;</td><td>&quot;soare&quot;</td><td>1</td></tr><tr><td>9</td><td>&quot;yummy&quot;</td><td>&quot;unlit&quot;</td><td>&quot;YBBBB&quot;</td><td>&quot;nisaeotlr&quot;</td><td>&quot;u&quot;</td><td>9</td><td>1</td><td>0</td><td>60</td><td>&quot;chuck, fuzzy, duchy, puppy, bu…</td><td>false</td><td>&quot;chuck&quot;</td><td>4</td><td>null</td><td>&quot;very hard&quot;</td><td>&quot;unlit&quot;</td><td>1</td></tr><tr><td>10</td><td>&quot;yummy&quot;</td><td>&quot;soare&quot;</td><td>&quot;BBBBB&quot;</td><td>&quot;saeor&quot;</td><td>&quot;&quot;</td><td>5</td><td>0</td><td>0</td><td>538</td><td>&quot;think, guild, child, build, ci…</td><td>false</td><td>&quot;lindy&quot;</td><td>5</td><td>null</td><td>&quot;very hard&quot;</td><td>&quot;soare&quot;</td><td>1</td></tr><tr><td>11</td><td>&quot;yummy&quot;</td><td>&quot;lindy&quot;</td><td>&quot;BBBBG&quot;</td><td>&quot;nidsaeolr&quot;</td><td>&quot;y&quot;</td><td>9</td><td>1</td><td>1</td><td>51</td><td>&quot;puppy, guppy, mummy, fuzzy, bu…</td><td>false</td><td>&quot;puppy&quot;</td><td>5</td><td>null</td><td>&quot;very hard&quot;</td><td>&quot;lindy&quot;</td><td>1</td></tr></tbody></table></div>"
      ],
      "text/plain": [
       "\n",
       "shape: \u001b[1m(\u001b[0m\u001b[1;36m12\u001b[0m, \u001b[1;36m18\u001b[0m\u001b[1m)\u001b[0m\n",
       "┌───────┬───────────┬───────┬───────────────┬───┬───────┬────────────┬───────────────┬─────────────┐\n",
       "│ index ┆ challenge ┆ guess ┆ match_pattern ┆ … ┆ tries ┆ difficulty ┆ guess_word_an ┆ anagram_num │\n",
       "│ ---   ┆ ---       ┆ ---   ┆ ---           ┆   ┆ ---   ┆ ---        ┆ agrams        ┆ ---         │\n",
       "│ u32   ┆ str       ┆ str   ┆ str           ┆   ┆ u8    ┆ str        ┆ ---           ┆ u8          │\n",
       "│       ┆           ┆       ┆               ┆   ┆       ┆            ┆ str           ┆             │\n",
       "╞═══════╪═══════════╪═══════╪═══════════════╪═══╪═══════╪════════════╪═══════════════╪═════════════╡\n",
       "│ \u001b[1;36m0\u001b[0m     ┆ yummy     ┆ soare ┆ BBBBB         ┆ … ┆ null  ┆ very hard  ┆ soare         ┆ \u001b[1;36m1\u001b[0m           │\n",
       "│ \u001b[1;36m1\u001b[0m     ┆ yummy     ┆ linty ┆ BBBBG         ┆ … ┆ null  ┆ very hard  ┆ linty         ┆ \u001b[1;36m1\u001b[0m           │\n",
       "│ \u001b[1;36m2\u001b[0m     ┆ yummy     ┆ soare ┆ BBBBB         ┆ … ┆ null  ┆ very hard  ┆ soare         ┆ \u001b[1;36m1\u001b[0m           │\n",
       "│ \u001b[1;36m3\u001b[0m     ┆ yummy     ┆ milty ┆ YBBBG         ┆ … ┆ null  ┆ very hard  ┆ milty         ┆ \u001b[1;36m1\u001b[0m           │\n",
       "│ \u001b[1;36m4\u001b[0m     ┆ yummy     ┆ soare ┆ BBBBB         ┆ … ┆ null  ┆ very hard  ┆ soare         ┆ \u001b[1;36m1\u001b[0m           │\n",
       "│ \u001b[1;36m5\u001b[0m     ┆ yummy     ┆ minty ┆ YBBBG         ┆ … ┆ null  ┆ very hard  ┆ minty         ┆ \u001b[1;36m1\u001b[0m           │\n",
       "│ \u001b[1;36m6\u001b[0m     ┆ yummy     ┆ soare ┆ BBBBB         ┆ … ┆ null  ┆ very hard  ┆ soare         ┆ \u001b[1;36m1\u001b[0m           │\n",
       "│ \u001b[1;36m7\u001b[0m     ┆ yummy     ┆ clint ┆ BBBBB         ┆ … ┆ null  ┆ very hard  ┆ clint         ┆ \u001b[1;36m1\u001b[0m           │\n",
       "│ \u001b[1;36m8\u001b[0m     ┆ yummy     ┆ soare ┆ BBBBB         ┆ … ┆ null  ┆ very hard  ┆ soare         ┆ \u001b[1;36m1\u001b[0m           │\n",
       "│ \u001b[1;36m9\u001b[0m     ┆ yummy     ┆ unlit ┆ YBBBB         ┆ … ┆ null  ┆ very hard  ┆ unlit         ┆ \u001b[1;36m1\u001b[0m           │\n",
       "│ \u001b[1;36m10\u001b[0m    ┆ yummy     ┆ soare ┆ BBBBB         ┆ … ┆ null  ┆ very hard  ┆ soare         ┆ \u001b[1;36m1\u001b[0m           │\n",
       "│ \u001b[1;36m11\u001b[0m    ┆ yummy     ┆ lindy ┆ BBBBG         ┆ … ┆ null  ┆ very hard  ┆ lindy         ┆ \u001b[1;36m1\u001b[0m           │\n",
       "└───────┴───────────┴───────┴───────────────┴───┴───────┴────────────┴───────────────┴─────────────┘"
      ]
     },
     "execution_count": 4,
     "metadata": {},
     "output_type": "execute_result"
    }
   ],
   "source": [
    "simulating_alternative_openers.head(12)"
   ]
  },
  {
   "cell_type": "code",
   "execution_count": 5,
   "metadata": {},
   "outputs": [
    {
     "data": {
      "text/html": [
       "<pre style=\"white-space:pre;overflow-x:auto;line-height:normal;font-family:Menlo,'DejaVu Sans Mono',consolas,'Courier New',monospace\"></pre>\n"
      ],
      "text/plain": []
     },
     "metadata": {},
     "output_type": "display_data"
    },
    {
     "data": {
      "text/plain": [
       "\u001b[1;36m4544000\u001b[0m"
      ]
     },
     "execution_count": 5,
     "metadata": {},
     "output_type": "execute_result"
    }
   ],
   "source": [
    "simulating_alternative_openers.height"
   ]
  },
  {
   "cell_type": "markdown",
   "metadata": {},
   "source": [
    "## Retrieve the 2nd row of every group"
   ]
  },
  {
   "cell_type": "markdown",
   "metadata": {},
   "source": [
    "### Determine the minimum number of choices remaining after the second guess. This will give us an idea of the best second guess."
   ]
  },
  {
   "cell_type": "code",
   "execution_count": 6,
   "metadata": {},
   "outputs": [
    {
     "data": {
      "text/html": [
       "<pre style=\"white-space:pre;overflow-x:auto;line-height:normal;font-family:Menlo,'DejaVu Sans Mono',consolas,'Courier New',monospace\"></pre>\n"
      ],
      "text/plain": []
     },
     "metadata": {},
     "output_type": "display_data"
    },
    {
     "data": {
      "text/html": [
       "<div><style>\n",
       ".dataframe > thead > tr,\n",
       ".dataframe > tbody > tr {\n",
       "  text-align: right;\n",
       "  white-space: pre-wrap;\n",
       "}\n",
       "</style>\n",
       "<small>shape: (5, 18)</small><table border=\"1\" class=\"dataframe\"><thead><tr><th>index</th><th>challenge</th><th>guess</th><th>match_pattern</th><th>letter_differences</th><th>common_letters</th><th>num_diff_letters</th><th>num_common_letters</th><th>num_matching_index</th><th>num_choices_after_guess</th><th>possible_guesses</th><th>challenge_in_possible_guesses</th><th>next_guess</th><th>group</th><th>tries</th><th>difficulty</th><th>guess_word_anagrams</th><th>anagram_num</th></tr><tr><td>u32</td><td>str</td><td>str</td><td>str</td><td>str</td><td>str</td><td>u8</td><td>u8</td><td>u8</td><td>u16</td><td>str</td><td>bool</td><td>str</td><td>u32</td><td>u8</td><td>str</td><td>str</td><td>u8</td></tr></thead><tbody><tr><td>1</td><td>&quot;yummy&quot;</td><td>&quot;linty&quot;</td><td>&quot;BBBBG&quot;</td><td>&quot;nisaeotlr&quot;</td><td>&quot;y&quot;</td><td>9</td><td>1</td><td>1</td><td>50</td><td>&quot;fuzzy, mummy, puffy, pudgy, du…</td><td>false</td><td>&quot;fuzzy&quot;</td><td>0</td><td>null</td><td>&quot;very hard&quot;</td><td>&quot;linty&quot;</td><td>1</td></tr><tr><td>3</td><td>&quot;yummy&quot;</td><td>&quot;milty&quot;</td><td>&quot;YBBBG&quot;</td><td>&quot;isaeotlr&quot;</td><td>&quot;my&quot;</td><td>8</td><td>2</td><td>1</td><td>10</td><td>&quot;dummy, bumpy, pygmy, gummy, ju…</td><td>true</td><td>&quot;dummy&quot;</td><td>1</td><td>null</td><td>&quot;very hard&quot;</td><td>&quot;milty&quot;</td><td>1</td></tr><tr><td>5</td><td>&quot;yummy&quot;</td><td>&quot;minty&quot;</td><td>&quot;YBBBG&quot;</td><td>&quot;nisaeotr&quot;</td><td>&quot;my&quot;</td><td>8</td><td>2</td><td>1</td><td>13</td><td>&quot;dummy, lumpy, bumpy, pygmy, gu…</td><td>true</td><td>&quot;dummy&quot;</td><td>2</td><td>null</td><td>&quot;very hard&quot;</td><td>&quot;minty&quot;</td><td>1</td></tr><tr><td>7</td><td>&quot;yummy&quot;</td><td>&quot;clint&quot;</td><td>&quot;BBBBB&quot;</td><td>&quot;ncisaeotlr&quot;</td><td>&quot;&quot;</td><td>10</td><td>0</td><td>0</td><td>48</td><td>&quot;fuzzy, puppy, mummy, yummy, pu…</td><td>true</td><td>&quot;fuzzy&quot;</td><td>3</td><td>null</td><td>&quot;very hard&quot;</td><td>&quot;clint&quot;</td><td>1</td></tr><tr><td>9</td><td>&quot;yummy&quot;</td><td>&quot;unlit&quot;</td><td>&quot;YBBBB&quot;</td><td>&quot;nisaeotlr&quot;</td><td>&quot;u&quot;</td><td>9</td><td>1</td><td>0</td><td>60</td><td>&quot;chuck, fuzzy, duchy, puppy, bu…</td><td>false</td><td>&quot;chuck&quot;</td><td>4</td><td>null</td><td>&quot;very hard&quot;</td><td>&quot;unlit&quot;</td><td>1</td></tr></tbody></table></div>"
      ],
      "text/plain": [
       "\n",
       "shape: \u001b[1m(\u001b[0m\u001b[1;36m5\u001b[0m, \u001b[1;36m18\u001b[0m\u001b[1m)\u001b[0m\n",
       "┌───────┬───────────┬───────┬───────────────┬───┬───────┬────────────┬───────────────┬─────────────┐\n",
       "│ index ┆ challenge ┆ guess ┆ match_pattern ┆ … ┆ tries ┆ difficulty ┆ guess_word_an ┆ anagram_num │\n",
       "│ ---   ┆ ---       ┆ ---   ┆ ---           ┆   ┆ ---   ┆ ---        ┆ agrams        ┆ ---         │\n",
       "│ u32   ┆ str       ┆ str   ┆ str           ┆   ┆ u8    ┆ str        ┆ ---           ┆ u8          │\n",
       "│       ┆           ┆       ┆               ┆   ┆       ┆            ┆ str           ┆             │\n",
       "╞═══════╪═══════════╪═══════╪═══════════════╪═══╪═══════╪════════════╪═══════════════╪═════════════╡\n",
       "│ \u001b[1;36m1\u001b[0m     ┆ yummy     ┆ linty ┆ BBBBG         ┆ … ┆ null  ┆ very hard  ┆ linty         ┆ \u001b[1;36m1\u001b[0m           │\n",
       "│ \u001b[1;36m3\u001b[0m     ┆ yummy     ┆ milty ┆ YBBBG         ┆ … ┆ null  ┆ very hard  ┆ milty         ┆ \u001b[1;36m1\u001b[0m           │\n",
       "│ \u001b[1;36m5\u001b[0m     ┆ yummy     ┆ minty ┆ YBBBG         ┆ … ┆ null  ┆ very hard  ┆ minty         ┆ \u001b[1;36m1\u001b[0m           │\n",
       "│ \u001b[1;36m7\u001b[0m     ┆ yummy     ┆ clint ┆ BBBBB         ┆ … ┆ null  ┆ very hard  ┆ clint         ┆ \u001b[1;36m1\u001b[0m           │\n",
       "│ \u001b[1;36m9\u001b[0m     ┆ yummy     ┆ unlit ┆ YBBBB         ┆ … ┆ null  ┆ very hard  ┆ unlit         ┆ \u001b[1;36m1\u001b[0m           │\n",
       "└───────┴───────────┴───────┴───────────────┴───┴───────┴────────────┴───────────────┴─────────────┘"
      ]
     },
     "execution_count": 6,
     "metadata": {},
     "output_type": "execute_result"
    }
   ],
   "source": [
    "second_guess_df_2 = simulating_alternative_openers.filter(pl.col(\"guess\") != \"soare\")\n",
    "second_guess_df_2.head()"
   ]
  },
  {
   "cell_type": "code",
   "execution_count": 7,
   "metadata": {},
   "outputs": [
    {
     "data": {
      "text/html": [
       "<pre style=\"white-space:pre;overflow-x:auto;line-height:normal;font-family:Menlo,'DejaVu Sans Mono',consolas,'Courier New',monospace\"></pre>\n"
      ],
      "text/plain": []
     },
     "metadata": {},
     "output_type": "display_data"
    },
    {
     "data": {
      "text/plain": [
       "\u001b[1;36m2271750\u001b[0m"
      ]
     },
     "execution_count": 7,
     "metadata": {},
     "output_type": "execute_result"
    }
   ],
   "source": [
    "second_guess_df_2.height"
   ]
  },
  {
   "cell_type": "code",
   "execution_count": 8,
   "metadata": {},
   "outputs": [],
   "source": [
    "best_guess = (\n",
    "    second_guess_df_2\n",
    "    .group_by(\"guess\")\n",
    "    .agg(avg_min_choice_after_2nd_guess = pl.col(\"num_choices_after_guess\").mean().cast(pl.Float32))\n",
    "    .sort(\"avg_min_choice_after_2nd_guess\", descending=False)\n",
    ")"
   ]
  },
  {
   "cell_type": "code",
   "execution_count": 9,
   "metadata": {},
   "outputs": [
    {
     "data": {
      "text/html": [
       "<pre style=\"white-space:pre;overflow-x:auto;line-height:normal;font-family:Menlo,'DejaVu Sans Mono',consolas,'Courier New',monospace\"></pre>\n"
      ],
      "text/plain": []
     },
     "metadata": {},
     "output_type": "display_data"
    },
    {
     "data": {
      "text/html": [
       "<div><style>\n",
       ".dataframe > thead > tr,\n",
       ".dataframe > tbody > tr {\n",
       "  text-align: right;\n",
       "  white-space: pre-wrap;\n",
       "}\n",
       "</style>\n",
       "<small>shape: (10, 2)</small><table border=\"1\" class=\"dataframe\"><thead><tr><th>guess</th><th>avg_min_choice_after_2nd_guess</th></tr><tr><td>str</td><td>f32</td></tr></thead><tbody><tr><td>&quot;linty&quot;</td><td>16.219435</td></tr><tr><td>&quot;clint&quot;</td><td>17.165401</td></tr><tr><td>&quot;unlit&quot;</td><td>17.4874</td></tr><tr><td>&quot;milty&quot;</td><td>17.751513</td></tr><tr><td>&quot;glint&quot;</td><td>18.555738</td></tr><tr><td>&quot;minty&quot;</td><td>18.875317</td></tr><tr><td>&quot;lytic&quot;</td><td>19.27919</td></tr><tr><td>&quot;tulip&quot;</td><td>19.598768</td></tr><tr><td>&quot;lindy&quot;</td><td>19.886652</td></tr><tr><td>&quot;culti&quot;</td><td>19.914164</td></tr></tbody></table></div>"
      ],
      "text/plain": [
       "\n",
       "shape: \u001b[1m(\u001b[0m\u001b[1;36m10\u001b[0m, \u001b[1;36m2\u001b[0m\u001b[1m)\u001b[0m\n",
       "┌───────┬────────────────────────────────┐\n",
       "│ guess ┆ avg_min_choice_after_2nd_guess │\n",
       "│ ---   ┆ ---                            │\n",
       "│ str   ┆ f32                            │\n",
       "╞═══════╪════════════════════════════════╡\n",
       "│ linty ┆ \u001b[1;36m16.219435\u001b[0m                      │\n",
       "│ clint ┆ \u001b[1;36m17.165401\u001b[0m                      │\n",
       "│ unlit ┆ \u001b[1;36m17.4874\u001b[0m                        │\n",
       "│ milty ┆ \u001b[1;36m17.751513\u001b[0m                      │\n",
       "│ glint ┆ \u001b[1;36m18.555738\u001b[0m                      │\n",
       "│ minty ┆ \u001b[1;36m18.875317\u001b[0m                      │\n",
       "│ lytic ┆ \u001b[1;36m19.27919\u001b[0m                       │\n",
       "│ tulip ┆ \u001b[1;36m19.598768\u001b[0m                      │\n",
       "│ lindy ┆ \u001b[1;36m19.886652\u001b[0m                      │\n",
       "│ culti ┆ \u001b[1;36m19.914164\u001b[0m                      │\n",
       "└───────┴────────────────────────────────┘"
      ]
     },
     "execution_count": 9,
     "metadata": {},
     "output_type": "execute_result"
    }
   ],
   "source": [
    "best_guess.head(10)"
   ]
  },
  {
   "cell_type": "code",
   "execution_count": 10,
   "metadata": {},
   "outputs": [
    {
     "data": {
      "text/html": [
       "<pre style=\"white-space:pre;overflow-x:auto;line-height:normal;font-family:Menlo,'DejaVu Sans Mono',consolas,'Courier New',monospace\"><span style=\"color: #7fbfbf; text-decoration-color: #7fbfbf\">[07/19/24 10:33:21] </span><span style=\"color: #000080; text-decoration-color: #000080\">INFO    </span> Loading data from <span style=\"color: #ff8700; text-decoration-color: #ff8700\">best_singles</span> <span style=\"font-weight: bold\">(</span>EagerPolarsDataset<span style=\"font-weight: bold\">)</span><span style=\"color: #808000; text-decoration-color: #808000\">...</span>             <a href=\"file:///Users/jeraime/opt/miniconda3/envs/wordle/lib/python3.10/site-packages/kedro/io/data_catalog.py\" target=\"_blank\"><span style=\"color: #7f7f7f; text-decoration-color: #7f7f7f\">data_catalog.py</span></a><span style=\"color: #7f7f7f; text-decoration-color: #7f7f7f\">:</span><a href=\"file:///Users/jeraime/opt/miniconda3/envs/wordle/lib/python3.10/site-packages/kedro/io/data_catalog.py#508\" target=\"_blank\"><span style=\"color: #7f7f7f; text-decoration-color: #7f7f7f\">508</span></a>\n",
       "</pre>\n"
      ],
      "text/plain": [
       "\u001b[2;36m[07/19/24 10:33:21]\u001b[0m\u001b[2;36m \u001b[0m\u001b[34mINFO    \u001b[0m Loading data from \u001b[38;5;208mbest_singles\u001b[0m \u001b[1m(\u001b[0mEagerPolarsDataset\u001b[1m)\u001b[0m\u001b[33m...\u001b[0m             \u001b]8;id=620876;file:///Users/jeraime/opt/miniconda3/envs/wordle/lib/python3.10/site-packages/kedro/io/data_catalog.py\u001b\\\u001b[2mdata_catalog.py\u001b[0m\u001b]8;;\u001b\\\u001b[2m:\u001b[0m\u001b]8;id=694824;file:///Users/jeraime/opt/miniconda3/envs/wordle/lib/python3.10/site-packages/kedro/io/data_catalog.py#508\u001b\\\u001b[2m508\u001b[0m\u001b]8;;\u001b\\\n"
      ]
     },
     "metadata": {},
     "output_type": "display_data"
    }
   ],
   "source": [
    "best_singles = catalog.load(\"best_singles\")"
   ]
  },
  {
   "cell_type": "code",
   "execution_count": 11,
   "metadata": {},
   "outputs": [
    {
     "data": {
      "text/html": [
       "<pre style=\"white-space:pre;overflow-x:auto;line-height:normal;font-family:Menlo,'DejaVu Sans Mono',consolas,'Courier New',monospace\"></pre>\n"
      ],
      "text/plain": []
     },
     "metadata": {},
     "output_type": "display_data"
    },
    {
     "data": {
      "text/plain": [
       "\u001b[32m'soare'\u001b[0m"
      ]
     },
     "execution_count": 11,
     "metadata": {},
     "output_type": "execute_result"
    }
   ],
   "source": [
    "best_single = (\n",
    "    best_singles\n",
    "    [\"word\"]\n",
    "    .head(1)\n",
    "    .item()\n",
    ")\n",
    "\n",
    "best_single"
   ]
  },
  {
   "cell_type": "code",
   "execution_count": 12,
   "metadata": {},
   "outputs": [
    {
     "data": {
      "text/html": [
       "<pre style=\"white-space:pre;overflow-x:auto;line-height:normal;font-family:Menlo,'DejaVu Sans Mono',consolas,'Courier New',monospace\"></pre>\n"
      ],
      "text/plain": []
     },
     "metadata": {},
     "output_type": "display_data"
    },
    {
     "data": {
      "text/plain": [
       "\u001b[32m'linty'\u001b[0m"
      ]
     },
     "execution_count": 12,
     "metadata": {},
     "output_type": "execute_result"
    }
   ],
   "source": [
    "best_alt_second_guess = (\n",
    "    second_guess_df_2\n",
    "    .group_by(\"guess\")\n",
    "    .agg(avg_min_choice_after_2nd_guess = pl.col(\"num_choices_after_guess\").mean().cast(pl.Float32))\n",
    "    .sort(\"avg_min_choice_after_2nd_guess\", descending=False)\n",
    "    [\"guess\"]\n",
    "    .head(1)\n",
    "    .item()\n",
    ")\n",
    "\n",
    "best_alt_second_guess"
   ]
  },
  {
   "cell_type": "code",
   "execution_count": 13,
   "metadata": {},
   "outputs": [],
   "source": [
    "openers = best_single, best_alt_second_guess"
   ]
  },
  {
   "cell_type": "code",
   "execution_count": 14,
   "metadata": {},
   "outputs": [
    {
     "data": {
      "text/html": [
       "<pre style=\"white-space:pre;overflow-x:auto;line-height:normal;font-family:Menlo,'DejaVu Sans Mono',consolas,'Courier New',monospace\"></pre>\n"
      ],
      "text/plain": []
     },
     "metadata": {},
     "output_type": "display_data"
    },
    {
     "data": {
      "text/plain": [
       "\u001b[1m(\u001b[0m\u001b[32m'soare'\u001b[0m, \u001b[32m'linty'\u001b[0m\u001b[1m)\u001b[0m"
      ]
     },
     "execution_count": 14,
     "metadata": {},
     "output_type": "execute_result"
    }
   ],
   "source": [
    "openers"
   ]
  },
  {
   "cell_type": "code",
   "execution_count": 15,
   "metadata": {},
   "outputs": [
    {
     "data": {
      "text/html": [
       "<pre style=\"white-space:pre;overflow-x:auto;line-height:normal;font-family:Menlo,'DejaVu Sans Mono',consolas,'Courier New',monospace\"></pre>\n"
      ],
      "text/plain": []
     },
     "metadata": {},
     "output_type": "display_data"
    },
    {
     "data": {
      "text/plain": [
       "\u001b[32m'soare'\u001b[0m"
      ]
     },
     "execution_count": 15,
     "metadata": {},
     "output_type": "execute_result"
    }
   ],
   "source": [
    "openers[0]"
   ]
  },
  {
   "cell_type": "code",
   "execution_count": null,
   "metadata": {},
   "outputs": [],
   "source": []
  }
 ],
 "metadata": {
  "kernelspec": {
   "display_name": "wordle",
   "language": "python",
   "name": "python3"
  },
  "language_info": {
   "codemirror_mode": {
    "name": "ipython",
    "version": 3
   },
   "file_extension": ".py",
   "mimetype": "text/x-python",
   "name": "python",
   "nbconvert_exporter": "python",
   "pygments_lexer": "ipython3",
   "version": "3.10.14"
  }
 },
 "nbformat": 4,
 "nbformat_minor": 2
}
