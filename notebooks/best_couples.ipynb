{
 "cells": [
  {
   "cell_type": "code",
   "execution_count": null,
   "metadata": {},
   "outputs": [],
   "source": [
    "%load_ext kedro.ipython"
   ]
  },
  {
   "cell_type": "code",
   "execution_count": null,
   "metadata": {},
   "outputs": [],
   "source": [
    "%reload_kedro"
   ]
  },
  {
   "cell_type": "code",
   "execution_count": 3,
   "metadata": {},
   "outputs": [
    {
     "data": {
      "text/html": [
       "<pre style=\"white-space:pre;overflow-x:auto;line-height:normal;font-family:Menlo,'DejaVu Sans Mono',consolas,'Courier New',monospace\"></pre>\n"
      ],
      "text/plain": []
     },
     "metadata": {},
     "output_type": "display_data"
    },
    {
     "data": {
      "text/plain": [
       "\u001b[1m<\u001b[0m\u001b[1;95mpolars.config.Config\u001b[0m\u001b[39m object at \u001b[0m\u001b[1;36m0x12a6032b0\u001b[0m\u001b[1m>\u001b[0m"
      ]
     },
     "execution_count": 3,
     "metadata": {},
     "output_type": "execute_result"
    }
   ],
   "source": [
    "import numpy as np\n",
    "import polars as pl\n",
    "from typing import List, Dict, Any\n",
    "import string\n",
    "\n",
    "pl.Config(tbl_rows=50)"
   ]
  },
  {
   "cell_type": "markdown",
   "metadata": {},
   "source": [
    "## Load Data"
   ]
  },
  {
   "cell_type": "code",
   "execution_count": null,
   "metadata": {},
   "outputs": [],
   "source": [
    "best_couples = catalog.load(\"best_couples\")\n",
    "best_singles = catalog.load(\"best_singles\")\n",
    "five_letter_word_anagrams = catalog.load(\"five_letter_words_anagrams\")\n",
    "five_letter_words = catalog.load(\"five_letter_words\")\n",
    "english_words = catalog.load(\"english_words\")\n",
    "wordle_scoring_singles = catalog.load(\"wordle_scoring_singles\")"
   ]
  },
  {
   "cell_type": "markdown",
   "metadata": {},
   "source": [
    "## Best Couples"
   ]
  },
  {
   "cell_type": "code",
   "execution_count": 5,
   "metadata": {},
   "outputs": [
    {
     "data": {
      "text/html": [
       "<pre style=\"white-space:pre;overflow-x:auto;line-height:normal;font-family:Menlo,'DejaVu Sans Mono',consolas,'Courier New',monospace\"></pre>\n"
      ],
      "text/plain": []
     },
     "metadata": {},
     "output_type": "display_data"
    },
    {
     "data": {
      "text/html": [
       "<div><style>\n",
       ".dataframe > thead > tr,\n",
       ".dataframe > tbody > tr {\n",
       "  text-align: right;\n",
       "  white-space: pre-wrap;\n",
       "}\n",
       "</style>\n",
       "<small>shape: (20, 3)</small><table border=\"1\" class=\"dataframe\"><thead><tr><th>guess_words</th><th>total_correct_letter_pattern</th><th>abs_diff_from_top_score</th></tr><tr><td>str</td><td>i16</td><td>u16</td></tr></thead><tbody><tr><td>&quot;saint, loure&quot;</td><td>-11968</td><td>0</td></tr><tr><td>&quot;toile, carns&quot;</td><td>-12197</td><td>229</td></tr><tr><td>&quot;conte, laris&quot;</td><td>-12221</td><td>253</td></tr><tr><td>&quot;saint, coure&quot;</td><td>-12260</td><td>292</td></tr><tr><td>&quot;salon, curie&quot;</td><td>-12342</td><td>374</td></tr><tr><td>&quot;toric, salue&quot;</td><td>-12356</td><td>388</td></tr><tr><td>&quot;curie, salto&quot;</td><td>-12556</td><td>588</td></tr><tr><td>&quot;suite, loran&quot;</td><td>-12670</td><td>702</td></tr><tr><td>&quot;corni, salue&quot;</td><td>-12682</td><td>714</td></tr><tr><td>&quot;santo, curie&quot;</td><td>-12762</td><td>794</td></tr><tr><td>&quot;saith, loure&quot;</td><td>-12777</td><td>809</td></tr><tr><td>&quot;toile, harns&quot;</td><td>-12793</td><td>825</td></tr><tr><td>&quot;saute, loric&quot;</td><td>-12827</td><td>859</td></tr><tr><td>&quot;saute, corni&quot;</td><td>-12828</td><td>860</td></tr><tr><td>&quot;louie, carns&quot;</td><td>-12836</td><td>868</td></tr><tr><td>&quot;dolce, sarin&quot;</td><td>-12842</td><td>874</td></tr><tr><td>&quot;lotus, raine&quot;</td><td>-12849</td><td>881</td></tr><tr><td>&quot;hotel, sarin&quot;</td><td>-12925</td><td>957</td></tr><tr><td>&quot;clint, soare&quot;</td><td>-12928</td><td>960</td></tr><tr><td>&quot;doric, salue&quot;</td><td>-12930</td><td>962</td></tr></tbody></table></div>"
      ],
      "text/plain": [
       "\n",
       "shape: \u001b[1m(\u001b[0m\u001b[1;36m20\u001b[0m, \u001b[1;36m3\u001b[0m\u001b[1m)\u001b[0m\n",
       "┌──────────────┬──────────────────────────────┬─────────────────────────┐\n",
       "│ guess_words  ┆ total_correct_letter_pattern ┆ abs_diff_from_top_score │\n",
       "│ ---          ┆ ---                          ┆ ---                     │\n",
       "│ str          ┆ i16                          ┆ u16                     │\n",
       "╞══════════════╪══════════════════════════════╪═════════════════════════╡\n",
       "│ saint, loure ┆ \u001b[1;36m-11968\u001b[0m                       ┆ \u001b[1;36m0\u001b[0m                       │\n",
       "│ toile, carns ┆ \u001b[1;36m-12197\u001b[0m                       ┆ \u001b[1;36m229\u001b[0m                     │\n",
       "│ conte, laris ┆ \u001b[1;36m-12221\u001b[0m                       ┆ \u001b[1;36m253\u001b[0m                     │\n",
       "│ saint, coure ┆ \u001b[1;36m-12260\u001b[0m                       ┆ \u001b[1;36m292\u001b[0m                     │\n",
       "│ salon, curie ┆ \u001b[1;36m-12342\u001b[0m                       ┆ \u001b[1;36m374\u001b[0m                     │\n",
       "│ toric, salue ┆ \u001b[1;36m-12356\u001b[0m                       ┆ \u001b[1;36m388\u001b[0m                     │\n",
       "│ curie, salto ┆ \u001b[1;36m-12556\u001b[0m                       ┆ \u001b[1;36m588\u001b[0m                     │\n",
       "│ suite, loran ┆ \u001b[1;36m-12670\u001b[0m                       ┆ \u001b[1;36m702\u001b[0m                     │\n",
       "│ corni, salue ┆ \u001b[1;36m-12682\u001b[0m                       ┆ \u001b[1;36m714\u001b[0m                     │\n",
       "│ santo, curie ┆ \u001b[1;36m-12762\u001b[0m                       ┆ \u001b[1;36m794\u001b[0m                     │\n",
       "│ saith, loure ┆ \u001b[1;36m-12777\u001b[0m                       ┆ \u001b[1;36m809\u001b[0m                     │\n",
       "│ toile, harns ┆ \u001b[1;36m-12793\u001b[0m                       ┆ \u001b[1;36m825\u001b[0m                     │\n",
       "│ saute, loric ┆ \u001b[1;36m-12827\u001b[0m                       ┆ \u001b[1;36m859\u001b[0m                     │\n",
       "│ saute, corni ┆ \u001b[1;36m-12828\u001b[0m                       ┆ \u001b[1;36m860\u001b[0m                     │\n",
       "│ louie, carns ┆ \u001b[1;36m-12836\u001b[0m                       ┆ \u001b[1;36m868\u001b[0m                     │\n",
       "│ dolce, sarin ┆ \u001b[1;36m-12842\u001b[0m                       ┆ \u001b[1;36m874\u001b[0m                     │\n",
       "│ lotus, raine ┆ \u001b[1;36m-12849\u001b[0m                       ┆ \u001b[1;36m881\u001b[0m                     │\n",
       "│ hotel, sarin ┆ \u001b[1;36m-12925\u001b[0m                       ┆ \u001b[1;36m957\u001b[0m                     │\n",
       "│ clint, soare ┆ \u001b[1;36m-12928\u001b[0m                       ┆ \u001b[1;36m960\u001b[0m                     │\n",
       "│ doric, salue ┆ \u001b[1;36m-12930\u001b[0m                       ┆ \u001b[1;36m962\u001b[0m                     │\n",
       "└──────────────┴──────────────────────────────┴─────────────────────────┘"
      ]
     },
     "execution_count": 5,
     "metadata": {},
     "output_type": "execute_result"
    }
   ],
   "source": [
    "best_couples.head(20)"
   ]
  },
  {
   "cell_type": "markdown",
   "metadata": {},
   "source": [
    "## Best opening words"
   ]
  },
  {
   "cell_type": "code",
   "execution_count": 6,
   "metadata": {},
   "outputs": [
    {
     "data": {
      "text/html": [
       "<pre style=\"white-space:pre;overflow-x:auto;line-height:normal;font-family:Menlo,'DejaVu Sans Mono',consolas,'Courier New',monospace\"></pre>\n"
      ],
      "text/plain": []
     },
     "metadata": {},
     "output_type": "display_data"
    },
    {
     "data": {
      "text/html": [
       "<div><style>\n",
       ".dataframe > thead > tr,\n",
       ".dataframe > tbody > tr {\n",
       "  text-align: right;\n",
       "  white-space: pre-wrap;\n",
       "}\n",
       "</style>\n",
       "<small>shape: (20, 5)</small><table border=\"1\" class=\"dataframe\"><thead><tr><th>index</th><th>word</th><th>summed_scores</th><th>abs_diff_from_top_score</th><th>anagrams</th></tr><tr><td>u32</td><td>str</td><td>i32</td><td>u32</td><td>str</td></tr></thead><tbody><tr><td>1</td><td>&quot;soare&quot;</td><td>-23564</td><td>0</td><td>&quot;soare&quot;</td></tr><tr><td>2</td><td>&quot;raise&quot;</td><td>-24551</td><td>987</td><td>&quot;raise, arise, serai, aesir&quot;</td></tr><tr><td>3</td><td>&quot;stoae&quot;</td><td>-25316</td><td>1752</td><td>&quot;stoae&quot;</td></tr><tr><td>4</td><td>&quot;raine&quot;</td><td>-25378</td><td>1814</td><td>&quot;raine&quot;</td></tr><tr><td>5</td><td>&quot;stare&quot;</td><td>-25395</td><td>1831</td><td>&quot;stare, aster, earst, reast, re…</td></tr><tr><td>6</td><td>&quot;morae&quot;</td><td>-25429</td><td>1865</td><td>&quot;morae&quot;</td></tr><tr><td>7</td><td>&quot;saice&quot;</td><td>-25432</td><td>1868</td><td>&quot;saice&quot;</td></tr><tr><td>8</td><td>&quot;sarge&quot;</td><td>-25456</td><td>1892</td><td>&quot;sarge, sager, segar&quot;</td></tr><tr><td>9</td><td>&quot;snare&quot;</td><td>-25503</td><td>1939</td><td>&quot;snare&quot;</td></tr><tr><td>10</td><td>&quot;sayer&quot;</td><td>-25529</td><td>1965</td><td>&quot;sayer, arsey, eyras, resay&quot;</td></tr><tr><td>11</td><td>&quot;aures&quot;</td><td>-25559</td><td>1995</td><td>&quot;aures, urase, ursae&quot;</td></tr><tr><td>12</td><td>&quot;saute&quot;</td><td>-25563</td><td>1999</td><td>&quot;saute&quot;</td></tr><tr><td>13</td><td>&quot;laser&quot;</td><td>-25569</td><td>2005</td><td>&quot;laser, lares, seral&quot;</td></tr><tr><td>14</td><td>&quot;salue&quot;</td><td>-25578</td><td>2014</td><td>&quot;salue&quot;</td></tr><tr><td>15</td><td>&quot;oater&quot;</td><td>-25757</td><td>2193</td><td>&quot;oater, orate, roate&quot;</td></tr><tr><td>16</td><td>&quot;sabre&quot;</td><td>-25771</td><td>2207</td><td>&quot;sabre, saber, baser, braes, ba…</td></tr><tr><td>17</td><td>&quot;paire&quot;</td><td>-25843</td><td>2279</td><td>&quot;paire, perai&quot;</td></tr><tr><td>18</td><td>&quot;solar&quot;</td><td>-25858</td><td>2294</td><td>&quot;solar, soral&quot;</td></tr><tr><td>19</td><td>&quot;maire&quot;</td><td>-25951</td><td>2387</td><td>&quot;maire, ramie, aimer, rimae&quot;</td></tr><tr><td>20</td><td>&quot;slane&quot;</td><td>-25983</td><td>2419</td><td>&quot;slane&quot;</td></tr></tbody></table></div>"
      ],
      "text/plain": [
       "\n",
       "shape: \u001b[1m(\u001b[0m\u001b[1;36m20\u001b[0m, \u001b[1;36m5\u001b[0m\u001b[1m)\u001b[0m\n",
       "┌───────┬───────┬───────────────┬─────────────────────────┬─────────────────────────────────┐\n",
       "│ index ┆ word  ┆ summed_scores ┆ abs_diff_from_top_score ┆ anagrams                        │\n",
       "│ ---   ┆ ---   ┆ ---           ┆ ---                     ┆ ---                             │\n",
       "│ u32   ┆ str   ┆ i32           ┆ u32                     ┆ str                             │\n",
       "╞═══════╪═══════╪═══════════════╪═════════════════════════╪═════════════════════════════════╡\n",
       "│ \u001b[1;36m1\u001b[0m     ┆ soare ┆ \u001b[1;36m-23564\u001b[0m        ┆ \u001b[1;36m0\u001b[0m                       ┆ soare                           │\n",
       "│ \u001b[1;36m2\u001b[0m     ┆ raise ┆ \u001b[1;36m-24551\u001b[0m        ┆ \u001b[1;36m987\u001b[0m                     ┆ raise, arise, serai, aesir      │\n",
       "│ \u001b[1;36m3\u001b[0m     ┆ stoae ┆ \u001b[1;36m-25316\u001b[0m        ┆ \u001b[1;36m1752\u001b[0m                    ┆ stoae                           │\n",
       "│ \u001b[1;36m4\u001b[0m     ┆ raine ┆ \u001b[1;36m-25378\u001b[0m        ┆ \u001b[1;36m1814\u001b[0m                    ┆ raine                           │\n",
       "│ \u001b[1;36m5\u001b[0m     ┆ stare ┆ \u001b[1;36m-25395\u001b[0m        ┆ \u001b[1;36m1831\u001b[0m                    ┆ stare, aster, earst, reast, re… │\n",
       "│ \u001b[1;36m6\u001b[0m     ┆ morae ┆ \u001b[1;36m-25429\u001b[0m        ┆ \u001b[1;36m1865\u001b[0m                    ┆ morae                           │\n",
       "│ \u001b[1;36m7\u001b[0m     ┆ saice ┆ \u001b[1;36m-25432\u001b[0m        ┆ \u001b[1;36m1868\u001b[0m                    ┆ saice                           │\n",
       "│ \u001b[1;36m8\u001b[0m     ┆ sarge ┆ \u001b[1;36m-25456\u001b[0m        ┆ \u001b[1;36m1892\u001b[0m                    ┆ sarge, sager, segar             │\n",
       "│ \u001b[1;36m9\u001b[0m     ┆ snare ┆ \u001b[1;36m-25503\u001b[0m        ┆ \u001b[1;36m1939\u001b[0m                    ┆ snare                           │\n",
       "│ \u001b[1;36m10\u001b[0m    ┆ sayer ┆ \u001b[1;36m-25529\u001b[0m        ┆ \u001b[1;36m1965\u001b[0m                    ┆ sayer, arsey, eyras, resay      │\n",
       "│ \u001b[1;36m11\u001b[0m    ┆ aures ┆ \u001b[1;36m-25559\u001b[0m        ┆ \u001b[1;36m1995\u001b[0m                    ┆ aures, urase, ursae             │\n",
       "│ \u001b[1;36m12\u001b[0m    ┆ saute ┆ \u001b[1;36m-25563\u001b[0m        ┆ \u001b[1;36m1999\u001b[0m                    ┆ saute                           │\n",
       "│ \u001b[1;36m13\u001b[0m    ┆ laser ┆ \u001b[1;36m-25569\u001b[0m        ┆ \u001b[1;36m2005\u001b[0m                    ┆ laser, lares, seral             │\n",
       "│ \u001b[1;36m14\u001b[0m    ┆ salue ┆ \u001b[1;36m-25578\u001b[0m        ┆ \u001b[1;36m2014\u001b[0m                    ┆ salue                           │\n",
       "│ \u001b[1;36m15\u001b[0m    ┆ oater ┆ \u001b[1;36m-25757\u001b[0m        ┆ \u001b[1;36m2193\u001b[0m                    ┆ oater, orate, roate             │\n",
       "│ \u001b[1;36m16\u001b[0m    ┆ sabre ┆ \u001b[1;36m-25771\u001b[0m        ┆ \u001b[1;36m2207\u001b[0m                    ┆ sabre, saber, baser, braes, ba… │\n",
       "│ \u001b[1;36m17\u001b[0m    ┆ paire ┆ \u001b[1;36m-25843\u001b[0m        ┆ \u001b[1;36m2279\u001b[0m                    ┆ paire, perai                    │\n",
       "│ \u001b[1;36m18\u001b[0m    ┆ solar ┆ \u001b[1;36m-25858\u001b[0m        ┆ \u001b[1;36m2294\u001b[0m                    ┆ solar, soral                    │\n",
       "│ \u001b[1;36m19\u001b[0m    ┆ maire ┆ \u001b[1;36m-25951\u001b[0m        ┆ \u001b[1;36m2387\u001b[0m                    ┆ maire, ramie, aimer, rimae      │\n",
       "│ \u001b[1;36m20\u001b[0m    ┆ slane ┆ \u001b[1;36m-25983\u001b[0m        ┆ \u001b[1;36m2419\u001b[0m                    ┆ slane                           │\n",
       "└───────┴───────┴───────────────┴─────────────────────────┴─────────────────────────────────┘"
      ]
     },
     "execution_count": 6,
     "metadata": {},
     "output_type": "execute_result"
    }
   ],
   "source": [
    "best_singles.head(20)"
   ]
  },
  {
   "cell_type": "code",
   "execution_count": 7,
   "metadata": {},
   "outputs": [
    {
     "data": {
      "text/html": [
       "<pre style=\"white-space:pre;overflow-x:auto;line-height:normal;font-family:Menlo,'DejaVu Sans Mono',consolas,'Courier New',monospace\"></pre>\n"
      ],
      "text/plain": []
     },
     "metadata": {},
     "output_type": "display_data"
    },
    {
     "data": {
      "text/plain": [
       "\u001b[1;36m4113\u001b[0m"
      ]
     },
     "execution_count": 7,
     "metadata": {},
     "output_type": "execute_result"
    }
   ],
   "source": [
    "best_singles.height"
   ]
  },
  {
   "cell_type": "code",
   "execution_count": 8,
   "metadata": {},
   "outputs": [
    {
     "data": {
      "text/html": [
       "<pre style=\"white-space:pre;overflow-x:auto;line-height:normal;font-family:Menlo,'DejaVu Sans Mono',consolas,'Courier New',monospace\"></pre>\n"
      ],
      "text/plain": []
     },
     "metadata": {},
     "output_type": "display_data"
    },
    {
     "data": {
      "text/plain": [
       "\u001b[32m'soare'\u001b[0m"
      ]
     },
     "execution_count": 8,
     "metadata": {},
     "output_type": "execute_result"
    }
   ],
   "source": [
    "best_single = (\n",
    "    best_singles\n",
    "    [\"word\"]\n",
    "    .head(1)\n",
    "    .item()\n",
    ")\n",
    "\n",
    "best_single"
   ]
  },
  {
   "cell_type": "code",
   "execution_count": 9,
   "metadata": {},
   "outputs": [
    {
     "data": {
      "text/html": [
       "<pre style=\"white-space:pre;overflow-x:auto;line-height:normal;font-family:Menlo,'DejaVu Sans Mono',consolas,'Courier New',monospace\"></pre>\n"
      ],
      "text/plain": []
     },
     "metadata": {},
     "output_type": "display_data"
    },
    {
     "data": {
      "image/png": "[encoded data removed]",
      "text/plain": [
       "\u001b[1m<\u001b[0m\u001b[1;95mFigure\u001b[0m\u001b[39m size 50\u001b[0m\u001b[1;36m0x100\u001b[0m\u001b[39m with \u001b[0m\u001b[1;36m1\u001b[0m\u001b[39m Axes\u001b[0m\u001b[1m>\u001b[0m"
      ]
     },
     "metadata": {},
     "output_type": "display_data"
    }
   ],
   "source": [
    "import matplotlib.pyplot as plt\n",
    "\n",
    "# Define the mapping from characters to colors\n",
    "color_mapping = {\n",
    "    'B': 'black',\n",
    "    'Y': 'yellow',\n",
    "    'G': 'green'\n",
    "}\n",
    "\n",
    "# Input string\n",
    "input_string = \"BBYGG\"\n",
    "\n",
    "# Initialize the plot\n",
    "fig, ax = plt.subplots(figsize=(len(input_string), 1))\n",
    "\n",
    "# Loop through each character in the string and create a colored rectangle with a border\n",
    "for i, char in enumerate(input_string):\n",
    "    color = color_mapping.get(char, 'white')  # Default to white if character is not recognized\n",
    "    rect = plt.Rectangle((i, 0), 1, 1, facecolor=color, edgecolor='white', linewidth=3)\n",
    "    ax.add_patch(rect)\n",
    "\n",
    "# Set the limits and remove axes\n",
    "ax.set_xlim(0, len(input_string))\n",
    "ax.set_ylim(0, 1)\n",
    "ax.axis('off')\n",
    "\n",
    "# Show the plot\n",
    "plt.show()\n"
   ]
  }
 ],
 "metadata": {
  "kernelspec": {
   "display_name": "wordle_kedro",
   "language": "python",
   "name": "python3"
  },
  "language_info": {
   "codemirror_mode": {
    "name": "ipython",
    "version": 3
   },
   "file_extension": ".py",
   "mimetype": "text/x-python",
   "name": "python",
   "nbconvert_exporter": "python",
   "pygments_lexer": "ipython3",
   "version": "3.10.14"
  }
 },
 "nbformat": 4,
 "nbformat_minor": 2
}
